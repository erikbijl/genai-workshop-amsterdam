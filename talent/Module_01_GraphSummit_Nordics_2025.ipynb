{
 "cells": [
  {
   "cell_type": "markdown",
   "metadata": {},
   "source": [
    "# Module objectives\n",
    "- Creating a graph from structured data input\n",
    "- Basic graph algorithms\n",
    "- Text embeddings for semantic analysis\n",
    "- Feature engineering\n",
    "- Node embeddings\n"
   ]
  },
  {
   "cell_type": "code",
   "execution_count": 1,
   "metadata": {
    "id": "FHKg4DVZiQ98"
   },
   "outputs": [
    {
     "name": "stdout",
     "output_type": "stream",
     "text": [
      "Requirement already satisfied: graphdatascience in /Users/erikbijl/anaconda3/lib/python3.11/site-packages (1.13)\n",
      "Requirement already satisfied: neo4j in /Users/erikbijl/anaconda3/lib/python3.11/site-packages (5.28.1)\n",
      "Requirement already satisfied: dotenv in /Users/erikbijl/anaconda3/lib/python3.11/site-packages (0.9.9)\n",
      "Requirement already satisfied: langchain in /Users/erikbijl/anaconda3/lib/python3.11/site-packages (0.3.17)\n",
      "Requirement already satisfied: langchain_openai in /Users/erikbijl/anaconda3/lib/python3.11/site-packages (0.3.3)\n",
      "Requirement already satisfied: multimethod<2.0,>=1.0 in /Users/erikbijl/anaconda3/lib/python3.11/site-packages (from graphdatascience) (1.12)\n",
      "Requirement already satisfied: numpy<2.0 in /Users/erikbijl/anaconda3/lib/python3.11/site-packages (from graphdatascience) (1.26.4)\n",
      "Requirement already satisfied: pandas<3.0,>=1.0 in /Users/erikbijl/anaconda3/lib/python3.11/site-packages (from graphdatascience) (2.2.1)\n",
      "Requirement already satisfied: pyarrow<19.0,>=15.0.2 in /Users/erikbijl/anaconda3/lib/python3.11/site-packages (from graphdatascience) (18.1.0)\n",
      "Requirement already satisfied: textdistance<5.0,>=4.0 in /Users/erikbijl/anaconda3/lib/python3.11/site-packages (from graphdatascience) (4.2.1)\n",
      "Requirement already satisfied: tqdm<5.0,>=4.0 in /Users/erikbijl/anaconda3/lib/python3.11/site-packages (from graphdatascience) (4.66.4)\n",
      "Requirement already satisfied: typing-extensions<5.0,>=4.0 in /Users/erikbijl/anaconda3/lib/python3.11/site-packages (from graphdatascience) (4.11.0)\n",
      "Requirement already satisfied: requests in /Users/erikbijl/anaconda3/lib/python3.11/site-packages (from graphdatascience) (2.32.2)\n",
      "Requirement already satisfied: tenacity>=9.0 in /Users/erikbijl/anaconda3/lib/python3.11/site-packages (from graphdatascience) (9.0.0)\n",
      "Requirement already satisfied: pytz in /Users/erikbijl/anaconda3/lib/python3.11/site-packages (from neo4j) (2024.1)\n",
      "Requirement already satisfied: python-dotenv in /Users/erikbijl/anaconda3/lib/python3.11/site-packages (from dotenv) (0.21.0)\n",
      "Requirement already satisfied: PyYAML>=5.3 in /Users/erikbijl/anaconda3/lib/python3.11/site-packages (from langchain) (6.0.1)\n",
      "Requirement already satisfied: SQLAlchemy<3,>=1.4 in /Users/erikbijl/anaconda3/lib/python3.11/site-packages (from langchain) (2.0.25)\n",
      "Requirement already satisfied: aiohttp<4.0.0,>=3.8.3 in /Users/erikbijl/anaconda3/lib/python3.11/site-packages (from langchain) (3.9.5)\n",
      "Requirement already satisfied: langchain-core<0.4.0,>=0.3.33 in /Users/erikbijl/anaconda3/lib/python3.11/site-packages (from langchain) (0.3.33)\n",
      "Requirement already satisfied: langchain-text-splitters<0.4.0,>=0.3.3 in /Users/erikbijl/anaconda3/lib/python3.11/site-packages (from langchain) (0.3.5)\n",
      "Requirement already satisfied: langsmith<0.4,>=0.1.17 in /Users/erikbijl/anaconda3/lib/python3.11/site-packages (from langchain) (0.1.139)\n",
      "Requirement already satisfied: pydantic<3.0.0,>=2.7.4 in /Users/erikbijl/anaconda3/lib/python3.11/site-packages (from langchain) (2.9.2)\n",
      "Requirement already satisfied: openai<2.0.0,>=1.58.1 in /Users/erikbijl/anaconda3/lib/python3.11/site-packages (from langchain_openai) (1.61.0)\n",
      "Requirement already satisfied: tiktoken<1,>=0.7 in /Users/erikbijl/anaconda3/lib/python3.11/site-packages (from langchain_openai) (0.8.0)\n",
      "Requirement already satisfied: aiosignal>=1.1.2 in /Users/erikbijl/anaconda3/lib/python3.11/site-packages (from aiohttp<4.0.0,>=3.8.3->langchain) (1.2.0)\n",
      "Requirement already satisfied: attrs>=17.3.0 in /Users/erikbijl/anaconda3/lib/python3.11/site-packages (from aiohttp<4.0.0,>=3.8.3->langchain) (23.1.0)\n",
      "Requirement already satisfied: frozenlist>=1.1.1 in /Users/erikbijl/anaconda3/lib/python3.11/site-packages (from aiohttp<4.0.0,>=3.8.3->langchain) (1.4.0)\n",
      "Requirement already satisfied: multidict<7.0,>=4.5 in /Users/erikbijl/anaconda3/lib/python3.11/site-packages (from aiohttp<4.0.0,>=3.8.3->langchain) (6.0.4)\n",
      "Requirement already satisfied: yarl<2.0,>=1.0 in /Users/erikbijl/anaconda3/lib/python3.11/site-packages (from aiohttp<4.0.0,>=3.8.3->langchain) (1.9.3)\n",
      "Requirement already satisfied: jsonpatch<2.0,>=1.33 in /Users/erikbijl/anaconda3/lib/python3.11/site-packages (from langchain-core<0.4.0,>=0.3.33->langchain) (1.33)\n",
      "Requirement already satisfied: packaging<25,>=23.2 in /Users/erikbijl/anaconda3/lib/python3.11/site-packages (from langchain-core<0.4.0,>=0.3.33->langchain) (23.2)\n",
      "Requirement already satisfied: httpx<1,>=0.23.0 in /Users/erikbijl/anaconda3/lib/python3.11/site-packages (from langsmith<0.4,>=0.1.17->langchain) (0.27.2)\n",
      "Requirement already satisfied: orjson<4.0.0,>=3.9.14 in /Users/erikbijl/anaconda3/lib/python3.11/site-packages (from langsmith<0.4,>=0.1.17->langchain) (3.10.11)\n",
      "Requirement already satisfied: requests-toolbelt<2.0.0,>=1.0.0 in /Users/erikbijl/anaconda3/lib/python3.11/site-packages (from langsmith<0.4,>=0.1.17->langchain) (1.0.0)\n",
      "Requirement already satisfied: anyio<5,>=3.5.0 in /Users/erikbijl/anaconda3/lib/python3.11/site-packages (from openai<2.0.0,>=1.58.1->langchain_openai) (4.2.0)\n",
      "Requirement already satisfied: distro<2,>=1.7.0 in /Users/erikbijl/anaconda3/lib/python3.11/site-packages (from openai<2.0.0,>=1.58.1->langchain_openai) (1.9.0)\n",
      "Requirement already satisfied: jiter<1,>=0.4.0 in /Users/erikbijl/anaconda3/lib/python3.11/site-packages (from openai<2.0.0,>=1.58.1->langchain_openai) (0.7.0)\n",
      "Requirement already satisfied: sniffio in /Users/erikbijl/anaconda3/lib/python3.11/site-packages (from openai<2.0.0,>=1.58.1->langchain_openai) (1.3.0)\n",
      "Requirement already satisfied: python-dateutil>=2.8.2 in /Users/erikbijl/anaconda3/lib/python3.11/site-packages (from pandas<3.0,>=1.0->graphdatascience) (2.9.0.post0)\n",
      "Requirement already satisfied: tzdata>=2022.7 in /Users/erikbijl/anaconda3/lib/python3.11/site-packages (from pandas<3.0,>=1.0->graphdatascience) (2023.3)\n",
      "Requirement already satisfied: annotated-types>=0.6.0 in /Users/erikbijl/anaconda3/lib/python3.11/site-packages (from pydantic<3.0.0,>=2.7.4->langchain) (0.6.0)\n",
      "Requirement already satisfied: pydantic-core==2.23.4 in /Users/erikbijl/anaconda3/lib/python3.11/site-packages (from pydantic<3.0.0,>=2.7.4->langchain) (2.23.4)\n",
      "Requirement already satisfied: charset-normalizer<4,>=2 in /Users/erikbijl/anaconda3/lib/python3.11/site-packages (from requests->graphdatascience) (2.0.4)\n",
      "Requirement already satisfied: idna<4,>=2.5 in /Users/erikbijl/anaconda3/lib/python3.11/site-packages (from requests->graphdatascience) (3.7)\n",
      "Requirement already satisfied: urllib3<3,>=1.21.1 in /Users/erikbijl/anaconda3/lib/python3.11/site-packages (from requests->graphdatascience) (2.2.1)\n",
      "Requirement already satisfied: certifi>=2017.4.17 in /Users/erikbijl/anaconda3/lib/python3.11/site-packages (from requests->graphdatascience) (2024.2.2)\n",
      "Requirement already satisfied: regex>=2022.1.18 in /Users/erikbijl/anaconda3/lib/python3.11/site-packages (from tiktoken<1,>=0.7->langchain_openai) (2023.10.3)\n",
      "Requirement already satisfied: httpcore==1.* in /Users/erikbijl/anaconda3/lib/python3.11/site-packages (from httpx<1,>=0.23.0->langsmith<0.4,>=0.1.17->langchain) (1.0.6)\n",
      "Requirement already satisfied: h11<0.15,>=0.13 in /Users/erikbijl/anaconda3/lib/python3.11/site-packages (from httpcore==1.*->httpx<1,>=0.23.0->langsmith<0.4,>=0.1.17->langchain) (0.14.0)\n",
      "Requirement already satisfied: jsonpointer>=1.9 in /Users/erikbijl/anaconda3/lib/python3.11/site-packages (from jsonpatch<2.0,>=1.33->langchain-core<0.4.0,>=0.3.33->langchain) (2.1)\n",
      "Requirement already satisfied: six>=1.5 in /Users/erikbijl/anaconda3/lib/python3.11/site-packages (from python-dateutil>=2.8.2->pandas<3.0,>=1.0->graphdatascience) (1.16.0)\n"
     ]
    }
   ],
   "source": [
    "!pip install graphdatascience neo4j dotenv langchain langchain_openai"
   ]
  },
  {
   "cell_type": "markdown",
   "metadata": {},
   "source": [
    "Import our usual suspects (and some more...)"
   ]
  },
  {
   "cell_type": "code",
   "execution_count": 2,
   "metadata": {},
   "outputs": [],
   "source": [
    "import os\n",
    "import pandas as pd\n",
    "from dotenv import load_dotenv\n",
    "from graphdatascience import GraphDataScience\n",
    "from neo4j import Query, GraphDatabase, RoutingControl, Result\n",
    "from langchain_openai import OpenAIEmbeddings, ChatOpenAI\n",
    "from langchain_core.prompts import ChatPromptTemplate\n",
    "from langchain_core.output_parsers import StrOutputParser"
   ]
  },
  {
   "cell_type": "markdown",
   "metadata": {
    "id": "ynPe6RLRWSKd"
   },
   "source": [
    "# Setup"
   ]
  },
  {
   "cell_type": "markdown",
   "metadata": {
    "id": "pa61u1jfyk3t"
   },
   "source": [
    "Load env variables"
   ]
  },
  {
   "cell_type": "code",
   "execution_count": 3,
   "metadata": {},
   "outputs": [],
   "source": [
    "env_file = 'ws.env'"
   ]
  },
  {
   "cell_type": "code",
   "execution_count": 4,
   "metadata": {},
   "outputs": [],
   "source": [
    "if os.path.exists(env_file):\n",
    "    load_dotenv(env_file, override=True)\n",
    "\n",
    "    # Neo4j\n",
    "    HOST = os.getenv('NEO4J_URI')\n",
    "    USERNAME = os.getenv('NEO4J_USERNAME')\n",
    "    PASSWORD = os.getenv('NEO4J_PASSWORD')\n",
    "    DATABASE = os.getenv('NEO4J_DATABASE')\n",
    "\n",
    "    # AI\n",
    "    OPENAI_API_KEY = os.getenv('OPENAI_API_KEY')\n",
    "    os.environ['OPENAI_API_KEY']=OPENAI_API_KEY\n",
    "    LLM = os.getenv('LLM')\n",
    "else:\n",
    "    print(f\"File {env_file} not found.\")"
   ]
  },
  {
   "cell_type": "markdown",
   "metadata": {},
   "source": [
    "Connect to neo4j db"
   ]
  },
  {
   "cell_type": "code",
   "execution_count": 5,
   "metadata": {
    "id": "5w4eCb7xZZ-S"
   },
   "outputs": [
    {
     "name": "stderr",
     "output_type": "stream",
     "text": [
      "/Users/erikbijl/anaconda3/lib/python3.11/site-packages/neo4j/_sync/driver.py:1075: ExperimentalWarning: All configuration key-word arguments to verify_connectivity() are experimental. They might be changed or removed in any future version without prior notice.\n",
      "  experimental_warn(\n"
     ]
    }
   ],
   "source": [
    "driver = GraphDatabase.driver(\n",
    "    HOST,\n",
    "    auth=(USERNAME, PASSWORD)\n",
    ")\n",
    "driver.verify_connectivity(database=DATABASE)"
   ]
  },
  {
   "cell_type": "markdown",
   "metadata": {
    "id": "0OMlYdxHWZLx"
   },
   "source": [
    "# Graph creation"
   ]
  },
  {
   "cell_type": "markdown",
   "metadata": {
    "id": "cAf_0sYwZZ-S"
   },
   "source": [
    "Utility - not needed for this small dataset, but as best practice example"
   ]
  },
  {
   "cell_type": "code",
   "execution_count": 6,
   "metadata": {
    "id": "cAf_0sYwZZ-S"
   },
   "outputs": [],
   "source": [
    "def split_dataframe(df, chunk_size = 50_000):\n",
    "    chunks = list()\n",
    "    num_chunks = len(df) // chunk_size + 1\n",
    "    for i in range(num_chunks):\n",
    "        chunks.append(df[i*chunk_size:(i+1)*chunk_size])\n",
    "    return chunks"
   ]
  },
  {
   "cell_type": "markdown",
   "metadata": {
    "id": "HWJbMUtJeOcv"
   },
   "source": [
    "Load synthetic Skills dataset"
   ]
  },
  {
   "cell_type": "code",
   "execution_count": 7,
   "metadata": {
    "id": "HWJbMUtJeOcv"
   },
   "outputs": [],
   "source": [
    "url = \"https://raw.githubusercontent.com/Kristof-Neys/Neo4j_demos/main/expanded_skills.csv\"\n",
    "skills_csv = pd.read_csv(url)"
   ]
  },
  {
   "cell_type": "markdown",
   "metadata": {
    "id": "HWJbMUtJeOcv"
   },
   "source": [
    "Display the first few rows of the DataFrame"
   ]
  },
  {
   "cell_type": "code",
   "execution_count": 8,
   "metadata": {
    "id": "HWJbMUtJeOcv"
   },
   "outputs": [
    {
     "data": {
      "text/html": [
       "<div>\n",
       "<style scoped>\n",
       "    .dataframe tbody tr th:only-of-type {\n",
       "        vertical-align: middle;\n",
       "    }\n",
       "\n",
       "    .dataframe tbody tr th {\n",
       "        vertical-align: top;\n",
       "    }\n",
       "\n",
       "    .dataframe thead th {\n",
       "        text-align: right;\n",
       "    }\n",
       "</style>\n",
       "<table border=\"1\" class=\"dataframe\">\n",
       "  <thead>\n",
       "    <tr style=\"text-align: right;\">\n",
       "      <th></th>\n",
       "      <th>email</th>\n",
       "      <th>name</th>\n",
       "      <th>skills</th>\n",
       "    </tr>\n",
       "  </thead>\n",
       "  <tbody>\n",
       "    <tr>\n",
       "      <th>0</th>\n",
       "      <td>thomas.nelson@test.org</td>\n",
       "      <td>Thomas Nelson</td>\n",
       "      <td>Security, Pandas, Go</td>\n",
       "    </tr>\n",
       "    <tr>\n",
       "      <th>1</th>\n",
       "      <td>lucy.clark@test.org</td>\n",
       "      <td>Lucy Clark</td>\n",
       "      <td>WordPress, Scrum, Go, SQL, Linux</td>\n",
       "    </tr>\n",
       "    <tr>\n",
       "      <th>2</th>\n",
       "      <td>richard.jackson@test.org</td>\n",
       "      <td>Richard Jackson</td>\n",
       "      <td>System Design, PyTorch, Express.js, DevOps</td>\n",
       "    </tr>\n",
       "    <tr>\n",
       "      <th>3</th>\n",
       "      <td>amelia.hall@test.org</td>\n",
       "      <td>Amelia Hall</td>\n",
       "      <td>Agile, CSS3, R, Azure</td>\n",
       "    </tr>\n",
       "    <tr>\n",
       "      <th>4</th>\n",
       "      <td>david.hill@test.org</td>\n",
       "      <td>David Hill</td>\n",
       "      <td>Java, Scrum, Angular</td>\n",
       "    </tr>\n",
       "    <tr>\n",
       "      <th>5</th>\n",
       "      <td>christopher.johnson@test.org</td>\n",
       "      <td>Christopher Johnson</td>\n",
       "      <td>Tableau, Flask, API Design</td>\n",
       "    </tr>\n",
       "    <tr>\n",
       "      <th>6</th>\n",
       "      <td>amelia.martin@test.org</td>\n",
       "      <td>Amelia Martin</td>\n",
       "      <td>CI/CD, Kotlin, HTML5, TensorFlow</td>\n",
       "    </tr>\n",
       "    <tr>\n",
       "      <th>7</th>\n",
       "      <td>daniel.hill@test.org</td>\n",
       "      <td>Daniel Hill</td>\n",
       "      <td>System Design, Git, Cypher, Pandas, Spring Boot</td>\n",
       "    </tr>\n",
       "    <tr>\n",
       "      <th>8</th>\n",
       "      <td>alice.white@test.org</td>\n",
       "      <td>Alice White</td>\n",
       "      <td>Spark, Agile, JavaScript</td>\n",
       "    </tr>\n",
       "    <tr>\n",
       "      <th>9</th>\n",
       "      <td>lucy.taylor@test.org</td>\n",
       "      <td>Lucy Taylor</td>\n",
       "      <td>Flask, Tableau, CI/CD, Rust, System Design</td>\n",
       "    </tr>\n",
       "    <tr>\n",
       "      <th>10</th>\n",
       "      <td>lucy.turner@test.org</td>\n",
       "      <td>Lucy Turner</td>\n",
       "      <td>Express.js, Big Data, Scala, Security, Docker</td>\n",
       "    </tr>\n",
       "    <tr>\n",
       "      <th>11</th>\n",
       "      <td>elena.young@test.org</td>\n",
       "      <td>Elena Young</td>\n",
       "      <td>Scala, TensorFlow, Blockchain, Angular</td>\n",
       "    </tr>\n",
       "    <tr>\n",
       "      <th>12</th>\n",
       "      <td>richard.taylor@test.org</td>\n",
       "      <td>Richard Taylor</td>\n",
       "      <td>Cloud Architecture, Kotlin, Angular, Agile</td>\n",
       "    </tr>\n",
       "    <tr>\n",
       "      <th>13</th>\n",
       "      <td>joseph.mitchell@test.org</td>\n",
       "      <td>Joseph Mitchell</td>\n",
       "      <td>System Design, Spark, Vue.js, Ruby</td>\n",
       "    </tr>\n",
       "    <tr>\n",
       "      <th>14</th>\n",
       "      <td>sophie.jackson@test.org</td>\n",
       "      <td>Sophie Jackson</td>\n",
       "      <td>Linux, Angular, Security, Pandas</td>\n",
       "    </tr>\n",
       "    <tr>\n",
       "      <th>15</th>\n",
       "      <td>joseph.lopez@test.org</td>\n",
       "      <td>Joseph Lopez</td>\n",
       "      <td>CI/CD, Django, TypeScript, Testing</td>\n",
       "    </tr>\n",
       "    <tr>\n",
       "      <th>16</th>\n",
       "      <td>ryan.rodriguez@test.org</td>\n",
       "      <td>Ryan Rodriguez</td>\n",
       "      <td>Power BI, DevOps, JavaScript</td>\n",
       "    </tr>\n",
       "    <tr>\n",
       "      <th>17</th>\n",
       "      <td>lucy.martin@test.org</td>\n",
       "      <td>Lucy Martin</td>\n",
       "      <td>Flask, DevOps, Machine Learning, Rust</td>\n",
       "    </tr>\n",
       "    <tr>\n",
       "      <th>18</th>\n",
       "      <td>victoria.thomas@test.org</td>\n",
       "      <td>Victoria Thomas</td>\n",
       "      <td>API Design, Cloud Architecture, Swift</td>\n",
       "    </tr>\n",
       "    <tr>\n",
       "      <th>19</th>\n",
       "      <td>joshua.lopez@test.org</td>\n",
       "      <td>Joshua Lopez</td>\n",
       "      <td>Pandas, Scala, Express.js, Blockchain, Jenkins</td>\n",
       "    </tr>\n",
       "    <tr>\n",
       "      <th>20</th>\n",
       "      <td>alice.hill@test.org</td>\n",
       "      <td>Alice Hill</td>\n",
       "      <td>Blockchain, Cloud Architecture, Spring Boot</td>\n",
       "    </tr>\n",
       "    <tr>\n",
       "      <th>21</th>\n",
       "      <td>mia.nelson@test.org</td>\n",
       "      <td>Mia Nelson</td>\n",
       "      <td>AWS, Swift, WordPress, Security, Big Data</td>\n",
       "    </tr>\n",
       "    <tr>\n",
       "      <th>22</th>\n",
       "      <td>david.lopez@test.org</td>\n",
       "      <td>David Lopez</td>\n",
       "      <td>WordPress, Security, PHP</td>\n",
       "    </tr>\n",
       "    <tr>\n",
       "      <th>23</th>\n",
       "      <td>isabella.jones@test.org</td>\n",
       "      <td>Isabella Jones</td>\n",
       "      <td>Scrum, ReactJS, TensorFlow, Cloud Architecture</td>\n",
       "    </tr>\n",
       "    <tr>\n",
       "      <th>24</th>\n",
       "      <td>natalie.miller@test.org</td>\n",
       "      <td>Natalie Miller</td>\n",
       "      <td>Testing, Azure, Go, Machine Learning, Express.js</td>\n",
       "    </tr>\n",
       "    <tr>\n",
       "      <th>25</th>\n",
       "      <td>natalie.thompson@test.org</td>\n",
       "      <td>Natalie Thompson</td>\n",
       "      <td>System Design, TypeScript, Angular, Spark, Jen...</td>\n",
       "    </tr>\n",
       "    <tr>\n",
       "      <th>26</th>\n",
       "      <td>hannah.campbell@test.org</td>\n",
       "      <td>Hannah Campbell</td>\n",
       "      <td>API Design, JavaScript, DevOps, Power BI, Vue.js</td>\n",
       "    </tr>\n",
       "    <tr>\n",
       "      <th>27</th>\n",
       "      <td>brian.hill@test.org</td>\n",
       "      <td>Brian Hill</td>\n",
       "      <td>Machine Learning, System Design, CSS3</td>\n",
       "    </tr>\n",
       "    <tr>\n",
       "      <th>28</th>\n",
       "      <td>brian.carter@test.org</td>\n",
       "      <td>Brian Carter</td>\n",
       "      <td>Vue.js, Git, SQL, Testing, Rust</td>\n",
       "    </tr>\n",
       "    <tr>\n",
       "      <th>29</th>\n",
       "      <td>thomas.brown@test.org</td>\n",
       "      <td>Thomas Brown</td>\n",
       "      <td>Docker, Java, Security, R</td>\n",
       "    </tr>\n",
       "  </tbody>\n",
       "</table>\n",
       "</div>"
      ],
      "text/plain": [
       "                           email                 name  \\\n",
       "0         thomas.nelson@test.org        Thomas Nelson   \n",
       "1            lucy.clark@test.org           Lucy Clark   \n",
       "2       richard.jackson@test.org      Richard Jackson   \n",
       "3           amelia.hall@test.org          Amelia Hall   \n",
       "4            david.hill@test.org           David Hill   \n",
       "5   christopher.johnson@test.org  Christopher Johnson   \n",
       "6         amelia.martin@test.org        Amelia Martin   \n",
       "7           daniel.hill@test.org          Daniel Hill   \n",
       "8           alice.white@test.org          Alice White   \n",
       "9           lucy.taylor@test.org          Lucy Taylor   \n",
       "10          lucy.turner@test.org          Lucy Turner   \n",
       "11          elena.young@test.org          Elena Young   \n",
       "12       richard.taylor@test.org       Richard Taylor   \n",
       "13      joseph.mitchell@test.org      Joseph Mitchell   \n",
       "14       sophie.jackson@test.org       Sophie Jackson   \n",
       "15         joseph.lopez@test.org         Joseph Lopez   \n",
       "16       ryan.rodriguez@test.org       Ryan Rodriguez   \n",
       "17          lucy.martin@test.org          Lucy Martin   \n",
       "18      victoria.thomas@test.org      Victoria Thomas   \n",
       "19         joshua.lopez@test.org         Joshua Lopez   \n",
       "20           alice.hill@test.org           Alice Hill   \n",
       "21           mia.nelson@test.org           Mia Nelson   \n",
       "22          david.lopez@test.org          David Lopez   \n",
       "23       isabella.jones@test.org       Isabella Jones   \n",
       "24       natalie.miller@test.org       Natalie Miller   \n",
       "25     natalie.thompson@test.org     Natalie Thompson   \n",
       "26      hannah.campbell@test.org      Hannah Campbell   \n",
       "27           brian.hill@test.org           Brian Hill   \n",
       "28         brian.carter@test.org         Brian Carter   \n",
       "29         thomas.brown@test.org         Thomas Brown   \n",
       "\n",
       "                                               skills  \n",
       "0                                Security, Pandas, Go  \n",
       "1                    WordPress, Scrum, Go, SQL, Linux  \n",
       "2          System Design, PyTorch, Express.js, DevOps  \n",
       "3                               Agile, CSS3, R, Azure  \n",
       "4                                Java, Scrum, Angular  \n",
       "5                          Tableau, Flask, API Design  \n",
       "6                    CI/CD, Kotlin, HTML5, TensorFlow  \n",
       "7     System Design, Git, Cypher, Pandas, Spring Boot  \n",
       "8                            Spark, Agile, JavaScript  \n",
       "9          Flask, Tableau, CI/CD, Rust, System Design  \n",
       "10      Express.js, Big Data, Scala, Security, Docker  \n",
       "11             Scala, TensorFlow, Blockchain, Angular  \n",
       "12         Cloud Architecture, Kotlin, Angular, Agile  \n",
       "13                 System Design, Spark, Vue.js, Ruby  \n",
       "14                   Linux, Angular, Security, Pandas  \n",
       "15                 CI/CD, Django, TypeScript, Testing  \n",
       "16                       Power BI, DevOps, JavaScript  \n",
       "17              Flask, DevOps, Machine Learning, Rust  \n",
       "18              API Design, Cloud Architecture, Swift  \n",
       "19     Pandas, Scala, Express.js, Blockchain, Jenkins  \n",
       "20        Blockchain, Cloud Architecture, Spring Boot  \n",
       "21          AWS, Swift, WordPress, Security, Big Data  \n",
       "22                           WordPress, Security, PHP  \n",
       "23     Scrum, ReactJS, TensorFlow, Cloud Architecture  \n",
       "24   Testing, Azure, Go, Machine Learning, Express.js  \n",
       "25  System Design, TypeScript, Angular, Spark, Jen...  \n",
       "26   API Design, JavaScript, DevOps, Power BI, Vue.js  \n",
       "27              Machine Learning, System Design, CSS3  \n",
       "28                    Vue.js, Git, SQL, Testing, Rust  \n",
       "29                          Docker, Java, Security, R  "
      ]
     },
     "execution_count": 8,
     "metadata": {},
     "output_type": "execute_result"
    }
   ],
   "source": [
    "skills_csv.head(30)"
   ]
  },
  {
   "cell_type": "markdown",
   "metadata": {
    "id": "7tdxbTD_ZZ-T"
   },
   "source": [
    "Convert skills column from comma separated string to List"
   ]
  },
  {
   "cell_type": "code",
   "execution_count": 9,
   "metadata": {
    "id": "7tdxbTD_ZZ-T"
   },
   "outputs": [
    {
     "data": {
      "text/html": [
       "<div>\n",
       "<style scoped>\n",
       "    .dataframe tbody tr th:only-of-type {\n",
       "        vertical-align: middle;\n",
       "    }\n",
       "\n",
       "    .dataframe tbody tr th {\n",
       "        vertical-align: top;\n",
       "    }\n",
       "\n",
       "    .dataframe thead th {\n",
       "        text-align: right;\n",
       "    }\n",
       "</style>\n",
       "<table border=\"1\" class=\"dataframe\">\n",
       "  <thead>\n",
       "    <tr style=\"text-align: right;\">\n",
       "      <th></th>\n",
       "      <th>email</th>\n",
       "      <th>name</th>\n",
       "      <th>skills</th>\n",
       "    </tr>\n",
       "  </thead>\n",
       "  <tbody>\n",
       "    <tr>\n",
       "      <th>0</th>\n",
       "      <td>thomas.nelson@test.org</td>\n",
       "      <td>Thomas Nelson</td>\n",
       "      <td>[Security, Pandas, Go]</td>\n",
       "    </tr>\n",
       "    <tr>\n",
       "      <th>1</th>\n",
       "      <td>lucy.clark@test.org</td>\n",
       "      <td>Lucy Clark</td>\n",
       "      <td>[WordPress, Scrum, Go, SQL, Linux]</td>\n",
       "    </tr>\n",
       "    <tr>\n",
       "      <th>2</th>\n",
       "      <td>richard.jackson@test.org</td>\n",
       "      <td>Richard Jackson</td>\n",
       "      <td>[System Design, PyTorch, Express.js, DevOps]</td>\n",
       "    </tr>\n",
       "    <tr>\n",
       "      <th>3</th>\n",
       "      <td>amelia.hall@test.org</td>\n",
       "      <td>Amelia Hall</td>\n",
       "      <td>[Agile, CSS3, R, Azure]</td>\n",
       "    </tr>\n",
       "    <tr>\n",
       "      <th>4</th>\n",
       "      <td>david.hill@test.org</td>\n",
       "      <td>David Hill</td>\n",
       "      <td>[Java, Scrum, Angular]</td>\n",
       "    </tr>\n",
       "  </tbody>\n",
       "</table>\n",
       "</div>"
      ],
      "text/plain": [
       "                      email             name  \\\n",
       "0    thomas.nelson@test.org    Thomas Nelson   \n",
       "1       lucy.clark@test.org       Lucy Clark   \n",
       "2  richard.jackson@test.org  Richard Jackson   \n",
       "3      amelia.hall@test.org      Amelia Hall   \n",
       "4       david.hill@test.org       David Hill   \n",
       "\n",
       "                                         skills  \n",
       "0                        [Security, Pandas, Go]  \n",
       "1            [WordPress, Scrum, Go, SQL, Linux]  \n",
       "2  [System Design, PyTorch, Express.js, DevOps]  \n",
       "3                       [Agile, CSS3, R, Azure]  \n",
       "4                        [Java, Scrum, Angular]  "
      ]
     },
     "execution_count": 9,
     "metadata": {},
     "output_type": "execute_result"
    }
   ],
   "source": [
    "skills_csv['skills'] = skills_csv['skills'].str.split(', ')\n",
    "skills_csv.head()"
   ]
  },
  {
   "cell_type": "markdown",
   "metadata": {
    "id": "k5QJiOUfZZ-T"
   },
   "source": [
    "### Schema"
   ]
  },
  {
   "cell_type": "code",
   "execution_count": 10,
   "metadata": {
    "id": "cdTfdAyV2ZaR"
   },
   "outputs": [],
   "source": [
    "schema_statements = [\n",
    "    'CREATE CONSTRAINT IF NOT EXISTS FOR (n:Person) REQUIRE (n.email) IS NODE KEY',\n",
    "    'CREATE CONSTRAINT IF NOT EXISTS FOR (n:Skill) REQUIRE (n.name) IS NODE KEY',\n",
    "]"
   ]
  },
  {
   "cell_type": "code",
   "execution_count": 11,
   "metadata": {
    "id": "cdTfdAyV2ZaR"
   },
   "outputs": [],
   "source": [
    "for statement in schema_statements:\n",
    "    driver.execute_query(\n",
    "        statement,\n",
    "        database_=DATABASE,\n",
    "        routing_=RoutingControl.WRITE\n",
    "    )"
   ]
  },
  {
   "cell_type": "markdown",
   "metadata": {
    "id": "cdTfdAyV2ZaR"
   },
   "source": [
    "Fetch all constraints"
   ]
  },
  {
   "cell_type": "code",
   "execution_count": 12,
   "metadata": {
    "id": "cdTfdAyV2ZaR"
   },
   "outputs": [
    {
     "data": {
      "text/html": [
       "<div>\n",
       "<style scoped>\n",
       "    .dataframe tbody tr th:only-of-type {\n",
       "        vertical-align: middle;\n",
       "    }\n",
       "\n",
       "    .dataframe tbody tr th {\n",
       "        vertical-align: top;\n",
       "    }\n",
       "\n",
       "    .dataframe thead th {\n",
       "        text-align: right;\n",
       "    }\n",
       "</style>\n",
       "<table border=\"1\" class=\"dataframe\">\n",
       "  <thead>\n",
       "    <tr style=\"text-align: right;\">\n",
       "      <th></th>\n",
       "      <th>id</th>\n",
       "      <th>name</th>\n",
       "      <th>type</th>\n",
       "      <th>entityType</th>\n",
       "      <th>labelsOrTypes</th>\n",
       "      <th>properties</th>\n",
       "      <th>ownedIndex</th>\n",
       "      <th>propertyType</th>\n",
       "    </tr>\n",
       "  </thead>\n",
       "  <tbody>\n",
       "    <tr>\n",
       "      <th>0</th>\n",
       "      <td>5</td>\n",
       "      <td>constraint_63bf11a1</td>\n",
       "      <td>NODE_KEY</td>\n",
       "      <td>NODE</td>\n",
       "      <td>[Skill]</td>\n",
       "      <td>[name]</td>\n",
       "      <td>constraint_63bf11a1</td>\n",
       "      <td>None</td>\n",
       "    </tr>\n",
       "    <tr>\n",
       "      <th>1</th>\n",
       "      <td>3</td>\n",
       "      <td>constraint_d3bfd313</td>\n",
       "      <td>NODE_KEY</td>\n",
       "      <td>NODE</td>\n",
       "      <td>[Person]</td>\n",
       "      <td>[email]</td>\n",
       "      <td>constraint_d3bfd313</td>\n",
       "      <td>None</td>\n",
       "    </tr>\n",
       "  </tbody>\n",
       "</table>\n",
       "</div>"
      ],
      "text/plain": [
       "   id                 name      type entityType labelsOrTypes properties  \\\n",
       "0   5  constraint_63bf11a1  NODE_KEY       NODE       [Skill]     [name]   \n",
       "1   3  constraint_d3bfd313  NODE_KEY       NODE      [Person]    [email]   \n",
       "\n",
       "            ownedIndex propertyType  \n",
       "0  constraint_63bf11a1         None  \n",
       "1  constraint_d3bfd313         None  "
      ]
     },
     "execution_count": 12,
     "metadata": {},
     "output_type": "execute_result"
    }
   ],
   "source": [
    "schema_result_df  = driver.execute_query(\n",
    "    'SHOW CONSTRAINTS',\n",
    "    database_=DATABASE,\n",
    "    routing_=RoutingControl.READ,\n",
    "    result_transformer_= lambda r: r.to_df()\n",
    ")\n",
    "schema_result_df.head(100)"
   ]
  },
  {
   "cell_type": "markdown",
   "metadata": {
    "id": "uduojIopm0qV"
   },
   "source": [
    "Create a graph for (:Person)-[:KNOWS]->(:Skill)"
   ]
  },
  {
   "cell_type": "code",
   "execution_count": 13,
   "metadata": {
    "id": "uduojIopm0qV"
   },
   "outputs": [],
   "source": [
    "for chunk in split_dataframe(skills_csv):\n",
    "    records, summary, keys = driver.execute_query(\n",
    "        \"\"\"\n",
    "        UNWIND $rows AS row\n",
    "        MERGE (p:Person{email:row.email})\n",
    "        SET p.name = row.name\n",
    "        WITH p, row\n",
    "        FOREACH(skill IN row.skills | MERGE (s:Skill{name:skill}) MERGE (p)-[:KNOWS]->(s) )\n",
    "        RETURN COUNT(*) AS rows_processed\n",
    "        \"\"\",\n",
    "        database_=DATABASE,\n",
    "        routing_=RoutingControl.WRITE,\n",
    "        rows = chunk.to_dict('records')\n",
    "    )"
   ]
  },
  {
   "cell_type": "markdown",
   "metadata": {
    "id": "rZo7Gln2jJcF"
   },
   "source": [
    "# Basic navigation of graph with cypher"
   ]
  },
  {
   "cell_type": "markdown",
   "metadata": {},
   "source": [
    "What persons are in the database?"
   ]
  },
  {
   "cell_type": "code",
   "execution_count": 14,
   "metadata": {
    "id": "70-xbOfgjQsY"
   },
   "outputs": [
    {
     "data": {
      "text/html": [
       "<div>\n",
       "<style scoped>\n",
       "    .dataframe tbody tr th:only-of-type {\n",
       "        vertical-align: middle;\n",
       "    }\n",
       "\n",
       "    .dataframe tbody tr th {\n",
       "        vertical-align: top;\n",
       "    }\n",
       "\n",
       "    .dataframe thead th {\n",
       "        text-align: right;\n",
       "    }\n",
       "</style>\n",
       "<table border=\"1\" class=\"dataframe\">\n",
       "  <thead>\n",
       "    <tr style=\"text-align: right;\">\n",
       "      <th></th>\n",
       "      <th>person_name</th>\n",
       "    </tr>\n",
       "  </thead>\n",
       "  <tbody>\n",
       "    <tr>\n",
       "      <th>0</th>\n",
       "      <td>Thomas Nelson</td>\n",
       "    </tr>\n",
       "    <tr>\n",
       "      <th>1</th>\n",
       "      <td>Lucy Clark</td>\n",
       "    </tr>\n",
       "    <tr>\n",
       "      <th>2</th>\n",
       "      <td>Richard Jackson</td>\n",
       "    </tr>\n",
       "    <tr>\n",
       "      <th>3</th>\n",
       "      <td>Amelia Hall</td>\n",
       "    </tr>\n",
       "    <tr>\n",
       "      <th>4</th>\n",
       "      <td>David Hill</td>\n",
       "    </tr>\n",
       "  </tbody>\n",
       "</table>\n",
       "</div>"
      ],
      "text/plain": [
       "       person_name\n",
       "0    Thomas Nelson\n",
       "1       Lucy Clark\n",
       "2  Richard Jackson\n",
       "3      Amelia Hall\n",
       "4       David Hill"
      ]
     },
     "execution_count": 14,
     "metadata": {},
     "output_type": "execute_result"
    }
   ],
   "source": [
    "driver.execute_query(\n",
    "    \"\"\"\n",
    "    MATCH (p:Person)\n",
    "    RETURN p.name AS person_name\n",
    "    \"\"\",\n",
    "    database_=DATABASE,\n",
    "    routing_=RoutingControl.READ,\n",
    "    result_transformer_= lambda r: r.to_df()\n",
    ").head()"
   ]
  },
  {
   "cell_type": "markdown",
   "metadata": {
    "id": "volCOjn_jjm3"
   },
   "source": [
    "What skills does each person know?"
   ]
  },
  {
   "cell_type": "code",
   "execution_count": 15,
   "metadata": {
    "id": "volCOjn_jjm3"
   },
   "outputs": [
    {
     "data": {
      "text/html": [
       "<div>\n",
       "<style scoped>\n",
       "    .dataframe tbody tr th:only-of-type {\n",
       "        vertical-align: middle;\n",
       "    }\n",
       "\n",
       "    .dataframe tbody tr th {\n",
       "        vertical-align: top;\n",
       "    }\n",
       "\n",
       "    .dataframe thead th {\n",
       "        text-align: right;\n",
       "    }\n",
       "</style>\n",
       "<table border=\"1\" class=\"dataframe\">\n",
       "  <thead>\n",
       "    <tr style=\"text-align: right;\">\n",
       "      <th></th>\n",
       "      <th>email</th>\n",
       "      <th>person_name</th>\n",
       "      <th>skills</th>\n",
       "    </tr>\n",
       "  </thead>\n",
       "  <tbody>\n",
       "    <tr>\n",
       "      <th>0</th>\n",
       "      <td>christopher.johnson@test.org</td>\n",
       "      <td>Christopher Johnson</td>\n",
       "      <td>[API Design, Flask, Tableau]</td>\n",
       "    </tr>\n",
       "    <tr>\n",
       "      <th>1</th>\n",
       "      <td>victoria.thomas@test.org</td>\n",
       "      <td>Victoria Thomas</td>\n",
       "      <td>[API Design, Cloud Architecture, Swift]</td>\n",
       "    </tr>\n",
       "    <tr>\n",
       "      <th>2</th>\n",
       "      <td>hannah.campbell@test.org</td>\n",
       "      <td>Hannah Campbell</td>\n",
       "      <td>[API Design, DevOps, JavaScript, Power BI, Vue...</td>\n",
       "    </tr>\n",
       "    <tr>\n",
       "      <th>3</th>\n",
       "      <td>brian.jackson@test.org</td>\n",
       "      <td>Brian Jackson</td>\n",
       "      <td>[API Design, Cloud Architecture, Jenkins, Proj...</td>\n",
       "    </tr>\n",
       "    <tr>\n",
       "      <th>4</th>\n",
       "      <td>john.walker@test.org</td>\n",
       "      <td>John Walker</td>\n",
       "      <td>[API Design, Django, Python]</td>\n",
       "    </tr>\n",
       "  </tbody>\n",
       "</table>\n",
       "</div>"
      ],
      "text/plain": [
       "                          email          person_name  \\\n",
       "0  christopher.johnson@test.org  Christopher Johnson   \n",
       "1      victoria.thomas@test.org      Victoria Thomas   \n",
       "2      hannah.campbell@test.org      Hannah Campbell   \n",
       "3        brian.jackson@test.org        Brian Jackson   \n",
       "4          john.walker@test.org          John Walker   \n",
       "\n",
       "                                              skills  \n",
       "0                       [API Design, Flask, Tableau]  \n",
       "1            [API Design, Cloud Architecture, Swift]  \n",
       "2  [API Design, DevOps, JavaScript, Power BI, Vue...  \n",
       "3  [API Design, Cloud Architecture, Jenkins, Proj...  \n",
       "4                       [API Design, Django, Python]  "
      ]
     },
     "execution_count": 15,
     "metadata": {},
     "output_type": "execute_result"
    }
   ],
   "source": [
    "driver.execute_query(\n",
    "    \"\"\"\n",
    "    MATCH (p:Person)-[:KNOWS]->(s:Skill)\n",
    "    RETURN p.email AS email, p.name AS person_name, collect(s.name) AS skills\n",
    "    \"\"\",\n",
    "    database_=DATABASE,\n",
    "    routing_=RoutingControl.READ,\n",
    "    result_transformer_= lambda r: r.to_df()\n",
    ").head()"
   ]
  },
  {
   "cell_type": "markdown",
   "metadata": {
    "id": "2yddechtj2MB"
   },
   "source": [
    "What are the most frequent skills?"
   ]
  },
  {
   "cell_type": "code",
   "execution_count": 16,
   "metadata": {
    "id": "2yddechtj2MB"
   },
   "outputs": [],
   "source": [
    "skill_count_df = driver.execute_query(\n",
    "    \"\"\"\n",
    "    MATCH (p:Person)-[:KNOWS]->(s:Skill)\n",
    "    RETURN s.name, COUNT(DISTINCT p) AS knownByCount ORDER BY knownByCount DESC LIMIT 10\n",
    "    \"\"\",\n",
    "    database_=DATABASE,\n",
    "    routing_=RoutingControl.READ,\n",
    "    result_transformer_= lambda r: r.to_df()\n",
    ")"
   ]
  },
  {
   "cell_type": "code",
   "execution_count": 17,
   "metadata": {},
   "outputs": [
    {
     "data": {
      "text/html": [
       "<div>\n",
       "<style scoped>\n",
       "    .dataframe tbody tr th:only-of-type {\n",
       "        vertical-align: middle;\n",
       "    }\n",
       "\n",
       "    .dataframe tbody tr th {\n",
       "        vertical-align: top;\n",
       "    }\n",
       "\n",
       "    .dataframe thead th {\n",
       "        text-align: right;\n",
       "    }\n",
       "</style>\n",
       "<table border=\"1\" class=\"dataframe\">\n",
       "  <thead>\n",
       "    <tr style=\"text-align: right;\">\n",
       "      <th></th>\n",
       "      <th>s.name</th>\n",
       "      <th>knownByCount</th>\n",
       "    </tr>\n",
       "  </thead>\n",
       "  <tbody>\n",
       "    <tr>\n",
       "      <th>0</th>\n",
       "      <td>System Design</td>\n",
       "      <td>14</td>\n",
       "    </tr>\n",
       "    <tr>\n",
       "      <th>1</th>\n",
       "      <td>Agile</td>\n",
       "      <td>13</td>\n",
       "    </tr>\n",
       "    <tr>\n",
       "      <th>2</th>\n",
       "      <td>Security</td>\n",
       "      <td>13</td>\n",
       "    </tr>\n",
       "    <tr>\n",
       "      <th>3</th>\n",
       "      <td>Angular</td>\n",
       "      <td>13</td>\n",
       "    </tr>\n",
       "    <tr>\n",
       "      <th>4</th>\n",
       "      <td>Blockchain</td>\n",
       "      <td>11</td>\n",
       "    </tr>\n",
       "    <tr>\n",
       "      <th>5</th>\n",
       "      <td>Cloud Architecture</td>\n",
       "      <td>11</td>\n",
       "    </tr>\n",
       "    <tr>\n",
       "      <th>6</th>\n",
       "      <td>Scrum</td>\n",
       "      <td>11</td>\n",
       "    </tr>\n",
       "    <tr>\n",
       "      <th>7</th>\n",
       "      <td>Docker</td>\n",
       "      <td>10</td>\n",
       "    </tr>\n",
       "    <tr>\n",
       "      <th>8</th>\n",
       "      <td>ReactJS</td>\n",
       "      <td>10</td>\n",
       "    </tr>\n",
       "    <tr>\n",
       "      <th>9</th>\n",
       "      <td>TensorFlow</td>\n",
       "      <td>10</td>\n",
       "    </tr>\n",
       "  </tbody>\n",
       "</table>\n",
       "</div>"
      ],
      "text/plain": [
       "               s.name  knownByCount\n",
       "0       System Design            14\n",
       "1               Agile            13\n",
       "2            Security            13\n",
       "3             Angular            13\n",
       "4          Blockchain            11\n",
       "5  Cloud Architecture            11\n",
       "6               Scrum            11\n",
       "7              Docker            10\n",
       "8             ReactJS            10\n",
       "9          TensorFlow            10"
      ]
     },
     "execution_count": 17,
     "metadata": {},
     "output_type": "execute_result"
    }
   ],
   "source": [
    "skill_count_df"
   ]
  },
  {
   "cell_type": "markdown",
   "metadata": {
    "id": "kx1UHN87Kfup"
   },
   "source": [
    "# Node similarity"
   ]
  },
  {
   "cell_type": "markdown",
   "metadata": {
    "id": "kulQKQj63Zb_"
   },
   "source": [
    "Let's investigate Persons that are similar in the graph (based on skills they share)"
   ]
  },
  {
   "cell_type": "code",
   "execution_count": 18,
   "metadata": {
    "id": "A1S3LerIZZ-V"
   },
   "outputs": [
    {
     "data": {
      "text/plain": [
       "'2.15.0'"
      ]
     },
     "execution_count": 18,
     "metadata": {},
     "output_type": "execute_result"
    }
   ],
   "source": [
    "gds = GraphDataScience.from_neo4j_driver(driver=driver)\n",
    "gds.set_database(DATABASE)\n",
    "gds.version()"
   ]
  },
  {
   "cell_type": "code",
   "execution_count": 19,
   "metadata": {},
   "outputs": [],
   "source": [
    "graph_name = \"person_skills_projection\"\n",
    "node_projection = [\"Person\", \"Skill\"]\n",
    "rel_projection = [\"KNOWS\"]  "
   ]
  },
  {
   "cell_type": "code",
   "execution_count": 20,
   "metadata": {
    "id": "BDt3N5vPALJS"
   },
   "outputs": [],
   "source": [
    "G, res = gds.graph.project(graph_name, node_projection, rel_projection)"
   ]
  },
  {
   "cell_type": "code",
   "execution_count": 21,
   "metadata": {
    "id": "7rBfNJ6A9m65"
   },
   "outputs": [
    {
     "data": {
      "text/plain": [
       "nodeProjection            {'Skill': {'label': 'Skill', 'properties': {}}...\n",
       "relationshipProjection    {'KNOWS': {'aggregation': 'DEFAULT', 'orientat...\n",
       "graphName                                          person_skills_projection\n",
       "nodeCount                                                               151\n",
       "relationshipCount                                                       399\n",
       "projectMillis                                                            11\n",
       "Name: 0, dtype: object"
      ]
     },
     "execution_count": 21,
     "metadata": {},
     "output_type": "execute_result"
    }
   ],
   "source": [
    "res"
   ]
  },
  {
   "cell_type": "markdown",
   "metadata": {
    "id": "9yrwNp-kZZ-V"
   },
   "source": [
    "Documentation https://neo4j.com/docs/graph-data-science/current/algorithms/node-similarity/"
   ]
  },
  {
   "cell_type": "code",
   "execution_count": 22,
   "metadata": {
    "id": "Li3i2z3JZZ-V"
   },
   "outputs": [
    {
     "data": {
      "text/html": [
       "<div>\n",
       "<style scoped>\n",
       "    .dataframe tbody tr th:only-of-type {\n",
       "        vertical-align: middle;\n",
       "    }\n",
       "\n",
       "    .dataframe tbody tr th {\n",
       "        vertical-align: top;\n",
       "    }\n",
       "\n",
       "    .dataframe thead th {\n",
       "        text-align: right;\n",
       "    }\n",
       "</style>\n",
       "<table border=\"1\" class=\"dataframe\">\n",
       "  <thead>\n",
       "    <tr style=\"text-align: right;\">\n",
       "      <th></th>\n",
       "      <th>node1</th>\n",
       "      <th>node2</th>\n",
       "      <th>similarity</th>\n",
       "    </tr>\n",
       "  </thead>\n",
       "  <tbody>\n",
       "    <tr>\n",
       "      <th>0</th>\n",
       "      <td>0</td>\n",
       "      <td>85</td>\n",
       "      <td>0.666667</td>\n",
       "    </tr>\n",
       "    <tr>\n",
       "      <th>1</th>\n",
       "      <td>0</td>\n",
       "      <td>14</td>\n",
       "      <td>0.666667</td>\n",
       "    </tr>\n",
       "    <tr>\n",
       "      <th>2</th>\n",
       "      <td>0</td>\n",
       "      <td>10</td>\n",
       "      <td>0.333333</td>\n",
       "    </tr>\n",
       "    <tr>\n",
       "      <th>3</th>\n",
       "      <td>1</td>\n",
       "      <td>4</td>\n",
       "      <td>0.333333</td>\n",
       "    </tr>\n",
       "    <tr>\n",
       "      <th>4</th>\n",
       "      <td>1</td>\n",
       "      <td>22</td>\n",
       "      <td>0.333333</td>\n",
       "    </tr>\n",
       "    <tr>\n",
       "      <th>...</th>\n",
       "      <td>...</td>\n",
       "      <td>...</td>\n",
       "      <td>...</td>\n",
       "    </tr>\n",
       "    <tr>\n",
       "      <th>286</th>\n",
       "      <td>95</td>\n",
       "      <td>78</td>\n",
       "      <td>0.500000</td>\n",
       "    </tr>\n",
       "    <tr>\n",
       "      <th>287</th>\n",
       "      <td>95</td>\n",
       "      <td>60</td>\n",
       "      <td>0.500000</td>\n",
       "    </tr>\n",
       "    <tr>\n",
       "      <th>288</th>\n",
       "      <td>96</td>\n",
       "      <td>15</td>\n",
       "      <td>0.500000</td>\n",
       "    </tr>\n",
       "    <tr>\n",
       "      <th>289</th>\n",
       "      <td>96</td>\n",
       "      <td>34</td>\n",
       "      <td>0.500000</td>\n",
       "    </tr>\n",
       "    <tr>\n",
       "      <th>290</th>\n",
       "      <td>96</td>\n",
       "      <td>9</td>\n",
       "      <td>0.500000</td>\n",
       "    </tr>\n",
       "  </tbody>\n",
       "</table>\n",
       "<p>291 rows × 3 columns</p>\n",
       "</div>"
      ],
      "text/plain": [
       "     node1  node2  similarity\n",
       "0        0     85    0.666667\n",
       "1        0     14    0.666667\n",
       "2        0     10    0.333333\n",
       "3        1      4    0.333333\n",
       "4        1     22    0.333333\n",
       "..     ...    ...         ...\n",
       "286     95     78    0.500000\n",
       "287     95     60    0.500000\n",
       "288     96     15    0.500000\n",
       "289     96     34    0.500000\n",
       "290     96      9    0.500000\n",
       "\n",
       "[291 rows x 3 columns]"
      ]
     },
     "execution_count": 22,
     "metadata": {},
     "output_type": "execute_result"
    }
   ],
   "source": [
    "gds.nodeSimilarity.stream(\n",
    "    G,\n",
    "    similarityMetric = 'OVERLAP',\n",
    "    topK = 3\n",
    ")"
   ]
  },
  {
   "cell_type": "code",
   "execution_count": 23,
   "metadata": {
    "id": "nNZByI7LGy_i"
   },
   "outputs": [
    {
     "data": {
      "text/plain": [
       "preProcessingMillis                                                       0\n",
       "computeMillis                                                             6\n",
       "writeMillis                                                              21\n",
       "postProcessingMillis                                                      0\n",
       "nodesCompared                                                            97\n",
       "relationshipsWritten                                                    291\n",
       "similarityDistribution    {'min': 0.3333320617675781, 'p5': 0.3333320617...\n",
       "configuration             {'writeProperty': 'sim_score', 'writeRelations...\n",
       "Name: 0, dtype: object"
      ]
     },
     "execution_count": 23,
     "metadata": {},
     "output_type": "execute_result"
    }
   ],
   "source": [
    "gds.nodeSimilarity.write(\n",
    "    G,\n",
    "    similarityMetric='OVERLAP',\n",
    "    topK=3,\n",
    "    writeRelationshipType='SIMILAR_SKILLSET',\n",
    "    writeProperty='sim_score'\n",
    ")"
   ]
  },
  {
   "cell_type": "markdown",
   "metadata": {},
   "source": [
    "Remove symmetric relationships"
   ]
  },
  {
   "cell_type": "code",
   "execution_count": 24,
   "metadata": {
    "id": "nNZByI7LGy_i"
   },
   "outputs": [
    {
     "data": {
      "text/html": [
       "<div>\n",
       "<style scoped>\n",
       "    .dataframe tbody tr th:only-of-type {\n",
       "        vertical-align: middle;\n",
       "    }\n",
       "\n",
       "    .dataframe tbody tr th {\n",
       "        vertical-align: top;\n",
       "    }\n",
       "\n",
       "    .dataframe thead th {\n",
       "        text-align: right;\n",
       "    }\n",
       "</style>\n",
       "<table border=\"1\" class=\"dataframe\">\n",
       "  <thead>\n",
       "    <tr style=\"text-align: right;\">\n",
       "      <th></th>\n",
       "    </tr>\n",
       "  </thead>\n",
       "  <tbody>\n",
       "  </tbody>\n",
       "</table>\n",
       "</div>"
      ],
      "text/plain": [
       "Empty DataFrame\n",
       "Columns: []\n",
       "Index: []"
      ]
     },
     "execution_count": 24,
     "metadata": {},
     "output_type": "execute_result"
    }
   ],
   "source": [
    "gds.run_cypher(\n",
    "    \"\"\"\n",
    "    MATCH (a:Person)-[r:SIMILAR_SKILLSET]->(b:Person)\n",
    "    WHERE EXISTS { (b)-[:SIMILAR_SKILLSET]->(a) }\n",
    "    AND   id(a)<id(b)\n",
    "    DELETE r\n",
    "    \"\"\"\n",
    ")"
   ]
  },
  {
   "cell_type": "markdown",
   "metadata": {},
   "source": [
    "Drop the projection from the graph catalogue to free up resources"
   ]
  },
  {
   "cell_type": "code",
   "execution_count": 25,
   "metadata": {
    "id": "LRQGxT5RHctm"
   },
   "outputs": [
    {
     "data": {
      "text/plain": [
       "graphName                                         person_skills_projection\n",
       "database                                                             neo4j\n",
       "databaseLocation                                                     local\n",
       "memoryUsage                                                               \n",
       "sizeInBytes                                                             -1\n",
       "nodeCount                                                              151\n",
       "relationshipCount                                                      399\n",
       "configuration            {'relationshipProjection': {'KNOWS': {'aggrega...\n",
       "density                                                           0.017616\n",
       "creationTime                           2025-03-08T08:38:11.800490335+00:00\n",
       "modificationTime                       2025-03-08T08:38:11.800490335+00:00\n",
       "schema                   {'graphProperties': {}, 'nodes': {'Skill': {},...\n",
       "schemaWithOrientation    {'graphProperties': {}, 'nodes': {'Skill': {},...\n",
       "Name: 0, dtype: object"
      ]
     },
     "execution_count": 25,
     "metadata": {},
     "output_type": "execute_result"
    }
   ],
   "source": [
    "G.drop()"
   ]
  },
  {
   "cell_type": "markdown",
   "metadata": {},
   "source": [
    "Take a minute to explore the SIMILAR_SKILLSET network"
   ]
  },
  {
   "cell_type": "markdown",
   "metadata": {
    "id": "jU696MRBKlne"
   },
   "source": [
    "# Semantic Similar skill"
   ]
  },
  {
   "cell_type": "code",
   "execution_count": 26,
   "metadata": {
    "id": "jsSEXph4ZZ-W"
   },
   "outputs": [],
   "source": [
    "embeddings = OpenAIEmbeddings(model='text-embedding-ada-002')"
   ]
  },
  {
   "cell_type": "code",
   "execution_count": 27,
   "metadata": {
    "id": "mZC3AKS9ZZ-W"
   },
   "outputs": [],
   "source": [
    "skills_df = gds.run_cypher(\n",
    "    \"\"\"\n",
    "    MATCH (s:Skill)\n",
    "    RETURN s.name AS skill\n",
    "    \"\"\"\n",
    ")"
   ]
  },
  {
   "cell_type": "code",
   "execution_count": 28,
   "metadata": {
    "id": "mZC3AKS9ZZ-W"
   },
   "outputs": [
    {
     "data": {
      "text/html": [
       "<div>\n",
       "<style scoped>\n",
       "    .dataframe tbody tr th:only-of-type {\n",
       "        vertical-align: middle;\n",
       "    }\n",
       "\n",
       "    .dataframe tbody tr th {\n",
       "        vertical-align: top;\n",
       "    }\n",
       "\n",
       "    .dataframe thead th {\n",
       "        text-align: right;\n",
       "    }\n",
       "</style>\n",
       "<table border=\"1\" class=\"dataframe\">\n",
       "  <thead>\n",
       "    <tr style=\"text-align: right;\">\n",
       "      <th></th>\n",
       "      <th>skill</th>\n",
       "    </tr>\n",
       "  </thead>\n",
       "  <tbody>\n",
       "    <tr>\n",
       "      <th>0</th>\n",
       "      <td>API Design</td>\n",
       "    </tr>\n",
       "    <tr>\n",
       "      <th>1</th>\n",
       "      <td>AWS</td>\n",
       "    </tr>\n",
       "    <tr>\n",
       "      <th>2</th>\n",
       "      <td>Agile</td>\n",
       "    </tr>\n",
       "    <tr>\n",
       "      <th>3</th>\n",
       "      <td>Angular</td>\n",
       "    </tr>\n",
       "    <tr>\n",
       "      <th>4</th>\n",
       "      <td>Azure</td>\n",
       "    </tr>\n",
       "    <tr>\n",
       "      <th>5</th>\n",
       "      <td>Big Data</td>\n",
       "    </tr>\n",
       "    <tr>\n",
       "      <th>6</th>\n",
       "      <td>Blockchain</td>\n",
       "    </tr>\n",
       "    <tr>\n",
       "      <th>7</th>\n",
       "      <td>C++</td>\n",
       "    </tr>\n",
       "    <tr>\n",
       "      <th>8</th>\n",
       "      <td>CI/CD</td>\n",
       "    </tr>\n",
       "    <tr>\n",
       "      <th>9</th>\n",
       "      <td>CSS3</td>\n",
       "    </tr>\n",
       "    <tr>\n",
       "      <th>10</th>\n",
       "      <td>Cloud Architecture</td>\n",
       "    </tr>\n",
       "    <tr>\n",
       "      <th>11</th>\n",
       "      <td>Cypher</td>\n",
       "    </tr>\n",
       "    <tr>\n",
       "      <th>12</th>\n",
       "      <td>Data Analysis</td>\n",
       "    </tr>\n",
       "    <tr>\n",
       "      <th>13</th>\n",
       "      <td>Data Visualization</td>\n",
       "    </tr>\n",
       "    <tr>\n",
       "      <th>14</th>\n",
       "      <td>DevOps</td>\n",
       "    </tr>\n",
       "    <tr>\n",
       "      <th>15</th>\n",
       "      <td>Django</td>\n",
       "    </tr>\n",
       "    <tr>\n",
       "      <th>16</th>\n",
       "      <td>Docker</td>\n",
       "    </tr>\n",
       "    <tr>\n",
       "      <th>17</th>\n",
       "      <td>Express.js</td>\n",
       "    </tr>\n",
       "    <tr>\n",
       "      <th>18</th>\n",
       "      <td>Flask</td>\n",
       "    </tr>\n",
       "    <tr>\n",
       "      <th>19</th>\n",
       "      <td>Git</td>\n",
       "    </tr>\n",
       "    <tr>\n",
       "      <th>20</th>\n",
       "      <td>Go</td>\n",
       "    </tr>\n",
       "    <tr>\n",
       "      <th>21</th>\n",
       "      <td>HTML5</td>\n",
       "    </tr>\n",
       "    <tr>\n",
       "      <th>22</th>\n",
       "      <td>Java</td>\n",
       "    </tr>\n",
       "    <tr>\n",
       "      <th>23</th>\n",
       "      <td>JavaScript</td>\n",
       "    </tr>\n",
       "    <tr>\n",
       "      <th>24</th>\n",
       "      <td>Jenkins</td>\n",
       "    </tr>\n",
       "    <tr>\n",
       "      <th>25</th>\n",
       "      <td>Kotlin</td>\n",
       "    </tr>\n",
       "    <tr>\n",
       "      <th>26</th>\n",
       "      <td>Kubernetes</td>\n",
       "    </tr>\n",
       "    <tr>\n",
       "      <th>27</th>\n",
       "      <td>Linux</td>\n",
       "    </tr>\n",
       "    <tr>\n",
       "      <th>28</th>\n",
       "      <td>Machine Learning</td>\n",
       "    </tr>\n",
       "    <tr>\n",
       "      <th>29</th>\n",
       "      <td>Node.js</td>\n",
       "    </tr>\n",
       "    <tr>\n",
       "      <th>30</th>\n",
       "      <td>PHP</td>\n",
       "    </tr>\n",
       "    <tr>\n",
       "      <th>31</th>\n",
       "      <td>Pandas</td>\n",
       "    </tr>\n",
       "    <tr>\n",
       "      <th>32</th>\n",
       "      <td>Power BI</td>\n",
       "    </tr>\n",
       "    <tr>\n",
       "      <th>33</th>\n",
       "      <td>Project Management</td>\n",
       "    </tr>\n",
       "    <tr>\n",
       "      <th>34</th>\n",
       "      <td>PyTorch</td>\n",
       "    </tr>\n",
       "  </tbody>\n",
       "</table>\n",
       "</div>"
      ],
      "text/plain": [
       "                 skill\n",
       "0           API Design\n",
       "1                  AWS\n",
       "2                Agile\n",
       "3              Angular\n",
       "4                Azure\n",
       "5             Big Data\n",
       "6           Blockchain\n",
       "7                  C++\n",
       "8                CI/CD\n",
       "9                 CSS3\n",
       "10  Cloud Architecture\n",
       "11              Cypher\n",
       "12       Data Analysis\n",
       "13  Data Visualization\n",
       "14              DevOps\n",
       "15              Django\n",
       "16              Docker\n",
       "17          Express.js\n",
       "18               Flask\n",
       "19                 Git\n",
       "20                  Go\n",
       "21               HTML5\n",
       "22                Java\n",
       "23          JavaScript\n",
       "24             Jenkins\n",
       "25              Kotlin\n",
       "26          Kubernetes\n",
       "27               Linux\n",
       "28    Machine Learning\n",
       "29             Node.js\n",
       "30                 PHP\n",
       "31              Pandas\n",
       "32            Power BI\n",
       "33  Project Management\n",
       "34             PyTorch"
      ]
     },
     "execution_count": 28,
     "metadata": {},
     "output_type": "execute_result"
    }
   ],
   "source": [
    "skills_df.head(35)"
   ]
  },
  {
   "cell_type": "markdown",
   "metadata": {
    "id": "IKWEZ7oy051q"
   },
   "source": [
    "## STOP STOP STOP - DO NOT PROCEED (YET)"
   ]
  },
  {
   "cell_type": "markdown",
   "metadata": {},
   "source": [
    "-- Only to be run by instructor (or if you have your own api key). Skip the following two cells -- "
   ]
  },
  {
   "cell_type": "code",
   "execution_count": 29,
   "metadata": {},
   "outputs": [],
   "source": [
    "# skills_df['embedding'] = skills_df['skill'].apply( lambda skill: embeddings.embed_documents([skill])[0])\n",
    "# skills_df.head()"
   ]
  },
  {
   "cell_type": "code",
   "execution_count": 30,
   "metadata": {},
   "outputs": [],
   "source": [
    "# gds.run_cypher('''\n",
    "#     unwind $data as row\n",
    "#     match (s:Skill{name: row.skill})\n",
    "#     set s.embedding = row.embedding\n",
    "#     ''',\n",
    "#     params = { 'data': skills_df.to_dict(orient='records') }\n",
    "# )"
   ]
  },
  {
   "cell_type": "code",
   "execution_count": 31,
   "metadata": {},
   "outputs": [
    {
     "data": {
      "text/html": [
       "<div>\n",
       "<style scoped>\n",
       "    .dataframe tbody tr th:only-of-type {\n",
       "        vertical-align: middle;\n",
       "    }\n",
       "\n",
       "    .dataframe tbody tr th {\n",
       "        vertical-align: top;\n",
       "    }\n",
       "\n",
       "    .dataframe thead th {\n",
       "        text-align: right;\n",
       "    }\n",
       "</style>\n",
       "<table border=\"1\" class=\"dataframe\">\n",
       "  <thead>\n",
       "    <tr style=\"text-align: right;\">\n",
       "      <th></th>\n",
       "      <th>Name</th>\n",
       "      <th>Embedding</th>\n",
       "    </tr>\n",
       "  </thead>\n",
       "  <tbody>\n",
       "    <tr>\n",
       "      <th>0</th>\n",
       "      <td>API Design</td>\n",
       "      <td>[0.002335607074201107, -0.021444285288453102, ...</td>\n",
       "    </tr>\n",
       "    <tr>\n",
       "      <th>1</th>\n",
       "      <td>AWS</td>\n",
       "      <td>[-0.004132895264774561, -0.017077714204788208,...</td>\n",
       "    </tr>\n",
       "    <tr>\n",
       "      <th>2</th>\n",
       "      <td>Agile</td>\n",
       "      <td>[-0.03577807545661926, -0.01052175834774971, -...</td>\n",
       "    </tr>\n",
       "    <tr>\n",
       "      <th>3</th>\n",
       "      <td>Angular</td>\n",
       "      <td>[-0.006358983926475048, 0.015042469836771488, ...</td>\n",
       "    </tr>\n",
       "    <tr>\n",
       "      <th>4</th>\n",
       "      <td>Azure</td>\n",
       "      <td>[0.00941519346088171, -0.026340041309595108, 0...</td>\n",
       "    </tr>\n",
       "  </tbody>\n",
       "</table>\n",
       "</div>"
      ],
      "text/plain": [
       "         Name                                          Embedding\n",
       "0  API Design  [0.002335607074201107, -0.021444285288453102, ...\n",
       "1         AWS  [-0.004132895264774561, -0.017077714204788208,...\n",
       "2       Agile  [-0.03577807545661926, -0.01052175834774971, -...\n",
       "3     Angular  [-0.006358983926475048, 0.015042469836771488, ...\n",
       "4       Azure  [0.00941519346088171, -0.026340041309595108, 0..."
      ]
     },
     "execution_count": 31,
     "metadata": {},
     "output_type": "execute_result"
    }
   ],
   "source": [
    "# Todo: Kristof, can you update this so it also has embeddings from text-embedding-ada-002\n",
    "skills_df = pd.read_csv('https://raw.githubusercontent.com/Kristof-Neys/Neo4j_demos/refs/heads/main/skills_embeddings.csv')\n",
    "skills_df['Embedding'] = skills_df['Embedding'].apply( lambda x: [ float(i) for i in x.strip(\"[]\").split(\", \")] )\n",
    "skills_df.head()"
   ]
  },
  {
   "cell_type": "markdown",
   "metadata": {
    "id": "-K7yLpGtZZ-W"
   },
   "source": [
    "Add embeddings to Skill nodes in database"
   ]
  },
  {
   "cell_type": "code",
   "execution_count": 32,
   "metadata": {
    "id": "-K7yLpGtZZ-W"
   },
   "outputs": [
    {
     "data": {
      "text/html": [
       "<div>\n",
       "<style scoped>\n",
       "    .dataframe tbody tr th:only-of-type {\n",
       "        vertical-align: middle;\n",
       "    }\n",
       "\n",
       "    .dataframe tbody tr th {\n",
       "        vertical-align: top;\n",
       "    }\n",
       "\n",
       "    .dataframe thead th {\n",
       "        text-align: right;\n",
       "    }\n",
       "</style>\n",
       "<table border=\"1\" class=\"dataframe\">\n",
       "  <thead>\n",
       "    <tr style=\"text-align: right;\">\n",
       "      <th></th>\n",
       "    </tr>\n",
       "  </thead>\n",
       "  <tbody>\n",
       "  </tbody>\n",
       "</table>\n",
       "</div>"
      ],
      "text/plain": [
       "Empty DataFrame\n",
       "Columns: []\n",
       "Index: []"
      ]
     },
     "execution_count": 32,
     "metadata": {},
     "output_type": "execute_result"
    }
   ],
   "source": [
    "gds.run_cypher(\n",
    "    \"\"\"\n",
    "    UNWIND $data AS row\n",
    "    MATCH (s:Skill{name: row.Name})\n",
    "    SET s.embedding = row.Embedding\n",
    "    \"\"\",\n",
    "    params = { 'data': skills_df.to_dict(orient='records') }\n",
    ")"
   ]
  },
  {
   "cell_type": "markdown",
   "metadata": {
    "id": "pH6V2MgzWpN_"
   },
   "source": [
    "# Let's use the Semantic Meaning to find similarities..."
   ]
  },
  {
   "cell_type": "code",
   "execution_count": 33,
   "metadata": {},
   "outputs": [],
   "source": [
    "graph_name = \"skill_embedding_projection\"\n",
    "node_projection = {\n",
    "        'Skill': {\"properties\": 'embedding'},\n",
    "    },\n",
    "rel_projection = [\"KNOWS\"]  # No rels will be projected, but we need to specify something here :)"
   ]
  },
  {
   "cell_type": "code",
   "execution_count": 34,
   "metadata": {},
   "outputs": [],
   "source": [
    "G, res = gds.graph.project(graph_name, node_projection, rel_projection)"
   ]
  },
  {
   "cell_type": "code",
   "execution_count": 35,
   "metadata": {},
   "outputs": [
    {
     "data": {
      "text/plain": [
       "nodeProjection            {'Skill': {'label': 'Skill', 'properties': {'e...\n",
       "relationshipProjection    {'KNOWS': {'aggregation': 'DEFAULT', 'orientat...\n",
       "graphName                                        skill_embedding_projection\n",
       "nodeCount                                                                54\n",
       "relationshipCount                                                         0\n",
       "projectMillis                                                            15\n",
       "Name: 0, dtype: object"
      ]
     },
     "execution_count": 35,
     "metadata": {},
     "output_type": "execute_result"
    }
   ],
   "source": [
    "res"
   ]
  },
  {
   "cell_type": "markdown",
   "metadata": {
    "id": "osF4pe6buMgJ"
   },
   "source": [
    "Running [K Nearest Neighbours](https://neo4j.com/docs/graph-data-science/current/algorithms/knn/) to find semantic similarities... "
   ]
  },
  {
   "cell_type": "code",
   "execution_count": 36,
   "metadata": {
    "id": "ZGwkZIuFQN-R"
   },
   "outputs": [
    {
     "data": {
      "text/plain": [
       "ranIterations                                                             6\n",
       "didConverge                                                            True\n",
       "nodePairsConsidered                                                    5257\n",
       "preProcessingMillis                                                       0\n",
       "computeMillis                                                            23\n",
       "writeMillis                                                              16\n",
       "postProcessingMillis                                                      0\n",
       "nodesCompared                                                            54\n",
       "relationshipsWritten                                                    162\n",
       "similarityDistribution    {'min': 0.9043693542480469, 'p5': 0.9083518981...\n",
       "configuration             {'writeProperty': 'sim_score', 'writeRelations...\n",
       "Name: 0, dtype: object"
      ]
     },
     "execution_count": 36,
     "metadata": {},
     "output_type": "execute_result"
    }
   ],
   "source": [
    "gds.knn.write(\n",
    "    G,\n",
    "    nodeLabels=['Skill'],\n",
    "    nodeProperties=['embedding'],\n",
    "    topK=3,\n",
    "    writeRelationshipType='SIMILAR_SEMANTIC',\n",
    "    writeProperty='sim_score'\n",
    ")"
   ]
  },
  {
   "cell_type": "markdown",
   "metadata": {},
   "source": [
    "Remove symmetric relationships"
   ]
  },
  {
   "cell_type": "code",
   "execution_count": 37,
   "metadata": {
    "id": "ZGwkZIuFQN-R"
   },
   "outputs": [
    {
     "data": {
      "text/html": [
       "<div>\n",
       "<style scoped>\n",
       "    .dataframe tbody tr th:only-of-type {\n",
       "        vertical-align: middle;\n",
       "    }\n",
       "\n",
       "    .dataframe tbody tr th {\n",
       "        vertical-align: top;\n",
       "    }\n",
       "\n",
       "    .dataframe thead th {\n",
       "        text-align: right;\n",
       "    }\n",
       "</style>\n",
       "<table border=\"1\" class=\"dataframe\">\n",
       "  <thead>\n",
       "    <tr style=\"text-align: right;\">\n",
       "      <th></th>\n",
       "    </tr>\n",
       "  </thead>\n",
       "  <tbody>\n",
       "  </tbody>\n",
       "</table>\n",
       "</div>"
      ],
      "text/plain": [
       "Empty DataFrame\n",
       "Columns: []\n",
       "Index: []"
      ]
     },
     "execution_count": 37,
     "metadata": {},
     "output_type": "execute_result"
    }
   ],
   "source": [
    "gds.run_cypher(\n",
    "    \"\"\"\n",
    "    MATCH (a:Skill)-[r:SIMILAR_SEMANTIC]->(b:Skill)\n",
    "    WHERE EXISTS {(b)-[:SIMILAR_SEMANTIC]->(a)} AND a<b\n",
    "    DELETE r\n",
    "    \"\"\"  \n",
    ")"
   ]
  },
  {
   "cell_type": "markdown",
   "metadata": {
    "id": "Ld-iLMVIwlnh"
   },
   "source": [
    "Let's review"
   ]
  },
  {
   "cell_type": "code",
   "execution_count": 38,
   "metadata": {
    "id": "Ld-iLMVIwlnh"
   },
   "outputs": [],
   "source": [
    "similar_skills_df = gds.run_cypher(\n",
    "    \"\"\"\n",
    "    MATCH (s:Skill)-[r:SIMILAR_SEMANTIC]-(s2)\n",
    "    RETURN s.name as skill, r.sim_score as score, s2.name as to_skill\n",
    "    ORDER by skill asc, score desc\n",
    "    \"\"\"\n",
    ")"
   ]
  },
  {
   "cell_type": "code",
   "execution_count": 39,
   "metadata": {},
   "outputs": [
    {
     "data": {
      "text/html": [
       "<div>\n",
       "<style scoped>\n",
       "    .dataframe tbody tr th:only-of-type {\n",
       "        vertical-align: middle;\n",
       "    }\n",
       "\n",
       "    .dataframe tbody tr th {\n",
       "        vertical-align: top;\n",
       "    }\n",
       "\n",
       "    .dataframe thead th {\n",
       "        text-align: right;\n",
       "    }\n",
       "</style>\n",
       "<table border=\"1\" class=\"dataframe\">\n",
       "  <thead>\n",
       "    <tr style=\"text-align: right;\">\n",
       "      <th></th>\n",
       "      <th>skill</th>\n",
       "      <th>score</th>\n",
       "      <th>to_skill</th>\n",
       "    </tr>\n",
       "  </thead>\n",
       "  <tbody>\n",
       "    <tr>\n",
       "      <th>0</th>\n",
       "      <td>API Design</td>\n",
       "      <td>0.922208</td>\n",
       "      <td>System Design</td>\n",
       "    </tr>\n",
       "    <tr>\n",
       "      <th>1</th>\n",
       "      <td>API Design</td>\n",
       "      <td>0.908355</td>\n",
       "      <td>Project Management</td>\n",
       "    </tr>\n",
       "    <tr>\n",
       "      <th>2</th>\n",
       "      <td>API Design</td>\n",
       "      <td>0.907156</td>\n",
       "      <td>Express.js</td>\n",
       "    </tr>\n",
       "    <tr>\n",
       "      <th>3</th>\n",
       "      <td>AWS</td>\n",
       "      <td>0.950841</td>\n",
       "      <td>Azure</td>\n",
       "    </tr>\n",
       "    <tr>\n",
       "      <th>4</th>\n",
       "      <td>AWS</td>\n",
       "      <td>0.911699</td>\n",
       "      <td>WordPress</td>\n",
       "    </tr>\n",
       "    <tr>\n",
       "      <th>5</th>\n",
       "      <td>AWS</td>\n",
       "      <td>0.911006</td>\n",
       "      <td>SQL</td>\n",
       "    </tr>\n",
       "    <tr>\n",
       "      <th>6</th>\n",
       "      <td>Agile</td>\n",
       "      <td>0.951504</td>\n",
       "      <td>Scrum</td>\n",
       "    </tr>\n",
       "    <tr>\n",
       "      <th>7</th>\n",
       "      <td>Agile</td>\n",
       "      <td>0.921550</td>\n",
       "      <td>Project Management</td>\n",
       "    </tr>\n",
       "    <tr>\n",
       "      <th>8</th>\n",
       "      <td>Agile</td>\n",
       "      <td>0.920712</td>\n",
       "      <td>Angular</td>\n",
       "    </tr>\n",
       "    <tr>\n",
       "      <th>9</th>\n",
       "      <td>Angular</td>\n",
       "      <td>0.925686</td>\n",
       "      <td>Azure</td>\n",
       "    </tr>\n",
       "    <tr>\n",
       "      <th>10</th>\n",
       "      <td>Angular</td>\n",
       "      <td>0.923197</td>\n",
       "      <td>Scala</td>\n",
       "    </tr>\n",
       "    <tr>\n",
       "      <th>11</th>\n",
       "      <td>Angular</td>\n",
       "      <td>0.920712</td>\n",
       "      <td>Agile</td>\n",
       "    </tr>\n",
       "    <tr>\n",
       "      <th>12</th>\n",
       "      <td>Azure</td>\n",
       "      <td>0.950841</td>\n",
       "      <td>AWS</td>\n",
       "    </tr>\n",
       "    <tr>\n",
       "      <th>13</th>\n",
       "      <td>Azure</td>\n",
       "      <td>0.927645</td>\n",
       "      <td>Spark</td>\n",
       "    </tr>\n",
       "    <tr>\n",
       "      <th>14</th>\n",
       "      <td>Azure</td>\n",
       "      <td>0.927050</td>\n",
       "      <td>Swift</td>\n",
       "    </tr>\n",
       "  </tbody>\n",
       "</table>\n",
       "</div>"
      ],
      "text/plain": [
       "         skill     score            to_skill\n",
       "0   API Design  0.922208       System Design\n",
       "1   API Design  0.908355  Project Management\n",
       "2   API Design  0.907156          Express.js\n",
       "3          AWS  0.950841               Azure\n",
       "4          AWS  0.911699           WordPress\n",
       "5          AWS  0.911006                 SQL\n",
       "6        Agile  0.951504               Scrum\n",
       "7        Agile  0.921550  Project Management\n",
       "8        Agile  0.920712             Angular\n",
       "9      Angular  0.925686               Azure\n",
       "10     Angular  0.923197               Scala\n",
       "11     Angular  0.920712               Agile\n",
       "12       Azure  0.950841                 AWS\n",
       "13       Azure  0.927645               Spark\n",
       "14       Azure  0.927050               Swift"
      ]
     },
     "execution_count": 39,
     "metadata": {},
     "output_type": "execute_result"
    }
   ],
   "source": [
    "similar_skills_df.head(15)"
   ]
  },
  {
   "cell_type": "markdown",
   "metadata": {
    "id": "ou3S9jeJMV0A"
   },
   "source": [
    "Drop the projection from the graph catalogue to free up resources"
   ]
  },
  {
   "cell_type": "code",
   "execution_count": 40,
   "metadata": {
    "id": "ou3S9jeJMV0A"
   },
   "outputs": [
    {
     "data": {
      "text/plain": [
       "graphName                                       skill_embedding_projection\n",
       "database                                                             neo4j\n",
       "databaseLocation                                                     local\n",
       "memoryUsage                                                               \n",
       "sizeInBytes                                                             -1\n",
       "nodeCount                                                               54\n",
       "relationshipCount                                                        0\n",
       "configuration            {'relationshipProjection': {'KNOWS': {'aggrega...\n",
       "density                                                                0.0\n",
       "creationTime                           2025-03-08T08:38:13.948292580+00:00\n",
       "modificationTime                       2025-03-08T08:38:13.948292580+00:00\n",
       "schema                   {'graphProperties': {}, 'nodes': {'Skill': {'e...\n",
       "schemaWithOrientation    {'graphProperties': {}, 'nodes': {'Skill': {'e...\n",
       "Name: 0, dtype: object"
      ]
     },
     "execution_count": 40,
     "metadata": {},
     "output_type": "execute_result"
    }
   ],
   "source": [
    "G.drop()"
   ]
  },
  {
   "cell_type": "markdown",
   "metadata": {
    "id": "HHo6ciC_u4aS"
   },
   "source": [
    "### Graph Feature Engineering"
   ]
  },
  {
   "cell_type": "markdown",
   "metadata": {},
   "source": [
    "Let's do some \"Graph Feature Engineering\" - learn from our connected data..."
   ]
  },
  {
   "cell_type": "code",
   "execution_count": 41,
   "metadata": {},
   "outputs": [],
   "source": [
    "graph_name = 'skill_BetW_projection'\n",
    "node_projection = ['Skill']\n",
    "rel_projection =  {'SIMILAR_SEMANTIC':{'orientation': 'NATURAL'}}"
   ]
  },
  {
   "cell_type": "code",
   "execution_count": 42,
   "metadata": {
    "id": "sIqScNSZZbxT"
   },
   "outputs": [],
   "source": [
    "G, res = gds.graph.project(graph_name, node_projection, rel_projection)"
   ]
  },
  {
   "cell_type": "code",
   "execution_count": 43,
   "metadata": {
    "id": "XTv0qCSgYnmJ"
   },
   "outputs": [],
   "source": [
    "BetWresult = gds.betweenness.write(\n",
    "    G,\n",
    "    writeProperty='betweenness'\n",
    ")"
   ]
  },
  {
   "cell_type": "code",
   "execution_count": 44,
   "metadata": {
    "id": "XTv0qCSgYnmJ"
   },
   "outputs": [
    {
     "data": {
      "text/plain": [
       "nodePropertiesWritten                                                    54\n",
       "writeMillis                                                               2\n",
       "centralityDistribution    {'min': 0.0, 'max': 108.50048828124999, 'p90':...\n",
       "postProcessingMillis                                                     10\n",
       "preProcessingMillis                                                       0\n",
       "computeMillis                                                             3\n",
       "configuration             {'writeProperty': 'betweenness', 'jobId': '21e...\n",
       "Name: 0, dtype: object"
      ]
     },
     "execution_count": 44,
     "metadata": {},
     "output_type": "execute_result"
    }
   ],
   "source": [
    "BetWresult"
   ]
  },
  {
   "cell_type": "code",
   "execution_count": 45,
   "metadata": {
    "id": "dnocyEKdiaUS"
   },
   "outputs": [
    {
     "data": {
      "text/plain": [
       "graphName                                            skill_BetW_projection\n",
       "database                                                             neo4j\n",
       "databaseLocation                                                     local\n",
       "memoryUsage                                                               \n",
       "sizeInBytes                                                             -1\n",
       "nodeCount                                                               54\n",
       "relationshipCount                                                      122\n",
       "configuration            {'relationshipProjection': {'SIMILAR_SEMANTIC'...\n",
       "density                                                           0.042628\n",
       "creationTime                           2025-03-08T08:38:14.480173251+00:00\n",
       "modificationTime                       2025-03-08T08:38:14.480173251+00:00\n",
       "schema                   {'graphProperties': {}, 'nodes': {'Skill': {}}...\n",
       "schemaWithOrientation    {'graphProperties': {}, 'nodes': {'Skill': {}}...\n",
       "Name: 0, dtype: object"
      ]
     },
     "execution_count": 45,
     "metadata": {},
     "output_type": "execute_result"
    }
   ],
   "source": [
    "G.drop()"
   ]
  },
  {
   "cell_type": "code",
   "execution_count": 46,
   "metadata": {
    "id": "JAwhe45TiaZC"
   },
   "outputs": [],
   "source": [
    "bridge_skill = gds.run_cypher(\n",
    "    \"\"\"\n",
    "    MATCH (s:Skill)\n",
    "    RETURN s.name AS skill, s.betweenness AS betweenness\n",
    "    ORDER BY betweenness DESC\n",
    "    \"\"\"\n",
    ")"
   ]
  },
  {
   "cell_type": "code",
   "execution_count": 47,
   "metadata": {
    "id": "JAwhe45TiaZC"
   },
   "outputs": [
    {
     "data": {
      "text/html": [
       "<div>\n",
       "<style scoped>\n",
       "    .dataframe tbody tr th:only-of-type {\n",
       "        vertical-align: middle;\n",
       "    }\n",
       "\n",
       "    .dataframe tbody tr th {\n",
       "        vertical-align: top;\n",
       "    }\n",
       "\n",
       "    .dataframe thead th {\n",
       "        text-align: right;\n",
       "    }\n",
       "</style>\n",
       "<table border=\"1\" class=\"dataframe\">\n",
       "  <thead>\n",
       "    <tr style=\"text-align: right;\">\n",
       "      <th></th>\n",
       "      <th>skill</th>\n",
       "      <th>betweenness</th>\n",
       "    </tr>\n",
       "  </thead>\n",
       "  <tbody>\n",
       "    <tr>\n",
       "      <th>0</th>\n",
       "      <td>Java</td>\n",
       "      <td>108.500000</td>\n",
       "    </tr>\n",
       "    <tr>\n",
       "      <th>1</th>\n",
       "      <td>SQL</td>\n",
       "      <td>90.833333</td>\n",
       "    </tr>\n",
       "    <tr>\n",
       "      <th>2</th>\n",
       "      <td>Tableau</td>\n",
       "      <td>79.000000</td>\n",
       "    </tr>\n",
       "    <tr>\n",
       "      <th>3</th>\n",
       "      <td>Data Visualization</td>\n",
       "      <td>76.000000</td>\n",
       "    </tr>\n",
       "    <tr>\n",
       "      <th>4</th>\n",
       "      <td>Linux</td>\n",
       "      <td>73.500000</td>\n",
       "    </tr>\n",
       "    <tr>\n",
       "      <th>5</th>\n",
       "      <td>Power BI</td>\n",
       "      <td>73.000000</td>\n",
       "    </tr>\n",
       "    <tr>\n",
       "      <th>6</th>\n",
       "      <td>Swift</td>\n",
       "      <td>73.000000</td>\n",
       "    </tr>\n",
       "    <tr>\n",
       "      <th>7</th>\n",
       "      <td>Machine Learning</td>\n",
       "      <td>63.000000</td>\n",
       "    </tr>\n",
       "    <tr>\n",
       "      <th>8</th>\n",
       "      <td>Data Analysis</td>\n",
       "      <td>48.000000</td>\n",
       "    </tr>\n",
       "    <tr>\n",
       "      <th>9</th>\n",
       "      <td>Scala</td>\n",
       "      <td>34.000000</td>\n",
       "    </tr>\n",
       "  </tbody>\n",
       "</table>\n",
       "</div>"
      ],
      "text/plain": [
       "                skill  betweenness\n",
       "0                Java   108.500000\n",
       "1                 SQL    90.833333\n",
       "2             Tableau    79.000000\n",
       "3  Data Visualization    76.000000\n",
       "4               Linux    73.500000\n",
       "5            Power BI    73.000000\n",
       "6               Swift    73.000000\n",
       "7    Machine Learning    63.000000\n",
       "8       Data Analysis    48.000000\n",
       "9               Scala    34.000000"
      ]
     },
     "execution_count": 47,
     "metadata": {},
     "output_type": "execute_result"
    }
   ],
   "source": [
    "bridge_skill.head(10)"
   ]
  },
  {
   "cell_type": "markdown",
   "metadata": {
    "id": "lDW645yEwyWK"
   },
   "source": [
    "Wait! - and I can vectorise my Graph as well....?*"
   ]
  },
  {
   "cell_type": "code",
   "execution_count": 48,
   "metadata": {
    "id": "lDW645yEwyWK"
   },
   "outputs": [],
   "source": [
    "graph_name = 'Person_projection'\n",
    "node_projection = ['Person']\n",
    "rel_projection =  {'SIMILAR_SKILLSET': {'orientation': 'UNDIRECTED'}}"
   ]
  },
  {
   "cell_type": "code",
   "execution_count": 49,
   "metadata": {
    "id": "EabO2aSjqfli"
   },
   "outputs": [],
   "source": [
    "G, res = gds.graph.project(graph_name, node_projection, rel_projection)"
   ]
  },
  {
   "cell_type": "markdown",
   "metadata": {
    "id": "iiyF8MvgxCJ4"
   },
   "source": [
    "Running a node embedding in a few lines..."
   ]
  },
  {
   "cell_type": "code",
   "execution_count": 50,
   "metadata": {
    "id": "FItlLzKqpyp0"
   },
   "outputs": [],
   "source": [
    "fastrp_res =  gds.fastRP.write(\n",
    "    G,\n",
    "    embeddingDimension = 128,\n",
    "    iterationWeights = [0, 0, 1.0, 1.0],\n",
    "    normalizationStrength = 0.05,\n",
    "    writeProperty = \"fastRP_Embedding\",\n",
    "    randomSeed = 42\n",
    ")"
   ]
  },
  {
   "cell_type": "markdown",
   "metadata": {
    "id": "Z-CckwYCtIO6"
   },
   "source": [
    "Adding it now to memory for some more computations"
   ]
  },
  {
   "cell_type": "code",
   "execution_count": 51,
   "metadata": {
    "id": "Z-CckwYCtIO6"
   },
   "outputs": [],
   "source": [
    "fastrp_res =  gds.fastRP.mutate(\n",
    "    G,\n",
    "    embeddingDimension = 128,\n",
    "    iterationWeights = [0, 0, 1.0, 1.0],\n",
    "    normalizationStrength = 0.05,\n",
    "    mutateProperty = \"fastRP_Embedding\",\n",
    "    randomSeed = 42\n",
    ")"
   ]
  },
  {
   "cell_type": "markdown",
   "metadata": {
    "id": "l5tYbOTZxfk8"
   },
   "source": [
    "Finding clusters based on their structural and specific attributes..."
   ]
  },
  {
   "cell_type": "code",
   "execution_count": 52,
   "metadata": {
    "id": "lC9W17F01l3_"
   },
   "outputs": [],
   "source": [
    "kmeans_result = gds.kmeans.write(\n",
    "    G,\n",
    "    nodeProperty = 'fastRP_Embedding',\n",
    "    k = 5,\n",
    "    writeProperty = 'kmeans5_cluster',\n",
    "    randomSeed = 42,\n",
    "    maxIterations = 100\n",
    ")"
   ]
  },
  {
   "cell_type": "code",
   "execution_count": 53,
   "metadata": {},
   "outputs": [
    {
     "data": {
      "text/plain": [
       "graphName                                                Person_projection\n",
       "database                                                             neo4j\n",
       "databaseLocation                                                     local\n",
       "memoryUsage                                                               \n",
       "sizeInBytes                                                             -1\n",
       "nodeCount                                                               97\n",
       "relationshipCount                                                      404\n",
       "configuration            {'relationshipProjection': {'SIMILAR_SKILLSET'...\n",
       "density                                                           0.043385\n",
       "creationTime                           2025-03-08T08:38:14.948947705+00:00\n",
       "modificationTime                       2025-03-08T08:38:15.127744650+00:00\n",
       "schema                   {'graphProperties': {}, 'nodes': {'Person': {'...\n",
       "schemaWithOrientation    {'graphProperties': {}, 'nodes': {'Person': {'...\n",
       "Name: 0, dtype: object"
      ]
     },
     "execution_count": 53,
     "metadata": {},
     "output_type": "execute_result"
    }
   ],
   "source": [
    "G.drop()"
   ]
  },
  {
   "cell_type": "code",
   "execution_count": 54,
   "metadata": {
    "id": "TycqLXOx1li6"
   },
   "outputs": [],
   "source": [
    "skill_teams = gds.run_cypher(\n",
    "    \"\"\"\n",
    "    MATCH (n) WHERE (n.kmeans5_cluster) IS NOT NULL\n",
    "    RETURN n.kmeans5_cluster AS Team, collect(n.name) AS Team_members\n",
    "    \"\"\"\n",
    ")"
   ]
  },
  {
   "cell_type": "code",
   "execution_count": 55,
   "metadata": {
    "id": "TycqLXOx1li6"
   },
   "outputs": [
    {
     "data": {
      "text/html": [
       "<div>\n",
       "<style scoped>\n",
       "    .dataframe tbody tr th:only-of-type {\n",
       "        vertical-align: middle;\n",
       "    }\n",
       "\n",
       "    .dataframe tbody tr th {\n",
       "        vertical-align: top;\n",
       "    }\n",
       "\n",
       "    .dataframe thead th {\n",
       "        text-align: right;\n",
       "    }\n",
       "</style>\n",
       "<table border=\"1\" class=\"dataframe\">\n",
       "  <thead>\n",
       "    <tr style=\"text-align: right;\">\n",
       "      <th></th>\n",
       "      <th>Team</th>\n",
       "      <th>Team_members</th>\n",
       "    </tr>\n",
       "  </thead>\n",
       "  <tbody>\n",
       "    <tr>\n",
       "      <th>0</th>\n",
       "      <td>3</td>\n",
       "      <td>[Thomas Nelson, Lucy Clark, Elena Young, Sophi...</td>\n",
       "    </tr>\n",
       "    <tr>\n",
       "      <th>1</th>\n",
       "      <td>1</td>\n",
       "      <td>[Richard Jackson, Amelia Hall, David Hill, Dan...</td>\n",
       "    </tr>\n",
       "    <tr>\n",
       "      <th>2</th>\n",
       "      <td>0</td>\n",
       "      <td>[Christopher Johnson, Joseph Lopez, Victoria T...</td>\n",
       "    </tr>\n",
       "    <tr>\n",
       "      <th>3</th>\n",
       "      <td>4</td>\n",
       "      <td>[Amelia Martin, Lucy Turner, Joshua Lopez, Bri...</td>\n",
       "    </tr>\n",
       "    <tr>\n",
       "      <th>4</th>\n",
       "      <td>2</td>\n",
       "      <td>[Isabella Jones, Ryan Nelson, Matthew Miller, ...</td>\n",
       "    </tr>\n",
       "  </tbody>\n",
       "</table>\n",
       "</div>"
      ],
      "text/plain": [
       "   Team                                       Team_members\n",
       "0     3  [Thomas Nelson, Lucy Clark, Elena Young, Sophi...\n",
       "1     1  [Richard Jackson, Amelia Hall, David Hill, Dan...\n",
       "2     0  [Christopher Johnson, Joseph Lopez, Victoria T...\n",
       "3     4  [Amelia Martin, Lucy Turner, Joshua Lopez, Bri...\n",
       "4     2  [Isabella Jones, Ryan Nelson, Matthew Miller, ..."
      ]
     },
     "execution_count": 55,
     "metadata": {},
     "output_type": "execute_result"
    }
   ],
   "source": [
    "skill_teams.head(6)"
   ]
  }
 ],
 "metadata": {
  "colab": {
   "provenance": []
  },
  "kernelspec": {
   "display_name": "Python 3 (ipykernel)",
   "language": "python",
   "name": "python3"
  },
  "language_info": {
   "codemirror_mode": {
    "name": "ipython",
    "version": 3
   },
   "file_extension": ".py",
   "mimetype": "text/x-python",
   "name": "python",
   "nbconvert_exporter": "python",
   "pygments_lexer": "ipython3",
   "version": "3.11.5"
  }
 },
 "nbformat": 4,
 "nbformat_minor": 4
}
