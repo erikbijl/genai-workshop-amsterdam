{
 "cells": [
  {
   "cell_type": "markdown",
   "metadata": {},
   "source": [
    "# Module 1: Structured Data \n",
    "\n",
    "This module has the following objectives:\n",
    "- Creating a graph from structured data input\n",
    "- Basic graph algorithms\n",
    "- Text embeddings for semantic analysis\n",
    "- Feature engineering\n",
    "- Node embeddings"
   ]
  },
  {
   "cell_type": "code",
   "execution_count": 1,
   "metadata": {
    "id": "FHKg4DVZiQ98"
   },
   "outputs": [
    {
     "name": "stdout",
     "output_type": "stream",
     "text": [
      "Requirement already satisfied: graphdatascience in /Users/erikbijl/anaconda3/lib/python3.11/site-packages (1.13)\n",
      "Requirement already satisfied: neo4j in /Users/erikbijl/anaconda3/lib/python3.11/site-packages (5.28.1)\n",
      "Requirement already satisfied: dotenv in /Users/erikbijl/anaconda3/lib/python3.11/site-packages (0.9.9)\n",
      "Requirement already satisfied: langchain in /Users/erikbijl/anaconda3/lib/python3.11/site-packages (0.3.17)\n",
      "Requirement already satisfied: langchain_openai in /Users/erikbijl/anaconda3/lib/python3.11/site-packages (0.3.3)\n",
      "Requirement already satisfied: multimethod<2.0,>=1.0 in /Users/erikbijl/anaconda3/lib/python3.11/site-packages (from graphdatascience) (1.12)\n",
      "Requirement already satisfied: numpy<2.0 in /Users/erikbijl/anaconda3/lib/python3.11/site-packages (from graphdatascience) (1.26.4)\n",
      "Requirement already satisfied: pandas<3.0,>=1.0 in /Users/erikbijl/anaconda3/lib/python3.11/site-packages (from graphdatascience) (2.2.1)\n",
      "Requirement already satisfied: pyarrow<19.0,>=15.0.2 in /Users/erikbijl/anaconda3/lib/python3.11/site-packages (from graphdatascience) (18.1.0)\n",
      "Requirement already satisfied: textdistance<5.0,>=4.0 in /Users/erikbijl/anaconda3/lib/python3.11/site-packages (from graphdatascience) (4.2.1)\n",
      "Requirement already satisfied: tqdm<5.0,>=4.0 in /Users/erikbijl/anaconda3/lib/python3.11/site-packages (from graphdatascience) (4.66.4)\n",
      "Requirement already satisfied: typing-extensions<5.0,>=4.0 in /Users/erikbijl/anaconda3/lib/python3.11/site-packages (from graphdatascience) (4.11.0)\n",
      "Requirement already satisfied: requests in /Users/erikbijl/anaconda3/lib/python3.11/site-packages (from graphdatascience) (2.32.2)\n",
      "Requirement already satisfied: tenacity>=9.0 in /Users/erikbijl/anaconda3/lib/python3.11/site-packages (from graphdatascience) (9.0.0)\n",
      "Requirement already satisfied: pytz in /Users/erikbijl/anaconda3/lib/python3.11/site-packages (from neo4j) (2024.1)\n",
      "Requirement already satisfied: python-dotenv in /Users/erikbijl/anaconda3/lib/python3.11/site-packages (from dotenv) (0.21.0)\n",
      "Requirement already satisfied: PyYAML>=5.3 in /Users/erikbijl/anaconda3/lib/python3.11/site-packages (from langchain) (6.0.1)\n",
      "Requirement already satisfied: SQLAlchemy<3,>=1.4 in /Users/erikbijl/anaconda3/lib/python3.11/site-packages (from langchain) (2.0.25)\n",
      "Requirement already satisfied: aiohttp<4.0.0,>=3.8.3 in /Users/erikbijl/anaconda3/lib/python3.11/site-packages (from langchain) (3.9.5)\n",
      "Requirement already satisfied: langchain-core<0.4.0,>=0.3.33 in /Users/erikbijl/anaconda3/lib/python3.11/site-packages (from langchain) (0.3.33)\n",
      "Requirement already satisfied: langchain-text-splitters<0.4.0,>=0.3.3 in /Users/erikbijl/anaconda3/lib/python3.11/site-packages (from langchain) (0.3.5)\n",
      "Requirement already satisfied: langsmith<0.4,>=0.1.17 in /Users/erikbijl/anaconda3/lib/python3.11/site-packages (from langchain) (0.1.139)\n",
      "Requirement already satisfied: pydantic<3.0.0,>=2.7.4 in /Users/erikbijl/anaconda3/lib/python3.11/site-packages (from langchain) (2.9.2)\n",
      "Requirement already satisfied: openai<2.0.0,>=1.58.1 in /Users/erikbijl/anaconda3/lib/python3.11/site-packages (from langchain_openai) (1.61.0)\n",
      "Requirement already satisfied: tiktoken<1,>=0.7 in /Users/erikbijl/anaconda3/lib/python3.11/site-packages (from langchain_openai) (0.8.0)\n",
      "Requirement already satisfied: aiosignal>=1.1.2 in /Users/erikbijl/anaconda3/lib/python3.11/site-packages (from aiohttp<4.0.0,>=3.8.3->langchain) (1.2.0)\n",
      "Requirement already satisfied: attrs>=17.3.0 in /Users/erikbijl/anaconda3/lib/python3.11/site-packages (from aiohttp<4.0.0,>=3.8.3->langchain) (23.1.0)\n",
      "Requirement already satisfied: frozenlist>=1.1.1 in /Users/erikbijl/anaconda3/lib/python3.11/site-packages (from aiohttp<4.0.0,>=3.8.3->langchain) (1.4.0)\n",
      "Requirement already satisfied: multidict<7.0,>=4.5 in /Users/erikbijl/anaconda3/lib/python3.11/site-packages (from aiohttp<4.0.0,>=3.8.3->langchain) (6.0.4)\n",
      "Requirement already satisfied: yarl<2.0,>=1.0 in /Users/erikbijl/anaconda3/lib/python3.11/site-packages (from aiohttp<4.0.0,>=3.8.3->langchain) (1.9.3)\n",
      "Requirement already satisfied: jsonpatch<2.0,>=1.33 in /Users/erikbijl/anaconda3/lib/python3.11/site-packages (from langchain-core<0.4.0,>=0.3.33->langchain) (1.33)\n",
      "Requirement already satisfied: packaging<25,>=23.2 in /Users/erikbijl/anaconda3/lib/python3.11/site-packages (from langchain-core<0.4.0,>=0.3.33->langchain) (23.2)\n",
      "Requirement already satisfied: httpx<1,>=0.23.0 in /Users/erikbijl/anaconda3/lib/python3.11/site-packages (from langsmith<0.4,>=0.1.17->langchain) (0.27.2)\n",
      "Requirement already satisfied: orjson<4.0.0,>=3.9.14 in /Users/erikbijl/anaconda3/lib/python3.11/site-packages (from langsmith<0.4,>=0.1.17->langchain) (3.10.11)\n",
      "Requirement already satisfied: requests-toolbelt<2.0.0,>=1.0.0 in /Users/erikbijl/anaconda3/lib/python3.11/site-packages (from langsmith<0.4,>=0.1.17->langchain) (1.0.0)\n",
      "Requirement already satisfied: anyio<5,>=3.5.0 in /Users/erikbijl/anaconda3/lib/python3.11/site-packages (from openai<2.0.0,>=1.58.1->langchain_openai) (4.2.0)\n",
      "Requirement already satisfied: distro<2,>=1.7.0 in /Users/erikbijl/anaconda3/lib/python3.11/site-packages (from openai<2.0.0,>=1.58.1->langchain_openai) (1.9.0)\n",
      "Requirement already satisfied: jiter<1,>=0.4.0 in /Users/erikbijl/anaconda3/lib/python3.11/site-packages (from openai<2.0.0,>=1.58.1->langchain_openai) (0.7.0)\n",
      "Requirement already satisfied: sniffio in /Users/erikbijl/anaconda3/lib/python3.11/site-packages (from openai<2.0.0,>=1.58.1->langchain_openai) (1.3.0)\n",
      "Requirement already satisfied: python-dateutil>=2.8.2 in /Users/erikbijl/anaconda3/lib/python3.11/site-packages (from pandas<3.0,>=1.0->graphdatascience) (2.9.0.post0)\n",
      "Requirement already satisfied: tzdata>=2022.7 in /Users/erikbijl/anaconda3/lib/python3.11/site-packages (from pandas<3.0,>=1.0->graphdatascience) (2023.3)\n",
      "Requirement already satisfied: annotated-types>=0.6.0 in /Users/erikbijl/anaconda3/lib/python3.11/site-packages (from pydantic<3.0.0,>=2.7.4->langchain) (0.6.0)\n",
      "Requirement already satisfied: pydantic-core==2.23.4 in /Users/erikbijl/anaconda3/lib/python3.11/site-packages (from pydantic<3.0.0,>=2.7.4->langchain) (2.23.4)\n",
      "Requirement already satisfied: charset-normalizer<4,>=2 in /Users/erikbijl/anaconda3/lib/python3.11/site-packages (from requests->graphdatascience) (2.0.4)\n",
      "Requirement already satisfied: idna<4,>=2.5 in /Users/erikbijl/anaconda3/lib/python3.11/site-packages (from requests->graphdatascience) (3.7)\n",
      "Requirement already satisfied: urllib3<3,>=1.21.1 in /Users/erikbijl/anaconda3/lib/python3.11/site-packages (from requests->graphdatascience) (2.2.1)\n",
      "Requirement already satisfied: certifi>=2017.4.17 in /Users/erikbijl/anaconda3/lib/python3.11/site-packages (from requests->graphdatascience) (2024.2.2)\n",
      "Requirement already satisfied: regex>=2022.1.18 in /Users/erikbijl/anaconda3/lib/python3.11/site-packages (from tiktoken<1,>=0.7->langchain_openai) (2023.10.3)\n",
      "Requirement already satisfied: httpcore==1.* in /Users/erikbijl/anaconda3/lib/python3.11/site-packages (from httpx<1,>=0.23.0->langsmith<0.4,>=0.1.17->langchain) (1.0.6)\n",
      "Requirement already satisfied: h11<0.15,>=0.13 in /Users/erikbijl/anaconda3/lib/python3.11/site-packages (from httpcore==1.*->httpx<1,>=0.23.0->langsmith<0.4,>=0.1.17->langchain) (0.14.0)\n",
      "Requirement already satisfied: jsonpointer>=1.9 in /Users/erikbijl/anaconda3/lib/python3.11/site-packages (from jsonpatch<2.0,>=1.33->langchain-core<0.4.0,>=0.3.33->langchain) (2.1)\n",
      "Requirement already satisfied: six>=1.5 in /Users/erikbijl/anaconda3/lib/python3.11/site-packages (from python-dateutil>=2.8.2->pandas<3.0,>=1.0->graphdatascience) (1.16.0)\n"
     ]
    }
   ],
   "source": [
    "!pip install graphdatascience neo4j dotenv langchain langchain_openai"
   ]
  },
  {
   "cell_type": "markdown",
   "metadata": {},
   "source": [
    "Import our usual suspects (and some more...)"
   ]
  },
  {
   "cell_type": "code",
   "execution_count": 2,
   "metadata": {},
   "outputs": [],
   "source": [
    "import os\n",
    "import pandas as pd\n",
    "from dotenv import load_dotenv\n",
    "from graphdatascience import GraphDataScience\n",
    "from neo4j import Query, GraphDatabase, RoutingControl, Result\n",
    "from langchain_openai import OpenAIEmbeddings, ChatOpenAI\n",
    "from langchain_core.prompts import ChatPromptTemplate\n",
    "from langchain_core.output_parsers import StrOutputParser"
   ]
  },
  {
   "cell_type": "markdown",
   "metadata": {
    "id": "ynPe6RLRWSKd"
   },
   "source": [
    "## Setup"
   ]
  },
  {
   "cell_type": "markdown",
   "metadata": {
    "id": "pa61u1jfyk3t"
   },
   "source": [
    "Load env variables"
   ]
  },
  {
   "cell_type": "code",
   "execution_count": 3,
   "metadata": {},
   "outputs": [],
   "source": [
    "env_file = 'ws.env'"
   ]
  },
  {
   "cell_type": "code",
   "execution_count": 4,
   "metadata": {},
   "outputs": [],
   "source": [
    "if os.path.exists(env_file):\n",
    "    load_dotenv(env_file, override=True)\n",
    "\n",
    "    # Neo4j\n",
    "    HOST = os.getenv('NEO4J_URI')\n",
    "    USERNAME = os.getenv('NEO4J_USERNAME')\n",
    "    PASSWORD = os.getenv('NEO4J_PASSWORD')\n",
    "    DATABASE = os.getenv('NEO4J_DATABASE')\n",
    "\n",
    "    # AI\n",
    "    OPENAI_API_KEY = os.getenv('OPENAI_API_KEY')\n",
    "    os.environ['OPENAI_API_KEY']=OPENAI_API_KEY\n",
    "    LLM = os.getenv('LLM')\n",
    "else:\n",
    "    print(f\"File {env_file} not found.\")"
   ]
  },
  {
   "cell_type": "markdown",
   "metadata": {
    "id": "0OMlYdxHWZLx"
   },
   "source": [
    "## Read Data"
   ]
  },
  {
   "cell_type": "markdown",
   "metadata": {
    "id": "HWJbMUtJeOcv"
   },
   "source": [
    "Load synthetic Skills dataset"
   ]
  },
  {
   "cell_type": "code",
   "execution_count": 5,
   "metadata": {},
   "outputs": [],
   "source": [
    "url = \"https://raw.githubusercontent.com/erikbijl/genai-workshop-amsterdam/refs/heads/main/talent/expanded_skills.csv\""
   ]
  },
  {
   "cell_type": "code",
   "execution_count": 6,
   "metadata": {
    "id": "HWJbMUtJeOcv"
   },
   "outputs": [],
   "source": [
    "skills_df = pd.read_csv(url)"
   ]
  },
  {
   "cell_type": "markdown",
   "metadata": {},
   "source": [
    "Describe the dataset"
   ]
  },
  {
   "cell_type": "code",
   "execution_count": 7,
   "metadata": {},
   "outputs": [
    {
     "data": {
      "text/html": [
       "<div>\n",
       "<style scoped>\n",
       "    .dataframe tbody tr th:only-of-type {\n",
       "        vertical-align: middle;\n",
       "    }\n",
       "\n",
       "    .dataframe tbody tr th {\n",
       "        vertical-align: top;\n",
       "    }\n",
       "\n",
       "    .dataframe thead th {\n",
       "        text-align: right;\n",
       "    }\n",
       "</style>\n",
       "<table border=\"1\" class=\"dataframe\">\n",
       "  <thead>\n",
       "    <tr style=\"text-align: right;\">\n",
       "      <th></th>\n",
       "      <th>email</th>\n",
       "      <th>name</th>\n",
       "      <th>skills</th>\n",
       "    </tr>\n",
       "  </thead>\n",
       "  <tbody>\n",
       "    <tr>\n",
       "      <th>count</th>\n",
       "      <td>100</td>\n",
       "      <td>100</td>\n",
       "      <td>100</td>\n",
       "    </tr>\n",
       "    <tr>\n",
       "      <th>unique</th>\n",
       "      <td>100</td>\n",
       "      <td>100</td>\n",
       "      <td>100</td>\n",
       "    </tr>\n",
       "    <tr>\n",
       "      <th>top</th>\n",
       "      <td>thomas.nelson@test.org</td>\n",
       "      <td>Thomas Nelson</td>\n",
       "      <td>Security, Pandas, Go</td>\n",
       "    </tr>\n",
       "    <tr>\n",
       "      <th>freq</th>\n",
       "      <td>1</td>\n",
       "      <td>1</td>\n",
       "      <td>1</td>\n",
       "    </tr>\n",
       "  </tbody>\n",
       "</table>\n",
       "</div>"
      ],
      "text/plain": [
       "                         email           name                skills\n",
       "count                      100            100                   100\n",
       "unique                     100            100                   100\n",
       "top     thomas.nelson@test.org  Thomas Nelson  Security, Pandas, Go\n",
       "freq                         1              1                     1"
      ]
     },
     "execution_count": 7,
     "metadata": {},
     "output_type": "execute_result"
    }
   ],
   "source": [
    "skills_df.describe()"
   ]
  },
  {
   "cell_type": "markdown",
   "metadata": {
    "id": "HWJbMUtJeOcv"
   },
   "source": [
    "Display the first few rows of the DataFrame"
   ]
  },
  {
   "cell_type": "code",
   "execution_count": 8,
   "metadata": {
    "id": "HWJbMUtJeOcv"
   },
   "outputs": [
    {
     "data": {
      "text/html": [
       "<div>\n",
       "<style scoped>\n",
       "    .dataframe tbody tr th:only-of-type {\n",
       "        vertical-align: middle;\n",
       "    }\n",
       "\n",
       "    .dataframe tbody tr th {\n",
       "        vertical-align: top;\n",
       "    }\n",
       "\n",
       "    .dataframe thead th {\n",
       "        text-align: right;\n",
       "    }\n",
       "</style>\n",
       "<table border=\"1\" class=\"dataframe\">\n",
       "  <thead>\n",
       "    <tr style=\"text-align: right;\">\n",
       "      <th></th>\n",
       "      <th>email</th>\n",
       "      <th>name</th>\n",
       "      <th>skills</th>\n",
       "    </tr>\n",
       "  </thead>\n",
       "  <tbody>\n",
       "    <tr>\n",
       "      <th>0</th>\n",
       "      <td>thomas.nelson@test.org</td>\n",
       "      <td>Thomas Nelson</td>\n",
       "      <td>Security, Pandas, Go</td>\n",
       "    </tr>\n",
       "    <tr>\n",
       "      <th>1</th>\n",
       "      <td>lucy.clark@test.org</td>\n",
       "      <td>Lucy Clark</td>\n",
       "      <td>WordPress, Scrum, Go, SQL, Linux</td>\n",
       "    </tr>\n",
       "    <tr>\n",
       "      <th>2</th>\n",
       "      <td>richard.jackson@test.org</td>\n",
       "      <td>Richard Jackson</td>\n",
       "      <td>System Design, PyTorch, Express.js, DevOps</td>\n",
       "    </tr>\n",
       "    <tr>\n",
       "      <th>3</th>\n",
       "      <td>amelia.hall@test.org</td>\n",
       "      <td>Amelia Hall</td>\n",
       "      <td>Agile, CSS3, R, Azure</td>\n",
       "    </tr>\n",
       "    <tr>\n",
       "      <th>4</th>\n",
       "      <td>david.hill@test.org</td>\n",
       "      <td>David Hill</td>\n",
       "      <td>Java, Scrum, Angular</td>\n",
       "    </tr>\n",
       "    <tr>\n",
       "      <th>5</th>\n",
       "      <td>christopher.johnson@test.org</td>\n",
       "      <td>Christopher Johnson</td>\n",
       "      <td>Tableau, Flask, API Design</td>\n",
       "    </tr>\n",
       "    <tr>\n",
       "      <th>6</th>\n",
       "      <td>amelia.martin@test.org</td>\n",
       "      <td>Amelia Martin</td>\n",
       "      <td>CI/CD, Kotlin, HTML5, TensorFlow</td>\n",
       "    </tr>\n",
       "    <tr>\n",
       "      <th>7</th>\n",
       "      <td>daniel.hill@test.org</td>\n",
       "      <td>Daniel Hill</td>\n",
       "      <td>System Design, Git, Cypher, Pandas, Spring Boot</td>\n",
       "    </tr>\n",
       "    <tr>\n",
       "      <th>8</th>\n",
       "      <td>alice.white@test.org</td>\n",
       "      <td>Alice White</td>\n",
       "      <td>Spark, Agile, JavaScript</td>\n",
       "    </tr>\n",
       "    <tr>\n",
       "      <th>9</th>\n",
       "      <td>lucy.taylor@test.org</td>\n",
       "      <td>Lucy Taylor</td>\n",
       "      <td>Flask, Tableau, CI/CD, Rust, System Design</td>\n",
       "    </tr>\n",
       "    <tr>\n",
       "      <th>10</th>\n",
       "      <td>lucy.turner@test.org</td>\n",
       "      <td>Lucy Turner</td>\n",
       "      <td>Express.js, Big Data, Scala, Security, Docker</td>\n",
       "    </tr>\n",
       "    <tr>\n",
       "      <th>11</th>\n",
       "      <td>elena.young@test.org</td>\n",
       "      <td>Elena Young</td>\n",
       "      <td>Scala, TensorFlow, Blockchain, Angular</td>\n",
       "    </tr>\n",
       "    <tr>\n",
       "      <th>12</th>\n",
       "      <td>richard.taylor@test.org</td>\n",
       "      <td>Richard Taylor</td>\n",
       "      <td>Cloud Architecture, Kotlin, Angular, Agile</td>\n",
       "    </tr>\n",
       "    <tr>\n",
       "      <th>13</th>\n",
       "      <td>joseph.mitchell@test.org</td>\n",
       "      <td>Joseph Mitchell</td>\n",
       "      <td>System Design, Spark, Vue.js, Ruby</td>\n",
       "    </tr>\n",
       "    <tr>\n",
       "      <th>14</th>\n",
       "      <td>sophie.jackson@test.org</td>\n",
       "      <td>Sophie Jackson</td>\n",
       "      <td>Linux, Angular, Security, Pandas</td>\n",
       "    </tr>\n",
       "    <tr>\n",
       "      <th>15</th>\n",
       "      <td>sophia.richardson@test.org</td>\n",
       "      <td>Sophia Richardson</td>\n",
       "      <td>CI/CD, Django, TypeScript, Testing</td>\n",
       "    </tr>\n",
       "    <tr>\n",
       "      <th>16</th>\n",
       "      <td>ryan.rodriguez@test.org</td>\n",
       "      <td>Ryan Rodriguez</td>\n",
       "      <td>Power BI, DevOps, JavaScript</td>\n",
       "    </tr>\n",
       "    <tr>\n",
       "      <th>17</th>\n",
       "      <td>lucy.martin@test.org</td>\n",
       "      <td>Lucy Martin</td>\n",
       "      <td>Flask, DevOps, Machine Learning, Rust</td>\n",
       "    </tr>\n",
       "    <tr>\n",
       "      <th>18</th>\n",
       "      <td>victoria.thomas@test.org</td>\n",
       "      <td>Victoria Thomas</td>\n",
       "      <td>API Design, Cloud Architecture, Swift</td>\n",
       "    </tr>\n",
       "    <tr>\n",
       "      <th>19</th>\n",
       "      <td>joshua.lopez@test.org</td>\n",
       "      <td>Joshua Lopez</td>\n",
       "      <td>Pandas, Scala, Express.js, Blockchain, Jenkins</td>\n",
       "    </tr>\n",
       "    <tr>\n",
       "      <th>20</th>\n",
       "      <td>alice.hill@test.org</td>\n",
       "      <td>Alice Hill</td>\n",
       "      <td>Blockchain, Cloud Architecture, Spring Boot</td>\n",
       "    </tr>\n",
       "    <tr>\n",
       "      <th>21</th>\n",
       "      <td>mia.nelson@test.org</td>\n",
       "      <td>Mia Nelson</td>\n",
       "      <td>AWS, Swift, WordPress, Security, Big Data</td>\n",
       "    </tr>\n",
       "    <tr>\n",
       "      <th>22</th>\n",
       "      <td>david.lopez@test.org</td>\n",
       "      <td>David Lopez</td>\n",
       "      <td>WordPress, Security, PHP</td>\n",
       "    </tr>\n",
       "    <tr>\n",
       "      <th>23</th>\n",
       "      <td>emily.thompson@test.org</td>\n",
       "      <td>Emily Thompson</td>\n",
       "      <td>Scrum, ReactJS, TensorFlow, Cloud Architecture</td>\n",
       "    </tr>\n",
       "    <tr>\n",
       "      <th>24</th>\n",
       "      <td>natalie.miller@test.org</td>\n",
       "      <td>Natalie Miller</td>\n",
       "      <td>Testing, Azure, Go, Machine Learning, Express.js</td>\n",
       "    </tr>\n",
       "    <tr>\n",
       "      <th>25</th>\n",
       "      <td>natalie.thompson@test.org</td>\n",
       "      <td>Natalie Thompson</td>\n",
       "      <td>System Design, TypeScript, Angular, Spark, Jen...</td>\n",
       "    </tr>\n",
       "    <tr>\n",
       "      <th>26</th>\n",
       "      <td>hannah.campbell@test.org</td>\n",
       "      <td>Hannah Campbell</td>\n",
       "      <td>API Design, JavaScript, DevOps, Power BI, Vue.js</td>\n",
       "    </tr>\n",
       "    <tr>\n",
       "      <th>27</th>\n",
       "      <td>brian.hill@test.org</td>\n",
       "      <td>Brian Hill</td>\n",
       "      <td>Machine Learning, System Design, CSS3</td>\n",
       "    </tr>\n",
       "    <tr>\n",
       "      <th>28</th>\n",
       "      <td>brian.carter@test.org</td>\n",
       "      <td>Brian Carter</td>\n",
       "      <td>Vue.js, Git, SQL, Testing, Rust</td>\n",
       "    </tr>\n",
       "    <tr>\n",
       "      <th>29</th>\n",
       "      <td>thomas.brown@test.org</td>\n",
       "      <td>Thomas Brown</td>\n",
       "      <td>Docker, Java, Security, R</td>\n",
       "    </tr>\n",
       "  </tbody>\n",
       "</table>\n",
       "</div>"
      ],
      "text/plain": [
       "                           email                 name  \\\n",
       "0         thomas.nelson@test.org        Thomas Nelson   \n",
       "1            lucy.clark@test.org           Lucy Clark   \n",
       "2       richard.jackson@test.org      Richard Jackson   \n",
       "3           amelia.hall@test.org          Amelia Hall   \n",
       "4            david.hill@test.org           David Hill   \n",
       "5   christopher.johnson@test.org  Christopher Johnson   \n",
       "6         amelia.martin@test.org        Amelia Martin   \n",
       "7           daniel.hill@test.org          Daniel Hill   \n",
       "8           alice.white@test.org          Alice White   \n",
       "9           lucy.taylor@test.org          Lucy Taylor   \n",
       "10          lucy.turner@test.org          Lucy Turner   \n",
       "11          elena.young@test.org          Elena Young   \n",
       "12       richard.taylor@test.org       Richard Taylor   \n",
       "13      joseph.mitchell@test.org      Joseph Mitchell   \n",
       "14       sophie.jackson@test.org       Sophie Jackson   \n",
       "15    sophia.richardson@test.org    Sophia Richardson   \n",
       "16       ryan.rodriguez@test.org       Ryan Rodriguez   \n",
       "17          lucy.martin@test.org          Lucy Martin   \n",
       "18      victoria.thomas@test.org      Victoria Thomas   \n",
       "19         joshua.lopez@test.org         Joshua Lopez   \n",
       "20           alice.hill@test.org           Alice Hill   \n",
       "21           mia.nelson@test.org           Mia Nelson   \n",
       "22          david.lopez@test.org          David Lopez   \n",
       "23       emily.thompson@test.org       Emily Thompson   \n",
       "24       natalie.miller@test.org       Natalie Miller   \n",
       "25     natalie.thompson@test.org     Natalie Thompson   \n",
       "26      hannah.campbell@test.org      Hannah Campbell   \n",
       "27           brian.hill@test.org           Brian Hill   \n",
       "28         brian.carter@test.org         Brian Carter   \n",
       "29         thomas.brown@test.org         Thomas Brown   \n",
       "\n",
       "                                               skills  \n",
       "0                                Security, Pandas, Go  \n",
       "1                    WordPress, Scrum, Go, SQL, Linux  \n",
       "2          System Design, PyTorch, Express.js, DevOps  \n",
       "3                               Agile, CSS3, R, Azure  \n",
       "4                                Java, Scrum, Angular  \n",
       "5                          Tableau, Flask, API Design  \n",
       "6                    CI/CD, Kotlin, HTML5, TensorFlow  \n",
       "7     System Design, Git, Cypher, Pandas, Spring Boot  \n",
       "8                            Spark, Agile, JavaScript  \n",
       "9          Flask, Tableau, CI/CD, Rust, System Design  \n",
       "10      Express.js, Big Data, Scala, Security, Docker  \n",
       "11             Scala, TensorFlow, Blockchain, Angular  \n",
       "12         Cloud Architecture, Kotlin, Angular, Agile  \n",
       "13                 System Design, Spark, Vue.js, Ruby  \n",
       "14                   Linux, Angular, Security, Pandas  \n",
       "15                 CI/CD, Django, TypeScript, Testing  \n",
       "16                       Power BI, DevOps, JavaScript  \n",
       "17              Flask, DevOps, Machine Learning, Rust  \n",
       "18              API Design, Cloud Architecture, Swift  \n",
       "19     Pandas, Scala, Express.js, Blockchain, Jenkins  \n",
       "20        Blockchain, Cloud Architecture, Spring Boot  \n",
       "21          AWS, Swift, WordPress, Security, Big Data  \n",
       "22                           WordPress, Security, PHP  \n",
       "23     Scrum, ReactJS, TensorFlow, Cloud Architecture  \n",
       "24   Testing, Azure, Go, Machine Learning, Express.js  \n",
       "25  System Design, TypeScript, Angular, Spark, Jen...  \n",
       "26   API Design, JavaScript, DevOps, Power BI, Vue.js  \n",
       "27              Machine Learning, System Design, CSS3  \n",
       "28                    Vue.js, Git, SQL, Testing, Rust  \n",
       "29                          Docker, Java, Security, R  "
      ]
     },
     "execution_count": 8,
     "metadata": {},
     "output_type": "execute_result"
    }
   ],
   "source": [
    "skills_df.head(30)"
   ]
  },
  {
   "cell_type": "markdown",
   "metadata": {
    "id": "7tdxbTD_ZZ-T"
   },
   "source": [
    "Convert skills column from comma separated string to List"
   ]
  },
  {
   "cell_type": "code",
   "execution_count": 9,
   "metadata": {
    "id": "7tdxbTD_ZZ-T"
   },
   "outputs": [
    {
     "data": {
      "text/html": [
       "<div>\n",
       "<style scoped>\n",
       "    .dataframe tbody tr th:only-of-type {\n",
       "        vertical-align: middle;\n",
       "    }\n",
       "\n",
       "    .dataframe tbody tr th {\n",
       "        vertical-align: top;\n",
       "    }\n",
       "\n",
       "    .dataframe thead th {\n",
       "        text-align: right;\n",
       "    }\n",
       "</style>\n",
       "<table border=\"1\" class=\"dataframe\">\n",
       "  <thead>\n",
       "    <tr style=\"text-align: right;\">\n",
       "      <th></th>\n",
       "      <th>email</th>\n",
       "      <th>name</th>\n",
       "      <th>skills</th>\n",
       "    </tr>\n",
       "  </thead>\n",
       "  <tbody>\n",
       "    <tr>\n",
       "      <th>0</th>\n",
       "      <td>thomas.nelson@test.org</td>\n",
       "      <td>Thomas Nelson</td>\n",
       "      <td>[Security, Pandas, Go]</td>\n",
       "    </tr>\n",
       "    <tr>\n",
       "      <th>1</th>\n",
       "      <td>lucy.clark@test.org</td>\n",
       "      <td>Lucy Clark</td>\n",
       "      <td>[WordPress, Scrum, Go, SQL, Linux]</td>\n",
       "    </tr>\n",
       "    <tr>\n",
       "      <th>2</th>\n",
       "      <td>richard.jackson@test.org</td>\n",
       "      <td>Richard Jackson</td>\n",
       "      <td>[System Design, PyTorch, Express.js, DevOps]</td>\n",
       "    </tr>\n",
       "    <tr>\n",
       "      <th>3</th>\n",
       "      <td>amelia.hall@test.org</td>\n",
       "      <td>Amelia Hall</td>\n",
       "      <td>[Agile, CSS3, R, Azure]</td>\n",
       "    </tr>\n",
       "    <tr>\n",
       "      <th>4</th>\n",
       "      <td>david.hill@test.org</td>\n",
       "      <td>David Hill</td>\n",
       "      <td>[Java, Scrum, Angular]</td>\n",
       "    </tr>\n",
       "  </tbody>\n",
       "</table>\n",
       "</div>"
      ],
      "text/plain": [
       "                      email             name  \\\n",
       "0    thomas.nelson@test.org    Thomas Nelson   \n",
       "1       lucy.clark@test.org       Lucy Clark   \n",
       "2  richard.jackson@test.org  Richard Jackson   \n",
       "3      amelia.hall@test.org      Amelia Hall   \n",
       "4       david.hill@test.org       David Hill   \n",
       "\n",
       "                                         skills  \n",
       "0                        [Security, Pandas, Go]  \n",
       "1            [WordPress, Scrum, Go, SQL, Linux]  \n",
       "2  [System Design, PyTorch, Express.js, DevOps]  \n",
       "3                       [Agile, CSS3, R, Azure]  \n",
       "4                        [Java, Scrum, Angular]  "
      ]
     },
     "execution_count": 9,
     "metadata": {},
     "output_type": "execute_result"
    }
   ],
   "source": [
    "skills_df['skills'] = skills_df['skills'].str.split(', ')\n",
    "skills_df.head()"
   ]
  },
  {
   "cell_type": "markdown",
   "metadata": {
    "id": "k5QJiOUfZZ-T"
   },
   "source": [
    "## Create the Graph"
   ]
  },
  {
   "cell_type": "markdown",
   "metadata": {},
   "source": [
    "### Connect to the Database"
   ]
  },
  {
   "cell_type": "markdown",
   "metadata": {},
   "source": [
    "To connect to the database we use the [Neo4j Python Driver](https://neo4j.com/docs/python-manual/5/). The credentials are stored in our environment so can be specified to the driver."
   ]
  },
  {
   "cell_type": "code",
   "execution_count": 10,
   "metadata": {},
   "outputs": [],
   "source": [
    "driver = GraphDatabase.driver(\n",
    "    HOST,\n",
    "    auth=(USERNAME, PASSWORD)\n",
    ")"
   ]
  },
  {
   "cell_type": "markdown",
   "metadata": {},
   "source": [
    "In case we want to split large files. "
   ]
  },
  {
   "cell_type": "code",
   "execution_count": 19,
   "metadata": {},
   "outputs": [],
   "source": [
    "def split_dataframe(df, chunk_size = 50_000):\n",
    "    chunks = list()\n",
    "    num_chunks = len(df) // chunk_size + 1\n",
    "    for i in range(num_chunks):\n",
    "        chunks.append(df[i*chunk_size:(i+1)*chunk_size])\n",
    "    return chunks"
   ]
  },
  {
   "cell_type": "markdown",
   "metadata": {},
   "source": [
    "Test the connection"
   ]
  },
  {
   "cell_type": "code",
   "execution_count": 20,
   "metadata": {},
   "outputs": [
    {
     "data": {
      "text/html": [
       "<div>\n",
       "<style scoped>\n",
       "    .dataframe tbody tr th:only-of-type {\n",
       "        vertical-align: middle;\n",
       "    }\n",
       "\n",
       "    .dataframe tbody tr th {\n",
       "        vertical-align: top;\n",
       "    }\n",
       "\n",
       "    .dataframe thead th {\n",
       "        text-align: right;\n",
       "    }\n",
       "</style>\n",
       "<table border=\"1\" class=\"dataframe\">\n",
       "  <thead>\n",
       "    <tr style=\"text-align: right;\">\n",
       "      <th></th>\n",
       "      <th>Count</th>\n",
       "    </tr>\n",
       "  </thead>\n",
       "  <tbody>\n",
       "    <tr>\n",
       "      <th>0</th>\n",
       "      <td>0</td>\n",
       "    </tr>\n",
       "  </tbody>\n",
       "</table>\n",
       "</div>"
      ],
      "text/plain": [
       "   Count\n",
       "0      0"
      ]
     },
     "execution_count": 20,
     "metadata": {},
     "output_type": "execute_result"
    }
   ],
   "source": [
    "driver.execute_query(\n",
    "    \"\"\"\n",
    "    MATCH (n) RETURN COUNT(n) as Count\n",
    "    \"\"\",\n",
    "    database_=DATABASE,\n",
    "    routing_=RoutingControl.READ,\n",
    "    result_transformer_= lambda r: r.to_df()\n",
    ")"
   ]
  },
  {
   "cell_type": "markdown",
   "metadata": {},
   "source": [
    "### Set constraints"
   ]
  },
  {
   "cell_type": "markdown",
   "metadata": {},
   "source": [
    "We know what we will be loading. Set some constrainst first. Documentation: [Constraints](https://neo4j.com/docs/cypher-manual/current/constraints/managing-constraints/)"
   ]
  },
  {
   "cell_type": "markdown",
   "metadata": {},
   "source": [
    "Set the constraint on Person Nodes"
   ]
  },
  {
   "cell_type": "code",
   "execution_count": 12,
   "metadata": {},
   "outputs": [
    {
     "data": {
      "text/plain": [
       "EagerResult(records=[], summary=<neo4j._work.summary.ResultSummary object at 0x30bff7750>, keys=[])"
      ]
     },
     "execution_count": 12,
     "metadata": {},
     "output_type": "execute_result"
    }
   ],
   "source": [
    "driver.execute_query(\n",
    "    'CREATE CONSTRAINT IF NOT EXISTS FOR (n:Person) REQUIRE (n.email) IS NODE KEY',\n",
    "    database_=DATABASE,\n",
    "    routing_=RoutingControl.WRITE\n",
    ")"
   ]
  },
  {
   "cell_type": "markdown",
   "metadata": {},
   "source": [
    "Set the constraint on Skill Nodes"
   ]
  },
  {
   "cell_type": "code",
   "execution_count": 13,
   "metadata": {},
   "outputs": [
    {
     "data": {
      "text/plain": [
       "EagerResult(records=[], summary=<neo4j._work.summary.ResultSummary object at 0x310f02610>, keys=[])"
      ]
     },
     "execution_count": 13,
     "metadata": {},
     "output_type": "execute_result"
    }
   ],
   "source": [
    "driver.execute_query(\n",
    "    'CREATE CONSTRAINT IF NOT EXISTS FOR (n:Skill) REQUIRE (n.name) IS NODE KEY',\n",
    "    database_=DATABASE,\n",
    "    routing_=RoutingControl.WRITE\n",
    ")"
   ]
  },
  {
   "cell_type": "markdown",
   "metadata": {
    "id": "cdTfdAyV2ZaR"
   },
   "source": [
    "Fetch all constraints"
   ]
  },
  {
   "cell_type": "code",
   "execution_count": 14,
   "metadata": {
    "id": "cdTfdAyV2ZaR"
   },
   "outputs": [
    {
     "data": {
      "text/html": [
       "<div>\n",
       "<style scoped>\n",
       "    .dataframe tbody tr th:only-of-type {\n",
       "        vertical-align: middle;\n",
       "    }\n",
       "\n",
       "    .dataframe tbody tr th {\n",
       "        vertical-align: top;\n",
       "    }\n",
       "\n",
       "    .dataframe thead th {\n",
       "        text-align: right;\n",
       "    }\n",
       "</style>\n",
       "<table border=\"1\" class=\"dataframe\">\n",
       "  <thead>\n",
       "    <tr style=\"text-align: right;\">\n",
       "      <th></th>\n",
       "      <th>id</th>\n",
       "      <th>name</th>\n",
       "      <th>type</th>\n",
       "      <th>entityType</th>\n",
       "      <th>labelsOrTypes</th>\n",
       "      <th>properties</th>\n",
       "      <th>ownedIndex</th>\n",
       "      <th>propertyType</th>\n",
       "    </tr>\n",
       "  </thead>\n",
       "  <tbody>\n",
       "    <tr>\n",
       "      <th>0</th>\n",
       "      <td>3</td>\n",
       "      <td>constraint_63bf11a1</td>\n",
       "      <td>NODE_KEY</td>\n",
       "      <td>NODE</td>\n",
       "      <td>[Skill]</td>\n",
       "      <td>[name]</td>\n",
       "      <td>constraint_63bf11a1</td>\n",
       "      <td>None</td>\n",
       "    </tr>\n",
       "    <tr>\n",
       "      <th>1</th>\n",
       "      <td>5</td>\n",
       "      <td>constraint_d3bfd313</td>\n",
       "      <td>NODE_KEY</td>\n",
       "      <td>NODE</td>\n",
       "      <td>[Person]</td>\n",
       "      <td>[email]</td>\n",
       "      <td>constraint_d3bfd313</td>\n",
       "      <td>None</td>\n",
       "    </tr>\n",
       "  </tbody>\n",
       "</table>\n",
       "</div>"
      ],
      "text/plain": [
       "   id                 name      type entityType labelsOrTypes properties  \\\n",
       "0   3  constraint_63bf11a1  NODE_KEY       NODE       [Skill]     [name]   \n",
       "1   5  constraint_d3bfd313  NODE_KEY       NODE      [Person]    [email]   \n",
       "\n",
       "            ownedIndex propertyType  \n",
       "0  constraint_63bf11a1         None  \n",
       "1  constraint_d3bfd313         None  "
      ]
     },
     "execution_count": 14,
     "metadata": {},
     "output_type": "execute_result"
    }
   ],
   "source": [
    "schema_result_df  = driver.execute_query(\n",
    "    'SHOW CONSTRAINTS',\n",
    "    database_=DATABASE,\n",
    "    routing_=RoutingControl.READ,\n",
    "    result_transformer_= lambda r: r.to_df()\n",
    ")\n",
    "schema_result_df.head()"
   ]
  },
  {
   "cell_type": "markdown",
   "metadata": {},
   "source": [
    "### Load (:Person)-[:KNOWS]->(:Skill)"
   ]
  },
  {
   "cell_type": "markdown",
   "metadata": {
    "id": "uduojIopm0qV"
   },
   "source": [
    "Create a Person and Skills nodes and create a relationship in between. Documentation: [MERGE](https://neo4j.com/docs/cypher-manual/current/clauses/merge/?utm_source=GSearch&utm_medium=PaidSearch&utm_campaign=Evergreen&utm_content=EMEA-Search-SEMCE-DSA-None-SEM-SEM-NonABM&utm_term=&utm_adgroup=DSA&gad_source=1&gclid=Cj0KCQjwm7q-BhDRARIsACD6-fXns_MSgSZ3_jQdYreKu3iOBQQU6bwddlNa4wD12oLr3rxKUlF4MMMaAnj1EALw_wcB)"
   ]
  },
  {
   "cell_type": "code",
   "execution_count": 21,
   "metadata": {
    "id": "uduojIopm0qV"
   },
   "outputs": [],
   "source": [
    "for chunk in split_dataframe(skills_df):\n",
    "    records, summary, keys = driver.execute_query(\n",
    "        \"\"\"\n",
    "        UNWIND $rows AS row\n",
    "        MERGE (p:Person{email:row.email})\n",
    "        SET p.name = row.name\n",
    "        WITH p, row\n",
    "        FOREACH(skill IN row.skills | MERGE (s:Skill{name:skill}) MERGE (p)-[:KNOWS]->(s) )\n",
    "        RETURN COUNT(*) AS rows_processed\n",
    "        \"\"\",\n",
    "        database_=DATABASE,\n",
    "        routing_=RoutingControl.WRITE,\n",
    "        rows = chunk.to_dict('records')\n",
    "    )"
   ]
  },
  {
   "cell_type": "markdown",
   "metadata": {
    "id": "rZo7Gln2jJcF"
   },
   "source": [
    "## Explore the Graph"
   ]
  },
  {
   "cell_type": "markdown",
   "metadata": {},
   "source": [
    "Now to the database and observe what is there. \n",
    "Example queries: \n",
    "- MATCH (n:Person) RETURN n LIMIT 25;\n",
    "- MATCH (n:Skill) RETURN n LIMIT 25;\n",
    "- MATCH p=()-[:KNOWS]->() RETURN p LIMIT 25;"
   ]
  },
  {
   "cell_type": "markdown",
   "metadata": {},
   "source": [
    "We can also run this via the [Neo4j Python Driver](https://neo4j.com/docs/python-manual/5/). Let's do so below"
   ]
  },
  {
   "cell_type": "markdown",
   "metadata": {},
   "source": [
    "#### What persons are in the database?"
   ]
  },
  {
   "cell_type": "code",
   "execution_count": 22,
   "metadata": {
    "id": "70-xbOfgjQsY"
   },
   "outputs": [],
   "source": [
    "persons_df = driver.execute_query(\n",
    "    \"\"\"\n",
    "    MATCH (p:Person)\n",
    "    RETURN p.name AS person_name\n",
    "    \"\"\",\n",
    "    database_=DATABASE,\n",
    "    routing_=RoutingControl.READ,\n",
    "    result_transformer_= lambda r: r.to_df()\n",
    ")"
   ]
  },
  {
   "cell_type": "code",
   "execution_count": 23,
   "metadata": {},
   "outputs": [
    {
     "data": {
      "text/html": [
       "<div>\n",
       "<style scoped>\n",
       "    .dataframe tbody tr th:only-of-type {\n",
       "        vertical-align: middle;\n",
       "    }\n",
       "\n",
       "    .dataframe tbody tr th {\n",
       "        vertical-align: top;\n",
       "    }\n",
       "\n",
       "    .dataframe thead th {\n",
       "        text-align: right;\n",
       "    }\n",
       "</style>\n",
       "<table border=\"1\" class=\"dataframe\">\n",
       "  <thead>\n",
       "    <tr style=\"text-align: right;\">\n",
       "      <th></th>\n",
       "      <th>person_name</th>\n",
       "    </tr>\n",
       "  </thead>\n",
       "  <tbody>\n",
       "    <tr>\n",
       "      <th>0</th>\n",
       "      <td>Richard Jackson</td>\n",
       "    </tr>\n",
       "    <tr>\n",
       "      <th>1</th>\n",
       "      <td>Amelia Hall</td>\n",
       "    </tr>\n",
       "    <tr>\n",
       "      <th>2</th>\n",
       "      <td>David Hill</td>\n",
       "    </tr>\n",
       "    <tr>\n",
       "      <th>3</th>\n",
       "      <td>Christopher Johnson</td>\n",
       "    </tr>\n",
       "    <tr>\n",
       "      <th>4</th>\n",
       "      <td>Amelia Martin</td>\n",
       "    </tr>\n",
       "    <tr>\n",
       "      <th>...</th>\n",
       "      <td>...</td>\n",
       "    </tr>\n",
       "    <tr>\n",
       "      <th>95</th>\n",
       "      <td>Amelia Phillips</td>\n",
       "    </tr>\n",
       "    <tr>\n",
       "      <th>96</th>\n",
       "      <td>Amelia Brown</td>\n",
       "    </tr>\n",
       "    <tr>\n",
       "      <th>97</th>\n",
       "      <td>Peter Perez</td>\n",
       "    </tr>\n",
       "    <tr>\n",
       "      <th>98</th>\n",
       "      <td>Thomas Nelson</td>\n",
       "    </tr>\n",
       "    <tr>\n",
       "      <th>99</th>\n",
       "      <td>Lucy Clark</td>\n",
       "    </tr>\n",
       "  </tbody>\n",
       "</table>\n",
       "<p>100 rows × 1 columns</p>\n",
       "</div>"
      ],
      "text/plain": [
       "            person_name\n",
       "0       Richard Jackson\n",
       "1           Amelia Hall\n",
       "2            David Hill\n",
       "3   Christopher Johnson\n",
       "4         Amelia Martin\n",
       "..                  ...\n",
       "95      Amelia Phillips\n",
       "96         Amelia Brown\n",
       "97          Peter Perez\n",
       "98        Thomas Nelson\n",
       "99           Lucy Clark\n",
       "\n",
       "[100 rows x 1 columns]"
      ]
     },
     "execution_count": 23,
     "metadata": {},
     "output_type": "execute_result"
    }
   ],
   "source": [
    "persons_df"
   ]
  },
  {
   "cell_type": "markdown",
   "metadata": {
    "id": "volCOjn_jjm3"
   },
   "source": [
    "#### What skills does each person know?"
   ]
  },
  {
   "cell_type": "code",
   "execution_count": 24,
   "metadata": {
    "id": "volCOjn_jjm3"
   },
   "outputs": [],
   "source": [
    "person_skills_df = driver.execute_query(\n",
    "    \"\"\"\n",
    "    MATCH (p:Person)-[:KNOWS]->(s:Skill)\n",
    "    RETURN p.email AS email, p.name AS person_name, collect(s.name) AS skills\n",
    "    \"\"\",\n",
    "    database_=DATABASE,\n",
    "    routing_=RoutingControl.READ,\n",
    "    result_transformer_= lambda r: r.to_df()\n",
    ")"
   ]
  },
  {
   "cell_type": "code",
   "execution_count": 25,
   "metadata": {},
   "outputs": [
    {
     "data": {
      "text/html": [
       "<div>\n",
       "<style scoped>\n",
       "    .dataframe tbody tr th:only-of-type {\n",
       "        vertical-align: middle;\n",
       "    }\n",
       "\n",
       "    .dataframe tbody tr th {\n",
       "        vertical-align: top;\n",
       "    }\n",
       "\n",
       "    .dataframe thead th {\n",
       "        text-align: right;\n",
       "    }\n",
       "</style>\n",
       "<table border=\"1\" class=\"dataframe\">\n",
       "  <thead>\n",
       "    <tr style=\"text-align: right;\">\n",
       "      <th></th>\n",
       "      <th>email</th>\n",
       "      <th>person_name</th>\n",
       "      <th>skills</th>\n",
       "    </tr>\n",
       "  </thead>\n",
       "  <tbody>\n",
       "    <tr>\n",
       "      <th>0</th>\n",
       "      <td>christopher.johnson@test.org</td>\n",
       "      <td>Christopher Johnson</td>\n",
       "      <td>[API Design, Flask, Tableau]</td>\n",
       "    </tr>\n",
       "    <tr>\n",
       "      <th>1</th>\n",
       "      <td>victoria.thomas@test.org</td>\n",
       "      <td>Victoria Thomas</td>\n",
       "      <td>[API Design, Cloud Architecture, Swift]</td>\n",
       "    </tr>\n",
       "    <tr>\n",
       "      <th>2</th>\n",
       "      <td>hannah.campbell@test.org</td>\n",
       "      <td>Hannah Campbell</td>\n",
       "      <td>[API Design, DevOps, JavaScript, Power BI, Vue...</td>\n",
       "    </tr>\n",
       "    <tr>\n",
       "      <th>3</th>\n",
       "      <td>brian.jackson@test.org</td>\n",
       "      <td>Brian Jackson</td>\n",
       "      <td>[API Design, Cloud Architecture, Rust, Vue.js]</td>\n",
       "    </tr>\n",
       "    <tr>\n",
       "      <th>4</th>\n",
       "      <td>john.walker@test.org</td>\n",
       "      <td>John Walker</td>\n",
       "      <td>[API Design, Django, Python]</td>\n",
       "    </tr>\n",
       "    <tr>\n",
       "      <th>...</th>\n",
       "      <td>...</td>\n",
       "      <td>...</td>\n",
       "      <td>...</td>\n",
       "    </tr>\n",
       "    <tr>\n",
       "      <th>95</th>\n",
       "      <td>joseph.lopez@test.org</td>\n",
       "      <td>Joseph Lopez</td>\n",
       "      <td>[Linux, ReactJS, System Design]</td>\n",
       "    </tr>\n",
       "    <tr>\n",
       "      <th>96</th>\n",
       "      <td>richard.mitchell@test.org</td>\n",
       "      <td>Richard Mitchell</td>\n",
       "      <td>[Node.js, Scala, Scrum]</td>\n",
       "    </tr>\n",
       "    <tr>\n",
       "      <th>97</th>\n",
       "      <td>david.lopez@test.org</td>\n",
       "      <td>David Lopez</td>\n",
       "      <td>[PHP, Security, WordPress]</td>\n",
       "    </tr>\n",
       "    <tr>\n",
       "      <th>98</th>\n",
       "      <td>joseph.mitchell@test.org</td>\n",
       "      <td>Joseph Mitchell</td>\n",
       "      <td>[Ruby, Spark, System Design, Vue.js]</td>\n",
       "    </tr>\n",
       "    <tr>\n",
       "      <th>99</th>\n",
       "      <td>matthew.moore@test.org</td>\n",
       "      <td>Matthew Moore</td>\n",
       "      <td>[Security, Spring Boot, Swift, TensorFlow]</td>\n",
       "    </tr>\n",
       "  </tbody>\n",
       "</table>\n",
       "<p>100 rows × 3 columns</p>\n",
       "</div>"
      ],
      "text/plain": [
       "                           email          person_name  \\\n",
       "0   christopher.johnson@test.org  Christopher Johnson   \n",
       "1       victoria.thomas@test.org      Victoria Thomas   \n",
       "2       hannah.campbell@test.org      Hannah Campbell   \n",
       "3         brian.jackson@test.org        Brian Jackson   \n",
       "4           john.walker@test.org          John Walker   \n",
       "..                           ...                  ...   \n",
       "95         joseph.lopez@test.org         Joseph Lopez   \n",
       "96     richard.mitchell@test.org     Richard Mitchell   \n",
       "97          david.lopez@test.org          David Lopez   \n",
       "98      joseph.mitchell@test.org      Joseph Mitchell   \n",
       "99        matthew.moore@test.org        Matthew Moore   \n",
       "\n",
       "                                               skills  \n",
       "0                        [API Design, Flask, Tableau]  \n",
       "1             [API Design, Cloud Architecture, Swift]  \n",
       "2   [API Design, DevOps, JavaScript, Power BI, Vue...  \n",
       "3      [API Design, Cloud Architecture, Rust, Vue.js]  \n",
       "4                        [API Design, Django, Python]  \n",
       "..                                                ...  \n",
       "95                    [Linux, ReactJS, System Design]  \n",
       "96                            [Node.js, Scala, Scrum]  \n",
       "97                         [PHP, Security, WordPress]  \n",
       "98               [Ruby, Spark, System Design, Vue.js]  \n",
       "99         [Security, Spring Boot, Swift, TensorFlow]  \n",
       "\n",
       "[100 rows x 3 columns]"
      ]
     },
     "execution_count": 25,
     "metadata": {},
     "output_type": "execute_result"
    }
   ],
   "source": [
    "person_skills_df"
   ]
  },
  {
   "cell_type": "markdown",
   "metadata": {
    "id": "2yddechtj2MB"
   },
   "source": [
    "#### What are the most frequent skills?"
   ]
  },
  {
   "cell_type": "code",
   "execution_count": 26,
   "metadata": {
    "id": "2yddechtj2MB"
   },
   "outputs": [],
   "source": [
    "skill_count_df = driver.execute_query(\n",
    "    \"\"\"\n",
    "    MATCH (p:Person)-[:KNOWS]->(s:Skill)\n",
    "    RETURN s.name, COUNT(DISTINCT p) AS knownByCount ORDER BY knownByCount DESC LIMIT 10\n",
    "    \"\"\",\n",
    "    database_=DATABASE,\n",
    "    routing_=RoutingControl.READ,\n",
    "    result_transformer_= lambda r: r.to_df()\n",
    ")"
   ]
  },
  {
   "cell_type": "code",
   "execution_count": 27,
   "metadata": {},
   "outputs": [
    {
     "data": {
      "text/html": [
       "<div>\n",
       "<style scoped>\n",
       "    .dataframe tbody tr th:only-of-type {\n",
       "        vertical-align: middle;\n",
       "    }\n",
       "\n",
       "    .dataframe tbody tr th {\n",
       "        vertical-align: top;\n",
       "    }\n",
       "\n",
       "    .dataframe thead th {\n",
       "        text-align: right;\n",
       "    }\n",
       "</style>\n",
       "<table border=\"1\" class=\"dataframe\">\n",
       "  <thead>\n",
       "    <tr style=\"text-align: right;\">\n",
       "      <th></th>\n",
       "      <th>s.name</th>\n",
       "      <th>knownByCount</th>\n",
       "    </tr>\n",
       "  </thead>\n",
       "  <tbody>\n",
       "    <tr>\n",
       "      <th>0</th>\n",
       "      <td>System Design</td>\n",
       "      <td>14</td>\n",
       "    </tr>\n",
       "    <tr>\n",
       "      <th>1</th>\n",
       "      <td>Agile</td>\n",
       "      <td>13</td>\n",
       "    </tr>\n",
       "    <tr>\n",
       "      <th>2</th>\n",
       "      <td>Security</td>\n",
       "      <td>13</td>\n",
       "    </tr>\n",
       "    <tr>\n",
       "      <th>3</th>\n",
       "      <td>Angular</td>\n",
       "      <td>13</td>\n",
       "    </tr>\n",
       "    <tr>\n",
       "      <th>4</th>\n",
       "      <td>Blockchain</td>\n",
       "      <td>11</td>\n",
       "    </tr>\n",
       "    <tr>\n",
       "      <th>5</th>\n",
       "      <td>Cloud Architecture</td>\n",
       "      <td>11</td>\n",
       "    </tr>\n",
       "    <tr>\n",
       "      <th>6</th>\n",
       "      <td>Scrum</td>\n",
       "      <td>11</td>\n",
       "    </tr>\n",
       "    <tr>\n",
       "      <th>7</th>\n",
       "      <td>Docker</td>\n",
       "      <td>10</td>\n",
       "    </tr>\n",
       "    <tr>\n",
       "      <th>8</th>\n",
       "      <td>ReactJS</td>\n",
       "      <td>10</td>\n",
       "    </tr>\n",
       "    <tr>\n",
       "      <th>9</th>\n",
       "      <td>TensorFlow</td>\n",
       "      <td>10</td>\n",
       "    </tr>\n",
       "  </tbody>\n",
       "</table>\n",
       "</div>"
      ],
      "text/plain": [
       "               s.name  knownByCount\n",
       "0       System Design            14\n",
       "1               Agile            13\n",
       "2            Security            13\n",
       "3             Angular            13\n",
       "4          Blockchain            11\n",
       "5  Cloud Architecture            11\n",
       "6               Scrum            11\n",
       "7              Docker            10\n",
       "8             ReactJS            10\n",
       "9          TensorFlow            10"
      ]
     },
     "execution_count": 27,
     "metadata": {},
     "output_type": "execute_result"
    }
   ],
   "source": [
    "skill_count_df"
   ]
  },
  {
   "cell_type": "markdown",
   "metadata": {},
   "source": [
    "#### Multihop question"
   ]
  },
  {
   "cell_type": "markdown",
   "metadata": {},
   "source": [
    "Run the following query in the database: \n",
    "- MATCH p=(p1:Person {name: \"Lucy Clark\"})-[:KNOWS]->(s1:Skill)<-[:KNOWS]-(p2:Person) RETURN DISTINCT p;\n",
    "- MATCH p=(p1:Person {name: \"Lucy Clark\"})-[:KNOWS]->(s1:Skill)<-[:KNOWS]-(p2:Person)-[:KNOWS]-(s2:Skill) RETURN DISTINCT p;"
   ]
  },
  {
   "cell_type": "code",
   "execution_count": 28,
   "metadata": {},
   "outputs": [],
   "source": [
    "persons_with_shared_skills_df = driver.execute_query(\n",
    "    \"\"\"\n",
    "    MATCH p=(p1:Person {name: \"Lucy Clark\"})-[:KNOWS]->(s1:Skill)<-[:KNOWS]-(p2:Person)\n",
    "    RETURN DISTINCT p2.name as person;\n",
    "    \"\"\",\n",
    "    database_=DATABASE,\n",
    "    routing_=RoutingControl.READ,\n",
    "    result_transformer_= lambda r: r.to_df()\n",
    ")"
   ]
  },
  {
   "cell_type": "code",
   "execution_count": 29,
   "metadata": {},
   "outputs": [
    {
     "data": {
      "text/html": [
       "<div>\n",
       "<style scoped>\n",
       "    .dataframe tbody tr th:only-of-type {\n",
       "        vertical-align: middle;\n",
       "    }\n",
       "\n",
       "    .dataframe tbody tr th {\n",
       "        vertical-align: top;\n",
       "    }\n",
       "\n",
       "    .dataframe thead th {\n",
       "        text-align: right;\n",
       "    }\n",
       "</style>\n",
       "<table border=\"1\" class=\"dataframe\">\n",
       "  <thead>\n",
       "    <tr style=\"text-align: right;\">\n",
       "      <th></th>\n",
       "      <th>person</th>\n",
       "    </tr>\n",
       "  </thead>\n",
       "  <tbody>\n",
       "    <tr>\n",
       "      <th>0</th>\n",
       "      <td>Natalie Miller</td>\n",
       "    </tr>\n",
       "    <tr>\n",
       "      <th>1</th>\n",
       "      <td>Peter Martinez</td>\n",
       "    </tr>\n",
       "    <tr>\n",
       "      <th>2</th>\n",
       "      <td>Ryan Nelson</td>\n",
       "    </tr>\n",
       "    <tr>\n",
       "      <th>3</th>\n",
       "      <td>Robert Davis</td>\n",
       "    </tr>\n",
       "    <tr>\n",
       "      <th>4</th>\n",
       "      <td>Natalie Brown</td>\n",
       "    </tr>\n",
       "    <tr>\n",
       "      <th>5</th>\n",
       "      <td>Thomas Nelson</td>\n",
       "    </tr>\n",
       "    <tr>\n",
       "      <th>6</th>\n",
       "      <td>Mia Nelson</td>\n",
       "    </tr>\n",
       "    <tr>\n",
       "      <th>7</th>\n",
       "      <td>David Lopez</td>\n",
       "    </tr>\n",
       "    <tr>\n",
       "      <th>8</th>\n",
       "      <td>John Johnson</td>\n",
       "    </tr>\n",
       "    <tr>\n",
       "      <th>9</th>\n",
       "      <td>Ryan Young</td>\n",
       "    </tr>\n",
       "    <tr>\n",
       "      <th>10</th>\n",
       "      <td>David Hill</td>\n",
       "    </tr>\n",
       "    <tr>\n",
       "      <th>11</th>\n",
       "      <td>Emily Thompson</td>\n",
       "    </tr>\n",
       "    <tr>\n",
       "      <th>12</th>\n",
       "      <td>Matthew Scott</td>\n",
       "    </tr>\n",
       "    <tr>\n",
       "      <th>13</th>\n",
       "      <td>Richard Mitchell</td>\n",
       "    </tr>\n",
       "    <tr>\n",
       "      <th>14</th>\n",
       "      <td>John Taylor</td>\n",
       "    </tr>\n",
       "    <tr>\n",
       "      <th>15</th>\n",
       "      <td>Christopher Thompson</td>\n",
       "    </tr>\n",
       "    <tr>\n",
       "      <th>16</th>\n",
       "      <td>Sophie Perez</td>\n",
       "    </tr>\n",
       "    <tr>\n",
       "      <th>17</th>\n",
       "      <td>Sophia Walker</td>\n",
       "    </tr>\n",
       "    <tr>\n",
       "      <th>18</th>\n",
       "      <td>David Rodriguez</td>\n",
       "    </tr>\n",
       "    <tr>\n",
       "      <th>19</th>\n",
       "      <td>Ryan Hall</td>\n",
       "    </tr>\n",
       "    <tr>\n",
       "      <th>20</th>\n",
       "      <td>Brian Carter</td>\n",
       "    </tr>\n",
       "    <tr>\n",
       "      <th>21</th>\n",
       "      <td>Alice Thomas</td>\n",
       "    </tr>\n",
       "    <tr>\n",
       "      <th>22</th>\n",
       "      <td>Victoria Thompson</td>\n",
       "    </tr>\n",
       "    <tr>\n",
       "      <th>23</th>\n",
       "      <td>Grace Lee</td>\n",
       "    </tr>\n",
       "    <tr>\n",
       "      <th>24</th>\n",
       "      <td>Sophie Jackson</td>\n",
       "    </tr>\n",
       "    <tr>\n",
       "      <th>25</th>\n",
       "      <td>Christopher Jackson</td>\n",
       "    </tr>\n",
       "    <tr>\n",
       "      <th>26</th>\n",
       "      <td>Joseph Lopez</td>\n",
       "    </tr>\n",
       "    <tr>\n",
       "      <th>27</th>\n",
       "      <td>Joseph Martin</td>\n",
       "    </tr>\n",
       "    <tr>\n",
       "      <th>28</th>\n",
       "      <td>Natalie Turner</td>\n",
       "    </tr>\n",
       "    <tr>\n",
       "      <th>29</th>\n",
       "      <td>Kevin Young</td>\n",
       "    </tr>\n",
       "  </tbody>\n",
       "</table>\n",
       "</div>"
      ],
      "text/plain": [
       "                  person\n",
       "0         Natalie Miller\n",
       "1         Peter Martinez\n",
       "2            Ryan Nelson\n",
       "3           Robert Davis\n",
       "4          Natalie Brown\n",
       "5          Thomas Nelson\n",
       "6             Mia Nelson\n",
       "7            David Lopez\n",
       "8           John Johnson\n",
       "9             Ryan Young\n",
       "10            David Hill\n",
       "11        Emily Thompson\n",
       "12         Matthew Scott\n",
       "13      Richard Mitchell\n",
       "14           John Taylor\n",
       "15  Christopher Thompson\n",
       "16          Sophie Perez\n",
       "17         Sophia Walker\n",
       "18       David Rodriguez\n",
       "19             Ryan Hall\n",
       "20          Brian Carter\n",
       "21          Alice Thomas\n",
       "22     Victoria Thompson\n",
       "23             Grace Lee\n",
       "24        Sophie Jackson\n",
       "25   Christopher Jackson\n",
       "26          Joseph Lopez\n",
       "27         Joseph Martin\n",
       "28        Natalie Turner\n",
       "29           Kevin Young"
      ]
     },
     "execution_count": 29,
     "metadata": {},
     "output_type": "execute_result"
    }
   ],
   "source": [
    "persons_with_shared_skills_df"
   ]
  },
  {
   "cell_type": "code",
   "execution_count": 30,
   "metadata": {},
   "outputs": [],
   "source": [
    "skills_two_steps_df = driver.execute_query(\n",
    "    \"\"\"\n",
    "    MATCH p=(p1:Person {name: \"Lucy Clark\"})-[:KNOWS]->(s1:Skill)<-[:KNOWS]-(p2:Person)-[:KNOWS]-(s2:Skill)\n",
    "    RETURN DISTINCT s2.name as skill;\n",
    "    \"\"\",\n",
    "    database_=DATABASE,\n",
    "    routing_=RoutingControl.READ,\n",
    "    result_transformer_= lambda r: r.to_df()\n",
    ")"
   ]
  },
  {
   "cell_type": "code",
   "execution_count": 31,
   "metadata": {},
   "outputs": [
    {
     "data": {
      "text/html": [
       "<div>\n",
       "<style scoped>\n",
       "    .dataframe tbody tr th:only-of-type {\n",
       "        vertical-align: middle;\n",
       "    }\n",
       "\n",
       "    .dataframe tbody tr th {\n",
       "        vertical-align: top;\n",
       "    }\n",
       "\n",
       "    .dataframe thead th {\n",
       "        text-align: right;\n",
       "    }\n",
       "</style>\n",
       "<table border=\"1\" class=\"dataframe\">\n",
       "  <thead>\n",
       "    <tr style=\"text-align: right;\">\n",
       "      <th></th>\n",
       "      <th>skill</th>\n",
       "    </tr>\n",
       "  </thead>\n",
       "  <tbody>\n",
       "    <tr>\n",
       "      <th>0</th>\n",
       "      <td>Express.js</td>\n",
       "    </tr>\n",
       "    <tr>\n",
       "      <th>1</th>\n",
       "      <td>Azure</td>\n",
       "    </tr>\n",
       "    <tr>\n",
       "      <th>2</th>\n",
       "      <td>Testing</td>\n",
       "    </tr>\n",
       "    <tr>\n",
       "      <th>3</th>\n",
       "      <td>Machine Learning</td>\n",
       "    </tr>\n",
       "    <tr>\n",
       "      <th>4</th>\n",
       "      <td>Docker</td>\n",
       "    </tr>\n",
       "    <tr>\n",
       "      <th>5</th>\n",
       "      <td>Project Management</td>\n",
       "    </tr>\n",
       "    <tr>\n",
       "      <th>6</th>\n",
       "      <td>Agile</td>\n",
       "    </tr>\n",
       "    <tr>\n",
       "      <th>7</th>\n",
       "      <td>Spring Boot</td>\n",
       "    </tr>\n",
       "    <tr>\n",
       "      <th>8</th>\n",
       "      <td>Power BI</td>\n",
       "    </tr>\n",
       "    <tr>\n",
       "      <th>9</th>\n",
       "      <td>System Design</td>\n",
       "    </tr>\n",
       "    <tr>\n",
       "      <th>10</th>\n",
       "      <td>Angular</td>\n",
       "    </tr>\n",
       "    <tr>\n",
       "      <th>11</th>\n",
       "      <td>Data Analysis</td>\n",
       "    </tr>\n",
       "    <tr>\n",
       "      <th>12</th>\n",
       "      <td>Pandas</td>\n",
       "    </tr>\n",
       "    <tr>\n",
       "      <th>13</th>\n",
       "      <td>CSS3</td>\n",
       "    </tr>\n",
       "    <tr>\n",
       "      <th>14</th>\n",
       "      <td>Kubernetes</td>\n",
       "    </tr>\n",
       "    <tr>\n",
       "      <th>15</th>\n",
       "      <td>Security</td>\n",
       "    </tr>\n",
       "    <tr>\n",
       "      <th>16</th>\n",
       "      <td>Big Data</td>\n",
       "    </tr>\n",
       "    <tr>\n",
       "      <th>17</th>\n",
       "      <td>Swift</td>\n",
       "    </tr>\n",
       "    <tr>\n",
       "      <th>18</th>\n",
       "      <td>AWS</td>\n",
       "    </tr>\n",
       "    <tr>\n",
       "      <th>19</th>\n",
       "      <td>PHP</td>\n",
       "    </tr>\n",
       "    <tr>\n",
       "      <th>20</th>\n",
       "      <td>TensorFlow</td>\n",
       "    </tr>\n",
       "    <tr>\n",
       "      <th>21</th>\n",
       "      <td>Python</td>\n",
       "    </tr>\n",
       "    <tr>\n",
       "      <th>22</th>\n",
       "      <td>Blockchain</td>\n",
       "    </tr>\n",
       "    <tr>\n",
       "      <th>23</th>\n",
       "      <td>Cloud Architecture</td>\n",
       "    </tr>\n",
       "    <tr>\n",
       "      <th>24</th>\n",
       "      <td>Data Visualization</td>\n",
       "    </tr>\n",
       "    <tr>\n",
       "      <th>25</th>\n",
       "      <td>Java</td>\n",
       "    </tr>\n",
       "    <tr>\n",
       "      <th>26</th>\n",
       "      <td>ReactJS</td>\n",
       "    </tr>\n",
       "    <tr>\n",
       "      <th>27</th>\n",
       "      <td>Cypher</td>\n",
       "    </tr>\n",
       "    <tr>\n",
       "      <th>28</th>\n",
       "      <td>Scala</td>\n",
       "    </tr>\n",
       "    <tr>\n",
       "      <th>29</th>\n",
       "      <td>Node.js</td>\n",
       "    </tr>\n",
       "    <tr>\n",
       "      <th>30</th>\n",
       "      <td>Ruby</td>\n",
       "    </tr>\n",
       "    <tr>\n",
       "      <th>31</th>\n",
       "      <td>R</td>\n",
       "    </tr>\n",
       "    <tr>\n",
       "      <th>32</th>\n",
       "      <td>Flask</td>\n",
       "    </tr>\n",
       "    <tr>\n",
       "      <th>33</th>\n",
       "      <td>DevOps</td>\n",
       "    </tr>\n",
       "    <tr>\n",
       "      <th>34</th>\n",
       "      <td>Django</td>\n",
       "    </tr>\n",
       "    <tr>\n",
       "      <th>35</th>\n",
       "      <td>C++</td>\n",
       "    </tr>\n",
       "    <tr>\n",
       "      <th>36</th>\n",
       "      <td>Spark</td>\n",
       "    </tr>\n",
       "    <tr>\n",
       "      <th>37</th>\n",
       "      <td>Git</td>\n",
       "    </tr>\n",
       "    <tr>\n",
       "      <th>38</th>\n",
       "      <td>Rust</td>\n",
       "    </tr>\n",
       "    <tr>\n",
       "      <th>39</th>\n",
       "      <td>Vue.js</td>\n",
       "    </tr>\n",
       "    <tr>\n",
       "      <th>40</th>\n",
       "      <td>API Design</td>\n",
       "    </tr>\n",
       "    <tr>\n",
       "      <th>41</th>\n",
       "      <td>HTML5</td>\n",
       "    </tr>\n",
       "  </tbody>\n",
       "</table>\n",
       "</div>"
      ],
      "text/plain": [
       "                 skill\n",
       "0           Express.js\n",
       "1                Azure\n",
       "2              Testing\n",
       "3     Machine Learning\n",
       "4               Docker\n",
       "5   Project Management\n",
       "6                Agile\n",
       "7          Spring Boot\n",
       "8             Power BI\n",
       "9        System Design\n",
       "10             Angular\n",
       "11       Data Analysis\n",
       "12              Pandas\n",
       "13                CSS3\n",
       "14          Kubernetes\n",
       "15            Security\n",
       "16            Big Data\n",
       "17               Swift\n",
       "18                 AWS\n",
       "19                 PHP\n",
       "20          TensorFlow\n",
       "21              Python\n",
       "22          Blockchain\n",
       "23  Cloud Architecture\n",
       "24  Data Visualization\n",
       "25                Java\n",
       "26             ReactJS\n",
       "27              Cypher\n",
       "28               Scala\n",
       "29             Node.js\n",
       "30                Ruby\n",
       "31                   R\n",
       "32               Flask\n",
       "33              DevOps\n",
       "34              Django\n",
       "35                 C++\n",
       "36               Spark\n",
       "37                 Git\n",
       "38                Rust\n",
       "39              Vue.js\n",
       "40          API Design\n",
       "41               HTML5"
      ]
     },
     "execution_count": 31,
     "metadata": {},
     "output_type": "execute_result"
    }
   ],
   "source": [
    "skills_two_steps_df"
   ]
  },
  {
   "cell_type": "markdown",
   "metadata": {},
   "source": [
    "## Person Similarity"
   ]
  },
  {
   "cell_type": "markdown",
   "metadata": {},
   "source": [
    "We can define the similarity of persons based on the number of skills that are overlapping. "
   ]
  },
  {
   "cell_type": "code",
   "execution_count": 41,
   "metadata": {},
   "outputs": [],
   "source": [
    "similar_skills_df = driver.execute_query(\n",
    "    \"\"\"\n",
    "    MATCH path_1=(p1:Person{name:\"Thomas Brown\"})-[:KNOWS]->(s1:Skill)\n",
    "    MATCH path_2=(s1)<-[:KNOWS]-(p2:Person)\n",
    "    WITH p1.name as person_1, p2.name as person_2, COLLECT(DISTINCT s1.name) as skill_list, COUNT(DISTINCT(s1)) as skill_count\n",
    "    WHERE skill_count > 1 AND person_1 <> person_2\n",
    "    RETURN * ORDER BY skill_count DESC\n",
    "    \"\"\",\n",
    "    database_=DATABASE,\n",
    "    routing_=RoutingControl.READ,\n",
    "    result_transformer_= lambda r: r.to_df()\n",
    ")"
   ]
  },
  {
   "cell_type": "code",
   "execution_count": 42,
   "metadata": {},
   "outputs": [
    {
     "data": {
      "text/html": [
       "<div>\n",
       "<style scoped>\n",
       "    .dataframe tbody tr th:only-of-type {\n",
       "        vertical-align: middle;\n",
       "    }\n",
       "\n",
       "    .dataframe tbody tr th {\n",
       "        vertical-align: top;\n",
       "    }\n",
       "\n",
       "    .dataframe thead th {\n",
       "        text-align: right;\n",
       "    }\n",
       "</style>\n",
       "<table border=\"1\" class=\"dataframe\">\n",
       "  <thead>\n",
       "    <tr style=\"text-align: right;\">\n",
       "      <th></th>\n",
       "      <th>person_1</th>\n",
       "      <th>person_2</th>\n",
       "      <th>skill_count</th>\n",
       "      <th>skill_list</th>\n",
       "    </tr>\n",
       "  </thead>\n",
       "  <tbody>\n",
       "    <tr>\n",
       "      <th>0</th>\n",
       "      <td>Thomas Brown</td>\n",
       "      <td>Amelia Davis</td>\n",
       "      <td>3</td>\n",
       "      <td>[Security, Java, Docker]</td>\n",
       "    </tr>\n",
       "    <tr>\n",
       "      <th>1</th>\n",
       "      <td>Thomas Brown</td>\n",
       "      <td>Lucy Turner</td>\n",
       "      <td>2</td>\n",
       "      <td>[Security, Docker]</td>\n",
       "    </tr>\n",
       "    <tr>\n",
       "      <th>2</th>\n",
       "      <td>Thomas Brown</td>\n",
       "      <td>James Anderson</td>\n",
       "      <td>2</td>\n",
       "      <td>[Security, R]</td>\n",
       "    </tr>\n",
       "    <tr>\n",
       "      <th>3</th>\n",
       "      <td>Thomas Brown</td>\n",
       "      <td>Andrew Martin</td>\n",
       "      <td>2</td>\n",
       "      <td>[R, Java]</td>\n",
       "    </tr>\n",
       "    <tr>\n",
       "      <th>4</th>\n",
       "      <td>Thomas Brown</td>\n",
       "      <td>Thomas Garcia</td>\n",
       "      <td>2</td>\n",
       "      <td>[Java, Docker]</td>\n",
       "    </tr>\n",
       "  </tbody>\n",
       "</table>\n",
       "</div>"
      ],
      "text/plain": [
       "       person_1        person_2  skill_count                skill_list\n",
       "0  Thomas Brown    Amelia Davis            3  [Security, Java, Docker]\n",
       "1  Thomas Brown     Lucy Turner            2        [Security, Docker]\n",
       "2  Thomas Brown  James Anderson            2             [Security, R]\n",
       "3  Thomas Brown   Andrew Martin            2                 [R, Java]\n",
       "4  Thomas Brown   Thomas Garcia            2            [Java, Docker]"
      ]
     },
     "execution_count": 42,
     "metadata": {},
     "output_type": "execute_result"
    }
   ],
   "source": [
    "similar_skills_df"
   ]
  },
  {
   "cell_type": "code",
   "execution_count": 49,
   "metadata": {},
   "outputs": [],
   "source": [
    "similar_skills_all_df = driver.execute_query(\n",
    "    \"\"\"\n",
    "    MATCH path_1=(p1:Person)-[:KNOWS]->(s1:Skill)<-[:KNOWS]-(p2:Person)\n",
    "    WHERE p1.name < p2.name\n",
    "    WITH p1.name as person_1, p2.name as person_2, COLLECT(DISTINCT s1.name) as skill_list, COUNT(DISTINCT(s1)) as skill_count\n",
    "    WHERE skill_count >= 1\n",
    "    RETURN * ORDER BY skill_count DESC\n",
    "    \"\"\",\n",
    "    database_=DATABASE,\n",
    "    routing_=RoutingControl.READ,\n",
    "    result_transformer_= lambda r: r.to_df()\n",
    ")"
   ]
  },
  {
   "cell_type": "code",
   "execution_count": 50,
   "metadata": {},
   "outputs": [
    {
     "data": {
      "text/html": [
       "<div>\n",
       "<style scoped>\n",
       "    .dataframe tbody tr th:only-of-type {\n",
       "        vertical-align: middle;\n",
       "    }\n",
       "\n",
       "    .dataframe tbody tr th {\n",
       "        vertical-align: top;\n",
       "    }\n",
       "\n",
       "    .dataframe thead th {\n",
       "        text-align: right;\n",
       "    }\n",
       "</style>\n",
       "<table border=\"1\" class=\"dataframe\">\n",
       "  <thead>\n",
       "    <tr style=\"text-align: right;\">\n",
       "      <th></th>\n",
       "      <th>person_1</th>\n",
       "      <th>person_2</th>\n",
       "      <th>skill_count</th>\n",
       "      <th>skill_list</th>\n",
       "    </tr>\n",
       "  </thead>\n",
       "  <tbody>\n",
       "    <tr>\n",
       "      <th>0</th>\n",
       "      <td>Charles Jones</td>\n",
       "      <td>John Taylor</td>\n",
       "      <td>3</td>\n",
       "      <td>[AWS, CSS3, Pandas]</td>\n",
       "    </tr>\n",
       "    <tr>\n",
       "      <th>1</th>\n",
       "      <td>Joseph Martin</td>\n",
       "      <td>Kevin Young</td>\n",
       "      <td>3</td>\n",
       "      <td>[Agile, Linux, ReactJS]</td>\n",
       "    </tr>\n",
       "    <tr>\n",
       "      <th>2</th>\n",
       "      <td>Brian Thompson</td>\n",
       "      <td>John Baker</td>\n",
       "      <td>3</td>\n",
       "      <td>[Agile, Data Analysis, PHP]</td>\n",
       "    </tr>\n",
       "    <tr>\n",
       "      <th>3</th>\n",
       "      <td>Natalie Thompson</td>\n",
       "      <td>Ryan Jones</td>\n",
       "      <td>3</td>\n",
       "      <td>[Angular, Jenkins, Spark]</td>\n",
       "    </tr>\n",
       "    <tr>\n",
       "      <th>4</th>\n",
       "      <td>David Rodriguez</td>\n",
       "      <td>Matthew Scott</td>\n",
       "      <td>3</td>\n",
       "      <td>[Azure, Cypher, Scrum]</td>\n",
       "    </tr>\n",
       "    <tr>\n",
       "      <th>...</th>\n",
       "      <td>...</td>\n",
       "      <td>...</td>\n",
       "      <td>...</td>\n",
       "      <td>...</td>\n",
       "    </tr>\n",
       "    <tr>\n",
       "      <th>1314</th>\n",
       "      <td>Lucy Clark</td>\n",
       "      <td>Ryan Hall</td>\n",
       "      <td>1</td>\n",
       "      <td>[Scrum]</td>\n",
       "    </tr>\n",
       "    <tr>\n",
       "      <th>1315</th>\n",
       "      <td>David Hill</td>\n",
       "      <td>Lucy Clark</td>\n",
       "      <td>1</td>\n",
       "      <td>[Scrum]</td>\n",
       "    </tr>\n",
       "    <tr>\n",
       "      <th>1316</th>\n",
       "      <td>Emily Thompson</td>\n",
       "      <td>Lucy Clark</td>\n",
       "      <td>1</td>\n",
       "      <td>[Scrum]</td>\n",
       "    </tr>\n",
       "    <tr>\n",
       "      <th>1317</th>\n",
       "      <td>John Taylor</td>\n",
       "      <td>Lucy Clark</td>\n",
       "      <td>1</td>\n",
       "      <td>[Scrum]</td>\n",
       "    </tr>\n",
       "    <tr>\n",
       "      <th>1318</th>\n",
       "      <td>Christopher Thompson</td>\n",
       "      <td>Lucy Clark</td>\n",
       "      <td>1</td>\n",
       "      <td>[Scrum]</td>\n",
       "    </tr>\n",
       "  </tbody>\n",
       "</table>\n",
       "<p>1319 rows × 4 columns</p>\n",
       "</div>"
      ],
      "text/plain": [
       "                  person_1       person_2  skill_count  \\\n",
       "0            Charles Jones    John Taylor            3   \n",
       "1            Joseph Martin    Kevin Young            3   \n",
       "2           Brian Thompson     John Baker            3   \n",
       "3         Natalie Thompson     Ryan Jones            3   \n",
       "4          David Rodriguez  Matthew Scott            3   \n",
       "...                    ...            ...          ...   \n",
       "1314            Lucy Clark      Ryan Hall            1   \n",
       "1315            David Hill     Lucy Clark            1   \n",
       "1316        Emily Thompson     Lucy Clark            1   \n",
       "1317           John Taylor     Lucy Clark            1   \n",
       "1318  Christopher Thompson     Lucy Clark            1   \n",
       "\n",
       "                       skill_list  \n",
       "0             [AWS, CSS3, Pandas]  \n",
       "1         [Agile, Linux, ReactJS]  \n",
       "2     [Agile, Data Analysis, PHP]  \n",
       "3       [Angular, Jenkins, Spark]  \n",
       "4          [Azure, Cypher, Scrum]  \n",
       "...                           ...  \n",
       "1314                      [Scrum]  \n",
       "1315                      [Scrum]  \n",
       "1316                      [Scrum]  \n",
       "1317                      [Scrum]  \n",
       "1318                      [Scrum]  \n",
       "\n",
       "[1319 rows x 4 columns]"
      ]
     },
     "execution_count": 50,
     "metadata": {},
     "output_type": "execute_result"
    }
   ],
   "source": [
    "similar_skills_all_df"
   ]
  },
  {
   "cell_type": "markdown",
   "metadata": {},
   "source": [
    "Load the skill count to the database in a new relationship"
   ]
  },
  {
   "cell_type": "code",
   "execution_count": 52,
   "metadata": {},
   "outputs": [],
   "source": [
    "for chunk in split_dataframe(similar_skills_all_df):\n",
    "    records, summary, keys = driver.execute_query(\n",
    "        \"\"\"\n",
    "        UNWIND $rows AS row\n",
    "        MERGE (p1:Person{name:row.person_1})\n",
    "        MERGE (p2:Person{name:row.person_2})\n",
    "        MERGE (p1)-[s:SIMILAR_SKILLSET]->(p2)\n",
    "        SET s.overlap = row.skill_count\n",
    "        RETURN COUNT(*) AS rows_processed\n",
    "        \"\"\",\n",
    "        database_=DATABASE,\n",
    "        routing_=RoutingControl.WRITE,\n",
    "        rows = chunk.to_dict('records')\n",
    "    )"
   ]
  },
  {
   "cell_type": "markdown",
   "metadata": {},
   "source": [
    "Take a minute to explore the SIMILAR_SKILLSET network"
   ]
  },
  {
   "cell_type": "markdown",
   "metadata": {},
   "source": [
    "## Communities"
   ]
  },
  {
   "cell_type": "markdown",
   "metadata": {},
   "source": [
    "Let's run some Graph Data Science based on Persons and Skills. Let's first setup the [Graph Data Science Client](https://neo4j.com/docs/graph-data-science-client/current/). "
   ]
  },
  {
   "cell_type": "code",
   "execution_count": 68,
   "metadata": {},
   "outputs": [
    {
     "data": {
      "text/plain": [
       "'2.15.0'"
      ]
     },
     "execution_count": 68,
     "metadata": {},
     "output_type": "execute_result"
    }
   ],
   "source": [
    "gds = GraphDataScience.from_neo4j_driver(driver=driver)\n",
    "gds.set_database(DATABASE)\n",
    "gds.version()"
   ]
  },
  {
   "cell_type": "markdown",
   "metadata": {},
   "source": [
    "Let's investigate Persons that are similar in the graph (based on skills they share). For that we first need to create a [Graph object](https://neo4j.com/docs/graph-data-science-client/current/graph-object/). "
   ]
  },
  {
   "cell_type": "code",
   "execution_count": 80,
   "metadata": {},
   "outputs": [],
   "source": [
    "graph_name = \"person_similarity_projection\"\n",
    "node_projection = [\"Person\"]\n",
    "rel_projection = {\"SIMILAR_SKILLSET\": {\"orientation\": 'UNDIRECTED', \"properties\": \"overlap\"}, }"
   ]
  },
  {
   "cell_type": "code",
   "execution_count": 81,
   "metadata": {},
   "outputs": [],
   "source": [
    "G, res = gds.graph.project(graph_name, node_projection, rel_projection)"
   ]
  },
  {
   "cell_type": "markdown",
   "metadata": {},
   "source": [
    "Run the [Leiden Algorithm](https://neo4j.com/docs/graph-data-science/current/algorithms/leiden/) for Community Detection"
   ]
  },
  {
   "cell_type": "code",
   "execution_count": 97,
   "metadata": {},
   "outputs": [
    {
     "data": {
      "text/plain": [
       "writeMillis                                                             13\n",
       "nodePropertiesWritten                                                  100\n",
       "ranLevels                                                                2\n",
       "didConverge                                                           True\n",
       "nodeCount                                                              100\n",
       "communityCount                                                          48\n",
       "communityDistribution    {'min': 1, 'p5': 1, 'max': 5, 'p999': 5, 'p99'...\n",
       "modularity                                                       -0.026968\n",
       "modularities                [-0.027811793200144475, -0.026968247063940864]\n",
       "postProcessingMillis                                                     1\n",
       "preProcessingMillis                                                      0\n",
       "computeMillis                                                           22\n",
       "configuration            {'writeProperty': 'leiden_community', 'theta':...\n",
       "Name: 0, dtype: object"
      ]
     },
     "execution_count": 97,
     "metadata": {},
     "output_type": "execute_result"
    }
   ],
   "source": [
    "gds.leiden.write(\n",
    "    G,\n",
    "    writeProperty='leiden_community',\n",
    "    relationshipWeightProperty='overlap',\n",
    "    maxLevels=100,\n",
    "    gamma=5,\n",
    "    theta=0.001\n",
    ")"
   ]
  },
  {
   "cell_type": "code",
   "execution_count": 108,
   "metadata": {},
   "outputs": [],
   "source": [
    "communities_df = driver.execute_query(\n",
    "    \"\"\"\n",
    "    MATCH (p:Person)\n",
    "    RETURN p.leiden_community AS Community, COUNT(*) as MemberCount\n",
    "    \"\"\",\n",
    "    database_=DATABASE,\n",
    "    routing_=RoutingControl.READ,\n",
    "    result_transformer_= lambda r: r.to_df()\n",
    ")"
   ]
  },
  {
   "cell_type": "code",
   "execution_count": 109,
   "metadata": {},
   "outputs": [
    {
     "data": {
      "text/html": [
       "<div>\n",
       "<style scoped>\n",
       "    .dataframe tbody tr th:only-of-type {\n",
       "        vertical-align: middle;\n",
       "    }\n",
       "\n",
       "    .dataframe tbody tr th {\n",
       "        vertical-align: top;\n",
       "    }\n",
       "\n",
       "    .dataframe thead th {\n",
       "        text-align: right;\n",
       "    }\n",
       "</style>\n",
       "<table border=\"1\" class=\"dataframe\">\n",
       "  <thead>\n",
       "    <tr style=\"text-align: right;\">\n",
       "      <th></th>\n",
       "      <th>Community</th>\n",
       "      <th>MemberCount</th>\n",
       "    </tr>\n",
       "  </thead>\n",
       "  <tbody>\n",
       "    <tr>\n",
       "      <th>0</th>\n",
       "      <td>0</td>\n",
       "      <td>1</td>\n",
       "    </tr>\n",
       "    <tr>\n",
       "      <th>1</th>\n",
       "      <td>1</td>\n",
       "      <td>1</td>\n",
       "    </tr>\n",
       "    <tr>\n",
       "      <th>2</th>\n",
       "      <td>31</td>\n",
       "      <td>2</td>\n",
       "    </tr>\n",
       "    <tr>\n",
       "      <th>3</th>\n",
       "      <td>5</td>\n",
       "      <td>5</td>\n",
       "    </tr>\n",
       "    <tr>\n",
       "      <th>4</th>\n",
       "      <td>41</td>\n",
       "      <td>2</td>\n",
       "    </tr>\n",
       "    <tr>\n",
       "      <th>5</th>\n",
       "      <td>30</td>\n",
       "      <td>2</td>\n",
       "    </tr>\n",
       "    <tr>\n",
       "      <th>6</th>\n",
       "      <td>22</td>\n",
       "      <td>5</td>\n",
       "    </tr>\n",
       "    <tr>\n",
       "      <th>7</th>\n",
       "      <td>11</td>\n",
       "      <td>2</td>\n",
       "    </tr>\n",
       "    <tr>\n",
       "      <th>8</th>\n",
       "      <td>43</td>\n",
       "      <td>2</td>\n",
       "    </tr>\n",
       "    <tr>\n",
       "      <th>9</th>\n",
       "      <td>2</td>\n",
       "      <td>1</td>\n",
       "    </tr>\n",
       "    <tr>\n",
       "      <th>10</th>\n",
       "      <td>3</td>\n",
       "      <td>1</td>\n",
       "    </tr>\n",
       "    <tr>\n",
       "      <th>11</th>\n",
       "      <td>4</td>\n",
       "      <td>1</td>\n",
       "    </tr>\n",
       "    <tr>\n",
       "      <th>12</th>\n",
       "      <td>15</td>\n",
       "      <td>4</td>\n",
       "    </tr>\n",
       "    <tr>\n",
       "      <th>13</th>\n",
       "      <td>34</td>\n",
       "      <td>3</td>\n",
       "    </tr>\n",
       "    <tr>\n",
       "      <th>14</th>\n",
       "      <td>6</td>\n",
       "      <td>1</td>\n",
       "    </tr>\n",
       "    <tr>\n",
       "      <th>15</th>\n",
       "      <td>24</td>\n",
       "      <td>2</td>\n",
       "    </tr>\n",
       "    <tr>\n",
       "      <th>16</th>\n",
       "      <td>7</td>\n",
       "      <td>2</td>\n",
       "    </tr>\n",
       "    <tr>\n",
       "      <th>17</th>\n",
       "      <td>8</td>\n",
       "      <td>1</td>\n",
       "    </tr>\n",
       "    <tr>\n",
       "      <th>18</th>\n",
       "      <td>9</td>\n",
       "      <td>3</td>\n",
       "    </tr>\n",
       "    <tr>\n",
       "      <th>19</th>\n",
       "      <td>14</td>\n",
       "      <td>5</td>\n",
       "    </tr>\n",
       "    <tr>\n",
       "      <th>20</th>\n",
       "      <td>13</td>\n",
       "      <td>3</td>\n",
       "    </tr>\n",
       "    <tr>\n",
       "      <th>21</th>\n",
       "      <td>28</td>\n",
       "      <td>4</td>\n",
       "    </tr>\n",
       "    <tr>\n",
       "      <th>22</th>\n",
       "      <td>18</td>\n",
       "      <td>2</td>\n",
       "    </tr>\n",
       "    <tr>\n",
       "      <th>23</th>\n",
       "      <td>42</td>\n",
       "      <td>3</td>\n",
       "    </tr>\n",
       "    <tr>\n",
       "      <th>24</th>\n",
       "      <td>29</td>\n",
       "      <td>2</td>\n",
       "    </tr>\n",
       "    <tr>\n",
       "      <th>25</th>\n",
       "      <td>12</td>\n",
       "      <td>1</td>\n",
       "    </tr>\n",
       "    <tr>\n",
       "      <th>26</th>\n",
       "      <td>38</td>\n",
       "      <td>4</td>\n",
       "    </tr>\n",
       "    <tr>\n",
       "      <th>27</th>\n",
       "      <td>25</td>\n",
       "      <td>2</td>\n",
       "    </tr>\n",
       "    <tr>\n",
       "      <th>28</th>\n",
       "      <td>16</td>\n",
       "      <td>1</td>\n",
       "    </tr>\n",
       "    <tr>\n",
       "      <th>29</th>\n",
       "      <td>17</td>\n",
       "      <td>1</td>\n",
       "    </tr>\n",
       "    <tr>\n",
       "      <th>30</th>\n",
       "      <td>44</td>\n",
       "      <td>2</td>\n",
       "    </tr>\n",
       "    <tr>\n",
       "      <th>31</th>\n",
       "      <td>20</td>\n",
       "      <td>2</td>\n",
       "    </tr>\n",
       "    <tr>\n",
       "      <th>32</th>\n",
       "      <td>39</td>\n",
       "      <td>2</td>\n",
       "    </tr>\n",
       "    <tr>\n",
       "      <th>33</th>\n",
       "      <td>19</td>\n",
       "      <td>1</td>\n",
       "    </tr>\n",
       "    <tr>\n",
       "      <th>34</th>\n",
       "      <td>21</td>\n",
       "      <td>1</td>\n",
       "    </tr>\n",
       "    <tr>\n",
       "      <th>35</th>\n",
       "      <td>32</td>\n",
       "      <td>3</td>\n",
       "    </tr>\n",
       "    <tr>\n",
       "      <th>36</th>\n",
       "      <td>23</td>\n",
       "      <td>3</td>\n",
       "    </tr>\n",
       "    <tr>\n",
       "      <th>37</th>\n",
       "      <td>33</td>\n",
       "      <td>2</td>\n",
       "    </tr>\n",
       "    <tr>\n",
       "      <th>38</th>\n",
       "      <td>46</td>\n",
       "      <td>2</td>\n",
       "    </tr>\n",
       "    <tr>\n",
       "      <th>39</th>\n",
       "      <td>26</td>\n",
       "      <td>1</td>\n",
       "    </tr>\n",
       "    <tr>\n",
       "      <th>40</th>\n",
       "      <td>49</td>\n",
       "      <td>2</td>\n",
       "    </tr>\n",
       "    <tr>\n",
       "      <th>41</th>\n",
       "      <td>35</td>\n",
       "      <td>1</td>\n",
       "    </tr>\n",
       "    <tr>\n",
       "      <th>42</th>\n",
       "      <td>37</td>\n",
       "      <td>1</td>\n",
       "    </tr>\n",
       "    <tr>\n",
       "      <th>43</th>\n",
       "      <td>51</td>\n",
       "      <td>2</td>\n",
       "    </tr>\n",
       "    <tr>\n",
       "      <th>44</th>\n",
       "      <td>48</td>\n",
       "      <td>2</td>\n",
       "    </tr>\n",
       "    <tr>\n",
       "      <th>45</th>\n",
       "      <td>50</td>\n",
       "      <td>2</td>\n",
       "    </tr>\n",
       "    <tr>\n",
       "      <th>46</th>\n",
       "      <td>47</td>\n",
       "      <td>1</td>\n",
       "    </tr>\n",
       "    <tr>\n",
       "      <th>47</th>\n",
       "      <td>52</td>\n",
       "      <td>1</td>\n",
       "    </tr>\n",
       "  </tbody>\n",
       "</table>\n",
       "</div>"
      ],
      "text/plain": [
       "    Community  MemberCount\n",
       "0           0            1\n",
       "1           1            1\n",
       "2          31            2\n",
       "3           5            5\n",
       "4          41            2\n",
       "5          30            2\n",
       "6          22            5\n",
       "7          11            2\n",
       "8          43            2\n",
       "9           2            1\n",
       "10          3            1\n",
       "11          4            1\n",
       "12         15            4\n",
       "13         34            3\n",
       "14          6            1\n",
       "15         24            2\n",
       "16          7            2\n",
       "17          8            1\n",
       "18          9            3\n",
       "19         14            5\n",
       "20         13            3\n",
       "21         28            4\n",
       "22         18            2\n",
       "23         42            3\n",
       "24         29            2\n",
       "25         12            1\n",
       "26         38            4\n",
       "27         25            2\n",
       "28         16            1\n",
       "29         17            1\n",
       "30         44            2\n",
       "31         20            2\n",
       "32         39            2\n",
       "33         19            1\n",
       "34         21            1\n",
       "35         32            3\n",
       "36         23            3\n",
       "37         33            2\n",
       "38         46            2\n",
       "39         26            1\n",
       "40         49            2\n",
       "41         35            1\n",
       "42         37            1\n",
       "43         51            2\n",
       "44         48            2\n",
       "45         50            2\n",
       "46         47            1\n",
       "47         52            1"
      ]
     },
     "execution_count": 109,
     "metadata": {},
     "output_type": "execute_result"
    }
   ],
   "source": [
    "communities_df"
   ]
  },
  {
   "cell_type": "markdown",
   "metadata": {},
   "source": [
    "Check communities based on people with high overlap"
   ]
  },
  {
   "cell_type": "code",
   "execution_count": 98,
   "metadata": {},
   "outputs": [],
   "source": [
    "community_check_df = driver.execute_query(\n",
    "    \"\"\"\n",
    "    MATCH (p1:Person)-[s:SIMILAR_SKILLSET]->(p2:Person)\n",
    "    WHERE s.overlap > 2\n",
    "    RETURN s.overlap, p1.name, p1.leiden_community, p2.name, p2.leiden_community\n",
    "    \"\"\",\n",
    "    database_=DATABASE,\n",
    "    routing_=RoutingControl.READ,\n",
    "    result_transformer_= lambda r: r.to_df()\n",
    ")"
   ]
  },
  {
   "cell_type": "code",
   "execution_count": 99,
   "metadata": {},
   "outputs": [
    {
     "data": {
      "text/html": [
       "<div>\n",
       "<style scoped>\n",
       "    .dataframe tbody tr th:only-of-type {\n",
       "        vertical-align: middle;\n",
       "    }\n",
       "\n",
       "    .dataframe tbody tr th {\n",
       "        vertical-align: top;\n",
       "    }\n",
       "\n",
       "    .dataframe thead th {\n",
       "        text-align: right;\n",
       "    }\n",
       "</style>\n",
       "<table border=\"1\" class=\"dataframe\">\n",
       "  <thead>\n",
       "    <tr style=\"text-align: right;\">\n",
       "      <th></th>\n",
       "      <th>s.overlap</th>\n",
       "      <th>p1.name</th>\n",
       "      <th>p1.leiden_community</th>\n",
       "      <th>p2.name</th>\n",
       "      <th>p2.leiden_community</th>\n",
       "    </tr>\n",
       "  </thead>\n",
       "  <tbody>\n",
       "    <tr>\n",
       "      <th>0</th>\n",
       "      <td>3</td>\n",
       "      <td>Natalie Thompson</td>\n",
       "      <td>14</td>\n",
       "      <td>Ryan Jones</td>\n",
       "      <td>14</td>\n",
       "    </tr>\n",
       "    <tr>\n",
       "      <th>1</th>\n",
       "      <td>3</td>\n",
       "      <td>Hannah Campbell</td>\n",
       "      <td>22</td>\n",
       "      <td>Ryan Rodriguez</td>\n",
       "      <td>22</td>\n",
       "    </tr>\n",
       "    <tr>\n",
       "      <th>2</th>\n",
       "      <td>3</td>\n",
       "      <td>Charles Jones</td>\n",
       "      <td>13</td>\n",
       "      <td>John Taylor</td>\n",
       "      <td>13</td>\n",
       "    </tr>\n",
       "    <tr>\n",
       "      <th>3</th>\n",
       "      <td>3</td>\n",
       "      <td>Amelia Davis</td>\n",
       "      <td>18</td>\n",
       "      <td>Thomas Brown</td>\n",
       "      <td>18</td>\n",
       "    </tr>\n",
       "    <tr>\n",
       "      <th>4</th>\n",
       "      <td>3</td>\n",
       "      <td>Amelia Davis</td>\n",
       "      <td>18</td>\n",
       "      <td>John Garcia</td>\n",
       "      <td>21</td>\n",
       "    </tr>\n",
       "    <tr>\n",
       "      <th>5</th>\n",
       "      <td>3</td>\n",
       "      <td>Brian Thompson</td>\n",
       "      <td>33</td>\n",
       "      <td>John Baker</td>\n",
       "      <td>33</td>\n",
       "    </tr>\n",
       "    <tr>\n",
       "      <th>6</th>\n",
       "      <td>3</td>\n",
       "      <td>Joseph Martin</td>\n",
       "      <td>32</td>\n",
       "      <td>Kevin Young</td>\n",
       "      <td>32</td>\n",
       "    </tr>\n",
       "    <tr>\n",
       "      <th>7</th>\n",
       "      <td>3</td>\n",
       "      <td>Andrew Anderson</td>\n",
       "      <td>15</td>\n",
       "      <td>Andrew Martin</td>\n",
       "      <td>15</td>\n",
       "    </tr>\n",
       "    <tr>\n",
       "      <th>8</th>\n",
       "      <td>3</td>\n",
       "      <td>Daniel Hall</td>\n",
       "      <td>30</td>\n",
       "      <td>Daniel Hill</td>\n",
       "      <td>30</td>\n",
       "    </tr>\n",
       "    <tr>\n",
       "      <th>9</th>\n",
       "      <td>3</td>\n",
       "      <td>David Rodriguez</td>\n",
       "      <td>9</td>\n",
       "      <td>Matthew Scott</td>\n",
       "      <td>9</td>\n",
       "    </tr>\n",
       "  </tbody>\n",
       "</table>\n",
       "</div>"
      ],
      "text/plain": [
       "   s.overlap           p1.name  p1.leiden_community         p2.name  \\\n",
       "0          3  Natalie Thompson                   14      Ryan Jones   \n",
       "1          3   Hannah Campbell                   22  Ryan Rodriguez   \n",
       "2          3     Charles Jones                   13     John Taylor   \n",
       "3          3      Amelia Davis                   18    Thomas Brown   \n",
       "4          3      Amelia Davis                   18     John Garcia   \n",
       "5          3    Brian Thompson                   33      John Baker   \n",
       "6          3     Joseph Martin                   32     Kevin Young   \n",
       "7          3   Andrew Anderson                   15   Andrew Martin   \n",
       "8          3       Daniel Hall                   30     Daniel Hill   \n",
       "9          3   David Rodriguez                    9   Matthew Scott   \n",
       "\n",
       "   p2.leiden_community  \n",
       "0                   14  \n",
       "1                   22  \n",
       "2                   13  \n",
       "3                   18  \n",
       "4                   21  \n",
       "5                   33  \n",
       "6                   32  \n",
       "7                   15  \n",
       "8                   30  \n",
       "9                    9  "
      ]
     },
     "execution_count": 99,
     "metadata": {},
     "output_type": "execute_result"
    }
   ],
   "source": [
    "community_check_df"
   ]
  },
  {
   "cell_type": "markdown",
   "metadata": {},
   "source": [
    "Drop the projection from the graph catalogue to free up resources"
   ]
  },
  {
   "cell_type": "code",
   "execution_count": null,
   "metadata": {},
   "outputs": [],
   "source": [
    "G.drop()"
   ]
  },
  {
   "cell_type": "markdown",
   "metadata": {
    "id": "jU696MRBKlne"
   },
   "source": [
    "# Semantic Similar skill"
   ]
  },
  {
   "cell_type": "code",
   "execution_count": 105,
   "metadata": {
    "id": "mZC3AKS9ZZ-W"
   },
   "outputs": [],
   "source": [
    "skills_df = gds.run_cypher(\n",
    "    \"\"\"\n",
    "    MATCH (s:Skill)\n",
    "    RETURN s.name AS skill\n",
    "    \"\"\"\n",
    ")"
   ]
  },
  {
   "cell_type": "code",
   "execution_count": 60,
   "metadata": {
    "id": "mZC3AKS9ZZ-W"
   },
   "outputs": [
    {
     "data": {
      "text/html": [
       "<div>\n",
       "<style scoped>\n",
       "    .dataframe tbody tr th:only-of-type {\n",
       "        vertical-align: middle;\n",
       "    }\n",
       "\n",
       "    .dataframe tbody tr th {\n",
       "        vertical-align: top;\n",
       "    }\n",
       "\n",
       "    .dataframe thead th {\n",
       "        text-align: right;\n",
       "    }\n",
       "</style>\n",
       "<table border=\"1\" class=\"dataframe\">\n",
       "  <thead>\n",
       "    <tr style=\"text-align: right;\">\n",
       "      <th></th>\n",
       "      <th>Name</th>\n",
       "      <th>Embedding</th>\n",
       "    </tr>\n",
       "  </thead>\n",
       "  <tbody>\n",
       "    <tr>\n",
       "      <th>0</th>\n",
       "      <td>API Design</td>\n",
       "      <td>[0.002335607074201107, -0.021444285288453102, ...</td>\n",
       "    </tr>\n",
       "    <tr>\n",
       "      <th>1</th>\n",
       "      <td>AWS</td>\n",
       "      <td>[-0.004132895264774561, -0.017077714204788208,...</td>\n",
       "    </tr>\n",
       "    <tr>\n",
       "      <th>2</th>\n",
       "      <td>Agile</td>\n",
       "      <td>[-0.03577807545661926, -0.01052175834774971, -...</td>\n",
       "    </tr>\n",
       "    <tr>\n",
       "      <th>3</th>\n",
       "      <td>Angular</td>\n",
       "      <td>[-0.006358983926475048, 0.015042469836771488, ...</td>\n",
       "    </tr>\n",
       "    <tr>\n",
       "      <th>4</th>\n",
       "      <td>Azure</td>\n",
       "      <td>[0.00941519346088171, -0.026340041309595108, 0...</td>\n",
       "    </tr>\n",
       "  </tbody>\n",
       "</table>\n",
       "</div>"
      ],
      "text/plain": [
       "         Name                                          Embedding\n",
       "0  API Design  [0.002335607074201107, -0.021444285288453102, ...\n",
       "1         AWS  [-0.004132895264774561, -0.017077714204788208,...\n",
       "2       Agile  [-0.03577807545661926, -0.01052175834774971, -...\n",
       "3     Angular  [-0.006358983926475048, 0.015042469836771488, ...\n",
       "4       Azure  [0.00941519346088171, -0.026340041309595108, 0..."
      ]
     },
     "execution_count": 60,
     "metadata": {},
     "output_type": "execute_result"
    }
   ],
   "source": [
    "skills_df.head(5)"
   ]
  },
  {
   "cell_type": "markdown",
   "metadata": {
    "id": "IKWEZ7oy051q"
   },
   "source": [
    "## STOP STOP STOP - DO NOT PROCEED (YET)"
   ]
  },
  {
   "cell_type": "markdown",
   "metadata": {},
   "source": [
    "-- Only to be run by instructor (or if you have your own api key). Skip the following two cells -- "
   ]
  },
  {
   "cell_type": "code",
   "execution_count": null,
   "metadata": {},
   "outputs": [],
   "source": [
    "# embeddings = OpenAIEmbeddings(model='text-embedding-ada-002')"
   ]
  },
  {
   "cell_type": "code",
   "execution_count": 29,
   "metadata": {},
   "outputs": [],
   "source": [
    "# skills_df['embedding'] = skills_df['skill'].apply( lambda skill: embeddings.embed_documents([skill])[0])\n",
    "# skills_df.head()"
   ]
  },
  {
   "cell_type": "code",
   "execution_count": 30,
   "metadata": {},
   "outputs": [],
   "source": [
    "# gds.run_cypher('''\n",
    "#     unwind $data as row\n",
    "#     match (s:Skill{name: row.skill})\n",
    "#     set s.embedding = row.embedding\n",
    "#     ''',\n",
    "#     params = { 'data': skills_df.to_dict(orient='records') }\n",
    "# )"
   ]
  },
  {
   "cell_type": "code",
   "execution_count": 62,
   "metadata": {},
   "outputs": [],
   "source": [
    "url = 'https://raw.githubusercontent.com/erikbijl/genai-workshop-amsterdam/refs/heads/main/talent/skills_embeddings.csv'"
   ]
  },
  {
   "cell_type": "code",
   "execution_count": 63,
   "metadata": {},
   "outputs": [],
   "source": [
    "skills_embeddings_df = pd.read_csv(url)"
   ]
  },
  {
   "cell_type": "code",
   "execution_count": 64,
   "metadata": {},
   "outputs": [],
   "source": [
    "skills_embeddings_df['Embedding'] = skills_embeddings_df['Embedding'].apply( lambda x: [ float(i) for i in x.strip(\"[]\").split(\", \")] )"
   ]
  },
  {
   "cell_type": "code",
   "execution_count": 65,
   "metadata": {},
   "outputs": [
    {
     "data": {
      "text/html": [
       "<div>\n",
       "<style scoped>\n",
       "    .dataframe tbody tr th:only-of-type {\n",
       "        vertical-align: middle;\n",
       "    }\n",
       "\n",
       "    .dataframe tbody tr th {\n",
       "        vertical-align: top;\n",
       "    }\n",
       "\n",
       "    .dataframe thead th {\n",
       "        text-align: right;\n",
       "    }\n",
       "</style>\n",
       "<table border=\"1\" class=\"dataframe\">\n",
       "  <thead>\n",
       "    <tr style=\"text-align: right;\">\n",
       "      <th></th>\n",
       "      <th>Skill</th>\n",
       "      <th>Embedding</th>\n",
       "    </tr>\n",
       "  </thead>\n",
       "  <tbody>\n",
       "    <tr>\n",
       "      <th>0</th>\n",
       "      <td>API Design</td>\n",
       "      <td>[0.002335607074201107, -0.021444285288453102, ...</td>\n",
       "    </tr>\n",
       "    <tr>\n",
       "      <th>1</th>\n",
       "      <td>AWS</td>\n",
       "      <td>[-0.004132895264774561, -0.017077714204788208,...</td>\n",
       "    </tr>\n",
       "    <tr>\n",
       "      <th>2</th>\n",
       "      <td>Agile</td>\n",
       "      <td>[-0.03577807545661926, -0.01052175834774971, -...</td>\n",
       "    </tr>\n",
       "    <tr>\n",
       "      <th>3</th>\n",
       "      <td>Angular</td>\n",
       "      <td>[-0.006358983926475048, 0.015042469836771488, ...</td>\n",
       "    </tr>\n",
       "    <tr>\n",
       "      <th>4</th>\n",
       "      <td>Azure</td>\n",
       "      <td>[0.00941519346088171, -0.026340041309595108, 0...</td>\n",
       "    </tr>\n",
       "  </tbody>\n",
       "</table>\n",
       "</div>"
      ],
      "text/plain": [
       "        Skill                                          Embedding\n",
       "0  API Design  [0.002335607074201107, -0.021444285288453102, ...\n",
       "1         AWS  [-0.004132895264774561, -0.017077714204788208,...\n",
       "2       Agile  [-0.03577807545661926, -0.01052175834774971, -...\n",
       "3     Angular  [-0.006358983926475048, 0.015042469836771488, ...\n",
       "4       Azure  [0.00941519346088171, -0.026340041309595108, 0..."
      ]
     },
     "execution_count": 65,
     "metadata": {},
     "output_type": "execute_result"
    }
   ],
   "source": [
    "skills_embeddings_df.head()"
   ]
  },
  {
   "cell_type": "markdown",
   "metadata": {},
   "source": [
    "Length of an embedding"
   ]
  },
  {
   "cell_type": "code",
   "execution_count": 118,
   "metadata": {},
   "outputs": [
    {
     "data": {
      "text/plain": [
       "1536"
      ]
     },
     "execution_count": 118,
     "metadata": {},
     "output_type": "execute_result"
    }
   ],
   "source": [
    "len(skills_embeddings_df['Embedding'].iloc[0])"
   ]
  },
  {
   "cell_type": "markdown",
   "metadata": {
    "id": "-K7yLpGtZZ-W"
   },
   "source": [
    "Add embeddings to Skill nodes in database"
   ]
  },
  {
   "cell_type": "code",
   "execution_count": 113,
   "metadata": {},
   "outputs": [],
   "source": [
    "for chunk in split_dataframe(skills_embeddings_df):\n",
    "    records, summary, keys = driver.execute_query(\n",
    "        \"\"\"\n",
    "        UNWIND $rows AS row\n",
    "        MATCH (s:Skill{name: row.Skill})\n",
    "        SET s.embedding = row.Embedding\n",
    "        WITH s\n",
    "        CALL db.create.setNodeVectorProperty(s, \"embedding\", s.embedding)\n",
    "        RETURN COUNT(*) AS rows_processed\n",
    "        \"\"\",\n",
    "        database_=DATABASE,\n",
    "        routing_=RoutingControl.WRITE,\n",
    "        rows = chunk.to_dict('records')\n",
    "    )"
   ]
  },
  {
   "cell_type": "code",
   "execution_count": 121,
   "metadata": {},
   "outputs": [
    {
     "data": {
      "text/html": [
       "<div>\n",
       "<style scoped>\n",
       "    .dataframe tbody tr th:only-of-type {\n",
       "        vertical-align: middle;\n",
       "    }\n",
       "\n",
       "    .dataframe tbody tr th {\n",
       "        vertical-align: top;\n",
       "    }\n",
       "\n",
       "    .dataframe thead th {\n",
       "        text-align: right;\n",
       "    }\n",
       "</style>\n",
       "<table border=\"1\" class=\"dataframe\">\n",
       "  <thead>\n",
       "    <tr style=\"text-align: right;\">\n",
       "      <th></th>\n",
       "      <th>id</th>\n",
       "      <th>name</th>\n",
       "      <th>state</th>\n",
       "      <th>populationPercent</th>\n",
       "      <th>type</th>\n",
       "      <th>entityType</th>\n",
       "      <th>labelsOrTypes</th>\n",
       "      <th>properties</th>\n",
       "      <th>indexProvider</th>\n",
       "      <th>owningConstraint</th>\n",
       "      <th>lastRead</th>\n",
       "      <th>readCount</th>\n",
       "    </tr>\n",
       "  </thead>\n",
       "  <tbody>\n",
       "    <tr>\n",
       "      <th>0</th>\n",
       "      <td>2</td>\n",
       "      <td>constraint_63bf11a1</td>\n",
       "      <td>ONLINE</td>\n",
       "      <td>100.0</td>\n",
       "      <td>RANGE</td>\n",
       "      <td>NODE</td>\n",
       "      <td>[Skill]</td>\n",
       "      <td>[name]</td>\n",
       "      <td>range-1.0</td>\n",
       "      <td>constraint_63bf11a1</td>\n",
       "      <td>2025-03-10T21:12:33.741000000+00:00</td>\n",
       "      <td>638</td>\n",
       "    </tr>\n",
       "    <tr>\n",
       "      <th>1</th>\n",
       "      <td>4</td>\n",
       "      <td>constraint_d3bfd313</td>\n",
       "      <td>ONLINE</td>\n",
       "      <td>100.0</td>\n",
       "      <td>RANGE</td>\n",
       "      <td>NODE</td>\n",
       "      <td>[Person]</td>\n",
       "      <td>[email]</td>\n",
       "      <td>range-1.0</td>\n",
       "      <td>constraint_d3bfd313</td>\n",
       "      <td>2025-03-10T20:26:47.994000000+00:00</td>\n",
       "      <td>306</td>\n",
       "    </tr>\n",
       "    <tr>\n",
       "      <th>2</th>\n",
       "      <td>0</td>\n",
       "      <td>index_343aff4e</td>\n",
       "      <td>ONLINE</td>\n",
       "      <td>100.0</td>\n",
       "      <td>LOOKUP</td>\n",
       "      <td>NODE</td>\n",
       "      <td>None</td>\n",
       "      <td>None</td>\n",
       "      <td>token-lookup-1.0</td>\n",
       "      <td>None</td>\n",
       "      <td>2025-03-10T20:51:08.954000000+00:00</td>\n",
       "      <td>2855</td>\n",
       "    </tr>\n",
       "    <tr>\n",
       "      <th>3</th>\n",
       "      <td>1</td>\n",
       "      <td>index_f7700477</td>\n",
       "      <td>ONLINE</td>\n",
       "      <td>100.0</td>\n",
       "      <td>LOOKUP</td>\n",
       "      <td>RELATIONSHIP</td>\n",
       "      <td>None</td>\n",
       "      <td>None</td>\n",
       "      <td>token-lookup-1.0</td>\n",
       "      <td>None</td>\n",
       "      <td>2025-03-10T19:59:16.009000000+00:00</td>\n",
       "      <td>9</td>\n",
       "    </tr>\n",
       "    <tr>\n",
       "      <th>4</th>\n",
       "      <td>6</td>\n",
       "      <td>skill-embeddings</td>\n",
       "      <td>ONLINE</td>\n",
       "      <td>100.0</td>\n",
       "      <td>VECTOR</td>\n",
       "      <td>NODE</td>\n",
       "      <td>[Skill]</td>\n",
       "      <td>[embedding]</td>\n",
       "      <td>vector-2.0</td>\n",
       "      <td>None</td>\n",
       "      <td>None</td>\n",
       "      <td>0</td>\n",
       "    </tr>\n",
       "  </tbody>\n",
       "</table>\n",
       "</div>"
      ],
      "text/plain": [
       "   id                 name   state  populationPercent    type    entityType  \\\n",
       "0   2  constraint_63bf11a1  ONLINE              100.0   RANGE          NODE   \n",
       "1   4  constraint_d3bfd313  ONLINE              100.0   RANGE          NODE   \n",
       "2   0       index_343aff4e  ONLINE              100.0  LOOKUP          NODE   \n",
       "3   1       index_f7700477  ONLINE              100.0  LOOKUP  RELATIONSHIP   \n",
       "4   6     skill-embeddings  ONLINE              100.0  VECTOR          NODE   \n",
       "\n",
       "  labelsOrTypes   properties     indexProvider     owningConstraint  \\\n",
       "0       [Skill]       [name]         range-1.0  constraint_63bf11a1   \n",
       "1      [Person]      [email]         range-1.0  constraint_d3bfd313   \n",
       "2          None         None  token-lookup-1.0                 None   \n",
       "3          None         None  token-lookup-1.0                 None   \n",
       "4       [Skill]  [embedding]        vector-2.0                 None   \n",
       "\n",
       "                              lastRead  readCount  \n",
       "0  2025-03-10T21:12:33.741000000+00:00        638  \n",
       "1  2025-03-10T20:26:47.994000000+00:00        306  \n",
       "2  2025-03-10T20:51:08.954000000+00:00       2855  \n",
       "3  2025-03-10T19:59:16.009000000+00:00          9  \n",
       "4                                 None          0  "
      ]
     },
     "execution_count": 121,
     "metadata": {},
     "output_type": "execute_result"
    }
   ],
   "source": [
    "indexes_result_df  = driver.execute_query(\n",
    "    'SHOW INDEXES',\n",
    "    database_=DATABASE,\n",
    "    routing_=RoutingControl.READ,\n",
    "    result_transformer_= lambda r: r.to_df()\n",
    ")\n",
    "indexes_result_df.head()"
   ]
  },
  {
   "cell_type": "markdown",
   "metadata": {},
   "source": [
    "# TO DO FROM HERE\n",
    "\n",
    "- Update the semantic similarity with vector index\n",
    "- Update betweenness. "
   ]
  },
  {
   "cell_type": "markdown",
   "metadata": {},
   "source": [
    "# Vectors for Semantic Meaning"
   ]
  },
  {
   "cell_type": "code",
   "execution_count": 119,
   "metadata": {},
   "outputs": [
    {
     "data": {
      "text/plain": [
       "EagerResult(records=[], summary=<neo4j._work.summary.ResultSummary object at 0x318c99210>, keys=[])"
      ]
     },
     "execution_count": 119,
     "metadata": {},
     "output_type": "execute_result"
    }
   ],
   "source": [
    "driver.execute_query(\n",
    "    \"\"\"\n",
    "    CREATE VECTOR INDEX `skill-embeddings` IF NOT EXISTS\n",
    "    FOR (s:Skill) ON (s.embedding)\n",
    "    OPTIONS {\n",
    "        indexConfig: {\n",
    "            `vector.dimensions`: 1536,\n",
    "            `vector.similarity_function`: 'cosine'\n",
    "        } \n",
    "    }\n",
    "    \"\"\",\n",
    "    database_=DATABASE,\n",
    "    routing_=RoutingControl.WRITE\n",
    ")      "
   ]
  },
  {
   "cell_type": "code",
   "execution_count": null,
   "metadata": {},
   "outputs": [],
   "source": []
  },
  {
   "cell_type": "markdown",
   "metadata": {
    "id": "pH6V2MgzWpN_"
   },
   "source": [
    "# Let's use the Semantic Meaning to find similarities..."
   ]
  },
  {
   "cell_type": "code",
   "execution_count": 33,
   "metadata": {},
   "outputs": [],
   "source": [
    "graph_name = \"skill_embedding_projection\"\n",
    "node_projection = {\n",
    "        'Skill': {\"properties\": 'embedding'},\n",
    "    },\n",
    "rel_projection = [\"KNOWS\"]  # No rels will be projected, but we need to specify something here :)"
   ]
  },
  {
   "cell_type": "code",
   "execution_count": 34,
   "metadata": {},
   "outputs": [],
   "source": [
    "G, res = gds.graph.project(graph_name, node_projection, rel_projection)"
   ]
  },
  {
   "cell_type": "code",
   "execution_count": 35,
   "metadata": {},
   "outputs": [
    {
     "data": {
      "text/plain": [
       "nodeProjection            {'Skill': {'label': 'Skill', 'properties': {'e...\n",
       "relationshipProjection    {'KNOWS': {'aggregation': 'DEFAULT', 'orientat...\n",
       "graphName                                        skill_embedding_projection\n",
       "nodeCount                                                                54\n",
       "relationshipCount                                                         0\n",
       "projectMillis                                                            15\n",
       "Name: 0, dtype: object"
      ]
     },
     "execution_count": 35,
     "metadata": {},
     "output_type": "execute_result"
    }
   ],
   "source": [
    "res"
   ]
  },
  {
   "cell_type": "markdown",
   "metadata": {
    "id": "osF4pe6buMgJ"
   },
   "source": [
    "Running [K Nearest Neighbours](https://neo4j.com/docs/graph-data-science/current/algorithms/knn/) to find semantic similarities... "
   ]
  },
  {
   "cell_type": "code",
   "execution_count": 36,
   "metadata": {
    "id": "ZGwkZIuFQN-R"
   },
   "outputs": [
    {
     "data": {
      "text/plain": [
       "ranIterations                                                             6\n",
       "didConverge                                                            True\n",
       "nodePairsConsidered                                                    5257\n",
       "preProcessingMillis                                                       0\n",
       "computeMillis                                                            23\n",
       "writeMillis                                                              16\n",
       "postProcessingMillis                                                      0\n",
       "nodesCompared                                                            54\n",
       "relationshipsWritten                                                    162\n",
       "similarityDistribution    {'min': 0.9043693542480469, 'p5': 0.9083518981...\n",
       "configuration             {'writeProperty': 'sim_score', 'writeRelations...\n",
       "Name: 0, dtype: object"
      ]
     },
     "execution_count": 36,
     "metadata": {},
     "output_type": "execute_result"
    }
   ],
   "source": [
    "gds.knn.write(\n",
    "    G,\n",
    "    nodeLabels=['Skill'],\n",
    "    nodeProperties=['embedding'],\n",
    "    topK=3,\n",
    "    writeRelationshipType='SIMILAR_SEMANTIC',\n",
    "    writeProperty='sim_score'\n",
    ")"
   ]
  },
  {
   "cell_type": "markdown",
   "metadata": {},
   "source": [
    "Remove symmetric relationships"
   ]
  },
  {
   "cell_type": "code",
   "execution_count": 37,
   "metadata": {
    "id": "ZGwkZIuFQN-R"
   },
   "outputs": [
    {
     "data": {
      "text/html": [
       "<div>\n",
       "<style scoped>\n",
       "    .dataframe tbody tr th:only-of-type {\n",
       "        vertical-align: middle;\n",
       "    }\n",
       "\n",
       "    .dataframe tbody tr th {\n",
       "        vertical-align: top;\n",
       "    }\n",
       "\n",
       "    .dataframe thead th {\n",
       "        text-align: right;\n",
       "    }\n",
       "</style>\n",
       "<table border=\"1\" class=\"dataframe\">\n",
       "  <thead>\n",
       "    <tr style=\"text-align: right;\">\n",
       "      <th></th>\n",
       "    </tr>\n",
       "  </thead>\n",
       "  <tbody>\n",
       "  </tbody>\n",
       "</table>\n",
       "</div>"
      ],
      "text/plain": [
       "Empty DataFrame\n",
       "Columns: []\n",
       "Index: []"
      ]
     },
     "execution_count": 37,
     "metadata": {},
     "output_type": "execute_result"
    }
   ],
   "source": [
    "gds.run_cypher(\n",
    "    \"\"\"\n",
    "    MATCH (a:Skill)-[r:SIMILAR_SEMANTIC]->(b:Skill)\n",
    "    WHERE EXISTS {(b)-[:SIMILAR_SEMANTIC]->(a)} AND a<b\n",
    "    DELETE r\n",
    "    \"\"\"  \n",
    ")"
   ]
  },
  {
   "cell_type": "markdown",
   "metadata": {
    "id": "Ld-iLMVIwlnh"
   },
   "source": [
    "Let's review"
   ]
  },
  {
   "cell_type": "code",
   "execution_count": 38,
   "metadata": {
    "id": "Ld-iLMVIwlnh"
   },
   "outputs": [],
   "source": [
    "similar_skills_df = gds.run_cypher(\n",
    "    \"\"\"\n",
    "    MATCH (s:Skill)-[r:SIMILAR_SEMANTIC]-(s2)\n",
    "    RETURN s.name as skill, r.sim_score as score, s2.name as to_skill\n",
    "    ORDER by skill asc, score desc\n",
    "    \"\"\"\n",
    ")"
   ]
  },
  {
   "cell_type": "code",
   "execution_count": 39,
   "metadata": {},
   "outputs": [
    {
     "data": {
      "text/html": [
       "<div>\n",
       "<style scoped>\n",
       "    .dataframe tbody tr th:only-of-type {\n",
       "        vertical-align: middle;\n",
       "    }\n",
       "\n",
       "    .dataframe tbody tr th {\n",
       "        vertical-align: top;\n",
       "    }\n",
       "\n",
       "    .dataframe thead th {\n",
       "        text-align: right;\n",
       "    }\n",
       "</style>\n",
       "<table border=\"1\" class=\"dataframe\">\n",
       "  <thead>\n",
       "    <tr style=\"text-align: right;\">\n",
       "      <th></th>\n",
       "      <th>skill</th>\n",
       "      <th>score</th>\n",
       "      <th>to_skill</th>\n",
       "    </tr>\n",
       "  </thead>\n",
       "  <tbody>\n",
       "    <tr>\n",
       "      <th>0</th>\n",
       "      <td>API Design</td>\n",
       "      <td>0.922208</td>\n",
       "      <td>System Design</td>\n",
       "    </tr>\n",
       "    <tr>\n",
       "      <th>1</th>\n",
       "      <td>API Design</td>\n",
       "      <td>0.908355</td>\n",
       "      <td>Project Management</td>\n",
       "    </tr>\n",
       "    <tr>\n",
       "      <th>2</th>\n",
       "      <td>API Design</td>\n",
       "      <td>0.907156</td>\n",
       "      <td>Express.js</td>\n",
       "    </tr>\n",
       "    <tr>\n",
       "      <th>3</th>\n",
       "      <td>AWS</td>\n",
       "      <td>0.950841</td>\n",
       "      <td>Azure</td>\n",
       "    </tr>\n",
       "    <tr>\n",
       "      <th>4</th>\n",
       "      <td>AWS</td>\n",
       "      <td>0.911699</td>\n",
       "      <td>WordPress</td>\n",
       "    </tr>\n",
       "    <tr>\n",
       "      <th>5</th>\n",
       "      <td>AWS</td>\n",
       "      <td>0.911006</td>\n",
       "      <td>SQL</td>\n",
       "    </tr>\n",
       "    <tr>\n",
       "      <th>6</th>\n",
       "      <td>Agile</td>\n",
       "      <td>0.951504</td>\n",
       "      <td>Scrum</td>\n",
       "    </tr>\n",
       "    <tr>\n",
       "      <th>7</th>\n",
       "      <td>Agile</td>\n",
       "      <td>0.921550</td>\n",
       "      <td>Project Management</td>\n",
       "    </tr>\n",
       "    <tr>\n",
       "      <th>8</th>\n",
       "      <td>Agile</td>\n",
       "      <td>0.920712</td>\n",
       "      <td>Angular</td>\n",
       "    </tr>\n",
       "    <tr>\n",
       "      <th>9</th>\n",
       "      <td>Angular</td>\n",
       "      <td>0.925686</td>\n",
       "      <td>Azure</td>\n",
       "    </tr>\n",
       "    <tr>\n",
       "      <th>10</th>\n",
       "      <td>Angular</td>\n",
       "      <td>0.923197</td>\n",
       "      <td>Scala</td>\n",
       "    </tr>\n",
       "    <tr>\n",
       "      <th>11</th>\n",
       "      <td>Angular</td>\n",
       "      <td>0.920712</td>\n",
       "      <td>Agile</td>\n",
       "    </tr>\n",
       "    <tr>\n",
       "      <th>12</th>\n",
       "      <td>Azure</td>\n",
       "      <td>0.950841</td>\n",
       "      <td>AWS</td>\n",
       "    </tr>\n",
       "    <tr>\n",
       "      <th>13</th>\n",
       "      <td>Azure</td>\n",
       "      <td>0.927645</td>\n",
       "      <td>Spark</td>\n",
       "    </tr>\n",
       "    <tr>\n",
       "      <th>14</th>\n",
       "      <td>Azure</td>\n",
       "      <td>0.927050</td>\n",
       "      <td>Swift</td>\n",
       "    </tr>\n",
       "  </tbody>\n",
       "</table>\n",
       "</div>"
      ],
      "text/plain": [
       "         skill     score            to_skill\n",
       "0   API Design  0.922208       System Design\n",
       "1   API Design  0.908355  Project Management\n",
       "2   API Design  0.907156          Express.js\n",
       "3          AWS  0.950841               Azure\n",
       "4          AWS  0.911699           WordPress\n",
       "5          AWS  0.911006                 SQL\n",
       "6        Agile  0.951504               Scrum\n",
       "7        Agile  0.921550  Project Management\n",
       "8        Agile  0.920712             Angular\n",
       "9      Angular  0.925686               Azure\n",
       "10     Angular  0.923197               Scala\n",
       "11     Angular  0.920712               Agile\n",
       "12       Azure  0.950841                 AWS\n",
       "13       Azure  0.927645               Spark\n",
       "14       Azure  0.927050               Swift"
      ]
     },
     "execution_count": 39,
     "metadata": {},
     "output_type": "execute_result"
    }
   ],
   "source": [
    "similar_skills_df.head(15)"
   ]
  },
  {
   "cell_type": "markdown",
   "metadata": {
    "id": "ou3S9jeJMV0A"
   },
   "source": [
    "Drop the projection from the graph catalogue to free up resources"
   ]
  },
  {
   "cell_type": "code",
   "execution_count": 40,
   "metadata": {
    "id": "ou3S9jeJMV0A"
   },
   "outputs": [
    {
     "data": {
      "text/plain": [
       "graphName                                       skill_embedding_projection\n",
       "database                                                             neo4j\n",
       "databaseLocation                                                     local\n",
       "memoryUsage                                                               \n",
       "sizeInBytes                                                             -1\n",
       "nodeCount                                                               54\n",
       "relationshipCount                                                        0\n",
       "configuration            {'relationshipProjection': {'KNOWS': {'aggrega...\n",
       "density                                                                0.0\n",
       "creationTime                           2025-03-08T08:38:13.948292580+00:00\n",
       "modificationTime                       2025-03-08T08:38:13.948292580+00:00\n",
       "schema                   {'graphProperties': {}, 'nodes': {'Skill': {'e...\n",
       "schemaWithOrientation    {'graphProperties': {}, 'nodes': {'Skill': {'e...\n",
       "Name: 0, dtype: object"
      ]
     },
     "execution_count": 40,
     "metadata": {},
     "output_type": "execute_result"
    }
   ],
   "source": [
    "G.drop()"
   ]
  },
  {
   "cell_type": "markdown",
   "metadata": {
    "id": "HHo6ciC_u4aS"
   },
   "source": [
    "### Graph Feature Engineering"
   ]
  },
  {
   "cell_type": "markdown",
   "metadata": {},
   "source": [
    "Let's do some \"Graph Feature Engineering\" - learn from our connected data..."
   ]
  },
  {
   "cell_type": "code",
   "execution_count": 41,
   "metadata": {},
   "outputs": [],
   "source": [
    "graph_name = 'skill_BetW_projection'\n",
    "node_projection = ['Skill']\n",
    "rel_projection =  {'SIMILAR_SEMANTIC':{'orientation': 'NATURAL'}}"
   ]
  },
  {
   "cell_type": "code",
   "execution_count": 42,
   "metadata": {
    "id": "sIqScNSZZbxT"
   },
   "outputs": [],
   "source": [
    "G, res = gds.graph.project(graph_name, node_projection, rel_projection)"
   ]
  },
  {
   "cell_type": "code",
   "execution_count": 43,
   "metadata": {
    "id": "XTv0qCSgYnmJ"
   },
   "outputs": [],
   "source": [
    "BetWresult = gds.betweenness.write(\n",
    "    G,\n",
    "    writeProperty='betweenness'\n",
    ")"
   ]
  },
  {
   "cell_type": "code",
   "execution_count": 44,
   "metadata": {
    "id": "XTv0qCSgYnmJ"
   },
   "outputs": [
    {
     "data": {
      "text/plain": [
       "nodePropertiesWritten                                                    54\n",
       "writeMillis                                                               2\n",
       "centralityDistribution    {'min': 0.0, 'max': 108.50048828124999, 'p90':...\n",
       "postProcessingMillis                                                     10\n",
       "preProcessingMillis                                                       0\n",
       "computeMillis                                                             3\n",
       "configuration             {'writeProperty': 'betweenness', 'jobId': '21e...\n",
       "Name: 0, dtype: object"
      ]
     },
     "execution_count": 44,
     "metadata": {},
     "output_type": "execute_result"
    }
   ],
   "source": [
    "BetWresult"
   ]
  },
  {
   "cell_type": "code",
   "execution_count": 45,
   "metadata": {
    "id": "dnocyEKdiaUS"
   },
   "outputs": [
    {
     "data": {
      "text/plain": [
       "graphName                                            skill_BetW_projection\n",
       "database                                                             neo4j\n",
       "databaseLocation                                                     local\n",
       "memoryUsage                                                               \n",
       "sizeInBytes                                                             -1\n",
       "nodeCount                                                               54\n",
       "relationshipCount                                                      122\n",
       "configuration            {'relationshipProjection': {'SIMILAR_SEMANTIC'...\n",
       "density                                                           0.042628\n",
       "creationTime                           2025-03-08T08:38:14.480173251+00:00\n",
       "modificationTime                       2025-03-08T08:38:14.480173251+00:00\n",
       "schema                   {'graphProperties': {}, 'nodes': {'Skill': {}}...\n",
       "schemaWithOrientation    {'graphProperties': {}, 'nodes': {'Skill': {}}...\n",
       "Name: 0, dtype: object"
      ]
     },
     "execution_count": 45,
     "metadata": {},
     "output_type": "execute_result"
    }
   ],
   "source": [
    "G.drop()"
   ]
  },
  {
   "cell_type": "code",
   "execution_count": 46,
   "metadata": {
    "id": "JAwhe45TiaZC"
   },
   "outputs": [],
   "source": [
    "bridge_skill = gds.run_cypher(\n",
    "    \"\"\"\n",
    "    MATCH (s:Skill)\n",
    "    RETURN s.name AS skill, s.betweenness AS betweenness\n",
    "    ORDER BY betweenness DESC\n",
    "    \"\"\"\n",
    ")"
   ]
  },
  {
   "cell_type": "code",
   "execution_count": 47,
   "metadata": {
    "id": "JAwhe45TiaZC"
   },
   "outputs": [
    {
     "data": {
      "text/html": [
       "<div>\n",
       "<style scoped>\n",
       "    .dataframe tbody tr th:only-of-type {\n",
       "        vertical-align: middle;\n",
       "    }\n",
       "\n",
       "    .dataframe tbody tr th {\n",
       "        vertical-align: top;\n",
       "    }\n",
       "\n",
       "    .dataframe thead th {\n",
       "        text-align: right;\n",
       "    }\n",
       "</style>\n",
       "<table border=\"1\" class=\"dataframe\">\n",
       "  <thead>\n",
       "    <tr style=\"text-align: right;\">\n",
       "      <th></th>\n",
       "      <th>skill</th>\n",
       "      <th>betweenness</th>\n",
       "    </tr>\n",
       "  </thead>\n",
       "  <tbody>\n",
       "    <tr>\n",
       "      <th>0</th>\n",
       "      <td>Java</td>\n",
       "      <td>108.500000</td>\n",
       "    </tr>\n",
       "    <tr>\n",
       "      <th>1</th>\n",
       "      <td>SQL</td>\n",
       "      <td>90.833333</td>\n",
       "    </tr>\n",
       "    <tr>\n",
       "      <th>2</th>\n",
       "      <td>Tableau</td>\n",
       "      <td>79.000000</td>\n",
       "    </tr>\n",
       "    <tr>\n",
       "      <th>3</th>\n",
       "      <td>Data Visualization</td>\n",
       "      <td>76.000000</td>\n",
       "    </tr>\n",
       "    <tr>\n",
       "      <th>4</th>\n",
       "      <td>Linux</td>\n",
       "      <td>73.500000</td>\n",
       "    </tr>\n",
       "    <tr>\n",
       "      <th>5</th>\n",
       "      <td>Power BI</td>\n",
       "      <td>73.000000</td>\n",
       "    </tr>\n",
       "    <tr>\n",
       "      <th>6</th>\n",
       "      <td>Swift</td>\n",
       "      <td>73.000000</td>\n",
       "    </tr>\n",
       "    <tr>\n",
       "      <th>7</th>\n",
       "      <td>Machine Learning</td>\n",
       "      <td>63.000000</td>\n",
       "    </tr>\n",
       "    <tr>\n",
       "      <th>8</th>\n",
       "      <td>Data Analysis</td>\n",
       "      <td>48.000000</td>\n",
       "    </tr>\n",
       "    <tr>\n",
       "      <th>9</th>\n",
       "      <td>Scala</td>\n",
       "      <td>34.000000</td>\n",
       "    </tr>\n",
       "  </tbody>\n",
       "</table>\n",
       "</div>"
      ],
      "text/plain": [
       "                skill  betweenness\n",
       "0                Java   108.500000\n",
       "1                 SQL    90.833333\n",
       "2             Tableau    79.000000\n",
       "3  Data Visualization    76.000000\n",
       "4               Linux    73.500000\n",
       "5            Power BI    73.000000\n",
       "6               Swift    73.000000\n",
       "7    Machine Learning    63.000000\n",
       "8       Data Analysis    48.000000\n",
       "9               Scala    34.000000"
      ]
     },
     "execution_count": 47,
     "metadata": {},
     "output_type": "execute_result"
    }
   ],
   "source": [
    "bridge_skill.head(10)"
   ]
  },
  {
   "cell_type": "markdown",
   "metadata": {
    "id": "lDW645yEwyWK"
   },
   "source": [
    "Wait! - and I can vectorise my Graph as well....?*"
   ]
  },
  {
   "cell_type": "code",
   "execution_count": 48,
   "metadata": {
    "id": "lDW645yEwyWK"
   },
   "outputs": [],
   "source": [
    "graph_name = 'Person_projection'\n",
    "node_projection = ['Person']\n",
    "rel_projection =  {'SIMILAR_SKILLSET': {'orientation': 'UNDIRECTED'}}"
   ]
  },
  {
   "cell_type": "code",
   "execution_count": 49,
   "metadata": {
    "id": "EabO2aSjqfli"
   },
   "outputs": [],
   "source": [
    "G, res = gds.graph.project(graph_name, node_projection, rel_projection)"
   ]
  },
  {
   "cell_type": "markdown",
   "metadata": {
    "id": "iiyF8MvgxCJ4"
   },
   "source": [
    "Running a node embedding in a few lines..."
   ]
  },
  {
   "cell_type": "code",
   "execution_count": 50,
   "metadata": {
    "id": "FItlLzKqpyp0"
   },
   "outputs": [],
   "source": [
    "fastrp_res =  gds.fastRP.write(\n",
    "    G,\n",
    "    embeddingDimension = 128,\n",
    "    iterationWeights = [0, 0, 1.0, 1.0],\n",
    "    normalizationStrength = 0.05,\n",
    "    writeProperty = \"fastRP_Embedding\",\n",
    "    randomSeed = 42\n",
    ")"
   ]
  },
  {
   "cell_type": "markdown",
   "metadata": {
    "id": "Z-CckwYCtIO6"
   },
   "source": [
    "Adding it now to memory for some more computations"
   ]
  },
  {
   "cell_type": "code",
   "execution_count": 51,
   "metadata": {
    "id": "Z-CckwYCtIO6"
   },
   "outputs": [],
   "source": [
    "fastrp_res =  gds.fastRP.mutate(\n",
    "    G,\n",
    "    embeddingDimension = 128,\n",
    "    iterationWeights = [0, 0, 1.0, 1.0],\n",
    "    normalizationStrength = 0.05,\n",
    "    mutateProperty = \"fastRP_Embedding\",\n",
    "    randomSeed = 42\n",
    ")"
   ]
  },
  {
   "cell_type": "markdown",
   "metadata": {
    "id": "l5tYbOTZxfk8"
   },
   "source": [
    "Finding clusters based on their structural and specific attributes..."
   ]
  },
  {
   "cell_type": "code",
   "execution_count": 52,
   "metadata": {
    "id": "lC9W17F01l3_"
   },
   "outputs": [],
   "source": [
    "kmeans_result = gds.kmeans.write(\n",
    "    G,\n",
    "    nodeProperty = 'fastRP_Embedding',\n",
    "    k = 5,\n",
    "    writeProperty = 'kmeans5_cluster',\n",
    "    randomSeed = 42,\n",
    "    maxIterations = 100\n",
    ")"
   ]
  },
  {
   "cell_type": "code",
   "execution_count": 53,
   "metadata": {},
   "outputs": [
    {
     "data": {
      "text/plain": [
       "graphName                                                Person_projection\n",
       "database                                                             neo4j\n",
       "databaseLocation                                                     local\n",
       "memoryUsage                                                               \n",
       "sizeInBytes                                                             -1\n",
       "nodeCount                                                               97\n",
       "relationshipCount                                                      404\n",
       "configuration            {'relationshipProjection': {'SIMILAR_SKILLSET'...\n",
       "density                                                           0.043385\n",
       "creationTime                           2025-03-08T08:38:14.948947705+00:00\n",
       "modificationTime                       2025-03-08T08:38:15.127744650+00:00\n",
       "schema                   {'graphProperties': {}, 'nodes': {'Person': {'...\n",
       "schemaWithOrientation    {'graphProperties': {}, 'nodes': {'Person': {'...\n",
       "Name: 0, dtype: object"
      ]
     },
     "execution_count": 53,
     "metadata": {},
     "output_type": "execute_result"
    }
   ],
   "source": [
    "G.drop()"
   ]
  },
  {
   "cell_type": "code",
   "execution_count": 54,
   "metadata": {
    "id": "TycqLXOx1li6"
   },
   "outputs": [],
   "source": [
    "skill_teams = gds.run_cypher(\n",
    "    \"\"\"\n",
    "    MATCH (n) WHERE (n.kmeans5_cluster) IS NOT NULL\n",
    "    RETURN n.kmeans5_cluster AS Team, collect(n.name) AS Team_members\n",
    "    \"\"\"\n",
    ")"
   ]
  },
  {
   "cell_type": "code",
   "execution_count": 55,
   "metadata": {
    "id": "TycqLXOx1li6"
   },
   "outputs": [
    {
     "data": {
      "text/html": [
       "<div>\n",
       "<style scoped>\n",
       "    .dataframe tbody tr th:only-of-type {\n",
       "        vertical-align: middle;\n",
       "    }\n",
       "\n",
       "    .dataframe tbody tr th {\n",
       "        vertical-align: top;\n",
       "    }\n",
       "\n",
       "    .dataframe thead th {\n",
       "        text-align: right;\n",
       "    }\n",
       "</style>\n",
       "<table border=\"1\" class=\"dataframe\">\n",
       "  <thead>\n",
       "    <tr style=\"text-align: right;\">\n",
       "      <th></th>\n",
       "      <th>Team</th>\n",
       "      <th>Team_members</th>\n",
       "    </tr>\n",
       "  </thead>\n",
       "  <tbody>\n",
       "    <tr>\n",
       "      <th>0</th>\n",
       "      <td>3</td>\n",
       "      <td>[Thomas Nelson, Lucy Clark, Elena Young, Sophi...</td>\n",
       "    </tr>\n",
       "    <tr>\n",
       "      <th>1</th>\n",
       "      <td>1</td>\n",
       "      <td>[Richard Jackson, Amelia Hall, David Hill, Dan...</td>\n",
       "    </tr>\n",
       "    <tr>\n",
       "      <th>2</th>\n",
       "      <td>0</td>\n",
       "      <td>[Christopher Johnson, Joseph Lopez, Victoria T...</td>\n",
       "    </tr>\n",
       "    <tr>\n",
       "      <th>3</th>\n",
       "      <td>4</td>\n",
       "      <td>[Amelia Martin, Lucy Turner, Joshua Lopez, Bri...</td>\n",
       "    </tr>\n",
       "    <tr>\n",
       "      <th>4</th>\n",
       "      <td>2</td>\n",
       "      <td>[Isabella Jones, Ryan Nelson, Matthew Miller, ...</td>\n",
       "    </tr>\n",
       "  </tbody>\n",
       "</table>\n",
       "</div>"
      ],
      "text/plain": [
       "   Team                                       Team_members\n",
       "0     3  [Thomas Nelson, Lucy Clark, Elena Young, Sophi...\n",
       "1     1  [Richard Jackson, Amelia Hall, David Hill, Dan...\n",
       "2     0  [Christopher Johnson, Joseph Lopez, Victoria T...\n",
       "3     4  [Amelia Martin, Lucy Turner, Joshua Lopez, Bri...\n",
       "4     2  [Isabella Jones, Ryan Nelson, Matthew Miller, ..."
      ]
     },
     "execution_count": 55,
     "metadata": {},
     "output_type": "execute_result"
    }
   ],
   "source": [
    "skill_teams.head(6)"
   ]
  }
 ],
 "metadata": {
  "colab": {
   "provenance": []
  },
  "kernelspec": {
   "display_name": "Python 3 (ipykernel)",
   "language": "python",
   "name": "python3"
  },
  "language_info": {
   "codemirror_mode": {
    "name": "ipython",
    "version": 3
   },
   "file_extension": ".py",
   "mimetype": "text/x-python",
   "name": "python",
   "nbconvert_exporter": "python",
   "pygments_lexer": "ipython3",
   "version": "3.11.5"
  }
 },
 "nbformat": 4,
 "nbformat_minor": 4
}
