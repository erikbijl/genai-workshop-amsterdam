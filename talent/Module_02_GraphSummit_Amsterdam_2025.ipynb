{
 "cells": [
  {
   "cell_type": "markdown",
   "metadata": {},
   "source": [
    "# Module 2 - Taming Unstructured Data\n",
    "\n",
    "This module has the following objectives:\n",
    "- Creating a graph from Unstructured Data"
   ]
  },
  {
   "cell_type": "code",
   "execution_count": 1,
   "metadata": {
    "id": "FHKg4DVZiQ98"
   },
   "outputs": [
    {
     "name": "stdout",
     "output_type": "stream",
     "text": [
      "Requirement already satisfied: graphdatascience in /Users/erikbijl/anaconda3/lib/python3.11/site-packages (1.13)\n",
      "Requirement already satisfied: neo4j in /Users/erikbijl/anaconda3/lib/python3.11/site-packages (5.28.1)\n",
      "Requirement already satisfied: dotenv in /Users/erikbijl/anaconda3/lib/python3.11/site-packages (0.9.9)\n",
      "Requirement already satisfied: pydantic in /Users/erikbijl/anaconda3/lib/python3.11/site-packages (2.9.2)\n",
      "Requirement already satisfied: openai in /Users/erikbijl/anaconda3/lib/python3.11/site-packages (1.61.0)\n",
      "Requirement already satisfied: multimethod<2.0,>=1.0 in /Users/erikbijl/anaconda3/lib/python3.11/site-packages (from graphdatascience) (1.12)\n",
      "Requirement already satisfied: numpy<2.0 in /Users/erikbijl/anaconda3/lib/python3.11/site-packages (from graphdatascience) (1.26.4)\n",
      "Requirement already satisfied: pandas<3.0,>=1.0 in /Users/erikbijl/anaconda3/lib/python3.11/site-packages (from graphdatascience) (2.2.1)\n",
      "Requirement already satisfied: pyarrow<19.0,>=15.0.2 in /Users/erikbijl/anaconda3/lib/python3.11/site-packages (from graphdatascience) (18.1.0)\n",
      "Requirement already satisfied: textdistance<5.0,>=4.0 in /Users/erikbijl/anaconda3/lib/python3.11/site-packages (from graphdatascience) (4.2.1)\n",
      "Requirement already satisfied: tqdm<5.0,>=4.0 in /Users/erikbijl/anaconda3/lib/python3.11/site-packages (from graphdatascience) (4.66.4)\n",
      "Requirement already satisfied: typing-extensions<5.0,>=4.0 in /Users/erikbijl/anaconda3/lib/python3.11/site-packages (from graphdatascience) (4.11.0)\n",
      "Requirement already satisfied: requests in /Users/erikbijl/anaconda3/lib/python3.11/site-packages (from graphdatascience) (2.32.2)\n",
      "Requirement already satisfied: tenacity>=9.0 in /Users/erikbijl/anaconda3/lib/python3.11/site-packages (from graphdatascience) (9.0.0)\n",
      "Requirement already satisfied: pytz in /Users/erikbijl/anaconda3/lib/python3.11/site-packages (from neo4j) (2024.1)\n",
      "Requirement already satisfied: python-dotenv in /Users/erikbijl/anaconda3/lib/python3.11/site-packages (from dotenv) (0.21.0)\n",
      "Requirement already satisfied: annotated-types>=0.6.0 in /Users/erikbijl/anaconda3/lib/python3.11/site-packages (from pydantic) (0.6.0)\n",
      "Requirement already satisfied: pydantic-core==2.23.4 in /Users/erikbijl/anaconda3/lib/python3.11/site-packages (from pydantic) (2.23.4)\n",
      "Requirement already satisfied: anyio<5,>=3.5.0 in /Users/erikbijl/anaconda3/lib/python3.11/site-packages (from openai) (4.2.0)\n",
      "Requirement already satisfied: distro<2,>=1.7.0 in /Users/erikbijl/anaconda3/lib/python3.11/site-packages (from openai) (1.9.0)\n",
      "Requirement already satisfied: httpx<1,>=0.23.0 in /Users/erikbijl/anaconda3/lib/python3.11/site-packages (from openai) (0.27.2)\n",
      "Requirement already satisfied: jiter<1,>=0.4.0 in /Users/erikbijl/anaconda3/lib/python3.11/site-packages (from openai) (0.7.0)\n",
      "Requirement already satisfied: sniffio in /Users/erikbijl/anaconda3/lib/python3.11/site-packages (from openai) (1.3.0)\n",
      "Requirement already satisfied: idna>=2.8 in /Users/erikbijl/anaconda3/lib/python3.11/site-packages (from anyio<5,>=3.5.0->openai) (3.7)\n",
      "Requirement already satisfied: certifi in /Users/erikbijl/anaconda3/lib/python3.11/site-packages (from httpx<1,>=0.23.0->openai) (2024.2.2)\n",
      "Requirement already satisfied: httpcore==1.* in /Users/erikbijl/anaconda3/lib/python3.11/site-packages (from httpx<1,>=0.23.0->openai) (1.0.6)\n",
      "Requirement already satisfied: h11<0.15,>=0.13 in /Users/erikbijl/anaconda3/lib/python3.11/site-packages (from httpcore==1.*->httpx<1,>=0.23.0->openai) (0.14.0)\n",
      "Requirement already satisfied: python-dateutil>=2.8.2 in /Users/erikbijl/anaconda3/lib/python3.11/site-packages (from pandas<3.0,>=1.0->graphdatascience) (2.9.0.post0)\n",
      "Requirement already satisfied: tzdata>=2022.7 in /Users/erikbijl/anaconda3/lib/python3.11/site-packages (from pandas<3.0,>=1.0->graphdatascience) (2023.3)\n",
      "Requirement already satisfied: charset-normalizer<4,>=2 in /Users/erikbijl/anaconda3/lib/python3.11/site-packages (from requests->graphdatascience) (2.0.4)\n",
      "Requirement already satisfied: urllib3<3,>=1.21.1 in /Users/erikbijl/anaconda3/lib/python3.11/site-packages (from requests->graphdatascience) (2.2.1)\n",
      "Requirement already satisfied: six>=1.5 in /Users/erikbijl/anaconda3/lib/python3.11/site-packages (from python-dateutil>=2.8.2->pandas<3.0,>=1.0->graphdatascience) (1.16.0)\n"
     ]
    }
   ],
   "source": [
    "!pip install graphdatascience neo4j dotenv pydantic openai"
   ]
  },
  {
   "cell_type": "markdown",
   "metadata": {},
   "source": [
    "Import our usual suspects (and some more...)"
   ]
  },
  {
   "cell_type": "code",
   "execution_count": 2,
   "metadata": {},
   "outputs": [],
   "source": [
    "import os\n",
    "import pandas as pd\n",
    "from dotenv import load_dotenv\n",
    "from graphdatascience import GraphDataScience\n",
    "from neo4j import Query, GraphDatabase, RoutingControl, Result\n",
    "from typing import List, Optional\n",
    "from pydantic import BaseModel, Field, validator\n",
    "from openai import OpenAI\n",
    "import json"
   ]
  },
  {
   "cell_type": "markdown",
   "metadata": {
    "id": "ynPe6RLRWSKd"
   },
   "source": [
    "# Setup"
   ]
  },
  {
   "cell_type": "markdown",
   "metadata": {
    "id": "pa61u1jfyk3t"
   },
   "source": [
    "Load env variables"
   ]
  },
  {
   "cell_type": "code",
   "execution_count": 3,
   "metadata": {},
   "outputs": [],
   "source": [
    "env_file = 'ws.env'"
   ]
  },
  {
   "cell_type": "code",
   "execution_count": 4,
   "metadata": {
    "id": "CHR_0lmElZ-R"
   },
   "outputs": [],
   "source": [
    "if os.path.exists(env_file):\n",
    "    load_dotenv(env_file, override=True)\n",
    "\n",
    "    # Neo4j\n",
    "    HOST = os.getenv('NEO4J_URI')\n",
    "    USERNAME = os.getenv('NEO4J_USERNAME')\n",
    "    PASSWORD = os.getenv('NEO4J_PASSWORD')\n",
    "    DATABASE = os.getenv('NEO4J_DATABASE')\n",
    "\n",
    "    # AI\n",
    "    OPENAI_API_KEY = os.getenv('OPENAI_API_KEY')\n",
    "    os.environ['OPENAI_API_KEY']=OPENAI_API_KEY\n",
    "    LLM = os.getenv('LLM')\n",
    "else:\n",
    "    print(f\"File {env_file} not found.\")"
   ]
  },
  {
   "cell_type": "markdown",
   "metadata": {},
   "source": [
    "Connect to neo4j db"
   ]
  },
  {
   "cell_type": "code",
   "execution_count": 5,
   "metadata": {},
   "outputs": [],
   "source": [
    "driver = GraphDatabase.driver(\n",
    "    HOST,\n",
    "    auth=(USERNAME, PASSWORD)\n",
    ")"
   ]
  },
  {
   "cell_type": "markdown",
   "metadata": {},
   "source": [
    "Test the connection"
   ]
  },
  {
   "cell_type": "code",
   "execution_count": 6,
   "metadata": {
    "id": "5w4eCb7xZZ-S"
   },
   "outputs": [
    {
     "data": {
      "text/html": [
       "<div>\n",
       "<style scoped>\n",
       "    .dataframe tbody tr th:only-of-type {\n",
       "        vertical-align: middle;\n",
       "    }\n",
       "\n",
       "    .dataframe tbody tr th {\n",
       "        vertical-align: top;\n",
       "    }\n",
       "\n",
       "    .dataframe thead th {\n",
       "        text-align: right;\n",
       "    }\n",
       "</style>\n",
       "<table border=\"1\" class=\"dataframe\">\n",
       "  <thead>\n",
       "    <tr style=\"text-align: right;\">\n",
       "      <th></th>\n",
       "      <th>Count</th>\n",
       "    </tr>\n",
       "  </thead>\n",
       "  <tbody>\n",
       "    <tr>\n",
       "      <th>0</th>\n",
       "      <td>154</td>\n",
       "    </tr>\n",
       "  </tbody>\n",
       "</table>\n",
       "</div>"
      ],
      "text/plain": [
       "   Count\n",
       "0    154"
      ]
     },
     "execution_count": 6,
     "metadata": {},
     "output_type": "execute_result"
    }
   ],
   "source": [
    "driver.execute_query(\n",
    "    \"\"\"\n",
    "    MATCH (n) RETURN COUNT(n) as Count\n",
    "    \"\"\",\n",
    "    database_=DATABASE,\n",
    "    routing_=RoutingControl.READ,\n",
    "    result_transformer_= lambda r: r.to_df()\n",
    ")"
   ]
  },
  {
   "cell_type": "markdown",
   "metadata": {},
   "source": [
    "## Unstructured data"
   ]
  },
  {
   "cell_type": "markdown",
   "metadata": {},
   "source": [
    "Let's define some unstrucutured data from some of our Neo4j colleagues"
   ]
  },
  {
   "cell_type": "code",
   "execution_count": 7,
   "metadata": {},
   "outputs": [],
   "source": [
    "list_of_bio = [\n",
    "    \"\"\" \n",
    "    Kristof \"speedy gonzales\" Neys, Graph Data Science Director at Neo4j. Kristof excel at Machine \n",
    "    Learning and has written more Quantified Path Patterns in Cypher than anyone else. Want to know more,\n",
    "    drop him an email at kristof.neys@neo4j.com\n",
    "    \"\"\",\n",
    "    \"\"\" \n",
    "    Håkan Löfqvist, Solutions Engineer at Neo4j. Håkan prefer using java \n",
    "    over python, but nothing beats hacking cypher queries and using Graph Technology \n",
    "    to deliver insane success :) Email: hakan.lofqvist@neo4j.com\n",
    "    \"\"\",\n",
    "]"
   ]
  },
  {
   "cell_type": "code",
   "execution_count": 8,
   "metadata": {},
   "outputs": [
    {
     "name": "stdout",
     "output_type": "stream",
     "text": [
      " \n",
      "    Kristof \"speedy gonzales\" Neys, Graph Data Science Director at Neo4j. Kristof excel at Machine \n",
      "    Learning and has written more Quantified Path Patterns in Cypher than anyone else. Want to know more,\n",
      "    drop him an email at kristof.neys@neo4j.com\n",
      "    \n",
      " \n",
      "    Håkan Löfqvist, Solutions Engineer at Neo4j. Håkan prefer using java \n",
      "    over python, but nothing beats hacking cypher queries and using Graph Technology \n",
      "    to deliver insane success :) Email: hakan.lofqvist@neo4j.com\n",
      "    \n"
     ]
    }
   ],
   "source": [
    "for bio in list_of_bio:\n",
    "    print(bio)"
   ]
  },
  {
   "cell_type": "markdown",
   "metadata": {},
   "source": [
    "## Define the Domain Model"
   ]
  },
  {
   "cell_type": "markdown",
   "metadata": {},
   "source": [
    "[Pydantic Models](https://docs.pydantic.dev/latest/api/base_model/) are simply classes which inherit from BaseModel and define fields as annotated attributes."
   ]
  },
  {
   "cell_type": "code",
   "execution_count": 9,
   "metadata": {},
   "outputs": [],
   "source": [
    "class Skill(BaseModel):\n",
    "    \"\"\"\n",
    "    Represents a professional skill or knowledge of a person.\n",
    "    \"\"\"\n",
    "    name: str = Field(..., description=\"Sortened name of the skill\")\n",
    "    \n",
    "class Person(BaseModel):\n",
    "    \"\"\"\n",
    "    Represents a person with a name.\n",
    "    \"\"\"\n",
    "    name: str = Field(..., description=\"Full name of person\")\n",
    "    email: str = Field(..., description=\"A persons email address\")\n",
    "    skills: List[Skill] = Field(..., description=\"List of skills known by the person\"\n",
    "    )\n",
    "    \n",
    "class PersonList(BaseModel):\n",
    "    persons:List[Person]"
   ]
  },
  {
   "cell_type": "code",
   "execution_count": 10,
   "metadata": {},
   "outputs": [],
   "source": [
    "system_message = \"\"\"\n",
    "    You are an expert in extracting structured information from person resumes.\n",
    "    Identify key details such as:\n",
    "    - Name of the person\n",
    "    - Email address of the person\n",
    "    - Skills known by the person\n",
    "    \n",
    "    Present the extracted information in a clear, structured format. Be concise, focusing on:\n",
    "    - Key skills\n",
    "    - Full name of person\n",
    "    Ignore nick names, titles or roles and company information be short and consise with skills\n",
    "\"\"\""
   ]
  },
  {
   "cell_type": "code",
   "execution_count": 11,
   "metadata": {},
   "outputs": [],
   "source": [
    "client = OpenAI()"
   ]
  },
  {
   "cell_type": "code",
   "execution_count": 12,
   "metadata": {},
   "outputs": [],
   "source": [
    "def extract(document, model=\"gpt-4o\", temperature=0):\n",
    "    response = client.beta.chat.completions.parse(\n",
    "        model=model,\n",
    "        temperature=temperature,\n",
    "        messages=[\n",
    "            {\"role\": \"system\", \"content\": system_message},\n",
    "            {\"role\": \"user\", \"content\": document},\n",
    "        ],\n",
    "        response_format=Person,\n",
    "    )\n",
    "    return json.loads(response.choices[0].message.content)"
   ]
  },
  {
   "cell_type": "code",
   "execution_count": 13,
   "metadata": {},
   "outputs": [
    {
     "data": {
      "text/plain": [
       "[{'name': 'Kristof Neys',\n",
       "  'email': 'kristof.neys@neo4j.com',\n",
       "  'skills': [{'name': 'Machine Learning'}, {'name': 'Cypher'}]},\n",
       " {'name': 'Håkan Löfqvist',\n",
       "  'email': 'hakan.lofqvist@neo4j.com',\n",
       "  'skills': [{'name': 'Java'},\n",
       "   {'name': 'Cypher Queries'},\n",
       "   {'name': 'Graph Technology'}]}]"
      ]
     },
     "execution_count": 13,
     "metadata": {},
     "output_type": "execute_result"
    }
   ],
   "source": [
    "rows = []\n",
    "for text in list_of_bio:\n",
    "    data = extract(text)\n",
    "    rows.append(data)\n",
    "rows"
   ]
  },
  {
   "cell_type": "code",
   "execution_count": 14,
   "metadata": {},
   "outputs": [],
   "source": [
    "structured_data = PersonList.model_validate({'persons':rows})"
   ]
  },
  {
   "cell_type": "code",
   "execution_count": 15,
   "metadata": {},
   "outputs": [
    {
     "name": "stdout",
     "output_type": "stream",
     "text": [
      "persons\n",
      "  name: Kristof Neys\n",
      "  email: kristof.neys@neo4j.com\n",
      "  skills: [{'name': 'Machine Learning'}, {'name': 'Cypher'}]\n",
      "\n",
      "  name: Håkan Löfqvist\n",
      "  email: hakan.lofqvist@neo4j.com\n",
      "  skills: [{'name': 'Java'}, {'name': 'Cypher Queries'}, {'name': 'Graph Technology'}]\n",
      "\n"
     ]
    }
   ],
   "source": [
    "for k, details_list in structured_data.model_dump().items():\n",
    "    print(f\"{k}\")\n",
    "    for details in details_list:\n",
    "        for key, value in details.items():\n",
    "            print(f\"  {key}: {value}\")\n",
    "        print()"
   ]
  },
  {
   "cell_type": "markdown",
   "metadata": {
    "id": "0OMlYdxHWZLx"
   },
   "source": [
    "## Graph creation\n",
    "Now that data is structured and validated, we can save it to the database"
   ]
  },
  {
   "cell_type": "code",
   "execution_count": 16,
   "metadata": {},
   "outputs": [],
   "source": [
    "records, summary, keys = driver.execute_query(\n",
    "    \"\"\"\n",
    "        UNWIND $rows AS row\n",
    "        MERGE (p:Person{email:row.email})\n",
    "        SET p.name = row.name\n",
    "        WITH p, row\n",
    "        FOREACH (skill IN row.skills | MERGE (s:Skill{name:skill.name}) MERGE (p)-[:KNOWS]->(s) )\n",
    "        RETURN COUNT (*) AS rows_processed\n",
    "    \"\"\",\n",
    "    database_=DATABASE,\n",
    "    routing_=RoutingControl.WRITE,\n",
    "    rows = rows\n",
    ")"
   ]
  },
  {
   "cell_type": "markdown",
   "metadata": {},
   "source": [
    "We could also have used [neomodel (OGM)](https://neo4j.com/labs/neomodel/?utm_source=GSearch&utm_medium=PaidSearch&utm_campaign=Evergreen&utm_content=EMEA-Search-SEMCE-DSA-None-SEM-SEM-NonABM&utm_term=&utm_adgroup=DSA&gad_source=1&gclid=Cj0KCQjw4cS-BhDGARIsABg4_J3lQsfHEHC6mPeWozzT4IgafxMFSHlZeWAENoPHfKnqTpFtqDG4nIkaAr3XEALw_wcB) to update the graph."
   ]
  }
 ],
 "metadata": {
  "colab": {
   "provenance": []
  },
  "kernelspec": {
   "display_name": "Python 3 (ipykernel)",
   "language": "python",
   "name": "python3"
  },
  "language_info": {
   "codemirror_mode": {
    "name": "ipython",
    "version": 3
   },
   "file_extension": ".py",
   "mimetype": "text/x-python",
   "name": "python",
   "nbconvert_exporter": "python",
   "pygments_lexer": "ipython3",
   "version": "3.11.5"
  }
 },
 "nbformat": 4,
 "nbformat_minor": 4
}
