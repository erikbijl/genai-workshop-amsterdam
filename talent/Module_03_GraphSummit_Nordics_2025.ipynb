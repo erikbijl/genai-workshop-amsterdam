{
 "cells": [
  {
   "cell_type": "markdown",
   "metadata": {},
   "source": [
    "# Module objectives\n",
    "- Exact lookups\n",
    "- Semantic search/vector index\n",
    "- Combine Exact and Semantic search + graph expansion for better context\n",
    "- The R in GraphRAG (and maybe agents)"
   ]
  },
  {
   "cell_type": "code",
   "execution_count": 2,
   "metadata": {
    "id": "FHKg4DVZiQ98"
   },
   "outputs": [
    {
     "name": "stdout",
     "output_type": "stream",
     "text": [
      "Requirement already satisfied: graphdatascience in /Users/erikbijl/anaconda3/lib/python3.11/site-packages (1.13)\n",
      "Requirement already satisfied: neo4j in /Users/erikbijl/anaconda3/lib/python3.11/site-packages (5.28.1)\n",
      "Requirement already satisfied: dotenv in /Users/erikbijl/anaconda3/lib/python3.11/site-packages (0.9.9)\n",
      "Requirement already satisfied: openai in /Users/erikbijl/anaconda3/lib/python3.11/site-packages (1.61.0)\n",
      "Requirement already satisfied: langchain in /Users/erikbijl/anaconda3/lib/python3.11/site-packages (0.3.17)\n",
      "Requirement already satisfied: multimethod<2.0,>=1.0 in /Users/erikbijl/anaconda3/lib/python3.11/site-packages (from graphdatascience) (1.12)\n",
      "Requirement already satisfied: numpy<2.0 in /Users/erikbijl/anaconda3/lib/python3.11/site-packages (from graphdatascience) (1.26.4)\n",
      "Requirement already satisfied: pandas<3.0,>=1.0 in /Users/erikbijl/anaconda3/lib/python3.11/site-packages (from graphdatascience) (2.2.1)\n",
      "Requirement already satisfied: pyarrow<19.0,>=15.0.2 in /Users/erikbijl/anaconda3/lib/python3.11/site-packages (from graphdatascience) (18.1.0)\n",
      "Requirement already satisfied: textdistance<5.0,>=4.0 in /Users/erikbijl/anaconda3/lib/python3.11/site-packages (from graphdatascience) (4.2.1)\n",
      "Requirement already satisfied: tqdm<5.0,>=4.0 in /Users/erikbijl/anaconda3/lib/python3.11/site-packages (from graphdatascience) (4.66.4)\n",
      "Requirement already satisfied: typing-extensions<5.0,>=4.0 in /Users/erikbijl/anaconda3/lib/python3.11/site-packages (from graphdatascience) (4.11.0)\n",
      "Requirement already satisfied: requests in /Users/erikbijl/anaconda3/lib/python3.11/site-packages (from graphdatascience) (2.32.2)\n",
      "Requirement already satisfied: tenacity>=9.0 in /Users/erikbijl/anaconda3/lib/python3.11/site-packages (from graphdatascience) (9.0.0)\n",
      "Requirement already satisfied: pytz in /Users/erikbijl/anaconda3/lib/python3.11/site-packages (from neo4j) (2024.1)\n",
      "Requirement already satisfied: python-dotenv in /Users/erikbijl/anaconda3/lib/python3.11/site-packages (from dotenv) (0.21.0)\n",
      "Requirement already satisfied: anyio<5,>=3.5.0 in /Users/erikbijl/anaconda3/lib/python3.11/site-packages (from openai) (4.2.0)\n",
      "Requirement already satisfied: distro<2,>=1.7.0 in /Users/erikbijl/anaconda3/lib/python3.11/site-packages (from openai) (1.9.0)\n",
      "Requirement already satisfied: httpx<1,>=0.23.0 in /Users/erikbijl/anaconda3/lib/python3.11/site-packages (from openai) (0.27.2)\n",
      "Requirement already satisfied: jiter<1,>=0.4.0 in /Users/erikbijl/anaconda3/lib/python3.11/site-packages (from openai) (0.7.0)\n",
      "Requirement already satisfied: pydantic<3,>=1.9.0 in /Users/erikbijl/anaconda3/lib/python3.11/site-packages (from openai) (2.9.2)\n",
      "Requirement already satisfied: sniffio in /Users/erikbijl/anaconda3/lib/python3.11/site-packages (from openai) (1.3.0)\n",
      "Requirement already satisfied: PyYAML>=5.3 in /Users/erikbijl/anaconda3/lib/python3.11/site-packages (from langchain) (6.0.1)\n",
      "Requirement already satisfied: SQLAlchemy<3,>=1.4 in /Users/erikbijl/anaconda3/lib/python3.11/site-packages (from langchain) (2.0.25)\n",
      "Requirement already satisfied: aiohttp<4.0.0,>=3.8.3 in /Users/erikbijl/anaconda3/lib/python3.11/site-packages (from langchain) (3.9.5)\n",
      "Requirement already satisfied: langchain-core<0.4.0,>=0.3.33 in /Users/erikbijl/anaconda3/lib/python3.11/site-packages (from langchain) (0.3.33)\n",
      "Requirement already satisfied: langchain-text-splitters<0.4.0,>=0.3.3 in /Users/erikbijl/anaconda3/lib/python3.11/site-packages (from langchain) (0.3.5)\n",
      "Requirement already satisfied: langsmith<0.4,>=0.1.17 in /Users/erikbijl/anaconda3/lib/python3.11/site-packages (from langchain) (0.1.139)\n",
      "Requirement already satisfied: aiosignal>=1.1.2 in /Users/erikbijl/anaconda3/lib/python3.11/site-packages (from aiohttp<4.0.0,>=3.8.3->langchain) (1.2.0)\n",
      "Requirement already satisfied: attrs>=17.3.0 in /Users/erikbijl/anaconda3/lib/python3.11/site-packages (from aiohttp<4.0.0,>=3.8.3->langchain) (23.1.0)\n",
      "Requirement already satisfied: frozenlist>=1.1.1 in /Users/erikbijl/anaconda3/lib/python3.11/site-packages (from aiohttp<4.0.0,>=3.8.3->langchain) (1.4.0)\n",
      "Requirement already satisfied: multidict<7.0,>=4.5 in /Users/erikbijl/anaconda3/lib/python3.11/site-packages (from aiohttp<4.0.0,>=3.8.3->langchain) (6.0.4)\n",
      "Requirement already satisfied: yarl<2.0,>=1.0 in /Users/erikbijl/anaconda3/lib/python3.11/site-packages (from aiohttp<4.0.0,>=3.8.3->langchain) (1.9.3)\n",
      "Requirement already satisfied: idna>=2.8 in /Users/erikbijl/anaconda3/lib/python3.11/site-packages (from anyio<5,>=3.5.0->openai) (3.7)\n",
      "Requirement already satisfied: certifi in /Users/erikbijl/anaconda3/lib/python3.11/site-packages (from httpx<1,>=0.23.0->openai) (2024.2.2)\n",
      "Requirement already satisfied: httpcore==1.* in /Users/erikbijl/anaconda3/lib/python3.11/site-packages (from httpx<1,>=0.23.0->openai) (1.0.6)\n",
      "Requirement already satisfied: h11<0.15,>=0.13 in /Users/erikbijl/anaconda3/lib/python3.11/site-packages (from httpcore==1.*->httpx<1,>=0.23.0->openai) (0.14.0)\n",
      "Requirement already satisfied: jsonpatch<2.0,>=1.33 in /Users/erikbijl/anaconda3/lib/python3.11/site-packages (from langchain-core<0.4.0,>=0.3.33->langchain) (1.33)\n",
      "Requirement already satisfied: packaging<25,>=23.2 in /Users/erikbijl/anaconda3/lib/python3.11/site-packages (from langchain-core<0.4.0,>=0.3.33->langchain) (23.2)\n",
      "Requirement already satisfied: orjson<4.0.0,>=3.9.14 in /Users/erikbijl/anaconda3/lib/python3.11/site-packages (from langsmith<0.4,>=0.1.17->langchain) (3.10.11)\n",
      "Requirement already satisfied: requests-toolbelt<2.0.0,>=1.0.0 in /Users/erikbijl/anaconda3/lib/python3.11/site-packages (from langsmith<0.4,>=0.1.17->langchain) (1.0.0)\n",
      "Requirement already satisfied: python-dateutil>=2.8.2 in /Users/erikbijl/anaconda3/lib/python3.11/site-packages (from pandas<3.0,>=1.0->graphdatascience) (2.9.0.post0)\n",
      "Requirement already satisfied: tzdata>=2022.7 in /Users/erikbijl/anaconda3/lib/python3.11/site-packages (from pandas<3.0,>=1.0->graphdatascience) (2023.3)\n",
      "Requirement already satisfied: annotated-types>=0.6.0 in /Users/erikbijl/anaconda3/lib/python3.11/site-packages (from pydantic<3,>=1.9.0->openai) (0.6.0)\n",
      "Requirement already satisfied: pydantic-core==2.23.4 in /Users/erikbijl/anaconda3/lib/python3.11/site-packages (from pydantic<3,>=1.9.0->openai) (2.23.4)\n",
      "Requirement already satisfied: charset-normalizer<4,>=2 in /Users/erikbijl/anaconda3/lib/python3.11/site-packages (from requests->graphdatascience) (2.0.4)\n",
      "Requirement already satisfied: urllib3<3,>=1.21.1 in /Users/erikbijl/anaconda3/lib/python3.11/site-packages (from requests->graphdatascience) (2.2.1)\n",
      "Requirement already satisfied: jsonpointer>=1.9 in /Users/erikbijl/anaconda3/lib/python3.11/site-packages (from jsonpatch<2.0,>=1.33->langchain-core<0.4.0,>=0.3.33->langchain) (2.1)\n",
      "Requirement already satisfied: six>=1.5 in /Users/erikbijl/anaconda3/lib/python3.11/site-packages (from python-dateutil>=2.8.2->pandas<3.0,>=1.0->graphdatascience) (1.16.0)\n"
     ]
    }
   ],
   "source": [
    "!pip install graphdatascience neo4j dotenv openai langchain"
   ]
  },
  {
   "cell_type": "markdown",
   "metadata": {},
   "source": [
    "Import our usual suspects (and some more...)"
   ]
  },
  {
   "cell_type": "code",
   "execution_count": 17,
   "metadata": {},
   "outputs": [],
   "source": [
    "import os\n",
    "import pandas as pd\n",
    "from dotenv import load_dotenv\n",
    "from graphdatascience import GraphDataScience\n",
    "from neo4j import Query, GraphDatabase, RoutingControl, Result\n",
    "from langchain_openai import OpenAIEmbeddings, ChatOpenAI\n",
    "from langchain_core.prompts import ChatPromptTemplate\n",
    "from langchain_core.output_parsers import StrOutputParser\n",
    "from openai import OpenAI\n",
    "from typing import List, Optional\n",
    "from pydantic import BaseModel, Field, validator\n",
    "import functools\n",
    "from langchain_core.tools import tool"
   ]
  },
  {
   "cell_type": "markdown",
   "metadata": {
    "id": "ynPe6RLRWSKd"
   },
   "source": [
    "# Setup"
   ]
  },
  {
   "cell_type": "markdown",
   "metadata": {
    "id": "pa61u1jfyk3t"
   },
   "source": [
    "Load env variables"
   ]
  },
  {
   "cell_type": "code",
   "execution_count": 4,
   "metadata": {},
   "outputs": [],
   "source": [
    "env_file = 'ws.env'"
   ]
  },
  {
   "cell_type": "code",
   "execution_count": 5,
   "metadata": {
    "id": "CHR_0lmElZ-R"
   },
   "outputs": [],
   "source": [
    "if os.path.exists(env_file):\n",
    "    load_dotenv(env_file, override=True)\n",
    "\n",
    "    # Neo4j\n",
    "    HOST = os.getenv('NEO4J_URI')\n",
    "    USERNAME = os.getenv('NEO4J_USERNAME')\n",
    "    PASSWORD = os.getenv('NEO4J_PASSWORD')\n",
    "    DATABASE = os.getenv('NEO4J_DATABASE')\n",
    "\n",
    "    # AI\n",
    "    OPENAI_API_KEY = os.getenv('OPENAI_API_KEY')\n",
    "    os.environ['OPENAI_API_KEY']=OPENAI_API_KEY\n",
    "    LLM = os.getenv('LLM')\n",
    "else:\n",
    "    print(f\"File {env_file} not found.\")"
   ]
  },
  {
   "cell_type": "markdown",
   "metadata": {},
   "source": [
    "Connect to neo4j db"
   ]
  },
  {
   "cell_type": "code",
   "execution_count": 6,
   "metadata": {
    "id": "5w4eCb7xZZ-S"
   },
   "outputs": [
    {
     "name": "stderr",
     "output_type": "stream",
     "text": [
      "/Users/erikbijl/anaconda3/lib/python3.11/site-packages/neo4j/_sync/driver.py:1075: ExperimentalWarning: All configuration key-word arguments to verify_connectivity() are experimental. They might be changed or removed in any future version without prior notice.\n",
      "  experimental_warn(\n"
     ]
    }
   ],
   "source": [
    "driver = GraphDatabase.driver(\n",
    "    HOST,\n",
    "    auth=(USERNAME, PASSWORD)\n",
    ")\n",
    "driver.verify_connectivity(database=DATABASE)"
   ]
  },
  {
   "cell_type": "markdown",
   "metadata": {},
   "source": [
    "## Schema\n",
    "Keeping this in case we need to add in more indexes"
   ]
  },
  {
   "cell_type": "code",
   "execution_count": 7,
   "metadata": {
    "id": "cdTfdAyV2ZaR"
   },
   "outputs": [],
   "source": [
    "schema_statements = [\n",
    "    'CREATE CONSTRAINT IF NOT EXISTS FOR (n:Person) REQUIRE (n.email) IS node key',\n",
    "    'CREATE CONSTRAINT IF NOT EXISTS FOR (n:Skill) REQUIRE (n.name) IS node key',\n",
    "    'CREATE VECTOR INDEX ada_v IF NOT EXISTS FOR (n:Skill) ON (n.embedding)'\n",
    "]"
   ]
  },
  {
   "cell_type": "code",
   "execution_count": 8,
   "metadata": {
    "id": "cdTfdAyV2ZaR"
   },
   "outputs": [],
   "source": [
    "for statement in schema_statements:\n",
    "    driver.execute_query(\n",
    "        statement,\n",
    "        database_=DATABASE,\n",
    "        routing_=RoutingControl.WRITE\n",
    "    )"
   ]
  },
  {
   "cell_type": "markdown",
   "metadata": {
    "id": "cdTfdAyV2ZaR"
   },
   "source": [
    "Fetch all indexes"
   ]
  },
  {
   "cell_type": "code",
   "execution_count": 9,
   "metadata": {
    "id": "cdTfdAyV2ZaR"
   },
   "outputs": [],
   "source": [
    "schema_result_df  = driver.execute_query(\n",
    "    'show indexes',\n",
    "    database_=DATABASE,\n",
    "    routing_=RoutingControl.READ,\n",
    "    result_transformer_= lambda r: r.to_df()\n",
    ")"
   ]
  },
  {
   "cell_type": "code",
   "execution_count": 10,
   "metadata": {
    "id": "cdTfdAyV2ZaR"
   },
   "outputs": [
    {
     "data": {
      "text/html": [
       "<div>\n",
       "<style scoped>\n",
       "    .dataframe tbody tr th:only-of-type {\n",
       "        vertical-align: middle;\n",
       "    }\n",
       "\n",
       "    .dataframe tbody tr th {\n",
       "        vertical-align: top;\n",
       "    }\n",
       "\n",
       "    .dataframe thead th {\n",
       "        text-align: right;\n",
       "    }\n",
       "</style>\n",
       "<table border=\"1\" class=\"dataframe\">\n",
       "  <thead>\n",
       "    <tr style=\"text-align: right;\">\n",
       "      <th></th>\n",
       "      <th>id</th>\n",
       "      <th>name</th>\n",
       "      <th>state</th>\n",
       "      <th>populationPercent</th>\n",
       "      <th>type</th>\n",
       "      <th>entityType</th>\n",
       "      <th>labelsOrTypes</th>\n",
       "      <th>properties</th>\n",
       "      <th>indexProvider</th>\n",
       "      <th>owningConstraint</th>\n",
       "      <th>lastRead</th>\n",
       "      <th>readCount</th>\n",
       "    </tr>\n",
       "  </thead>\n",
       "  <tbody>\n",
       "    <tr>\n",
       "      <th>0</th>\n",
       "      <td>6</td>\n",
       "      <td>ada_v</td>\n",
       "      <td>ONLINE</td>\n",
       "      <td>100.0</td>\n",
       "      <td>VECTOR</td>\n",
       "      <td>NODE</td>\n",
       "      <td>[Skill]</td>\n",
       "      <td>[embedding]</td>\n",
       "      <td>vector-2.0</td>\n",
       "      <td>None</td>\n",
       "      <td>None</td>\n",
       "      <td>NaN</td>\n",
       "    </tr>\n",
       "    <tr>\n",
       "      <th>1</th>\n",
       "      <td>4</td>\n",
       "      <td>constraint_63bf11a1</td>\n",
       "      <td>ONLINE</td>\n",
       "      <td>100.0</td>\n",
       "      <td>RANGE</td>\n",
       "      <td>NODE</td>\n",
       "      <td>[Skill]</td>\n",
       "      <td>[name]</td>\n",
       "      <td>range-1.0</td>\n",
       "      <td>constraint_63bf11a1</td>\n",
       "      <td>2025-03-08T08:54:28.113000000+00:00</td>\n",
       "      <td>581.0</td>\n",
       "    </tr>\n",
       "    <tr>\n",
       "      <th>2</th>\n",
       "      <td>2</td>\n",
       "      <td>constraint_d3bfd313</td>\n",
       "      <td>ONLINE</td>\n",
       "      <td>100.0</td>\n",
       "      <td>RANGE</td>\n",
       "      <td>NODE</td>\n",
       "      <td>[Person]</td>\n",
       "      <td>[email]</td>\n",
       "      <td>range-1.0</td>\n",
       "      <td>constraint_d3bfd313</td>\n",
       "      <td>2025-03-08T08:54:28.114000000+00:00</td>\n",
       "      <td>305.0</td>\n",
       "    </tr>\n",
       "    <tr>\n",
       "      <th>3</th>\n",
       "      <td>0</td>\n",
       "      <td>index_343aff4e</td>\n",
       "      <td>ONLINE</td>\n",
       "      <td>100.0</td>\n",
       "      <td>LOOKUP</td>\n",
       "      <td>NODE</td>\n",
       "      <td>None</td>\n",
       "      <td>None</td>\n",
       "      <td>token-lookup-1.0</td>\n",
       "      <td>None</td>\n",
       "      <td>2025-03-08T08:54:34.731000000+00:00</td>\n",
       "      <td>57.0</td>\n",
       "    </tr>\n",
       "    <tr>\n",
       "      <th>4</th>\n",
       "      <td>1</td>\n",
       "      <td>index_f7700477</td>\n",
       "      <td>ONLINE</td>\n",
       "      <td>100.0</td>\n",
       "      <td>LOOKUP</td>\n",
       "      <td>RELATIONSHIP</td>\n",
       "      <td>None</td>\n",
       "      <td>None</td>\n",
       "      <td>token-lookup-1.0</td>\n",
       "      <td>None</td>\n",
       "      <td>2025-03-08T08:54:02.612000000+00:00</td>\n",
       "      <td>2.0</td>\n",
       "    </tr>\n",
       "  </tbody>\n",
       "</table>\n",
       "</div>"
      ],
      "text/plain": [
       "   id                 name   state  populationPercent    type    entityType  \\\n",
       "0   6                ada_v  ONLINE              100.0  VECTOR          NODE   \n",
       "1   4  constraint_63bf11a1  ONLINE              100.0   RANGE          NODE   \n",
       "2   2  constraint_d3bfd313  ONLINE              100.0   RANGE          NODE   \n",
       "3   0       index_343aff4e  ONLINE              100.0  LOOKUP          NODE   \n",
       "4   1       index_f7700477  ONLINE              100.0  LOOKUP  RELATIONSHIP   \n",
       "\n",
       "  labelsOrTypes   properties     indexProvider     owningConstraint  \\\n",
       "0       [Skill]  [embedding]        vector-2.0                 None   \n",
       "1       [Skill]       [name]         range-1.0  constraint_63bf11a1   \n",
       "2      [Person]      [email]         range-1.0  constraint_d3bfd313   \n",
       "3          None         None  token-lookup-1.0                 None   \n",
       "4          None         None  token-lookup-1.0                 None   \n",
       "\n",
       "                              lastRead  readCount  \n",
       "0                                 None        NaN  \n",
       "1  2025-03-08T08:54:28.113000000+00:00      581.0  \n",
       "2  2025-03-08T08:54:28.114000000+00:00      305.0  \n",
       "3  2025-03-08T08:54:34.731000000+00:00       57.0  \n",
       "4  2025-03-08T08:54:02.612000000+00:00        2.0  "
      ]
     },
     "execution_count": 10,
     "metadata": {},
     "output_type": "execute_result"
    }
   ],
   "source": [
    "schema_result_df.head(100)"
   ]
  },
  {
   "cell_type": "markdown",
   "metadata": {
    "id": "0OMlYdxHWZLx"
   },
   "source": [
    "# Basic search"
   ]
  },
  {
   "cell_type": "code",
   "execution_count": 11,
   "metadata": {
    "id": "volCOjn_jjm3"
   },
   "outputs": [],
   "source": [
    "skills = ['Contineous Delivery', 'Cloud Native', 'Security']"
   ]
  },
  {
   "cell_type": "markdown",
   "metadata": {
    "id": "volCOjn_jjm3"
   },
   "source": [
    "Find person given some skills"
   ]
  },
  {
   "cell_type": "code",
   "execution_count": 13,
   "metadata": {
    "id": "volCOjn_jjm3"
   },
   "outputs": [],
   "source": [
    "search_persons_df = driver.execute_query(\n",
    "    \"\"\"\n",
    "    MATCH (p:Person)-[:KNOWS]->(s:Skill)\n",
    "    WHERE s.name IN $skills\n",
    "    RETURN \n",
    "        count(*) AS rank, \n",
    "        p.email AS email, \n",
    "        p.name AS person_name, \n",
    "        COLLECT{ MATCH (p)-[:KNOWS]->(anySkill) RETURN anySkill.name } AS skills\n",
    "    ORDER BY rank DESC LIMIT  10\n",
    "    \"\"\",\n",
    "    database_=DATABASE,\n",
    "    routing_=RoutingControl.READ,\n",
    "    result_transformer_= lambda r: r.to_df(),\n",
    "    skills = skills\n",
    ")"
   ]
  },
  {
   "cell_type": "code",
   "execution_count": 14,
   "metadata": {},
   "outputs": [
    {
     "data": {
      "text/html": [
       "<div>\n",
       "<style scoped>\n",
       "    .dataframe tbody tr th:only-of-type {\n",
       "        vertical-align: middle;\n",
       "    }\n",
       "\n",
       "    .dataframe tbody tr th {\n",
       "        vertical-align: top;\n",
       "    }\n",
       "\n",
       "    .dataframe thead th {\n",
       "        text-align: right;\n",
       "    }\n",
       "</style>\n",
       "<table border=\"1\" class=\"dataframe\">\n",
       "  <thead>\n",
       "    <tr style=\"text-align: right;\">\n",
       "      <th></th>\n",
       "      <th>rank</th>\n",
       "      <th>email</th>\n",
       "      <th>person_name</th>\n",
       "      <th>skills</th>\n",
       "    </tr>\n",
       "  </thead>\n",
       "  <tbody>\n",
       "    <tr>\n",
       "      <th>0</th>\n",
       "      <td>1</td>\n",
       "      <td>lucy.turner@test.org</td>\n",
       "      <td>Lucy Turner</td>\n",
       "      <td>[Security, Express.js, Big Data, Scala, Docker]</td>\n",
       "    </tr>\n",
       "    <tr>\n",
       "      <th>1</th>\n",
       "      <td>1</td>\n",
       "      <td>sophie.jackson@test.org</td>\n",
       "      <td>Sophie Jackson</td>\n",
       "      <td>[Security, Pandas, Linux, Angular]</td>\n",
       "    </tr>\n",
       "    <tr>\n",
       "      <th>2</th>\n",
       "      <td>1</td>\n",
       "      <td>mia.nelson@test.org</td>\n",
       "      <td>Mia Nelson</td>\n",
       "      <td>[Security, WordPress, Big Data, Swift, AWS]</td>\n",
       "    </tr>\n",
       "    <tr>\n",
       "      <th>3</th>\n",
       "      <td>1</td>\n",
       "      <td>david.lopez@test.org</td>\n",
       "      <td>David Lopez</td>\n",
       "      <td>[Security, WordPress, PHP]</td>\n",
       "    </tr>\n",
       "    <tr>\n",
       "      <th>4</th>\n",
       "      <td>1</td>\n",
       "      <td>thomas.brown@test.org</td>\n",
       "      <td>Thomas Brown</td>\n",
       "      <td>[Security, R, Java, Docker]</td>\n",
       "    </tr>\n",
       "    <tr>\n",
       "      <th>5</th>\n",
       "      <td>1</td>\n",
       "      <td>isabella.allen@test.org</td>\n",
       "      <td>Isabella Allen</td>\n",
       "      <td>[Security, Scala, Cloud Architecture]</td>\n",
       "    </tr>\n",
       "    <tr>\n",
       "      <th>6</th>\n",
       "      <td>1</td>\n",
       "      <td>olivia.johnson@test.org</td>\n",
       "      <td>Olivia Johnson</td>\n",
       "      <td>[Security, Angular, CI/CD]</td>\n",
       "    </tr>\n",
       "    <tr>\n",
       "      <th>7</th>\n",
       "      <td>1</td>\n",
       "      <td>amelia.davis@test.org</td>\n",
       "      <td>Amelia Davis</td>\n",
       "      <td>[Security, PyTorch, Java, HTML5, Docker]</td>\n",
       "    </tr>\n",
       "    <tr>\n",
       "      <th>8</th>\n",
       "      <td>1</td>\n",
       "      <td>emily.phillips@test.org</td>\n",
       "      <td>Emily Phillips</td>\n",
       "      <td>[Security, Vue.js, PHP, Kubernetes, Data Visua...</td>\n",
       "    </tr>\n",
       "    <tr>\n",
       "      <th>9</th>\n",
       "      <td>1</td>\n",
       "      <td>thomas.nelson@test.org</td>\n",
       "      <td>Thomas Nelson</td>\n",
       "      <td>[Security, Pandas, Go]</td>\n",
       "    </tr>\n",
       "  </tbody>\n",
       "</table>\n",
       "</div>"
      ],
      "text/plain": [
       "   rank                    email     person_name  \\\n",
       "0     1     lucy.turner@test.org     Lucy Turner   \n",
       "1     1  sophie.jackson@test.org  Sophie Jackson   \n",
       "2     1      mia.nelson@test.org      Mia Nelson   \n",
       "3     1     david.lopez@test.org     David Lopez   \n",
       "4     1    thomas.brown@test.org    Thomas Brown   \n",
       "5     1  isabella.allen@test.org  Isabella Allen   \n",
       "6     1  olivia.johnson@test.org  Olivia Johnson   \n",
       "7     1    amelia.davis@test.org    Amelia Davis   \n",
       "8     1  emily.phillips@test.org  Emily Phillips   \n",
       "9     1   thomas.nelson@test.org   Thomas Nelson   \n",
       "\n",
       "                                              skills  \n",
       "0    [Security, Express.js, Big Data, Scala, Docker]  \n",
       "1                 [Security, Pandas, Linux, Angular]  \n",
       "2        [Security, WordPress, Big Data, Swift, AWS]  \n",
       "3                         [Security, WordPress, PHP]  \n",
       "4                        [Security, R, Java, Docker]  \n",
       "5              [Security, Scala, Cloud Architecture]  \n",
       "6                         [Security, Angular, CI/CD]  \n",
       "7           [Security, PyTorch, Java, HTML5, Docker]  \n",
       "8  [Security, Vue.js, PHP, Kubernetes, Data Visua...  \n",
       "9                             [Security, Pandas, Go]  "
      ]
     },
     "execution_count": 14,
     "metadata": {},
     "output_type": "execute_result"
    }
   ],
   "source": [
    "search_persons_df"
   ]
  },
  {
   "cell_type": "markdown",
   "metadata": {},
   "source": [
    "# Vector index search"
   ]
  },
  {
   "cell_type": "code",
   "execution_count": 15,
   "metadata": {},
   "outputs": [],
   "source": [
    "# client = OpenAI()\n",
    "# client.models.list()"
   ]
  },
  {
   "cell_type": "code",
   "execution_count": 16,
   "metadata": {},
   "outputs": [],
   "source": [
    "embeddings = OpenAIEmbeddings(model='text-embedding-ada-002')\n",
    "v_skills = embeddings.embed_documents(skills)"
   ]
  },
  {
   "cell_type": "markdown",
   "metadata": {},
   "source": [
    "### Strategy 1\n",
    "We get the approximate top 10 nearest nodes to the search vector `v` and take the 3 first returned. Then put them together in a list (`skill_list`) and does same ranking as before (number of skills)"
   ]
  },
  {
   "cell_type": "code",
   "execution_count": null,
   "metadata": {},
   "outputs": [],
   "source": [
    "df_1 = driver.execute_query(\n",
    "    \"\"\"\n",
    "    UNWIND $v_skills AS v\n",
    "    CALL db.index.vector.queryNodes('ada_v', 10, TOFLOATLIST(v)) YIELD node\n",
    "    WITH v, COLLECT(node)[0..3] AS top3\n",
    "    UNWIND top3 AS s\n",
    "    WITH COLLECT(s) AS skill_list \n",
    "    MATCH (p:Person)-[:KNOWS]->(s)\n",
    "    WHERE s IN skill_list\n",
    "    RETURN \n",
    "        COUNT(*) AS rank, \n",
    "        p.email AS email, \n",
    "        p.name AS person_name, \n",
    "        COLLECT{ MATCH (p)-[:KNOWS]->(anySkill) RETURN anySkill.name } AS skills\n",
    "    ORDER BY rank DESC \n",
    "    LIMIT 10\n",
    "    \"\"\",\n",
    "    database_=DATABASE,\n",
    "    routing_=RoutingControl.READ,\n",
    "    result_transformer_= lambda r: r.to_df(),\n",
    "    v_skills = v_skills\n",
    ")"
   ]
  },
  {
   "cell_type": "code",
   "execution_count": null,
   "metadata": {},
   "outputs": [],
   "source": [
    "df.head(10)"
   ]
  },
  {
   "cell_type": "markdown",
   "metadata": {},
   "source": [
    "## Strategy 2\n",
    "Same strategy as before for finding the semantic similar skills, but we do a post sorting based on cosine similarity"
   ]
  },
  {
   "cell_type": "code",
   "execution_count": 19,
   "metadata": {},
   "outputs": [],
   "source": [
    "df_2 = driver.execute_query(\n",
    "    \"\"\"\n",
    "    UNWIND $v_skills AS v\n",
    "    CALL db.index.vector.queryNodes('ada_v', 10, TOFLOATLIST(v)) YIELD node\n",
    "    WITH v, COLLECT(node)[0..3] AS top3\n",
    "    UNWIND top3 AS s\n",
    "    WITH COLLECT(s) AS skill_list \n",
    "    MATCH (p:Person)-[:KNOWS]->(s)\n",
    "    WHERE s IN skill_list\n",
    "    WITH p, SUM(REDUCE(res=0.0, x IN $v_skills | res + vector.similarity.cosine(x, s.embedding))) AS score\n",
    "    RETURN \n",
    "        score AS rank, \n",
    "        p.email AS email, \n",
    "        p.name AS person_name, \n",
    "        COLLECT{ MATCH (p)-[:KNOWS]->(anySkill) RETURN anySkill.name } AS skills\n",
    "    ORDER BY rank DESC \n",
    "    LIMIT 10\n",
    "    \"\"\",\n",
    "    database_=DATABASE,\n",
    "    routing_=RoutingControl.READ,\n",
    "    result_transformer_= lambda r: r.to_df(),\n",
    "    v_skills = v_skills\n",
    ")"
   ]
  },
  {
   "cell_type": "code",
   "execution_count": 20,
   "metadata": {},
   "outputs": [
    {
     "data": {
      "text/html": [
       "<div>\n",
       "<style scoped>\n",
       "    .dataframe tbody tr th:only-of-type {\n",
       "        vertical-align: middle;\n",
       "    }\n",
       "\n",
       "    .dataframe tbody tr th {\n",
       "        vertical-align: top;\n",
       "    }\n",
       "\n",
       "    .dataframe thead th {\n",
       "        text-align: right;\n",
       "    }\n",
       "</style>\n",
       "<table border=\"1\" class=\"dataframe\">\n",
       "  <thead>\n",
       "    <tr style=\"text-align: right;\">\n",
       "      <th></th>\n",
       "      <th>rank</th>\n",
       "      <th>email</th>\n",
       "      <th>person_name</th>\n",
       "      <th>skills</th>\n",
       "    </tr>\n",
       "  </thead>\n",
       "  <tbody>\n",
       "    <tr>\n",
       "      <th>0</th>\n",
       "      <td>8.097379</td>\n",
       "      <td>david.rodriguez@test.org</td>\n",
       "      <td>David Rodriguez</td>\n",
       "      <td>[Scrum, Azure, Cypher, Spark]</td>\n",
       "    </tr>\n",
       "    <tr>\n",
       "      <th>1</th>\n",
       "      <td>5.481543</td>\n",
       "      <td>isabella.allen@test.org</td>\n",
       "      <td>Isabella Allen</td>\n",
       "      <td>[Security, Scala, Cloud Architecture]</td>\n",
       "    </tr>\n",
       "    <tr>\n",
       "      <th>2</th>\n",
       "      <td>5.475172</td>\n",
       "      <td>olivia.johnson@test.org</td>\n",
       "      <td>Olivia Johnson</td>\n",
       "      <td>[Security, Angular, CI/CD]</td>\n",
       "    </tr>\n",
       "    <tr>\n",
       "      <th>3</th>\n",
       "      <td>5.417244</td>\n",
       "      <td>andrew.anderson@test.org</td>\n",
       "      <td>Andrew Anderson</td>\n",
       "      <td>[DevOps, Java, Testing, Node.js, Data Visualiz...</td>\n",
       "    </tr>\n",
       "    <tr>\n",
       "      <th>4</th>\n",
       "      <td>5.414759</td>\n",
       "      <td>andrew.martin@test.org</td>\n",
       "      <td>Andrew Martin</td>\n",
       "      <td>[R, Java, Cloud Architecture, Testing, Node.js]</td>\n",
       "    </tr>\n",
       "    <tr>\n",
       "      <th>5</th>\n",
       "      <td>5.411052</td>\n",
       "      <td>sophia.walker@test.org</td>\n",
       "      <td>Sophia Walker</td>\n",
       "      <td>[Scrum, DevOps, Django, C++]</td>\n",
       "    </tr>\n",
       "    <tr>\n",
       "      <th>6</th>\n",
       "      <td>5.411007</td>\n",
       "      <td>natalie.miller@test.org</td>\n",
       "      <td>Natalie Miller</td>\n",
       "      <td>[Go, Express.js, Azure, Testing, Machine Learn...</td>\n",
       "    </tr>\n",
       "    <tr>\n",
       "      <th>7</th>\n",
       "      <td>5.408567</td>\n",
       "      <td>sophie.perez@test.org</td>\n",
       "      <td>Sophie Perez</td>\n",
       "      <td>[Scrum, Angular, Cloud Architecture]</td>\n",
       "    </tr>\n",
       "    <tr>\n",
       "      <th>8</th>\n",
       "      <td>5.408567</td>\n",
       "      <td>isabella.jones@test.org</td>\n",
       "      <td>Isabella Jones</td>\n",
       "      <td>[Scrum, TensorFlow, Cloud Architecture, ReactJS]</td>\n",
       "    </tr>\n",
       "    <tr>\n",
       "      <th>9</th>\n",
       "      <td>5.408388</td>\n",
       "      <td>joseph.lopez@test.org</td>\n",
       "      <td>Joseph Lopez</td>\n",
       "      <td>[Linux, System Design, CI/CD, Django, TypeScri...</td>\n",
       "    </tr>\n",
       "  </tbody>\n",
       "</table>\n",
       "</div>"
      ],
      "text/plain": [
       "       rank                     email      person_name  \\\n",
       "0  8.097379  david.rodriguez@test.org  David Rodriguez   \n",
       "1  5.481543   isabella.allen@test.org   Isabella Allen   \n",
       "2  5.475172   olivia.johnson@test.org   Olivia Johnson   \n",
       "3  5.417244  andrew.anderson@test.org  Andrew Anderson   \n",
       "4  5.414759    andrew.martin@test.org    Andrew Martin   \n",
       "5  5.411052    sophia.walker@test.org    Sophia Walker   \n",
       "6  5.411007   natalie.miller@test.org   Natalie Miller   \n",
       "7  5.408567     sophie.perez@test.org     Sophie Perez   \n",
       "8  5.408567   isabella.jones@test.org   Isabella Jones   \n",
       "9  5.408388     joseph.lopez@test.org     Joseph Lopez   \n",
       "\n",
       "                                              skills  \n",
       "0                      [Scrum, Azure, Cypher, Spark]  \n",
       "1              [Security, Scala, Cloud Architecture]  \n",
       "2                         [Security, Angular, CI/CD]  \n",
       "3  [DevOps, Java, Testing, Node.js, Data Visualiz...  \n",
       "4    [R, Java, Cloud Architecture, Testing, Node.js]  \n",
       "5                       [Scrum, DevOps, Django, C++]  \n",
       "6  [Go, Express.js, Azure, Testing, Machine Learn...  \n",
       "7               [Scrum, Angular, Cloud Architecture]  \n",
       "8   [Scrum, TensorFlow, Cloud Architecture, ReactJS]  \n",
       "9  [Linux, System Design, CI/CD, Django, TypeScri...  "
      ]
     },
     "execution_count": 20,
     "metadata": {},
     "output_type": "execute_result"
    }
   ],
   "source": [
    "df_2.head(10)"
   ]
  },
  {
   "cell_type": "markdown",
   "metadata": {},
   "source": [
    "## Strategy 3\n",
    "We can also look at community membership (from our kmeans community detection from before). We could for instance imagining the user wanting to explore the community that looks most relevant.\n"
   ]
  },
  {
   "cell_type": "code",
   "execution_count": 21,
   "metadata": {},
   "outputs": [],
   "source": [
    "df_3 = driver.execute_query(\n",
    "    \"\"\"\n",
    "    UNWIND $v_skills AS v\n",
    "    CALL db.index.vector.queryNodes('ada_v', 10, TOFLOATLIST(v)) YIELD node\n",
    "    WITH v, COLLECT(node)[0..3] AS top3\n",
    "    UNWIND top3 AS s\n",
    "    WITH COLLECT(s) AS skill_list \n",
    "    MATCH (p:Person)-[:KNOWS]->(s)\n",
    "    WHERE s IN skill_list\n",
    "    WITH p, SUM(REDUCE(res=0.0, x IN $v_skills | res + vector.similarity.cosine(x, s.embedding))) AS score\n",
    "    WITH\n",
    "        p.kmeans5_cluster AS community,\n",
    "        score AS rank, \n",
    "        p.email AS email, \n",
    "        p.name AS person_name, \n",
    "        COLLECT{ MATCH (p)-[:KNOWS]->(anySkill) RETURN anySkill.name ORDER BY anySkill.name } AS skills\n",
    "    ORDER BY rank DESC \n",
    "    LIMIT 10\n",
    "    RETURN \n",
    "        community,\n",
    "        rank,\n",
    "        email,\n",
    "        person_name,\n",
    "        skills\n",
    "    ORDER BY community\n",
    "    \"\"\",\n",
    "    database_=DATABASE,\n",
    "    routing_=RoutingControl.READ,\n",
    "    result_transformer_= lambda r: r.to_df(),\n",
    "    v_skills = v_skills\n",
    ")"
   ]
  },
  {
   "cell_type": "code",
   "execution_count": 22,
   "metadata": {},
   "outputs": [
    {
     "data": {
      "text/html": [
       "<div>\n",
       "<style scoped>\n",
       "    .dataframe tbody tr th:only-of-type {\n",
       "        vertical-align: middle;\n",
       "    }\n",
       "\n",
       "    .dataframe tbody tr th {\n",
       "        vertical-align: top;\n",
       "    }\n",
       "\n",
       "    .dataframe thead th {\n",
       "        text-align: right;\n",
       "    }\n",
       "</style>\n",
       "<table border=\"1\" class=\"dataframe\">\n",
       "  <thead>\n",
       "    <tr style=\"text-align: right;\">\n",
       "      <th></th>\n",
       "      <th>community</th>\n",
       "      <th>rank</th>\n",
       "      <th>email</th>\n",
       "      <th>person_name</th>\n",
       "      <th>skills</th>\n",
       "    </tr>\n",
       "  </thead>\n",
       "  <tbody>\n",
       "    <tr>\n",
       "      <th>0</th>\n",
       "      <td>0</td>\n",
       "      <td>5.408388</td>\n",
       "      <td>joseph.lopez@test.org</td>\n",
       "      <td>Joseph Lopez</td>\n",
       "      <td>[CI/CD, Django, Linux, ReactJS, System Design,...</td>\n",
       "    </tr>\n",
       "    <tr>\n",
       "      <th>1</th>\n",
       "      <td>1</td>\n",
       "      <td>8.097379</td>\n",
       "      <td>david.rodriguez@test.org</td>\n",
       "      <td>David Rodriguez</td>\n",
       "      <td>[Azure, Cypher, Scrum, Spark]</td>\n",
       "    </tr>\n",
       "    <tr>\n",
       "      <th>2</th>\n",
       "      <td>1</td>\n",
       "      <td>5.411052</td>\n",
       "      <td>sophia.walker@test.org</td>\n",
       "      <td>Sophia Walker</td>\n",
       "      <td>[C++, DevOps, Django, Scrum]</td>\n",
       "    </tr>\n",
       "    <tr>\n",
       "      <th>3</th>\n",
       "      <td>2</td>\n",
       "      <td>5.408567</td>\n",
       "      <td>sophie.perez@test.org</td>\n",
       "      <td>Sophie Perez</td>\n",
       "      <td>[Angular, Cloud Architecture, Scrum]</td>\n",
       "    </tr>\n",
       "    <tr>\n",
       "      <th>4</th>\n",
       "      <td>2</td>\n",
       "      <td>5.408567</td>\n",
       "      <td>isabella.jones@test.org</td>\n",
       "      <td>Isabella Jones</td>\n",
       "      <td>[Cloud Architecture, ReactJS, Scrum, TensorFlow]</td>\n",
       "    </tr>\n",
       "    <tr>\n",
       "      <th>5</th>\n",
       "      <td>3</td>\n",
       "      <td>5.481543</td>\n",
       "      <td>isabella.allen@test.org</td>\n",
       "      <td>Isabella Allen</td>\n",
       "      <td>[Cloud Architecture, Scala, Security]</td>\n",
       "    </tr>\n",
       "    <tr>\n",
       "      <th>6</th>\n",
       "      <td>3</td>\n",
       "      <td>5.475172</td>\n",
       "      <td>olivia.johnson@test.org</td>\n",
       "      <td>Olivia Johnson</td>\n",
       "      <td>[Angular, CI/CD, Security]</td>\n",
       "    </tr>\n",
       "    <tr>\n",
       "      <th>7</th>\n",
       "      <td>3</td>\n",
       "      <td>5.411007</td>\n",
       "      <td>natalie.miller@test.org</td>\n",
       "      <td>Natalie Miller</td>\n",
       "      <td>[Azure, Express.js, Go, Machine Learning, Test...</td>\n",
       "    </tr>\n",
       "    <tr>\n",
       "      <th>8</th>\n",
       "      <td>4</td>\n",
       "      <td>5.417244</td>\n",
       "      <td>andrew.anderson@test.org</td>\n",
       "      <td>Andrew Anderson</td>\n",
       "      <td>[Data Visualization, DevOps, Java, Node.js, Te...</td>\n",
       "    </tr>\n",
       "    <tr>\n",
       "      <th>9</th>\n",
       "      <td>4</td>\n",
       "      <td>5.414759</td>\n",
       "      <td>andrew.martin@test.org</td>\n",
       "      <td>Andrew Martin</td>\n",
       "      <td>[Cloud Architecture, Java, Node.js, R, Testing]</td>\n",
       "    </tr>\n",
       "  </tbody>\n",
       "</table>\n",
       "</div>"
      ],
      "text/plain": [
       "   community      rank                     email      person_name  \\\n",
       "0          0  5.408388     joseph.lopez@test.org     Joseph Lopez   \n",
       "1          1  8.097379  david.rodriguez@test.org  David Rodriguez   \n",
       "2          1  5.411052    sophia.walker@test.org    Sophia Walker   \n",
       "3          2  5.408567     sophie.perez@test.org     Sophie Perez   \n",
       "4          2  5.408567   isabella.jones@test.org   Isabella Jones   \n",
       "5          3  5.481543   isabella.allen@test.org   Isabella Allen   \n",
       "6          3  5.475172   olivia.johnson@test.org   Olivia Johnson   \n",
       "7          3  5.411007   natalie.miller@test.org   Natalie Miller   \n",
       "8          4  5.417244  andrew.anderson@test.org  Andrew Anderson   \n",
       "9          4  5.414759    andrew.martin@test.org    Andrew Martin   \n",
       "\n",
       "                                              skills  \n",
       "0  [CI/CD, Django, Linux, ReactJS, System Design,...  \n",
       "1                      [Azure, Cypher, Scrum, Spark]  \n",
       "2                       [C++, DevOps, Django, Scrum]  \n",
       "3               [Angular, Cloud Architecture, Scrum]  \n",
       "4   [Cloud Architecture, ReactJS, Scrum, TensorFlow]  \n",
       "5              [Cloud Architecture, Scala, Security]  \n",
       "6                         [Angular, CI/CD, Security]  \n",
       "7  [Azure, Express.js, Go, Machine Learning, Test...  \n",
       "8  [Data Visualization, DevOps, Java, Node.js, Te...  \n",
       "9    [Cloud Architecture, Java, Node.js, R, Testing]  "
      ]
     },
     "execution_count": 22,
     "metadata": {},
     "output_type": "execute_result"
    }
   ],
   "source": [
    "df_3.head(10)"
   ]
  },
  {
   "cell_type": "markdown",
   "metadata": {},
   "source": [
    "# Lets create a Retrieval agent"
   ]
  },
  {
   "cell_type": "code",
   "execution_count": 23,
   "metadata": {},
   "outputs": [],
   "source": [
    "class Skill(BaseModel):\n",
    "    \"\"\"\n",
    "    Represents a professional skill or knwoledge of a person.\n",
    "    \"\"\"\n",
    "    name: str = Field(..., description=\"Sortened name of the skill\")\n",
    "\n",
    "@tool\n",
    "def retrieve_persons_given_set_of_skills(skills: List[Skill]) -> pd.DataFrame:\n",
    "    \"\"\"\n",
    "    Given a list of skills this function will retrieve relevant persons. \n",
    "    If the question contains multiple skills, only call the function once using the set of\n",
    "    skills as the argument for the function\n",
    "    \"\"\"\n",
    "    skills = [s.name for s in skills]\n",
    "    print(skills)\n",
    "    v_skills = embeddings.embed_documents(skills)\n",
    "    return driver.execute_query(\n",
    "        \"\"\" \n",
    "        UNWIND $v_skills AS v\n",
    "        CALL db.index.vector.queryNodes('ada_v', 10, TOFLOATLIST(v)) YIELD node\n",
    "        WITH v, COLLECT(node)[0..3] AS top3\n",
    "        UNWIND top3 AS s\n",
    "        WITH COLLECT(s) AS skill_list \n",
    "        MATCH (p:Person)-[:KNOWS]->(s)\n",
    "        WHERE s IN skill_list\n",
    "        WITH p, SUM(REDUCE(res=0.0, x IN $v_skills | res + vector.similarity.cosine(x, s.embedding))) AS score\n",
    "        WITH\n",
    "            p.kmeans5_cluster AS community,\n",
    "            score AS rank, \n",
    "            p.email AS email, \n",
    "            p.name AS person_name, \n",
    "            COLLECT{ MATCH (p)-[:KNOWS]->(anySkill) RETURN anySkill.name ORDER BY anySkill.name } AS skills\n",
    "        ORDER BY rank DESC \n",
    "        LIMIT 10\n",
    "        RETURN \n",
    "            community,\n",
    "            rank,\n",
    "            email,\n",
    "            person_name,\n",
    "            skills\n",
    "        ORDER BY community\n",
    "        \"\"\",\n",
    "        database_=DATABASE,\n",
    "        v_skills=v_skills,\n",
    "        routing_=RoutingControl.READ,\n",
    "        result_transformer_= lambda r: r.to_df()\n",
    "    )"
   ]
  },
  {
   "cell_type": "code",
   "execution_count": 24,
   "metadata": {},
   "outputs": [],
   "source": [
    "llm = ChatOpenAI(model_name=\"gpt-4o\", temperature=0)"
   ]
  },
  {
   "cell_type": "code",
   "execution_count": 25,
   "metadata": {},
   "outputs": [],
   "source": [
    "tools = [\n",
    "    retrieve_persons_given_set_of_skills\n",
    "]"
   ]
  },
  {
   "cell_type": "code",
   "execution_count": 26,
   "metadata": {},
   "outputs": [],
   "source": [
    "llm_with_tools = llm.bind_tools(tools)"
   ]
  },
  {
   "cell_type": "code",
   "execution_count": 27,
   "metadata": {},
   "outputs": [],
   "source": [
    "response = llm_with_tools.invoke(\"I am looking for a senior java developer that also knows cypher\").tool_calls"
   ]
  },
  {
   "cell_type": "code",
   "execution_count": 28,
   "metadata": {},
   "outputs": [
    {
     "data": {
      "text/plain": [
       "[{'name': 'retrieve_persons_given_set_of_skills',\n",
       "  'args': {'skills': [{'name': 'java'}, {'name': 'cypher'}]},\n",
       "  'id': 'call_o5ICPBFvhas7uhJ8HOSoU7BZ',\n",
       "  'type': 'tool_call'}]"
      ]
     },
     "execution_count": 28,
     "metadata": {},
     "output_type": "execute_result"
    }
   ],
   "source": [
    "response"
   ]
  },
  {
   "cell_type": "code",
   "execution_count": 29,
   "metadata": {},
   "outputs": [],
   "source": [
    "name_to_functions = {\n",
    "    'retrieve_persons_given_set_of_skills': retrieve_persons_given_set_of_skills,\n",
    "}"
   ]
  },
  {
   "cell_type": "code",
   "execution_count": 30,
   "metadata": {},
   "outputs": [],
   "source": [
    "selected_tool = name_to_functions[response[0]['name']]\n",
    "args = response[0]['args']"
   ]
  },
  {
   "cell_type": "code",
   "execution_count": 31,
   "metadata": {},
   "outputs": [
    {
     "name": "stdout",
     "output_type": "stream",
     "text": [
      "['java', 'cypher']\n"
     ]
    }
   ],
   "source": [
    "df_response = selected_tool.invoke(args)"
   ]
  },
  {
   "cell_type": "code",
   "execution_count": 32,
   "metadata": {},
   "outputs": [
    {
     "data": {
      "text/html": [
       "<div>\n",
       "<style scoped>\n",
       "    .dataframe tbody tr th:only-of-type {\n",
       "        vertical-align: middle;\n",
       "    }\n",
       "\n",
       "    .dataframe tbody tr th {\n",
       "        vertical-align: top;\n",
       "    }\n",
       "\n",
       "    .dataframe thead th {\n",
       "        text-align: right;\n",
       "    }\n",
       "</style>\n",
       "<table border=\"1\" class=\"dataframe\">\n",
       "  <thead>\n",
       "    <tr style=\"text-align: right;\">\n",
       "      <th></th>\n",
       "      <th>community</th>\n",
       "      <th>rank</th>\n",
       "      <th>email</th>\n",
       "      <th>person_name</th>\n",
       "      <th>skills</th>\n",
       "    </tr>\n",
       "  </thead>\n",
       "  <tbody>\n",
       "    <tr>\n",
       "      <th>0</th>\n",
       "      <td>0.0</td>\n",
       "      <td>1.878038</td>\n",
       "      <td>charlotte.adams@test.org</td>\n",
       "      <td>Charlotte Adams</td>\n",
       "      <td>[Blockchain, Java, Kubernetes, ReactJS]</td>\n",
       "    </tr>\n",
       "    <tr>\n",
       "      <th>1</th>\n",
       "      <td>1.0</td>\n",
       "      <td>1.878038</td>\n",
       "      <td>david.hill@test.org</td>\n",
       "      <td>David Hill</td>\n",
       "      <td>[Angular, Java, Scrum]</td>\n",
       "    </tr>\n",
       "    <tr>\n",
       "      <th>2</th>\n",
       "      <td>2.0</td>\n",
       "      <td>1.878038</td>\n",
       "      <td>joseph.martin@test.org</td>\n",
       "      <td>Joseph Martin</td>\n",
       "      <td>[Agile, Java, Linux, Power BI, ReactJS]</td>\n",
       "    </tr>\n",
       "    <tr>\n",
       "      <th>3</th>\n",
       "      <td>4.0</td>\n",
       "      <td>1.878038</td>\n",
       "      <td>charles.taylor@test.org</td>\n",
       "      <td>Charles Taylor</td>\n",
       "      <td>[CI/CD, Java, TensorFlow]</td>\n",
       "    </tr>\n",
       "    <tr>\n",
       "      <th>4</th>\n",
       "      <td>4.0</td>\n",
       "      <td>1.878038</td>\n",
       "      <td>andrew.anderson@test.org</td>\n",
       "      <td>Andrew Anderson</td>\n",
       "      <td>[Data Visualization, DevOps, Java, Node.js, Te...</td>\n",
       "    </tr>\n",
       "    <tr>\n",
       "      <th>5</th>\n",
       "      <td>4.0</td>\n",
       "      <td>1.878038</td>\n",
       "      <td>thomas.garcia@test.org</td>\n",
       "      <td>Thomas Garcia</td>\n",
       "      <td>[Agile, Docker, Flask, Java, TensorFlow]</td>\n",
       "    </tr>\n",
       "    <tr>\n",
       "      <th>6</th>\n",
       "      <td>4.0</td>\n",
       "      <td>1.878038</td>\n",
       "      <td>amelia.davis@test.org</td>\n",
       "      <td>Amelia Davis</td>\n",
       "      <td>[Docker, HTML5, Java, PyTorch, Security]</td>\n",
       "    </tr>\n",
       "    <tr>\n",
       "      <th>7</th>\n",
       "      <td>4.0</td>\n",
       "      <td>1.878038</td>\n",
       "      <td>andrew.martin@test.org</td>\n",
       "      <td>Andrew Martin</td>\n",
       "      <td>[Cloud Architecture, Java, Node.js, R, Testing]</td>\n",
       "    </tr>\n",
       "    <tr>\n",
       "      <th>8</th>\n",
       "      <td>4.0</td>\n",
       "      <td>1.878038</td>\n",
       "      <td>thomas.brown@test.org</td>\n",
       "      <td>Thomas Brown</td>\n",
       "      <td>[Docker, Java, R, Security]</td>\n",
       "    </tr>\n",
       "    <tr>\n",
       "      <th>9</th>\n",
       "      <td>NaN</td>\n",
       "      <td>1.878038</td>\n",
       "      <td>hakan.lofqvist@neo4j.com</td>\n",
       "      <td>Håkan Löfqvist</td>\n",
       "      <td>[Cypher Queries, Graph Technology, Java]</td>\n",
       "    </tr>\n",
       "  </tbody>\n",
       "</table>\n",
       "</div>"
      ],
      "text/plain": [
       "   community      rank                     email      person_name  \\\n",
       "0        0.0  1.878038  charlotte.adams@test.org  Charlotte Adams   \n",
       "1        1.0  1.878038       david.hill@test.org       David Hill   \n",
       "2        2.0  1.878038    joseph.martin@test.org    Joseph Martin   \n",
       "3        4.0  1.878038   charles.taylor@test.org   Charles Taylor   \n",
       "4        4.0  1.878038  andrew.anderson@test.org  Andrew Anderson   \n",
       "5        4.0  1.878038    thomas.garcia@test.org    Thomas Garcia   \n",
       "6        4.0  1.878038     amelia.davis@test.org     Amelia Davis   \n",
       "7        4.0  1.878038    andrew.martin@test.org    Andrew Martin   \n",
       "8        4.0  1.878038     thomas.brown@test.org     Thomas Brown   \n",
       "9        NaN  1.878038  hakan.lofqvist@neo4j.com   Håkan Löfqvist   \n",
       "\n",
       "                                              skills  \n",
       "0            [Blockchain, Java, Kubernetes, ReactJS]  \n",
       "1                             [Angular, Java, Scrum]  \n",
       "2            [Agile, Java, Linux, Power BI, ReactJS]  \n",
       "3                          [CI/CD, Java, TensorFlow]  \n",
       "4  [Data Visualization, DevOps, Java, Node.js, Te...  \n",
       "5           [Agile, Docker, Flask, Java, TensorFlow]  \n",
       "6           [Docker, HTML5, Java, PyTorch, Security]  \n",
       "7    [Cloud Architecture, Java, Node.js, R, Testing]  \n",
       "8                        [Docker, Java, R, Security]  \n",
       "9           [Cypher Queries, Graph Technology, Java]  "
      ]
     },
     "execution_count": 32,
     "metadata": {},
     "output_type": "execute_result"
    }
   ],
   "source": [
    "df_response.head(10)"
   ]
  }
 ],
 "metadata": {
  "colab": {
   "provenance": []
  },
  "kernelspec": {
   "display_name": "Python 3 (ipykernel)",
   "language": "python",
   "name": "python3"
  },
  "language_info": {
   "codemirror_mode": {
    "name": "ipython",
    "version": 3
   },
   "file_extension": ".py",
   "mimetype": "text/x-python",
   "name": "python",
   "nbconvert_exporter": "python",
   "pygments_lexer": "ipython3",
   "version": "3.11.5"
  }
 },
 "nbformat": 4,
 "nbformat_minor": 4
}
