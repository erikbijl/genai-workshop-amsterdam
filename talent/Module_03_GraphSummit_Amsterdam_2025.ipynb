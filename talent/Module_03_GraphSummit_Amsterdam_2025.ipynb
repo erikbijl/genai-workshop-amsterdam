{
 "cells": [
  {
   "cell_type": "markdown",
   "metadata": {},
   "source": [
    "# Module 3 - GraphRAG and Agents\n",
    "\n",
    "This module has the following objectives:\n",
    "- Experiment with queries for an Agent\n",
    "- Define Tooling\n",
    "- Create an agents with the available tools\n",
    "- Chatbot for an Agent\n",
    "- Text2Cypher (if we got time)"
   ]
  },
  {
   "cell_type": "code",
   "execution_count": 1,
   "metadata": {
    "id": "FHKg4DVZiQ98"
   },
   "outputs": [
    {
     "name": "stdout",
     "output_type": "stream",
     "text": [
      "Requirement already satisfied: graphdatascience in /Users/erikbijl/anaconda3/lib/python3.11/site-packages (1.13)\n",
      "Requirement already satisfied: neo4j in /Users/erikbijl/anaconda3/lib/python3.11/site-packages (5.28.1)\n",
      "Requirement already satisfied: dotenv in /Users/erikbijl/anaconda3/lib/python3.11/site-packages (0.9.9)\n",
      "Requirement already satisfied: openai in /Users/erikbijl/anaconda3/lib/python3.11/site-packages (1.61.0)\n",
      "Requirement already satisfied: langchain in /Users/erikbijl/anaconda3/lib/python3.11/site-packages (0.3.17)\n",
      "Requirement already satisfied: multimethod<2.0,>=1.0 in /Users/erikbijl/anaconda3/lib/python3.11/site-packages (from graphdatascience) (1.12)\n",
      "Requirement already satisfied: numpy<2.0 in /Users/erikbijl/anaconda3/lib/python3.11/site-packages (from graphdatascience) (1.26.4)\n",
      "Requirement already satisfied: pandas<3.0,>=1.0 in /Users/erikbijl/anaconda3/lib/python3.11/site-packages (from graphdatascience) (2.2.1)\n",
      "Requirement already satisfied: pyarrow<19.0,>=15.0.2 in /Users/erikbijl/anaconda3/lib/python3.11/site-packages (from graphdatascience) (18.1.0)\n",
      "Requirement already satisfied: textdistance<5.0,>=4.0 in /Users/erikbijl/anaconda3/lib/python3.11/site-packages (from graphdatascience) (4.2.1)\n",
      "Requirement already satisfied: tqdm<5.0,>=4.0 in /Users/erikbijl/anaconda3/lib/python3.11/site-packages (from graphdatascience) (4.66.4)\n",
      "Requirement already satisfied: typing-extensions<5.0,>=4.0 in /Users/erikbijl/anaconda3/lib/python3.11/site-packages (from graphdatascience) (4.11.0)\n",
      "Requirement already satisfied: requests in /Users/erikbijl/anaconda3/lib/python3.11/site-packages (from graphdatascience) (2.32.2)\n",
      "Requirement already satisfied: tenacity>=9.0 in /Users/erikbijl/anaconda3/lib/python3.11/site-packages (from graphdatascience) (9.0.0)\n",
      "Requirement already satisfied: pytz in /Users/erikbijl/anaconda3/lib/python3.11/site-packages (from neo4j) (2024.1)\n",
      "Requirement already satisfied: python-dotenv in /Users/erikbijl/anaconda3/lib/python3.11/site-packages (from dotenv) (0.21.0)\n",
      "Requirement already satisfied: anyio<5,>=3.5.0 in /Users/erikbijl/anaconda3/lib/python3.11/site-packages (from openai) (4.2.0)\n",
      "Requirement already satisfied: distro<2,>=1.7.0 in /Users/erikbijl/anaconda3/lib/python3.11/site-packages (from openai) (1.9.0)\n",
      "Requirement already satisfied: httpx<1,>=0.23.0 in /Users/erikbijl/anaconda3/lib/python3.11/site-packages (from openai) (0.27.2)\n",
      "Requirement already satisfied: jiter<1,>=0.4.0 in /Users/erikbijl/anaconda3/lib/python3.11/site-packages (from openai) (0.7.0)\n",
      "Requirement already satisfied: pydantic<3,>=1.9.0 in /Users/erikbijl/anaconda3/lib/python3.11/site-packages (from openai) (2.9.2)\n",
      "Requirement already satisfied: sniffio in /Users/erikbijl/anaconda3/lib/python3.11/site-packages (from openai) (1.3.0)\n",
      "Requirement already satisfied: PyYAML>=5.3 in /Users/erikbijl/anaconda3/lib/python3.11/site-packages (from langchain) (6.0.1)\n",
      "Requirement already satisfied: SQLAlchemy<3,>=1.4 in /Users/erikbijl/anaconda3/lib/python3.11/site-packages (from langchain) (2.0.25)\n",
      "Requirement already satisfied: aiohttp<4.0.0,>=3.8.3 in /Users/erikbijl/anaconda3/lib/python3.11/site-packages (from langchain) (3.9.5)\n",
      "Requirement already satisfied: langchain-core<0.4.0,>=0.3.33 in /Users/erikbijl/anaconda3/lib/python3.11/site-packages (from langchain) (0.3.33)\n",
      "Requirement already satisfied: langchain-text-splitters<0.4.0,>=0.3.3 in /Users/erikbijl/anaconda3/lib/python3.11/site-packages (from langchain) (0.3.5)\n",
      "Requirement already satisfied: langsmith<0.4,>=0.1.17 in /Users/erikbijl/anaconda3/lib/python3.11/site-packages (from langchain) (0.1.139)\n",
      "Requirement already satisfied: aiosignal>=1.1.2 in /Users/erikbijl/anaconda3/lib/python3.11/site-packages (from aiohttp<4.0.0,>=3.8.3->langchain) (1.2.0)\n",
      "Requirement already satisfied: attrs>=17.3.0 in /Users/erikbijl/anaconda3/lib/python3.11/site-packages (from aiohttp<4.0.0,>=3.8.3->langchain) (23.1.0)\n",
      "Requirement already satisfied: frozenlist>=1.1.1 in /Users/erikbijl/anaconda3/lib/python3.11/site-packages (from aiohttp<4.0.0,>=3.8.3->langchain) (1.4.0)\n",
      "Requirement already satisfied: multidict<7.0,>=4.5 in /Users/erikbijl/anaconda3/lib/python3.11/site-packages (from aiohttp<4.0.0,>=3.8.3->langchain) (6.0.4)\n",
      "Requirement already satisfied: yarl<2.0,>=1.0 in /Users/erikbijl/anaconda3/lib/python3.11/site-packages (from aiohttp<4.0.0,>=3.8.3->langchain) (1.9.3)\n",
      "Requirement already satisfied: idna>=2.8 in /Users/erikbijl/anaconda3/lib/python3.11/site-packages (from anyio<5,>=3.5.0->openai) (3.7)\n",
      "Requirement already satisfied: certifi in /Users/erikbijl/anaconda3/lib/python3.11/site-packages (from httpx<1,>=0.23.0->openai) (2024.2.2)\n",
      "Requirement already satisfied: httpcore==1.* in /Users/erikbijl/anaconda3/lib/python3.11/site-packages (from httpx<1,>=0.23.0->openai) (1.0.6)\n",
      "Requirement already satisfied: h11<0.15,>=0.13 in /Users/erikbijl/anaconda3/lib/python3.11/site-packages (from httpcore==1.*->httpx<1,>=0.23.0->openai) (0.14.0)\n",
      "Requirement already satisfied: jsonpatch<2.0,>=1.33 in /Users/erikbijl/anaconda3/lib/python3.11/site-packages (from langchain-core<0.4.0,>=0.3.33->langchain) (1.33)\n",
      "Requirement already satisfied: packaging<25,>=23.2 in /Users/erikbijl/anaconda3/lib/python3.11/site-packages (from langchain-core<0.4.0,>=0.3.33->langchain) (23.2)\n",
      "Requirement already satisfied: orjson<4.0.0,>=3.9.14 in /Users/erikbijl/anaconda3/lib/python3.11/site-packages (from langsmith<0.4,>=0.1.17->langchain) (3.10.11)\n",
      "Requirement already satisfied: requests-toolbelt<2.0.0,>=1.0.0 in /Users/erikbijl/anaconda3/lib/python3.11/site-packages (from langsmith<0.4,>=0.1.17->langchain) (1.0.0)\n",
      "Requirement already satisfied: python-dateutil>=2.8.2 in /Users/erikbijl/anaconda3/lib/python3.11/site-packages (from pandas<3.0,>=1.0->graphdatascience) (2.9.0.post0)\n",
      "Requirement already satisfied: tzdata>=2022.7 in /Users/erikbijl/anaconda3/lib/python3.11/site-packages (from pandas<3.0,>=1.0->graphdatascience) (2023.3)\n",
      "Requirement already satisfied: annotated-types>=0.6.0 in /Users/erikbijl/anaconda3/lib/python3.11/site-packages (from pydantic<3,>=1.9.0->openai) (0.6.0)\n",
      "Requirement already satisfied: pydantic-core==2.23.4 in /Users/erikbijl/anaconda3/lib/python3.11/site-packages (from pydantic<3,>=1.9.0->openai) (2.23.4)\n",
      "Requirement already satisfied: charset-normalizer<4,>=2 in /Users/erikbijl/anaconda3/lib/python3.11/site-packages (from requests->graphdatascience) (2.0.4)\n",
      "Requirement already satisfied: urllib3<3,>=1.21.1 in /Users/erikbijl/anaconda3/lib/python3.11/site-packages (from requests->graphdatascience) (2.2.1)\n",
      "Requirement already satisfied: jsonpointer>=1.9 in /Users/erikbijl/anaconda3/lib/python3.11/site-packages (from jsonpatch<2.0,>=1.33->langchain-core<0.4.0,>=0.3.33->langchain) (2.1)\n",
      "Requirement already satisfied: six>=1.5 in /Users/erikbijl/anaconda3/lib/python3.11/site-packages (from python-dateutil>=2.8.2->pandas<3.0,>=1.0->graphdatascience) (1.16.0)\n"
     ]
    }
   ],
   "source": [
    "!pip install graphdatascience neo4j dotenv openai langchain"
   ]
  },
  {
   "cell_type": "markdown",
   "metadata": {},
   "source": [
    "Import our usual suspects (and some more...)"
   ]
  },
  {
   "cell_type": "code",
   "execution_count": 2,
   "metadata": {},
   "outputs": [],
   "source": [
    "import os\n",
    "import pandas as pd\n",
    "from dotenv import load_dotenv\n",
    "from graphdatascience import GraphDataScience\n",
    "from neo4j import Query, GraphDatabase, RoutingControl, Result\n",
    "from langchain.schema import HumanMessage\n",
    "from langchain_openai import OpenAIEmbeddings, ChatOpenAI\n",
    "from langchain_core.messages import HumanMessage\n",
    "from langchain_core.prompts import ChatPromptTemplate, PromptTemplate\n",
    "from langchain_core.output_parsers import StrOutputParser\n",
    "from langgraph.prebuilt import create_react_agent\n",
    "from openai import OpenAI\n",
    "from typing import List, Optional\n",
    "from pydantic import BaseModel, Field, validator\n",
    "import functools\n",
    "from langchain_core.tools import tool\n",
    "import gradio as gr\n",
    "import time"
   ]
  },
  {
   "cell_type": "markdown",
   "metadata": {
    "id": "ynPe6RLRWSKd"
   },
   "source": [
    "## Setup"
   ]
  },
  {
   "cell_type": "markdown",
   "metadata": {
    "id": "pa61u1jfyk3t"
   },
   "source": [
    "Load env variables"
   ]
  },
  {
   "cell_type": "code",
   "execution_count": 3,
   "metadata": {},
   "outputs": [],
   "source": [
    "env_file = 'ws.env'"
   ]
  },
  {
   "cell_type": "code",
   "execution_count": 4,
   "metadata": {
    "id": "CHR_0lmElZ-R"
   },
   "outputs": [],
   "source": [
    "if os.path.exists(env_file):\n",
    "    load_dotenv(env_file, override=True)\n",
    "\n",
    "    # Neo4j\n",
    "    HOST = os.getenv('NEO4J_URI')\n",
    "    USERNAME = os.getenv('NEO4J_USERNAME')\n",
    "    PASSWORD = os.getenv('NEO4J_PASSWORD')\n",
    "    DATABASE = os.getenv('NEO4J_DATABASE')\n",
    "\n",
    "    # AI\n",
    "    OPENAI_API_KEY = os.getenv('OPENAI_API_KEY')\n",
    "    os.environ['OPENAI_API_KEY']=OPENAI_API_KEY\n",
    "    LLM = os.getenv('LLM')\n",
    "else:\n",
    "    print(f\"File {env_file} not found.\")"
   ]
  },
  {
   "cell_type": "markdown",
   "metadata": {},
   "source": [
    "Connect to neo4j db"
   ]
  },
  {
   "cell_type": "code",
   "execution_count": 5,
   "metadata": {},
   "outputs": [],
   "source": [
    "driver = GraphDatabase.driver(\n",
    "    HOST,\n",
    "    auth=(USERNAME, PASSWORD)\n",
    ")"
   ]
  },
  {
   "cell_type": "markdown",
   "metadata": {},
   "source": [
    "Test the connection"
   ]
  },
  {
   "cell_type": "code",
   "execution_count": 6,
   "metadata": {
    "id": "5w4eCb7xZZ-S"
   },
   "outputs": [
    {
     "data": {
      "text/html": [
       "<div>\n",
       "<style scoped>\n",
       "    .dataframe tbody tr th:only-of-type {\n",
       "        vertical-align: middle;\n",
       "    }\n",
       "\n",
       "    .dataframe tbody tr th {\n",
       "        vertical-align: top;\n",
       "    }\n",
       "\n",
       "    .dataframe thead th {\n",
       "        text-align: right;\n",
       "    }\n",
       "</style>\n",
       "<table border=\"1\" class=\"dataframe\">\n",
       "  <thead>\n",
       "    <tr style=\"text-align: right;\">\n",
       "      <th></th>\n",
       "      <th>Count</th>\n",
       "    </tr>\n",
       "  </thead>\n",
       "  <tbody>\n",
       "    <tr>\n",
       "      <th>0</th>\n",
       "      <td>158</td>\n",
       "    </tr>\n",
       "  </tbody>\n",
       "</table>\n",
       "</div>"
      ],
      "text/plain": [
       "   Count\n",
       "0    158"
      ]
     },
     "execution_count": 6,
     "metadata": {},
     "output_type": "execute_result"
    }
   ],
   "source": [
    "driver.execute_query(\n",
    "    \"\"\"\n",
    "    MATCH (n) RETURN COUNT(n) as Count\n",
    "    \"\"\",\n",
    "    database_=DATABASE,\n",
    "    routing_=RoutingControl.READ,\n",
    "    result_transformer_= lambda r: r.to_df()\n",
    ")"
   ]
  },
  {
   "cell_type": "markdown",
   "metadata": {
    "id": "cdTfdAyV2ZaR"
   },
   "source": [
    "Test whether we got our constraints"
   ]
  },
  {
   "cell_type": "code",
   "execution_count": 7,
   "metadata": {
    "id": "cdTfdAyV2ZaR"
   },
   "outputs": [],
   "source": [
    "schema_result_df  = driver.execute_query(\n",
    "    'show indexes',\n",
    "    database_=DATABASE,\n",
    "    routing_=RoutingControl.READ,\n",
    "    result_transformer_= lambda r: r.to_df()\n",
    ")"
   ]
  },
  {
   "cell_type": "code",
   "execution_count": 8,
   "metadata": {
    "id": "cdTfdAyV2ZaR"
   },
   "outputs": [
    {
     "data": {
      "text/html": [
       "<div>\n",
       "<style scoped>\n",
       "    .dataframe tbody tr th:only-of-type {\n",
       "        vertical-align: middle;\n",
       "    }\n",
       "\n",
       "    .dataframe tbody tr th {\n",
       "        vertical-align: top;\n",
       "    }\n",
       "\n",
       "    .dataframe thead th {\n",
       "        text-align: right;\n",
       "    }\n",
       "</style>\n",
       "<table border=\"1\" class=\"dataframe\">\n",
       "  <thead>\n",
       "    <tr style=\"text-align: right;\">\n",
       "      <th></th>\n",
       "      <th>id</th>\n",
       "      <th>name</th>\n",
       "      <th>state</th>\n",
       "      <th>populationPercent</th>\n",
       "      <th>type</th>\n",
       "      <th>entityType</th>\n",
       "      <th>labelsOrTypes</th>\n",
       "      <th>properties</th>\n",
       "      <th>indexProvider</th>\n",
       "      <th>owningConstraint</th>\n",
       "      <th>lastRead</th>\n",
       "      <th>readCount</th>\n",
       "    </tr>\n",
       "  </thead>\n",
       "  <tbody>\n",
       "    <tr>\n",
       "      <th>0</th>\n",
       "      <td>5</td>\n",
       "      <td>constraint_63bf11a1</td>\n",
       "      <td>ONLINE</td>\n",
       "      <td>100.0</td>\n",
       "      <td>RANGE</td>\n",
       "      <td>NODE</td>\n",
       "      <td>[Skill]</td>\n",
       "      <td>[name]</td>\n",
       "      <td>range-1.0</td>\n",
       "      <td>constraint_63bf11a1</td>\n",
       "      <td>2025-03-12T16:19:38.425000000+00:00</td>\n",
       "      <td>581</td>\n",
       "    </tr>\n",
       "    <tr>\n",
       "      <th>1</th>\n",
       "      <td>3</td>\n",
       "      <td>constraint_d3bfd313</td>\n",
       "      <td>ONLINE</td>\n",
       "      <td>100.0</td>\n",
       "      <td>RANGE</td>\n",
       "      <td>NODE</td>\n",
       "      <td>[Person]</td>\n",
       "      <td>[email]</td>\n",
       "      <td>range-1.0</td>\n",
       "      <td>constraint_d3bfd313</td>\n",
       "      <td>2025-03-12T16:17:28.945000000+00:00</td>\n",
       "      <td>306</td>\n",
       "    </tr>\n",
       "    <tr>\n",
       "      <th>2</th>\n",
       "      <td>0</td>\n",
       "      <td>index_343aff4e</td>\n",
       "      <td>ONLINE</td>\n",
       "      <td>100.0</td>\n",
       "      <td>LOOKUP</td>\n",
       "      <td>NODE</td>\n",
       "      <td>None</td>\n",
       "      <td>None</td>\n",
       "      <td>token-lookup-1.0</td>\n",
       "      <td>None</td>\n",
       "      <td>2025-03-12T17:22:25.173000000+00:00</td>\n",
       "      <td>16690</td>\n",
       "    </tr>\n",
       "    <tr>\n",
       "      <th>3</th>\n",
       "      <td>1</td>\n",
       "      <td>index_f7700477</td>\n",
       "      <td>ONLINE</td>\n",
       "      <td>100.0</td>\n",
       "      <td>LOOKUP</td>\n",
       "      <td>RELATIONSHIP</td>\n",
       "      <td>None</td>\n",
       "      <td>None</td>\n",
       "      <td>token-lookup-1.0</td>\n",
       "      <td>None</td>\n",
       "      <td>2025-03-12T17:13:59.380000000+00:00</td>\n",
       "      <td>75</td>\n",
       "    </tr>\n",
       "    <tr>\n",
       "      <th>4</th>\n",
       "      <td>4</td>\n",
       "      <td>skill-embeddings</td>\n",
       "      <td>ONLINE</td>\n",
       "      <td>100.0</td>\n",
       "      <td>VECTOR</td>\n",
       "      <td>NODE</td>\n",
       "      <td>[Skill]</td>\n",
       "      <td>[embedding]</td>\n",
       "      <td>vector-2.0</td>\n",
       "      <td>None</td>\n",
       "      <td>2025-03-12T17:07:01.302000000+00:00</td>\n",
       "      <td>89</td>\n",
       "    </tr>\n",
       "  </tbody>\n",
       "</table>\n",
       "</div>"
      ],
      "text/plain": [
       "   id                 name   state  populationPercent    type    entityType  \\\n",
       "0   5  constraint_63bf11a1  ONLINE              100.0   RANGE          NODE   \n",
       "1   3  constraint_d3bfd313  ONLINE              100.0   RANGE          NODE   \n",
       "2   0       index_343aff4e  ONLINE              100.0  LOOKUP          NODE   \n",
       "3   1       index_f7700477  ONLINE              100.0  LOOKUP  RELATIONSHIP   \n",
       "4   4     skill-embeddings  ONLINE              100.0  VECTOR          NODE   \n",
       "\n",
       "  labelsOrTypes   properties     indexProvider     owningConstraint  \\\n",
       "0       [Skill]       [name]         range-1.0  constraint_63bf11a1   \n",
       "1      [Person]      [email]         range-1.0  constraint_d3bfd313   \n",
       "2          None         None  token-lookup-1.0                 None   \n",
       "3          None         None  token-lookup-1.0                 None   \n",
       "4       [Skill]  [embedding]        vector-2.0                 None   \n",
       "\n",
       "                              lastRead  readCount  \n",
       "0  2025-03-12T16:19:38.425000000+00:00        581  \n",
       "1  2025-03-12T16:17:28.945000000+00:00        306  \n",
       "2  2025-03-12T17:22:25.173000000+00:00      16690  \n",
       "3  2025-03-12T17:13:59.380000000+00:00         75  \n",
       "4  2025-03-12T17:07:01.302000000+00:00         89  "
      ]
     },
     "execution_count": 8,
     "metadata": {},
     "output_type": "execute_result"
    }
   ],
   "source": [
    "schema_result_df.head(100)"
   ]
  },
  {
   "cell_type": "markdown",
   "metadata": {},
   "source": [
    "## Agent Thinking\n",
    "\n",
    "Let's say we want to build a Agents with multiple tools. Let's try to provide the following functionality: \n",
    "\n",
    "1. Retrieve the skills of a person.\n",
    "   - Input: Person\n",
    "   - Output: Skills\n",
    "   - Example: *What skills does Kristof Neys have?* \n",
    "3. Retrieve similar skills to other skills.\n",
    "   - Input: Skills\n",
    "   - Output: Skills\n",
    "   - Example: *What skills are similar to PowerBI and Data Visualization?*\n",
    "4. Retrieve similar persons to a person specified.  \n",
    "   - Input: Person\n",
    "   - Output: Person\n",
    "   - Example: *\"Which persons have similar skills as Kristof Neys?\"*\n",
    "6. Retrieve Persons based on a set of skills.\n",
    "   - Input: Skills\n",
    "   - Output: Person\n",
    "   - Example: *Which persons have Python and AWS experience?*"
   ]
  },
  {
   "cell_type": "code",
   "execution_count": 9,
   "metadata": {},
   "outputs": [],
   "source": [
    "embeddings = OpenAIEmbeddings(model='text-embedding-ada-002')"
   ]
  },
  {
   "cell_type": "markdown",
   "metadata": {},
   "source": [
    "## 1 - Retrieve Skills of Person"
   ]
  },
  {
   "cell_type": "markdown",
   "metadata": {},
   "source": [
    "Find the connected skills given a person name."
   ]
  },
  {
   "cell_type": "code",
   "execution_count": 10,
   "metadata": {},
   "outputs": [],
   "source": [
    "person_name = \"Lucy Turner\""
   ]
  },
  {
   "cell_type": "code",
   "execution_count": 11,
   "metadata": {},
   "outputs": [],
   "source": [
    "person_skills_df = driver.execute_query(\n",
    "    \"\"\"\n",
    "    MATCH (p:Person{name: $person_name})-[:KNOWS]->(s:Skill)\n",
    "    RETURN p.name as name, COLLECT(s.name) as skills\n",
    "    \"\"\",\n",
    "    database_=DATABASE,\n",
    "    routing_=RoutingControl.READ,\n",
    "    result_transformer_= lambda r: r.to_df(),\n",
    "    person_name = person_name\n",
    ")"
   ]
  },
  {
   "cell_type": "code",
   "execution_count": 12,
   "metadata": {},
   "outputs": [
    {
     "data": {
      "text/html": [
       "<div>\n",
       "<style scoped>\n",
       "    .dataframe tbody tr th:only-of-type {\n",
       "        vertical-align: middle;\n",
       "    }\n",
       "\n",
       "    .dataframe tbody tr th {\n",
       "        vertical-align: top;\n",
       "    }\n",
       "\n",
       "    .dataframe thead th {\n",
       "        text-align: right;\n",
       "    }\n",
       "</style>\n",
       "<table border=\"1\" class=\"dataframe\">\n",
       "  <thead>\n",
       "    <tr style=\"text-align: right;\">\n",
       "      <th></th>\n",
       "      <th>name</th>\n",
       "      <th>skills</th>\n",
       "    </tr>\n",
       "  </thead>\n",
       "  <tbody>\n",
       "    <tr>\n",
       "      <th>0</th>\n",
       "      <td>Lucy Turner</td>\n",
       "      <td>[Security, Express.js, Big Data, Scala, Docker]</td>\n",
       "    </tr>\n",
       "  </tbody>\n",
       "</table>\n",
       "</div>"
      ],
      "text/plain": [
       "          name                                           skills\n",
       "0  Lucy Turner  [Security, Express.js, Big Data, Scala, Docker]"
      ]
     },
     "execution_count": 12,
     "metadata": {},
     "output_type": "execute_result"
    }
   ],
   "source": [
    "person_skills_df"
   ]
  },
  {
   "cell_type": "markdown",
   "metadata": {
    "id": "0OMlYdxHWZLx"
   },
   "source": [
    "## 2 - Retrieve similar skills"
   ]
  },
  {
   "cell_type": "markdown",
   "metadata": {
    "id": "volCOjn_jjm3"
   },
   "source": [
    "Retrieve skills based on a list of skills"
   ]
  },
  {
   "cell_type": "code",
   "execution_count": 13,
   "metadata": {},
   "outputs": [],
   "source": [
    "skills = ['Contineous Delivery', 'Cloud Native', 'Security']\n",
    "skills_vectors = embeddings.embed_documents(skills)"
   ]
  },
  {
   "cell_type": "code",
   "execution_count": 14,
   "metadata": {
    "id": "volCOjn_jjm3"
   },
   "outputs": [],
   "source": [
    "search_persons_with_skills_df = driver.execute_query(\n",
    "    \"\"\"\n",
    "        UNWIND $skills_vectors AS v\n",
    "        CALL db.index.vector.queryNodes('skill-embeddings', 3, TOFLOATLIST(v)) YIELD node, score\n",
    "        WHERE score > 0.89\n",
    "        OPTIONAL MATCH (node)-[:SIMILAR_SEMANTIC]-(s:Skill)\n",
    "        WITH COLLECT(node) AS nodes, COLLECT(DISTINCT s) AS skills\n",
    "        WITH nodes + skills AS all_skills\n",
    "        UNWIND all_skills AS skill\n",
    "        RETURN DISTINCT skill.name as skill_name\n",
    "    \"\"\",\n",
    "    database_=DATABASE,\n",
    "    routing_=RoutingControl.READ,\n",
    "    result_transformer_= lambda r: r.to_df(),\n",
    "    skills_vectors = skills_vectors\n",
    ")"
   ]
  },
  {
   "cell_type": "code",
   "execution_count": 15,
   "metadata": {},
   "outputs": [
    {
     "data": {
      "text/html": [
       "<div>\n",
       "<style scoped>\n",
       "    .dataframe tbody tr th:only-of-type {\n",
       "        vertical-align: middle;\n",
       "    }\n",
       "\n",
       "    .dataframe tbody tr th {\n",
       "        vertical-align: top;\n",
       "    }\n",
       "\n",
       "    .dataframe thead th {\n",
       "        text-align: right;\n",
       "    }\n",
       "</style>\n",
       "<table border=\"1\" class=\"dataframe\">\n",
       "  <thead>\n",
       "    <tr style=\"text-align: right;\">\n",
       "      <th></th>\n",
       "      <th>skill_name</th>\n",
       "    </tr>\n",
       "  </thead>\n",
       "  <tbody>\n",
       "    <tr>\n",
       "      <th>0</th>\n",
       "      <td>CI/CD</td>\n",
       "    </tr>\n",
       "    <tr>\n",
       "      <th>1</th>\n",
       "      <td>Cloud Architecture</td>\n",
       "    </tr>\n",
       "    <tr>\n",
       "      <th>2</th>\n",
       "      <td>Azure</td>\n",
       "    </tr>\n",
       "    <tr>\n",
       "      <th>3</th>\n",
       "      <td>AWS</td>\n",
       "    </tr>\n",
       "    <tr>\n",
       "      <th>4</th>\n",
       "      <td>Security</td>\n",
       "    </tr>\n",
       "    <tr>\n",
       "      <th>5</th>\n",
       "      <td>DevOps</td>\n",
       "    </tr>\n",
       "    <tr>\n",
       "      <th>6</th>\n",
       "      <td>Jenkins</td>\n",
       "    </tr>\n",
       "  </tbody>\n",
       "</table>\n",
       "</div>"
      ],
      "text/plain": [
       "           skill_name\n",
       "0               CI/CD\n",
       "1  Cloud Architecture\n",
       "2               Azure\n",
       "3                 AWS\n",
       "4            Security\n",
       "5              DevOps\n",
       "6             Jenkins"
      ]
     },
     "execution_count": 15,
     "metadata": {},
     "output_type": "execute_result"
    }
   ],
   "source": [
    "search_persons_with_skills_df"
   ]
  },
  {
   "cell_type": "markdown",
   "metadata": {},
   "source": [
    "## 3 - Person Similarity"
   ]
  },
  {
   "cell_type": "markdown",
   "metadata": {},
   "source": [
    "## Strategy 3.1 - Communities"
   ]
  },
  {
   "cell_type": "markdown",
   "metadata": {},
   "source": [
    "We can use the community here to find similar people"
   ]
  },
  {
   "cell_type": "code",
   "execution_count": 16,
   "metadata": {},
   "outputs": [],
   "source": [
    "person_name_1 = \"John Garcia\""
   ]
  },
  {
   "cell_type": "code",
   "execution_count": 17,
   "metadata": {},
   "outputs": [],
   "source": [
    "person_similarity_community_df = driver.execute_query(\n",
    "    \"\"\"\n",
    "    MATCH (p1:Person {name: $person_name_1})-[:KNOWS]->(s:Skill)\n",
    "    WITH p1, COLLECT(s.name) as s1\n",
    "    MATCH (p2:Person {leiden_community: p1.leiden_community})-[:KNOWS]->(s2:Skill)\n",
    "    RETURN p1.name AS person_1, s1 AS skills_1, p2.name AS person_2, COLLECT(s2.name) AS skills_2\n",
    "    \"\"\",\n",
    "    database_=DATABASE,\n",
    "    routing_=RoutingControl.READ,\n",
    "    result_transformer_= lambda r: r.to_df(),\n",
    "    person_name_1 = person_name_1\n",
    ")"
   ]
  },
  {
   "cell_type": "code",
   "execution_count": 18,
   "metadata": {},
   "outputs": [
    {
     "data": {
      "text/html": [
       "<div>\n",
       "<style scoped>\n",
       "    .dataframe tbody tr th:only-of-type {\n",
       "        vertical-align: middle;\n",
       "    }\n",
       "\n",
       "    .dataframe tbody tr th {\n",
       "        vertical-align: top;\n",
       "    }\n",
       "\n",
       "    .dataframe thead th {\n",
       "        text-align: right;\n",
       "    }\n",
       "</style>\n",
       "<table border=\"1\" class=\"dataframe\">\n",
       "  <thead>\n",
       "    <tr style=\"text-align: right;\">\n",
       "      <th></th>\n",
       "      <th>person_1</th>\n",
       "      <th>skills_1</th>\n",
       "      <th>person_2</th>\n",
       "      <th>skills_2</th>\n",
       "    </tr>\n",
       "  </thead>\n",
       "  <tbody>\n",
       "    <tr>\n",
       "      <th>0</th>\n",
       "      <td>John Garcia</td>\n",
       "      <td>[Security, PyTorch, HTML5, Ruby, AWS]</td>\n",
       "      <td>Thomas Nelson</td>\n",
       "      <td>[Security, Pandas, Go]</td>\n",
       "    </tr>\n",
       "    <tr>\n",
       "      <th>1</th>\n",
       "      <td>John Garcia</td>\n",
       "      <td>[Security, PyTorch, HTML5, Ruby, AWS]</td>\n",
       "      <td>Lucy Turner</td>\n",
       "      <td>[Security, Express.js, Big Data, Scala, Docker]</td>\n",
       "    </tr>\n",
       "    <tr>\n",
       "      <th>2</th>\n",
       "      <td>John Garcia</td>\n",
       "      <td>[Security, PyTorch, HTML5, Ruby, AWS]</td>\n",
       "      <td>Sophie Jackson</td>\n",
       "      <td>[Security, Pandas, Linux, Angular]</td>\n",
       "    </tr>\n",
       "    <tr>\n",
       "      <th>3</th>\n",
       "      <td>John Garcia</td>\n",
       "      <td>[Security, PyTorch, HTML5, Ruby, AWS]</td>\n",
       "      <td>Mia Nelson</td>\n",
       "      <td>[Security, WordPress, Big Data, Swift, AWS]</td>\n",
       "    </tr>\n",
       "    <tr>\n",
       "      <th>4</th>\n",
       "      <td>John Garcia</td>\n",
       "      <td>[Security, PyTorch, HTML5, Ruby, AWS]</td>\n",
       "      <td>David Lopez</td>\n",
       "      <td>[Security, WordPress, PHP]</td>\n",
       "    </tr>\n",
       "    <tr>\n",
       "      <th>5</th>\n",
       "      <td>John Garcia</td>\n",
       "      <td>[Security, PyTorch, HTML5, Ruby, AWS]</td>\n",
       "      <td>Thomas Brown</td>\n",
       "      <td>[Security, R, Java, Docker]</td>\n",
       "    </tr>\n",
       "    <tr>\n",
       "      <th>6</th>\n",
       "      <td>John Garcia</td>\n",
       "      <td>[Security, PyTorch, HTML5, Ruby, AWS]</td>\n",
       "      <td>Isabella Allen</td>\n",
       "      <td>[Security, Scala, Cloud Architecture]</td>\n",
       "    </tr>\n",
       "    <tr>\n",
       "      <th>7</th>\n",
       "      <td>John Garcia</td>\n",
       "      <td>[Security, PyTorch, HTML5, Ruby, AWS]</td>\n",
       "      <td>Olivia Johnson</td>\n",
       "      <td>[Security, Angular, CI/CD]</td>\n",
       "    </tr>\n",
       "    <tr>\n",
       "      <th>8</th>\n",
       "      <td>John Garcia</td>\n",
       "      <td>[Security, PyTorch, HTML5, Ruby, AWS]</td>\n",
       "      <td>Amelia Davis</td>\n",
       "      <td>[Security, PyTorch, Java, HTML5, Docker]</td>\n",
       "    </tr>\n",
       "    <tr>\n",
       "      <th>9</th>\n",
       "      <td>John Garcia</td>\n",
       "      <td>[Security, PyTorch, HTML5, Ruby, AWS]</td>\n",
       "      <td>Emily Phillips</td>\n",
       "      <td>[Security, Vue.js, PHP, Kubernetes, Data Visua...</td>\n",
       "    </tr>\n",
       "    <tr>\n",
       "      <th>10</th>\n",
       "      <td>John Garcia</td>\n",
       "      <td>[Security, PyTorch, HTML5, Ruby, AWS]</td>\n",
       "      <td>John Garcia</td>\n",
       "      <td>[Security, PyTorch, HTML5, Ruby, AWS]</td>\n",
       "    </tr>\n",
       "    <tr>\n",
       "      <th>11</th>\n",
       "      <td>John Garcia</td>\n",
       "      <td>[Security, PyTorch, HTML5, Ruby, AWS]</td>\n",
       "      <td>James Anderson</td>\n",
       "      <td>[Security, R, JavaScript, Node.js]</td>\n",
       "    </tr>\n",
       "    <tr>\n",
       "      <th>12</th>\n",
       "      <td>John Garcia</td>\n",
       "      <td>[Security, PyTorch, HTML5, Ruby, AWS]</td>\n",
       "      <td>Matthew Moore</td>\n",
       "      <td>[Security, TensorFlow, Spring Boot, Swift]</td>\n",
       "    </tr>\n",
       "  </tbody>\n",
       "</table>\n",
       "</div>"
      ],
      "text/plain": [
       "       person_1                               skills_1        person_2  \\\n",
       "0   John Garcia  [Security, PyTorch, HTML5, Ruby, AWS]   Thomas Nelson   \n",
       "1   John Garcia  [Security, PyTorch, HTML5, Ruby, AWS]     Lucy Turner   \n",
       "2   John Garcia  [Security, PyTorch, HTML5, Ruby, AWS]  Sophie Jackson   \n",
       "3   John Garcia  [Security, PyTorch, HTML5, Ruby, AWS]      Mia Nelson   \n",
       "4   John Garcia  [Security, PyTorch, HTML5, Ruby, AWS]     David Lopez   \n",
       "5   John Garcia  [Security, PyTorch, HTML5, Ruby, AWS]    Thomas Brown   \n",
       "6   John Garcia  [Security, PyTorch, HTML5, Ruby, AWS]  Isabella Allen   \n",
       "7   John Garcia  [Security, PyTorch, HTML5, Ruby, AWS]  Olivia Johnson   \n",
       "8   John Garcia  [Security, PyTorch, HTML5, Ruby, AWS]    Amelia Davis   \n",
       "9   John Garcia  [Security, PyTorch, HTML5, Ruby, AWS]  Emily Phillips   \n",
       "10  John Garcia  [Security, PyTorch, HTML5, Ruby, AWS]     John Garcia   \n",
       "11  John Garcia  [Security, PyTorch, HTML5, Ruby, AWS]  James Anderson   \n",
       "12  John Garcia  [Security, PyTorch, HTML5, Ruby, AWS]   Matthew Moore   \n",
       "\n",
       "                                             skills_2  \n",
       "0                              [Security, Pandas, Go]  \n",
       "1     [Security, Express.js, Big Data, Scala, Docker]  \n",
       "2                  [Security, Pandas, Linux, Angular]  \n",
       "3         [Security, WordPress, Big Data, Swift, AWS]  \n",
       "4                          [Security, WordPress, PHP]  \n",
       "5                         [Security, R, Java, Docker]  \n",
       "6               [Security, Scala, Cloud Architecture]  \n",
       "7                          [Security, Angular, CI/CD]  \n",
       "8            [Security, PyTorch, Java, HTML5, Docker]  \n",
       "9   [Security, Vue.js, PHP, Kubernetes, Data Visua...  \n",
       "10              [Security, PyTorch, HTML5, Ruby, AWS]  \n",
       "11                 [Security, R, JavaScript, Node.js]  \n",
       "12         [Security, TensorFlow, Spring Boot, Swift]  "
      ]
     },
     "execution_count": 18,
     "metadata": {},
     "output_type": "execute_result"
    }
   ],
   "source": [
    "person_similarity_community_df"
   ]
  },
  {
   "cell_type": "markdown",
   "metadata": {},
   "source": [
    "### Strategy 3.2 - Similar Skillsets"
   ]
  },
  {
   "cell_type": "markdown",
   "metadata": {},
   "source": [
    "We can use the SIMILAR_SKILLSET relationship to find similar persons"
   ]
  },
  {
   "cell_type": "code",
   "execution_count": 19,
   "metadata": {},
   "outputs": [],
   "source": [
    "person_name_1 = \"John Garcia\""
   ]
  },
  {
   "cell_type": "code",
   "execution_count": 20,
   "metadata": {},
   "outputs": [],
   "source": [
    "person_similar_skillset_df = driver.execute_query(\n",
    "    \"\"\"\n",
    "    MATCH (p1:Person {name: $person_name_1})-[:KNOWS]->(s:Skill)\n",
    "    WITH p1, COLLECT(s.name) as s1\n",
    "    MATCH (p1)-[r:SIMILAR_SKILLSET]-(p2:Person)-[:KNOWS]->(s2:Skill)\n",
    "    WHERE r.overlap > 1\n",
    "    RETURN p1.name AS person_1, s1 AS skills_1, p2.name AS person_2, COLLECT(DISTINCT s2.name) AS skills_2\n",
    "    \"\"\",\n",
    "    database_=DATABASE,\n",
    "    routing_=RoutingControl.READ,\n",
    "    result_transformer_= lambda r: r.to_df(),\n",
    "    person_name_1 = person_name_1\n",
    ")"
   ]
  },
  {
   "cell_type": "code",
   "execution_count": 21,
   "metadata": {},
   "outputs": [
    {
     "data": {
      "text/html": [
       "<div>\n",
       "<style scoped>\n",
       "    .dataframe tbody tr th:only-of-type {\n",
       "        vertical-align: middle;\n",
       "    }\n",
       "\n",
       "    .dataframe tbody tr th {\n",
       "        vertical-align: top;\n",
       "    }\n",
       "\n",
       "    .dataframe thead th {\n",
       "        text-align: right;\n",
       "    }\n",
       "</style>\n",
       "<table border=\"1\" class=\"dataframe\">\n",
       "  <thead>\n",
       "    <tr style=\"text-align: right;\">\n",
       "      <th></th>\n",
       "      <th>person_1</th>\n",
       "      <th>skills_1</th>\n",
       "      <th>person_2</th>\n",
       "      <th>skills_2</th>\n",
       "    </tr>\n",
       "  </thead>\n",
       "  <tbody>\n",
       "    <tr>\n",
       "      <th>0</th>\n",
       "      <td>John Garcia</td>\n",
       "      <td>[Security, PyTorch, HTML5, Ruby, AWS]</td>\n",
       "      <td>Mia Nelson</td>\n",
       "      <td>[Security, WordPress, Big Data, Swift, AWS]</td>\n",
       "    </tr>\n",
       "    <tr>\n",
       "      <th>1</th>\n",
       "      <td>John Garcia</td>\n",
       "      <td>[Security, PyTorch, HTML5, Ruby, AWS]</td>\n",
       "      <td>Matthew Miller</td>\n",
       "      <td>[TensorFlow, Ruby, AWS, ReactJS]</td>\n",
       "    </tr>\n",
       "    <tr>\n",
       "      <th>2</th>\n",
       "      <td>John Garcia</td>\n",
       "      <td>[Security, PyTorch, HTML5, Ruby, AWS]</td>\n",
       "      <td>Matthew Mitchell</td>\n",
       "      <td>[R, HTML5, Blockchain, Cloud Architecture, Ruby]</td>\n",
       "    </tr>\n",
       "    <tr>\n",
       "      <th>3</th>\n",
       "      <td>John Garcia</td>\n",
       "      <td>[Security, PyTorch, HTML5, Ruby, AWS]</td>\n",
       "      <td>John Taylor</td>\n",
       "      <td>[Pandas, Scrum, CSS3, Ruby, AWS]</td>\n",
       "    </tr>\n",
       "    <tr>\n",
       "      <th>4</th>\n",
       "      <td>John Garcia</td>\n",
       "      <td>[Security, PyTorch, HTML5, Ruby, AWS]</td>\n",
       "      <td>Amelia Davis</td>\n",
       "      <td>[Security, PyTorch, Java, HTML5, Docker]</td>\n",
       "    </tr>\n",
       "  </tbody>\n",
       "</table>\n",
       "</div>"
      ],
      "text/plain": [
       "      person_1                               skills_1          person_2  \\\n",
       "0  John Garcia  [Security, PyTorch, HTML5, Ruby, AWS]        Mia Nelson   \n",
       "1  John Garcia  [Security, PyTorch, HTML5, Ruby, AWS]    Matthew Miller   \n",
       "2  John Garcia  [Security, PyTorch, HTML5, Ruby, AWS]  Matthew Mitchell   \n",
       "3  John Garcia  [Security, PyTorch, HTML5, Ruby, AWS]       John Taylor   \n",
       "4  John Garcia  [Security, PyTorch, HTML5, Ruby, AWS]      Amelia Davis   \n",
       "\n",
       "                                           skills_2  \n",
       "0       [Security, WordPress, Big Data, Swift, AWS]  \n",
       "1                  [TensorFlow, Ruby, AWS, ReactJS]  \n",
       "2  [R, HTML5, Blockchain, Cloud Architecture, Ruby]  \n",
       "3                  [Pandas, Scrum, CSS3, Ruby, AWS]  \n",
       "4          [Security, PyTorch, Java, HTML5, Docker]  "
      ]
     },
     "execution_count": 21,
     "metadata": {},
     "output_type": "execute_result"
    }
   ],
   "source": [
    "person_similar_skillset_df"
   ]
  },
  {
   "cell_type": "markdown",
   "metadata": {},
   "source": [
    "### Strategy 3.3 Similar Skillsets and Semantic Meaning"
   ]
  },
  {
   "cell_type": "markdown",
   "metadata": {},
   "source": [
    "Use the Semantic Meaning and Skill overlap to find people with similar skills"
   ]
  },
  {
   "cell_type": "code",
   "execution_count": 22,
   "metadata": {},
   "outputs": [],
   "source": [
    "person_name_1 = \"John Garcia\""
   ]
  },
  {
   "cell_type": "code",
   "execution_count": 23,
   "metadata": {},
   "outputs": [],
   "source": [
    "person_similarity_df = driver.execute_query(\n",
    "    \"\"\"\n",
    "    MATCH (p1:Person {name: $person_name_1})-[:KNOWS]->(s:Skill)\n",
    "    WITH p1, COLLECT(s.name) as skills_1\n",
    "    CALL (p1){\n",
    "      MATCH (p1)-[:KNOWS]->(s1:Skill)-[r:SIMILAR_SEMANTIC]-(s2:Skill)<-[:KNOWS]-(p2:Person)\n",
    "      RETURN p1 as person_1, p2 as person_2, SUM(r.score) AS score\n",
    "      UNION \n",
    "      MATCH (p1)-[r:SIMILAR_SKILLSET]->(p2:Person)\n",
    "      RETURN p1 as person_1, p2 AS person_2, SUM(r.overlap) AS score\n",
    "    }\n",
    "    WITH person_1.name as person_1, skills_1, person_2, SUM(score) as score\n",
    "    WHERE score >= 1\n",
    "    MATCH (person_2)-[:KNOWS]->(s:Skill)\n",
    "    RETURN person_1, skills_1,  person_2.name as person_2, COLLECT(s.name) as skills_2, score\n",
    "    ORDER BY score DESC LIMIT 5\n",
    "    \"\"\",\n",
    "    database_=DATABASE,\n",
    "    routing_=RoutingControl.READ,\n",
    "    result_transformer_= lambda r: r.to_df(),\n",
    "    person_name_1 = person_name_1\n",
    ")"
   ]
  },
  {
   "cell_type": "code",
   "execution_count": 24,
   "metadata": {},
   "outputs": [
    {
     "data": {
      "text/html": [
       "<div>\n",
       "<style scoped>\n",
       "    .dataframe tbody tr th:only-of-type {\n",
       "        vertical-align: middle;\n",
       "    }\n",
       "\n",
       "    .dataframe tbody tr th {\n",
       "        vertical-align: top;\n",
       "    }\n",
       "\n",
       "    .dataframe thead th {\n",
       "        text-align: right;\n",
       "    }\n",
       "</style>\n",
       "<table border=\"1\" class=\"dataframe\">\n",
       "  <thead>\n",
       "    <tr style=\"text-align: right;\">\n",
       "      <th></th>\n",
       "      <th>person_1</th>\n",
       "      <th>skills_1</th>\n",
       "      <th>person_2</th>\n",
       "      <th>skills_2</th>\n",
       "      <th>score</th>\n",
       "    </tr>\n",
       "  </thead>\n",
       "  <tbody>\n",
       "    <tr>\n",
       "      <th>0</th>\n",
       "      <td>John Garcia</td>\n",
       "      <td>[Security, PyTorch, HTML5, Ruby, AWS]</td>\n",
       "      <td>Matthew Miller</td>\n",
       "      <td>[TensorFlow, Ruby, AWS, ReactJS]</td>\n",
       "      <td>2.933380</td>\n",
       "    </tr>\n",
       "    <tr>\n",
       "      <th>1</th>\n",
       "      <td>John Garcia</td>\n",
       "      <td>[Security, PyTorch, HTML5, Ruby, AWS]</td>\n",
       "      <td>Matthew Mitchell</td>\n",
       "      <td>[R, HTML5, Blockchain, Cloud Architecture, Ruby]</td>\n",
       "      <td>2.931610</td>\n",
       "    </tr>\n",
       "    <tr>\n",
       "      <th>2</th>\n",
       "      <td>John Garcia</td>\n",
       "      <td>[Security, PyTorch, HTML5, Ruby, AWS]</td>\n",
       "      <td>John Johnson</td>\n",
       "      <td>[WordPress, TensorFlow, AWS, Project Managemen...</td>\n",
       "      <td>2.863373</td>\n",
       "    </tr>\n",
       "    <tr>\n",
       "      <th>3</th>\n",
       "      <td>John Garcia</td>\n",
       "      <td>[Security, PyTorch, HTML5, Ruby, AWS]</td>\n",
       "      <td>Mia Nelson</td>\n",
       "      <td>[Security, WordPress, Big Data, Swift, AWS]</td>\n",
       "      <td>2.000000</td>\n",
       "    </tr>\n",
       "    <tr>\n",
       "      <th>4</th>\n",
       "      <td>John Garcia</td>\n",
       "      <td>[Security, PyTorch, HTML5, Ruby, AWS]</td>\n",
       "      <td>John Taylor</td>\n",
       "      <td>[Pandas, Scrum, CSS3, Ruby, AWS]</td>\n",
       "      <td>2.000000</td>\n",
       "    </tr>\n",
       "  </tbody>\n",
       "</table>\n",
       "</div>"
      ],
      "text/plain": [
       "      person_1                               skills_1          person_2  \\\n",
       "0  John Garcia  [Security, PyTorch, HTML5, Ruby, AWS]    Matthew Miller   \n",
       "1  John Garcia  [Security, PyTorch, HTML5, Ruby, AWS]  Matthew Mitchell   \n",
       "2  John Garcia  [Security, PyTorch, HTML5, Ruby, AWS]      John Johnson   \n",
       "3  John Garcia  [Security, PyTorch, HTML5, Ruby, AWS]        Mia Nelson   \n",
       "4  John Garcia  [Security, PyTorch, HTML5, Ruby, AWS]       John Taylor   \n",
       "\n",
       "                                            skills_2     score  \n",
       "0                   [TensorFlow, Ruby, AWS, ReactJS]  2.933380  \n",
       "1   [R, HTML5, Blockchain, Cloud Architecture, Ruby]  2.931610  \n",
       "2  [WordPress, TensorFlow, AWS, Project Managemen...  2.863373  \n",
       "3        [Security, WordPress, Big Data, Swift, AWS]  2.000000  \n",
       "4                   [Pandas, Scrum, CSS3, Ruby, AWS]  2.000000  "
      ]
     },
     "execution_count": 24,
     "metadata": {},
     "output_type": "execute_result"
    }
   ],
   "source": [
    "person_similarity_df"
   ]
  },
  {
   "cell_type": "markdown",
   "metadata": {},
   "source": [
    "## 4 - Recommendation of Person given skills"
   ]
  },
  {
   "cell_type": "markdown",
   "metadata": {},
   "source": [
    "## Vector Index Search"
   ]
  },
  {
   "cell_type": "code",
   "execution_count": 25,
   "metadata": {},
   "outputs": [],
   "source": [
    "skills = ['AWS', 'Security']"
   ]
  },
  {
   "cell_type": "code",
   "execution_count": 26,
   "metadata": {},
   "outputs": [],
   "source": [
    "skills_vectors = embeddings.embed_documents(skills)"
   ]
  },
  {
   "cell_type": "markdown",
   "metadata": {},
   "source": [
    "We get the approximate top 10 nearest nodes to the search vector `v` and take the 3 first returned. Then put them together in a list (`skill_list`) and does same ranking as before (number of skills)"
   ]
  },
  {
   "cell_type": "code",
   "execution_count": 27,
   "metadata": {},
   "outputs": [],
   "source": [
    "nn_df = driver.execute_query(\n",
    "    \"\"\"UNWIND $skills_vectors AS v\n",
    "    CALL db.index.vector.queryNodes('skill-embeddings', 3, TOFLOATLIST(v)) YIELD node, score\n",
    "    WHERE score > 0.85\n",
    "    WITH v as embedding, COALESCE(COLLECT(node.name), []) AS top\n",
    "    RETURN *\n",
    "    \"\"\",\n",
    "    database_=DATABASE,\n",
    "    routing_=RoutingControl.READ,\n",
    "    result_transformer_= lambda r: r.to_df(),\n",
    "    skills_vectors = skills_vectors\n",
    ")\n",
    "nn_df['skills'] = skills\n",
    "cols = list(nn_df.columns)[-1:] + list(nn_df.columns)[:-1]\n",
    "nn_df = nn_df[cols]"
   ]
  },
  {
   "cell_type": "code",
   "execution_count": 28,
   "metadata": {},
   "outputs": [
    {
     "data": {
      "text/html": [
       "<div>\n",
       "<style scoped>\n",
       "    .dataframe tbody tr th:only-of-type {\n",
       "        vertical-align: middle;\n",
       "    }\n",
       "\n",
       "    .dataframe tbody tr th {\n",
       "        vertical-align: top;\n",
       "    }\n",
       "\n",
       "    .dataframe thead th {\n",
       "        text-align: right;\n",
       "    }\n",
       "</style>\n",
       "<table border=\"1\" class=\"dataframe\">\n",
       "  <thead>\n",
       "    <tr style=\"text-align: right;\">\n",
       "      <th></th>\n",
       "      <th>skills</th>\n",
       "      <th>embedding</th>\n",
       "      <th>top</th>\n",
       "    </tr>\n",
       "  </thead>\n",
       "  <tbody>\n",
       "    <tr>\n",
       "      <th>0</th>\n",
       "      <td>AWS</td>\n",
       "      <td>[-0.004132895264774561, -0.017077714204788208,...</td>\n",
       "      <td>[AWS, Azure, Cloud Architecture]</td>\n",
       "    </tr>\n",
       "    <tr>\n",
       "      <th>1</th>\n",
       "      <td>Security</td>\n",
       "      <td>[0.01840578392148018, -0.011083670891821384, -...</td>\n",
       "      <td>[Security, Rust, Linux]</td>\n",
       "    </tr>\n",
       "  </tbody>\n",
       "</table>\n",
       "</div>"
      ],
      "text/plain": [
       "     skills                                          embedding  \\\n",
       "0       AWS  [-0.004132895264774561, -0.017077714204788208,...   \n",
       "1  Security  [0.01840578392148018, -0.011083670891821384, -...   \n",
       "\n",
       "                                top  \n",
       "0  [AWS, Azure, Cloud Architecture]  \n",
       "1           [Security, Rust, Linux]  "
      ]
     },
     "execution_count": 28,
     "metadata": {},
     "output_type": "execute_result"
    }
   ],
   "source": [
    "nn_df"
   ]
  },
  {
   "cell_type": "code",
   "execution_count": 29,
   "metadata": {},
   "outputs": [],
   "source": [
    "find_persons_given_skills_df = driver.execute_query(\n",
    "    \"\"\"\n",
    "    UNWIND $skills_vectors AS v\n",
    "    CALL db.index.vector.queryNodes('skill-embeddings', 3, TOFLOATLIST(v)) YIELD node, score\n",
    "    WHERE score > 0.85\n",
    "    OPTIONAL MATCH (node)-[:SIMILAR_SEMANTIC]-(s:Skill)\n",
    "    WITH COLLECT(node) AS nodes, COLLECT(DISTINCT s) AS skills\n",
    "    WITH nodes + skills AS all_skills\n",
    "    UNWIND all_skills AS skill\n",
    "    MATCH (p:Person)-[:KNOWS]->(skill)\n",
    "    RETURN p.name AS person, COUNT(DISTINCT(skill)) AS skill_count, COLLECT(DISTINCT(skill.name)) as similar_skills\n",
    "    ORDER BY skill_count DESC LIMIT 10\n",
    "    \"\"\",\n",
    "    database_=DATABASE,\n",
    "    routing_=RoutingControl.READ,\n",
    "    result_transformer_= lambda r: r.to_df(),\n",
    "    skills_vectors = skills_vectors\n",
    ")"
   ]
  },
  {
   "cell_type": "code",
   "execution_count": 30,
   "metadata": {},
   "outputs": [
    {
     "data": {
      "text/html": [
       "<div>\n",
       "<style scoped>\n",
       "    .dataframe tbody tr th:only-of-type {\n",
       "        vertical-align: middle;\n",
       "    }\n",
       "\n",
       "    .dataframe tbody tr th {\n",
       "        vertical-align: top;\n",
       "    }\n",
       "\n",
       "    .dataframe thead th {\n",
       "        text-align: right;\n",
       "    }\n",
       "</style>\n",
       "<table border=\"1\" class=\"dataframe\">\n",
       "  <thead>\n",
       "    <tr style=\"text-align: right;\">\n",
       "      <th></th>\n",
       "      <th>person</th>\n",
       "      <th>skill_count</th>\n",
       "      <th>similar_skills</th>\n",
       "    </tr>\n",
       "  </thead>\n",
       "  <tbody>\n",
       "    <tr>\n",
       "      <th>0</th>\n",
       "      <td>Natalie Turner</td>\n",
       "      <td>2</td>\n",
       "      <td>[Rust, Linux]</td>\n",
       "    </tr>\n",
       "    <tr>\n",
       "      <th>1</th>\n",
       "      <td>Mia Nelson</td>\n",
       "      <td>2</td>\n",
       "      <td>[AWS, Security]</td>\n",
       "    </tr>\n",
       "    <tr>\n",
       "      <th>2</th>\n",
       "      <td>Brian Jackson</td>\n",
       "      <td>2</td>\n",
       "      <td>[Cloud Architecture, Rust]</td>\n",
       "    </tr>\n",
       "    <tr>\n",
       "      <th>3</th>\n",
       "      <td>Sophie Jackson</td>\n",
       "      <td>2</td>\n",
       "      <td>[Security, Linux]</td>\n",
       "    </tr>\n",
       "    <tr>\n",
       "      <th>4</th>\n",
       "      <td>John Garcia</td>\n",
       "      <td>2</td>\n",
       "      <td>[AWS, Security]</td>\n",
       "    </tr>\n",
       "    <tr>\n",
       "      <th>5</th>\n",
       "      <td>Isabella Allen</td>\n",
       "      <td>2</td>\n",
       "      <td>[Cloud Architecture, Security]</td>\n",
       "    </tr>\n",
       "    <tr>\n",
       "      <th>6</th>\n",
       "      <td>John Taylor</td>\n",
       "      <td>1</td>\n",
       "      <td>[AWS]</td>\n",
       "    </tr>\n",
       "    <tr>\n",
       "      <th>7</th>\n",
       "      <td>Brian Thompson</td>\n",
       "      <td>1</td>\n",
       "      <td>[AWS]</td>\n",
       "    </tr>\n",
       "    <tr>\n",
       "      <th>8</th>\n",
       "      <td>Matthew Miller</td>\n",
       "      <td>1</td>\n",
       "      <td>[AWS]</td>\n",
       "    </tr>\n",
       "    <tr>\n",
       "      <th>9</th>\n",
       "      <td>Natalie Miller</td>\n",
       "      <td>1</td>\n",
       "      <td>[Azure]</td>\n",
       "    </tr>\n",
       "  </tbody>\n",
       "</table>\n",
       "</div>"
      ],
      "text/plain": [
       "           person  skill_count                  similar_skills\n",
       "0  Natalie Turner            2                   [Rust, Linux]\n",
       "1      Mia Nelson            2                 [AWS, Security]\n",
       "2   Brian Jackson            2      [Cloud Architecture, Rust]\n",
       "3  Sophie Jackson            2               [Security, Linux]\n",
       "4     John Garcia            2                 [AWS, Security]\n",
       "5  Isabella Allen            2  [Cloud Architecture, Security]\n",
       "6     John Taylor            1                           [AWS]\n",
       "7  Brian Thompson            1                           [AWS]\n",
       "8  Matthew Miller            1                           [AWS]\n",
       "9  Natalie Miller            1                         [Azure]"
      ]
     },
     "execution_count": 30,
     "metadata": {},
     "output_type": "execute_result"
    }
   ],
   "source": [
    "find_persons_given_skills_df"
   ]
  },
  {
   "cell_type": "markdown",
   "metadata": {},
   "source": [
    "## Agents with GraphRAG"
   ]
  },
  {
   "cell_type": "markdown",
   "metadata": {},
   "source": [
    "### Lets create a Retrieval agent"
   ]
  },
  {
   "cell_type": "code",
   "execution_count": 31,
   "metadata": {},
   "outputs": [],
   "source": [
    "class Skill(BaseModel):\n",
    "    \"\"\"\n",
    "    Represents a professional skill or knowledge of a person.\n",
    "    \"\"\"\n",
    "    name: str = Field(..., description=\"Sortened name of the skill\")"
   ]
  },
  {
   "cell_type": "markdown",
   "metadata": {},
   "source": [
    "### Tool 1"
   ]
  },
  {
   "cell_type": "code",
   "execution_count": 32,
   "metadata": {},
   "outputs": [],
   "source": [
    "def retrieve_skills_of_person(person_name: str) -> pd.DataFrame:\n",
    "    \"\"\"Retrieve the skills of a person. Person is provided with it's name\"\"\"\n",
    "    return driver.execute_query(\n",
    "        \"\"\"\n",
    "        MATCH (p:Person{name: $person_name})-[:KNOWS]->(s:Skill)\n",
    "        RETURN p.name as name, COLLECT(s.name) as skills\n",
    "        \"\"\",\n",
    "        database_=DATABASE,\n",
    "        routing_=RoutingControl.READ,\n",
    "        result_transformer_= lambda r: r.to_df(),\n",
    "        person_name = person_name\n",
    "    )"
   ]
  },
  {
   "cell_type": "code",
   "execution_count": 33,
   "metadata": {},
   "outputs": [
    {
     "data": {
      "text/html": [
       "<div>\n",
       "<style scoped>\n",
       "    .dataframe tbody tr th:only-of-type {\n",
       "        vertical-align: middle;\n",
       "    }\n",
       "\n",
       "    .dataframe tbody tr th {\n",
       "        vertical-align: top;\n",
       "    }\n",
       "\n",
       "    .dataframe thead th {\n",
       "        text-align: right;\n",
       "    }\n",
       "</style>\n",
       "<table border=\"1\" class=\"dataframe\">\n",
       "  <thead>\n",
       "    <tr style=\"text-align: right;\">\n",
       "      <th></th>\n",
       "      <th>name</th>\n",
       "      <th>skills</th>\n",
       "    </tr>\n",
       "  </thead>\n",
       "  <tbody>\n",
       "    <tr>\n",
       "      <th>0</th>\n",
       "      <td>Mia Nelson</td>\n",
       "      <td>[Security, WordPress, Big Data, Swift, AWS]</td>\n",
       "    </tr>\n",
       "  </tbody>\n",
       "</table>\n",
       "</div>"
      ],
      "text/plain": [
       "         name                                       skills\n",
       "0  Mia Nelson  [Security, WordPress, Big Data, Swift, AWS]"
      ]
     },
     "execution_count": 33,
     "metadata": {},
     "output_type": "execute_result"
    }
   ],
   "source": [
    "retrieve_skills_of_person('Mia Nelson') "
   ]
  },
  {
   "cell_type": "markdown",
   "metadata": {},
   "source": [
    "### Tool 2"
   ]
  },
  {
   "cell_type": "code",
   "execution_count": 34,
   "metadata": {},
   "outputs": [],
   "source": [
    "def find_similar_skills(skills: List[Skill]) -> pd.DataFrame:\n",
    "    \"\"\"Find similar skills to list of skills specified. Skills are specified by a list of their names\"\"\"\n",
    "    skills = [s.name for s in skills]\n",
    "    skills_vectors = embeddings.embed_documents(skills)\n",
    "    return driver.execute_query(\n",
    "    \"\"\"\n",
    "        UNWIND $skills_vectors AS v\n",
    "        CALL db.index.vector.queryNodes('skill-embeddings', 3, TOFLOATLIST(v)) YIELD node, score\n",
    "        WHERE score > 0.89\n",
    "        OPTIONAL MATCH (node)-[:SIMILAR_SEMANTIC]-(s:Skill)\n",
    "        WITH COLLECT(node) AS nodes, COLLECT(DISTINCT s) AS skills\n",
    "        WITH nodes + skills AS all_skills\n",
    "        UNWIND all_skills AS skill\n",
    "        RETURN DISTINCT skill.name as skill_name\n",
    "    \"\"\",\n",
    "    database_=DATABASE,\n",
    "    routing_=RoutingControl.READ,\n",
    "    result_transformer_= lambda r: r.to_df(),\n",
    "    skills_vectors = skills_vectors\n",
    ")"
   ]
  },
  {
   "cell_type": "code",
   "execution_count": 35,
   "metadata": {},
   "outputs": [
    {
     "data": {
      "text/html": [
       "<div>\n",
       "<style scoped>\n",
       "    .dataframe tbody tr th:only-of-type {\n",
       "        vertical-align: middle;\n",
       "    }\n",
       "\n",
       "    .dataframe tbody tr th {\n",
       "        vertical-align: top;\n",
       "    }\n",
       "\n",
       "    .dataframe thead th {\n",
       "        text-align: right;\n",
       "    }\n",
       "</style>\n",
       "<table border=\"1\" class=\"dataframe\">\n",
       "  <thead>\n",
       "    <tr style=\"text-align: right;\">\n",
       "      <th></th>\n",
       "      <th>skill_name</th>\n",
       "    </tr>\n",
       "  </thead>\n",
       "  <tbody>\n",
       "    <tr>\n",
       "      <th>0</th>\n",
       "      <td>Python</td>\n",
       "    </tr>\n",
       "    <tr>\n",
       "      <th>1</th>\n",
       "      <td>Pandas</td>\n",
       "    </tr>\n",
       "    <tr>\n",
       "      <th>2</th>\n",
       "      <td>Django</td>\n",
       "    </tr>\n",
       "    <tr>\n",
       "      <th>3</th>\n",
       "      <td>Ruby</td>\n",
       "    </tr>\n",
       "    <tr>\n",
       "      <th>4</th>\n",
       "      <td>Java</td>\n",
       "    </tr>\n",
       "    <tr>\n",
       "      <th>5</th>\n",
       "      <td>PHP</td>\n",
       "    </tr>\n",
       "    <tr>\n",
       "      <th>6</th>\n",
       "      <td>C++</td>\n",
       "    </tr>\n",
       "    <tr>\n",
       "      <th>7</th>\n",
       "      <td>Flask</td>\n",
       "    </tr>\n",
       "  </tbody>\n",
       "</table>\n",
       "</div>"
      ],
      "text/plain": [
       "  skill_name\n",
       "0     Python\n",
       "1     Pandas\n",
       "2     Django\n",
       "3       Ruby\n",
       "4       Java\n",
       "5        PHP\n",
       "6        C++\n",
       "7      Flask"
      ]
     },
     "execution_count": 35,
     "metadata": {},
     "output_type": "execute_result"
    }
   ],
   "source": [
    "find_similar_skills([Skill(name='Python')])"
   ]
  },
  {
   "cell_type": "markdown",
   "metadata": {},
   "source": [
    "### Tool 3"
   ]
  },
  {
   "cell_type": "code",
   "execution_count": 36,
   "metadata": {},
   "outputs": [],
   "source": [
    "def person_similarity(person_name: str) -> pd.DataFrame:\n",
    "    \"\"\"Find a similar person to the one specified based on their skill similarity. Persons are provided with their name\"\"\"\n",
    "    \n",
    "    return driver.execute_query(\n",
    "        \"\"\"\n",
    "        MATCH (p1:Person {name: $person_name})-[:KNOWS]->(s:Skill)\n",
    "        WITH p1, COLLECT(s.name) as skills_1\n",
    "        CALL (p1){\n",
    "          MATCH (p1)-[:KNOWS]->(s1:Skill)-[r:SIMILAR_SEMANTIC]-(s2:Skill)<-[:KNOWS]-(p2:Person)\n",
    "          RETURN p1 as person_1, p2 as person_2, SUM(r.score) AS score\n",
    "          UNION \n",
    "          MATCH (p1)-[r:SIMILAR_SKILLSET]->(p2:Person)\n",
    "          RETURN p1 as person_1, p2 AS person_2, SUM(r.overlap) AS score\n",
    "        }\n",
    "        WITH person_1.name as person_1, skills_1, person_2, SUM(score) as score\n",
    "        WHERE score >= 1\n",
    "        MATCH (person_2)-[:KNOWS]->(s:Skill)\n",
    "        RETURN person_1, skills_1,  person_2.name as person_2, COLLECT(s.name) as skills_2, score\n",
    "        ORDER BY score DESC LIMIT 5\n",
    "        \"\"\",\n",
    "        database_=DATABASE,\n",
    "        routing_=RoutingControl.READ,\n",
    "        result_transformer_= lambda r: r.to_df(),\n",
    "        person_name = person_name\n",
    "    )"
   ]
  },
  {
   "cell_type": "code",
   "execution_count": 37,
   "metadata": {},
   "outputs": [
    {
     "data": {
      "text/html": [
       "<div>\n",
       "<style scoped>\n",
       "    .dataframe tbody tr th:only-of-type {\n",
       "        vertical-align: middle;\n",
       "    }\n",
       "\n",
       "    .dataframe tbody tr th {\n",
       "        vertical-align: top;\n",
       "    }\n",
       "\n",
       "    .dataframe thead th {\n",
       "        text-align: right;\n",
       "    }\n",
       "</style>\n",
       "<table border=\"1\" class=\"dataframe\">\n",
       "  <thead>\n",
       "    <tr style=\"text-align: right;\">\n",
       "      <th></th>\n",
       "      <th>person_1</th>\n",
       "      <th>skills_1</th>\n",
       "      <th>person_2</th>\n",
       "      <th>skills_2</th>\n",
       "      <th>score</th>\n",
       "    </tr>\n",
       "  </thead>\n",
       "  <tbody>\n",
       "    <tr>\n",
       "      <th>0</th>\n",
       "      <td>Christopher Jackson</td>\n",
       "      <td>[Linux, System Design, Spark, Django, Python]</td>\n",
       "      <td>Joseph Mitchell</td>\n",
       "      <td>[System Design, Spark, Vue.js, Ruby]</td>\n",
       "      <td>2.929993</td>\n",
       "    </tr>\n",
       "    <tr>\n",
       "      <th>1</th>\n",
       "      <td>Christopher Jackson</td>\n",
       "      <td>[Linux, System Design, Spark, Django, Python]</td>\n",
       "      <td>John Walker</td>\n",
       "      <td>[API Design, Django, Python]</td>\n",
       "      <td>2.925430</td>\n",
       "    </tr>\n",
       "    <tr>\n",
       "      <th>2</th>\n",
       "      <td>Christopher Jackson</td>\n",
       "      <td>[Linux, System Design, Spark, Django, Python]</td>\n",
       "      <td>Natalie Thompson</td>\n",
       "      <td>[System Design, Angular, Spark, TypeScript, Je...</td>\n",
       "      <td>2.000000</td>\n",
       "    </tr>\n",
       "    <tr>\n",
       "      <th>3</th>\n",
       "      <td>Christopher Jackson</td>\n",
       "      <td>[Linux, System Design, Spark, Django, Python]</td>\n",
       "      <td>Joseph Lopez</td>\n",
       "      <td>[Linux, System Design, ReactJS]</td>\n",
       "      <td>2.000000</td>\n",
       "    </tr>\n",
       "    <tr>\n",
       "      <th>4</th>\n",
       "      <td>Christopher Jackson</td>\n",
       "      <td>[Linux, System Design, Spark, Django, Python]</td>\n",
       "      <td>Peter Perez</td>\n",
       "      <td>[System Design, Rust, Big Data, Django]</td>\n",
       "      <td>2.000000</td>\n",
       "    </tr>\n",
       "  </tbody>\n",
       "</table>\n",
       "</div>"
      ],
      "text/plain": [
       "              person_1                                       skills_1  \\\n",
       "0  Christopher Jackson  [Linux, System Design, Spark, Django, Python]   \n",
       "1  Christopher Jackson  [Linux, System Design, Spark, Django, Python]   \n",
       "2  Christopher Jackson  [Linux, System Design, Spark, Django, Python]   \n",
       "3  Christopher Jackson  [Linux, System Design, Spark, Django, Python]   \n",
       "4  Christopher Jackson  [Linux, System Design, Spark, Django, Python]   \n",
       "\n",
       "           person_2                                           skills_2  \\\n",
       "0   Joseph Mitchell               [System Design, Spark, Vue.js, Ruby]   \n",
       "1       John Walker                       [API Design, Django, Python]   \n",
       "2  Natalie Thompson  [System Design, Angular, Spark, TypeScript, Je...   \n",
       "3      Joseph Lopez                    [Linux, System Design, ReactJS]   \n",
       "4       Peter Perez            [System Design, Rust, Big Data, Django]   \n",
       "\n",
       "      score  \n",
       "0  2.929993  \n",
       "1  2.925430  \n",
       "2  2.000000  \n",
       "3  2.000000  \n",
       "4  2.000000  "
      ]
     },
     "execution_count": 37,
     "metadata": {},
     "output_type": "execute_result"
    }
   ],
   "source": [
    "person_similarity(\"Christopher Jackson\")"
   ]
  },
  {
   "cell_type": "markdown",
   "metadata": {},
   "source": [
    "### Tool 4"
   ]
  },
  {
   "cell_type": "code",
   "execution_count": 38,
   "metadata": {},
   "outputs": [],
   "source": [
    "def find_person_based_on_skills(skills: List[Skill]) -> pd.DataFrame:\n",
    "    \"\"\"\n",
    "    Find persons based on skills they have. Skills are specified by their names. \n",
    "    Note that similar skills can be found. These are considered similar. \n",
    "    \"\"\"\n",
    "    skills = [s.name for s in skills]\n",
    "    skills_vectors = embeddings.embed_documents(skills)\n",
    "    return driver.execute_query(\n",
    "        \"\"\"\n",
    "        UNWIND $skills_vectors AS v\n",
    "        CALL db.index.vector.queryNodes('skill-embeddings', 3, TOFLOATLIST(v)) YIELD node, score\n",
    "        WHERE score > 0.89\n",
    "        OPTIONAL MATCH (node)-[:SIMILAR_SEMANTIC]-(s:Skill)\n",
    "        WITH COLLECT(node) AS nodes, COLLECT(DISTINCT s) AS skills\n",
    "        WITH nodes + skills AS all_skills\n",
    "        UNWIND all_skills AS skill\n",
    "        MATCH (p:Person)-[:KNOWS]->(skill)\n",
    "        RETURN p.name AS person, COUNT(DISTINCT(skill)) AS score, COLLECT(DISTINCT(skill.name)) as similar_skills\n",
    "        ORDER BY score DESC LIMIT 10\n",
    "        \"\"\",\n",
    "        database_=DATABASE,\n",
    "        routing_=RoutingControl.READ,\n",
    "        result_transformer_= lambda r: r.to_df(),\n",
    "        skills_vectors = skills_vectors\n",
    ")"
   ]
  },
  {
   "cell_type": "code",
   "execution_count": 39,
   "metadata": {},
   "outputs": [
    {
     "data": {
      "text/html": [
       "<div>\n",
       "<style scoped>\n",
       "    .dataframe tbody tr th:only-of-type {\n",
       "        vertical-align: middle;\n",
       "    }\n",
       "\n",
       "    .dataframe tbody tr th {\n",
       "        vertical-align: top;\n",
       "    }\n",
       "\n",
       "    .dataframe thead th {\n",
       "        text-align: right;\n",
       "    }\n",
       "</style>\n",
       "<table border=\"1\" class=\"dataframe\">\n",
       "  <thead>\n",
       "    <tr style=\"text-align: right;\">\n",
       "      <th></th>\n",
       "      <th>person</th>\n",
       "      <th>score</th>\n",
       "      <th>similar_skills</th>\n",
       "    </tr>\n",
       "  </thead>\n",
       "  <tbody>\n",
       "    <tr>\n",
       "      <th>0</th>\n",
       "      <td>Sophie Jackson</td>\n",
       "      <td>2</td>\n",
       "      <td>[Security, Pandas]</td>\n",
       "    </tr>\n",
       "    <tr>\n",
       "      <th>1</th>\n",
       "      <td>Thomas Nelson</td>\n",
       "      <td>2</td>\n",
       "      <td>[Security, Pandas]</td>\n",
       "    </tr>\n",
       "    <tr>\n",
       "      <th>2</th>\n",
       "      <td>Thomas Brown</td>\n",
       "      <td>1</td>\n",
       "      <td>[Security]</td>\n",
       "    </tr>\n",
       "    <tr>\n",
       "      <th>3</th>\n",
       "      <td>David Lopez</td>\n",
       "      <td>1</td>\n",
       "      <td>[Security]</td>\n",
       "    </tr>\n",
       "    <tr>\n",
       "      <th>4</th>\n",
       "      <td>Olivia Johnson</td>\n",
       "      <td>1</td>\n",
       "      <td>[Security]</td>\n",
       "    </tr>\n",
       "    <tr>\n",
       "      <th>5</th>\n",
       "      <td>Isabella Allen</td>\n",
       "      <td>1</td>\n",
       "      <td>[Security]</td>\n",
       "    </tr>\n",
       "    <tr>\n",
       "      <th>6</th>\n",
       "      <td>Mia Nelson</td>\n",
       "      <td>1</td>\n",
       "      <td>[Security]</td>\n",
       "    </tr>\n",
       "    <tr>\n",
       "      <th>7</th>\n",
       "      <td>Amelia Davis</td>\n",
       "      <td>1</td>\n",
       "      <td>[Security]</td>\n",
       "    </tr>\n",
       "    <tr>\n",
       "      <th>8</th>\n",
       "      <td>Emily Phillips</td>\n",
       "      <td>1</td>\n",
       "      <td>[Security]</td>\n",
       "    </tr>\n",
       "    <tr>\n",
       "      <th>9</th>\n",
       "      <td>Lucy Turner</td>\n",
       "      <td>1</td>\n",
       "      <td>[Security]</td>\n",
       "    </tr>\n",
       "  </tbody>\n",
       "</table>\n",
       "</div>"
      ],
      "text/plain": [
       "           person  score      similar_skills\n",
       "0  Sophie Jackson      2  [Security, Pandas]\n",
       "1   Thomas Nelson      2  [Security, Pandas]\n",
       "2    Thomas Brown      1          [Security]\n",
       "3     David Lopez      1          [Security]\n",
       "4  Olivia Johnson      1          [Security]\n",
       "5  Isabella Allen      1          [Security]\n",
       "6      Mia Nelson      1          [Security]\n",
       "7    Amelia Davis      1          [Security]\n",
       "8  Emily Phillips      1          [Security]\n",
       "9     Lucy Turner      1          [Security]"
      ]
     },
     "execution_count": 39,
     "metadata": {},
     "output_type": "execute_result"
    }
   ],
   "source": [
    "find_person_based_on_skills([Skill(name='Security'), Skill(name='Pandas')])"
   ]
  },
  {
   "cell_type": "markdown",
   "metadata": {},
   "source": [
    "## Setting up the Agent"
   ]
  },
  {
   "cell_type": "code",
   "execution_count": 40,
   "metadata": {},
   "outputs": [],
   "source": [
    "llm = ChatOpenAI(model_name=\"gpt-4o\", temperature=0, openai_api_base=\"https://api.openai.com/v1\")"
   ]
  },
  {
   "cell_type": "code",
   "execution_count": 41,
   "metadata": {},
   "outputs": [
    {
     "data": {
      "text/plain": [
       "'Hello! How can I assist you today?'"
      ]
     },
     "execution_count": 41,
     "metadata": {},
     "output_type": "execute_result"
    }
   ],
   "source": [
    "response = llm.invoke([HumanMessage(content=\"hi!\")])\n",
    "response.content"
   ]
  },
  {
   "cell_type": "code",
   "execution_count": 42,
   "metadata": {},
   "outputs": [],
   "source": [
    "tools = [\n",
    "    retrieve_skills_of_person, \n",
    "    find_similar_skills,\n",
    "    person_similarity,\n",
    "    find_person_based_on_skills,\n",
    "]\n",
    "\n",
    "llm_with_tools = llm.bind_tools(tools)"
   ]
  },
  {
   "cell_type": "code",
   "execution_count": 43,
   "metadata": {},
   "outputs": [
    {
     "name": "stdout",
     "output_type": "stream",
     "text": [
      "ContentString: \n",
      "ToolCalls: [{'name': 'retrieve_skills_of_person', 'args': {'person_name': 'Kristof Neys'}, 'id': 'call_aP68uioZ6D10X4nr6MTcjK7u', 'type': 'tool_call'}]\n"
     ]
    }
   ],
   "source": [
    "response = llm_with_tools.invoke([HumanMessage(content=\"What skills does Kristof Neys have?\")])\n",
    "\n",
    "print(f\"ContentString: {response.content}\")\n",
    "print(f\"ToolCalls: {response.tool_calls}\")"
   ]
  },
  {
   "cell_type": "code",
   "execution_count": 44,
   "metadata": {},
   "outputs": [
    {
     "name": "stdout",
     "output_type": "stream",
     "text": [
      "ContentString: \n",
      "ToolCalls: [{'name': 'find_similar_skills', 'args': {'skills': [{'name': 'PowerBI'}]}, 'id': 'call_v9fiFPYVJkdH5horpZNtP2lD', 'type': 'tool_call'}, {'name': 'find_similar_skills', 'args': {'skills': [{'name': 'Data Visualization'}]}, 'id': 'call_laK7GjpCoQ6uRXgmEs72PEv9', 'type': 'tool_call'}]\n"
     ]
    }
   ],
   "source": [
    "response = llm_with_tools.invoke([HumanMessage(content=\"What skills are similar to PowerBI and Data Visualization?\")])\n",
    "\n",
    "print(f\"ContentString: {response.content}\")\n",
    "print(f\"ToolCalls: {response.tool_calls}\")"
   ]
  },
  {
   "cell_type": "code",
   "execution_count": 45,
   "metadata": {},
   "outputs": [
    {
     "name": "stdout",
     "output_type": "stream",
     "text": [
      "ContentString: \n",
      "ToolCalls: [{'name': 'person_similarity', 'args': {'person_name': 'Kristof Neys'}, 'id': 'call_7MXTKQWJZMd8J2I7ZihyrZ2o', 'type': 'tool_call'}]\n"
     ]
    }
   ],
   "source": [
    "response = llm_with_tools.invoke([HumanMessage(content=\"Which persons have similar skills as Kristof Neys?\")])\n",
    "\n",
    "print(f\"ContentString: {response.content}\")\n",
    "print(f\"ToolCalls: {response.tool_calls}\")"
   ]
  },
  {
   "cell_type": "code",
   "execution_count": 46,
   "metadata": {},
   "outputs": [
    {
     "name": "stdout",
     "output_type": "stream",
     "text": [
      "ContentString: \n",
      "ToolCalls: [{'name': 'find_person_based_on_skills', 'args': {'skills': [{'name': 'Python'}, {'name': 'AWS'}]}, 'id': 'call_i5NJwmuPTxDey00DP7XTYASa', 'type': 'tool_call'}]\n"
     ]
    }
   ],
   "source": [
    "response = llm_with_tools.invoke([HumanMessage(content=\"Which persons have Python and AWS experience?\")])\n",
    "\n",
    "print(f\"ContentString: {response.content}\")\n",
    "print(f\"ToolCalls: {response.tool_calls}\")"
   ]
  },
  {
   "cell_type": "markdown",
   "metadata": {},
   "source": [
    "We can see that there's now no text content, but there is a tool call! It wants us to call the Tavily Search tool. This isn't calling that tool yet - it's just telling us to. In order to actually call it, we'll want to create our agent."
   ]
  },
  {
   "cell_type": "markdown",
   "metadata": {},
   "source": [
    "## Running Agents with LangGraph"
   ]
  },
  {
   "cell_type": "code",
   "execution_count": 47,
   "metadata": {},
   "outputs": [],
   "source": [
    "agent_executor = create_react_agent(llm, tools)"
   ]
  },
  {
   "cell_type": "code",
   "execution_count": 48,
   "metadata": {},
   "outputs": [],
   "source": [
    "response = agent_executor.invoke({\"messages\": [HumanMessage(content=\"hi!\")]})"
   ]
  },
  {
   "cell_type": "code",
   "execution_count": 49,
   "metadata": {},
   "outputs": [
    {
     "data": {
      "text/plain": [
       "[HumanMessage(content='hi!', additional_kwargs={}, response_metadata={}, id='e3ef76cc-abeb-4cec-96f3-2d0fb1c763c9'),\n",
       " AIMessage(content='Hello! How can I assist you today?', additional_kwargs={'refusal': None}, response_metadata={'token_usage': {'completion_tokens': 11, 'prompt_tokens': 227, 'total_tokens': 238, 'completion_tokens_details': {'accepted_prediction_tokens': 0, 'audio_tokens': 0, 'reasoning_tokens': 0, 'rejected_prediction_tokens': 0}, 'prompt_tokens_details': {'audio_tokens': 0, 'cached_tokens': 0}}, 'model_name': 'gpt-4o-2024-08-06', 'system_fingerprint': 'fp_eb9dce56a8', 'finish_reason': 'stop', 'logprobs': None}, id='run-08b383a8-e5e6-4256-93a6-8cac99d36064-0', usage_metadata={'input_tokens': 227, 'output_tokens': 11, 'total_tokens': 238, 'input_token_details': {'audio': 0, 'cache_read': 0}, 'output_token_details': {'audio': 0, 'reasoning': 0}})]"
      ]
     },
     "execution_count": 49,
     "metadata": {},
     "output_type": "execute_result"
    }
   ],
   "source": [
    "response[\"messages\"]"
   ]
  },
  {
   "cell_type": "markdown",
   "metadata": {},
   "source": [
    "#### Run some examples! "
   ]
  },
  {
   "cell_type": "code",
   "execution_count": 50,
   "metadata": {},
   "outputs": [],
   "source": [
    "def ask_to_agent(question):\n",
    "    for step in agent_executor.stream(\n",
    "        {\"messages\": [HumanMessage(content=question)]},\n",
    "        stream_mode=\"values\",\n",
    "    ):\n",
    "        step[\"messages\"][-1].pretty_print()"
   ]
  },
  {
   "cell_type": "code",
   "execution_count": 51,
   "metadata": {},
   "outputs": [],
   "source": [
    "question = \"What skills does Kristof Neys have?\""
   ]
  },
  {
   "cell_type": "code",
   "execution_count": 52,
   "metadata": {},
   "outputs": [
    {
     "name": "stdout",
     "output_type": "stream",
     "text": [
      "================================\u001b[1m Human Message \u001b[0m=================================\n",
      "\n",
      "What skills does Kristof Neys have?\n",
      "==================================\u001b[1m Ai Message \u001b[0m==================================\n",
      "Tool Calls:\n",
      "  retrieve_skills_of_person (call_hwVm8AMcm6Bc2AotlgqmZc0N)\n",
      " Call ID: call_hwVm8AMcm6Bc2AotlgqmZc0N\n",
      "  Args:\n",
      "    person_name: Kristof Neys\n",
      "=================================\u001b[1m Tool Message \u001b[0m=================================\n",
      "Name: retrieve_skills_of_person\n",
      "\n",
      "           name                      skills\n",
      "0  Kristof Neys  [Cypher, Machine Learning]\n",
      "==================================\u001b[1m Ai Message \u001b[0m==================================\n",
      "\n",
      "Kristof Neys has skills in Cypher and Machine Learning.\n"
     ]
    }
   ],
   "source": [
    "ask_to_agent(question)"
   ]
  },
  {
   "cell_type": "code",
   "execution_count": 53,
   "metadata": {},
   "outputs": [],
   "source": [
    "question = \"What skills are similar to PowerBI and Data Visualization?\""
   ]
  },
  {
   "cell_type": "code",
   "execution_count": 54,
   "metadata": {},
   "outputs": [
    {
     "name": "stdout",
     "output_type": "stream",
     "text": [
      "================================\u001b[1m Human Message \u001b[0m=================================\n",
      "\n",
      "What skills are similar to PowerBI and Data Visualization?\n",
      "==================================\u001b[1m Ai Message \u001b[0m==================================\n",
      "Tool Calls:\n",
      "  find_similar_skills (call_BNG95449bP4QcrKMIdJdhJwU)\n",
      " Call ID: call_BNG95449bP4QcrKMIdJdhJwU\n",
      "  Args:\n",
      "    skills: [{'name': 'PowerBI'}, {'name': 'Data Visualization'}]\n",
      "=================================\u001b[1m Tool Message \u001b[0m=================================\n",
      "Name: find_similar_skills\n",
      "\n",
      "           skill_name\n",
      "0            Power BI\n",
      "1             Tableau\n",
      "2  Data Visualization\n",
      "3       Data Analysis\n",
      "4            Big Data\n",
      "==================================\u001b[1m Ai Message \u001b[0m==================================\n",
      "\n",
      "Skills similar to PowerBI and Data Visualization include:\n",
      "\n",
      "1. Power BI\n",
      "2. Tableau\n",
      "3. Data Analysis\n",
      "4. Big Data\n"
     ]
    }
   ],
   "source": [
    "ask_to_agent(question)"
   ]
  },
  {
   "cell_type": "code",
   "execution_count": 55,
   "metadata": {},
   "outputs": [],
   "source": [
    "question = \"Which persons have similar skills as Daniel Hill?\""
   ]
  },
  {
   "cell_type": "code",
   "execution_count": 56,
   "metadata": {},
   "outputs": [
    {
     "name": "stdout",
     "output_type": "stream",
     "text": [
      "================================\u001b[1m Human Message \u001b[0m=================================\n",
      "\n",
      "Which persons have similar skills as Daniel Hill?\n",
      "==================================\u001b[1m Ai Message \u001b[0m==================================\n",
      "Tool Calls:\n",
      "  person_similarity (call_vXRFyKnUECEg6EOcjqAnub3h)\n",
      " Call ID: call_vXRFyKnUECEg6EOcjqAnub3h\n",
      "  Args:\n",
      "    person_name: Daniel Hill\n",
      "=================================\u001b[1m Tool Message \u001b[0m=================================\n",
      "Name: person_similarity\n",
      "\n",
      "      person_1                                           skills_1  \\\n",
      "0  Daniel Hill  [Pandas, System Design, Git, Cypher, Spring Boot]   \n",
      "1  Daniel Hill  [Pandas, System Design, Git, Cypher, Spring Boot]   \n",
      "2  Daniel Hill  [Pandas, System Design, Git, Cypher, Spring Boot]   \n",
      "3  Daniel Hill  [Pandas, System Design, Git, Cypher, Spring Boot]   \n",
      "4  Daniel Hill  [Pandas, System Design, Git, Cypher, Spring Boot]   \n",
      "\n",
      "            person_2                                      skills_2     score  \n",
      "0  Victoria Thompson                     [SQL, API Design, Cypher]  1.925430  \n",
      "1        John Walker                  [API Design, Django, Python]  1.848923  \n",
      "2      Thomas Nelson                        [Security, Pandas, Go]  1.000000  \n",
      "3        Lucy Taylor  [System Design, Tableau, Flask, CI/CD, Rust]  1.000000  \n",
      "4    Richard Jackson  [System Design, PyTorch, Express.js, DevOps]  1.000000  \n",
      "==================================\u001b[1m Ai Message \u001b[0m==================================\n",
      "\n",
      "The persons with similar skills to Daniel Hill are:\n",
      "\n",
      "1. **Victoria Thompson** - Skills: SQL, API Design, Cypher\n",
      "2. **John Walker** - Skills: API Design, Django, Python\n",
      "3. **Thomas Nelson** - Skills: Security, Pandas, Go\n",
      "4. **Lucy Taylor** - Skills: System Design, Tableau, Flask, CI/CD, Rust\n",
      "5. **Richard Jackson** - Skills: System Design, PyTorch, Express.js, DevOps\n"
     ]
    }
   ],
   "source": [
    "ask_to_agent(question)"
   ]
  },
  {
   "cell_type": "code",
   "execution_count": 57,
   "metadata": {},
   "outputs": [],
   "source": [
    "question = \"Which persons have Python and AWS experience?\""
   ]
  },
  {
   "cell_type": "code",
   "execution_count": 58,
   "metadata": {},
   "outputs": [
    {
     "name": "stdout",
     "output_type": "stream",
     "text": [
      "================================\u001b[1m Human Message \u001b[0m=================================\n",
      "\n",
      "Which persons have Python and AWS experience?\n",
      "==================================\u001b[1m Ai Message \u001b[0m==================================\n",
      "Tool Calls:\n",
      "  find_person_based_on_skills (call_m8CTs4OJx93sND9h5i39wZYM)\n",
      " Call ID: call_m8CTs4OJx93sND9h5i39wZYM\n",
      "  Args:\n",
      "    skills: [{'name': 'Python'}, {'name': 'AWS'}]\n",
      "=================================\u001b[1m Tool Message \u001b[0m=================================\n",
      "Name: find_person_based_on_skills\n",
      "\n",
      "                person  score                similar_skills\n",
      "0          John Taylor      3           [Pandas, AWS, Ruby]\n",
      "1       Matthew Miller      2                   [AWS, Ruby]\n",
      "2         John Johnson      2                 [Python, AWS]\n",
      "3          John Walker      2              [Python, Django]\n",
      "4           Ryan Young      2  [Python, Cloud Architecture]\n",
      "5        Sophia Walker      2                 [Django, C++]\n",
      "6        Charles Jones      2                 [Pandas, AWS]\n",
      "7  Christopher Jackson      2              [Python, Django]\n",
      "8          Brian Allen      2                [Pandas, Ruby]\n",
      "9          John Garcia      2                   [AWS, Ruby]\n",
      "==================================\u001b[1m Ai Message \u001b[0m==================================\n",
      "\n",
      "The following persons have experience with Python and AWS:\n",
      "\n",
      "1. **John Taylor** - Similar skills: Pandas, AWS, Ruby\n",
      "2. **John Johnson** - Similar skills: Python, AWS\n",
      "3. **Charles Jones** - Similar skills: Pandas, AWS\n",
      "\n",
      "Additionally, there are others with related skills:\n",
      "\n",
      "- **Matthew Miller** - Similar skills: AWS, Ruby\n",
      "- **John Walker** - Similar skills: Python, Django\n",
      "- **Ryan Young** - Similar skills: Python, Cloud Architecture\n",
      "- **Sophia Walker** - Similar skills: Django, C++\n",
      "- **Christopher Jackson** - Similar skills: Python, Django\n",
      "- **Brian Allen** - Similar skills: Pandas, Ruby\n",
      "- **John Garcia** - Similar skills: AWS, Ruby\n"
     ]
    }
   ],
   "source": [
    "ask_to_agent(question)"
   ]
  },
  {
   "cell_type": "markdown",
   "metadata": {},
   "source": [
    "## Chatbot"
   ]
  },
  {
   "cell_type": "markdown",
   "metadata": {},
   "source": [
    "Now create a chatbot with the agent providing the responses"
   ]
  },
  {
   "cell_type": "code",
   "execution_count": 59,
   "metadata": {},
   "outputs": [
    {
     "name": "stdout",
     "output_type": "stream",
     "text": [
      "* Running on local URL:  http://127.0.0.1:7860\n",
      "\n",
      "To create a public link, set `share=True` in `launch()`.\n"
     ]
    },
    {
     "data": {
      "text/html": [
       "<div><iframe src=\"http://127.0.0.1:7860/\" width=\"100%\" height=\"500\" allow=\"autoplay; camera; microphone; clipboard-read; clipboard-write;\" frameborder=\"0\" allowfullscreen></iframe></div>"
      ],
      "text/plain": [
       "<IPython.core.display.HTML object>"
      ]
     },
     "metadata": {},
     "output_type": "display_data"
    },
    {
     "data": {
      "text/plain": []
     },
     "execution_count": 59,
     "metadata": {},
     "output_type": "execute_result"
    }
   ],
   "source": [
    "def user(user_message, history):\n",
    "    if history is None:\n",
    "        history = []\n",
    "    history.append({\"role\": \"user\", \"content\": user_message})\n",
    "    return \"\", history\n",
    "\n",
    "def get_answer(history):\n",
    "    steps = []\n",
    "    full_prompt = \"\\n\".join([f\"{msg['role'].capitalize()}: {msg['content']}\" for msg in history])\n",
    "    \n",
    "    for step in agent_executor.stream(\n",
    "            {\"messages\": [HumanMessage(content=full_prompt)]},\n",
    "            stream_mode=\"values\",\n",
    "    ):\n",
    "        step[\"messages\"][-1].pretty_print()\n",
    "        steps.append(step[\"messages\"][-1].content)\n",
    "    \n",
    "    return steps[-1]\n",
    "\n",
    "def bot(history):\n",
    "    bot_message = get_answer(history)\n",
    "    history.append({\"role\": \"assistant\", \"content\": \"\"})\n",
    "\n",
    "    for character in bot_message:\n",
    "        history[-1][\"content\"] += character\n",
    "        time.sleep(0.01)\n",
    "        yield history\n",
    "\n",
    "with gr.Blocks() as demo:\n",
    "    chatbot = gr.Chatbot(\n",
    "        label=\"Chatbot on a Graph\",\n",
    "        avatar_images=[\n",
    "            \"https://png.pngtree.com/png-vector/20220525/ourmid/pngtree-concept-of-facial-animal-avatar-chatbot-dog-chat-machine-illustration-vector-png-image_46652864.jpg\",\n",
    "            \"https://d-cb.jc-cdn.com/sites/crackberry.com/files/styles/larger/public/article_images/2023/08/openai-logo.jpg\"\n",
    "        ],\n",
    "        type=\"messages\", \n",
    "    )\n",
    "    msg = gr.Textbox(label=\"Message\")\n",
    "    clear = gr.Button(\"Clear\")\n",
    "\n",
    "    msg.submit(user, [msg, chatbot], [msg, chatbot], queue=False).then(\n",
    "        bot, [chatbot], chatbot\n",
    "    )\n",
    "\n",
    "    clear.click(lambda: [], None, chatbot, queue=False)\n",
    "\n",
    "demo.queue()\n",
    "demo.launch(share=False)\n"
   ]
  },
  {
   "cell_type": "markdown",
   "metadata": {},
   "source": [
    "If you want to have the light-mode for the chatbot paste the following after the URL: /?__theme=light"
   ]
  },
  {
   "cell_type": "markdown",
   "metadata": {},
   "source": [
    "### Text2Cypher"
   ]
  },
  {
   "cell_type": "markdown",
   "metadata": {},
   "source": [
    "If time allows we can still experiment with the Text2Cypher functionality. "
   ]
  },
  {
   "cell_type": "code",
   "execution_count": 60,
   "metadata": {},
   "outputs": [],
   "source": [
    "text2cypher_prompt =  PromptTemplate.from_template(\n",
    "    \"\"\"\n",
    "    Task: Generate a Cypher statement for querying a Neo4j graph database from a user input. \n",
    "    - Do not include triple backticks ``` or ```cypher or any additional text except the generated Cypher statement in your response.\n",
    "    - Do not use any properties or relationships not included in the schema.\n",
    "    \n",
    "    Schema:\n",
    "    {schema}\n",
    "    \n",
    "    #User Input\n",
    "    {question}\n",
    "    \n",
    "    Cypher query:\n",
    "    \"\"\"\n",
    ")"
   ]
  },
  {
   "cell_type": "code",
   "execution_count": 61,
   "metadata": {},
   "outputs": [],
   "source": [
    "annotated_schema = \"\"\"\n",
    "    Nodes:\n",
    "      Person:\n",
    "        description: \"A person in our talent pool.\"\n",
    "        properties:\n",
    "          name:\n",
    "            type: \"string\"\n",
    "            description: \"The full name of the person. serves as a unique identifier.\"\n",
    "          email:\n",
    "            type: \"string\"\n",
    "            description: \"The email address of the person.\"\n",
    "          leiden_community:\n",
    "            type: \"integer\"\n",
    "            description: \"The talent community for the person.  People in the same talent segment share similar skills.\"\n",
    "      Skill:\n",
    "        description: \"A professional skill.\"\n",
    "        properties:\n",
    "          name:\n",
    "            type: \"string\"\n",
    "            description: \"The unique name of the skill.\"\n",
    "    Relationships:\n",
    "        KNOWS:\n",
    "            description: \"A person knowing a skill.\"\n",
    "            query_pattern: \"(:Person)-[:KNOWS]->(:Skill)\"\n",
    "    \"\"\""
   ]
  },
  {
   "cell_type": "code",
   "execution_count": 62,
   "metadata": {},
   "outputs": [],
   "source": [
    "text2cypher_llm = ChatOpenAI(model='gpt-4', temperature=0)"
   ]
  },
  {
   "cell_type": "code",
   "execution_count": 63,
   "metadata": {},
   "outputs": [],
   "source": [
    "@tool\n",
    "def perform_aggregation_query(question: str) -> pd.DataFrame:\n",
    "    \"\"\"\n",
    "    perform an aggregation query on the Neo4j graph database and obtain the results.\n",
    "    \"\"\"\n",
    "    prompt = text2cypher_prompt.invoke({'schema': annotated_schema, 'question': question})\n",
    "    query = text2cypher_llm.invoke(prompt).content\n",
    "    print(f\"executing Cypher query:\\n{query}\")\n",
    "    return driver.execute_query(\n",
    "        query,\n",
    "        database_=DATABASE,\n",
    "        routing_=RoutingControl.READ,\n",
    "        result_transformer_= lambda r: r.to_df()\n",
    "    )    "
   ]
  },
  {
   "cell_type": "code",
   "execution_count": 64,
   "metadata": {},
   "outputs": [
    {
     "name": "stderr",
     "output_type": "stream",
     "text": [
      "/var/folders/l0/vn55w75s41703t1w811dtf080000gp/T/ipykernel_64988/3481267826.py:1: LangChainDeprecationWarning: The method `BaseTool.__call__` was deprecated in langchain-core 0.1.47 and will be removed in 1.0. Use :meth:`~invoke` instead.\n",
      "  perform_aggregation_query('describe communities by skills')\n"
     ]
    },
    {
     "name": "stdout",
     "output_type": "stream",
     "text": [
      "executing Cypher query:\n",
      "MATCH (p:Person)-[:KNOWS]->(s:Skill)\n",
      "RETURN p.leiden_community as Community, collect(s.name) as Skills\n",
      "ORDER BY p.leiden_community\n"
     ]
    },
    {
     "data": {
      "text/html": [
       "<div>\n",
       "<style scoped>\n",
       "    .dataframe tbody tr th:only-of-type {\n",
       "        vertical-align: middle;\n",
       "    }\n",
       "\n",
       "    .dataframe tbody tr th {\n",
       "        vertical-align: top;\n",
       "    }\n",
       "\n",
       "    .dataframe thead th {\n",
       "        text-align: right;\n",
       "    }\n",
       "</style>\n",
       "<table border=\"1\" class=\"dataframe\">\n",
       "  <thead>\n",
       "    <tr style=\"text-align: right;\">\n",
       "      <th></th>\n",
       "      <th>Community</th>\n",
       "      <th>Skills</th>\n",
       "    </tr>\n",
       "  </thead>\n",
       "  <tbody>\n",
       "    <tr>\n",
       "      <th>0</th>\n",
       "      <td>34.0</td>\n",
       "      <td>[AWS, Angular, Angular, Angular, Angular, Big ...</td>\n",
       "    </tr>\n",
       "    <tr>\n",
       "      <th>1</th>\n",
       "      <td>41.0</td>\n",
       "      <td>[AWS, Angular, Angular, CI/CD, CSS3, Data Visu...</td>\n",
       "    </tr>\n",
       "    <tr>\n",
       "      <th>2</th>\n",
       "      <td>42.0</td>\n",
       "      <td>[Azure, CI/CD, Cloud Architecture, Cloud Archi...</td>\n",
       "    </tr>\n",
       "    <tr>\n",
       "      <th>3</th>\n",
       "      <td>49.0</td>\n",
       "      <td>[Big Data, Big Data, Blockchain, Blockchain, B...</td>\n",
       "    </tr>\n",
       "    <tr>\n",
       "      <th>4</th>\n",
       "      <td>76.0</td>\n",
       "      <td>[AWS, AWS, AWS, Agile, Agile, Agile, Agile, Ag...</td>\n",
       "    </tr>\n",
       "    <tr>\n",
       "      <th>5</th>\n",
       "      <td>79.0</td>\n",
       "      <td>[AWS, Angular, Angular, Azure, Azure, C++, CSS...</td>\n",
       "    </tr>\n",
       "    <tr>\n",
       "      <th>6</th>\n",
       "      <td>84.0</td>\n",
       "      <td>[API Design, API Design, API Design, API Desig...</td>\n",
       "    </tr>\n",
       "    <tr>\n",
       "      <th>7</th>\n",
       "      <td>88.0</td>\n",
       "      <td>[AWS, AWS, Angular, Angular, Big Data, Big Dat...</td>\n",
       "    </tr>\n",
       "    <tr>\n",
       "      <th>8</th>\n",
       "      <td>98.0</td>\n",
       "      <td>[Angular, Blockchain, Blockchain, Blockchain, ...</td>\n",
       "    </tr>\n",
       "    <tr>\n",
       "      <th>9</th>\n",
       "      <td>NaN</td>\n",
       "      <td>[Cypher, Cypher Queries, Graph Technology, Jav...</td>\n",
       "    </tr>\n",
       "  </tbody>\n",
       "</table>\n",
       "</div>"
      ],
      "text/plain": [
       "   Community                                             Skills\n",
       "0       34.0  [AWS, Angular, Angular, Angular, Angular, Big ...\n",
       "1       41.0  [AWS, Angular, Angular, CI/CD, CSS3, Data Visu...\n",
       "2       42.0  [Azure, CI/CD, Cloud Architecture, Cloud Archi...\n",
       "3       49.0  [Big Data, Big Data, Blockchain, Blockchain, B...\n",
       "4       76.0  [AWS, AWS, AWS, Agile, Agile, Agile, Agile, Ag...\n",
       "5       79.0  [AWS, Angular, Angular, Azure, Azure, C++, CSS...\n",
       "6       84.0  [API Design, API Design, API Design, API Desig...\n",
       "7       88.0  [AWS, AWS, Angular, Angular, Big Data, Big Dat...\n",
       "8       98.0  [Angular, Blockchain, Blockchain, Blockchain, ...\n",
       "9        NaN  [Cypher, Cypher Queries, Graph Technology, Jav..."
      ]
     },
     "execution_count": 64,
     "metadata": {},
     "output_type": "execute_result"
    }
   ],
   "source": [
    "perform_aggregation_query('describe communities by skills') "
   ]
  },
  {
   "cell_type": "code",
   "execution_count": 65,
   "metadata": {},
   "outputs": [
    {
     "name": "stdout",
     "output_type": "stream",
     "text": [
      "executing Cypher query:\n",
      "MATCH (p:Person {name: 'Isabella Allen'})-[:KNOWS]->(s:Skill)<-[:KNOWS]-(other:Person)\n",
      "RETURN COUNT(DISTINCT other) AS NumberOfPeople, COLLECT(DISTINCT s.name) AS SharedSkills\n"
     ]
    },
    {
     "data": {
      "text/html": [
       "<div>\n",
       "<style scoped>\n",
       "    .dataframe tbody tr th:only-of-type {\n",
       "        vertical-align: middle;\n",
       "    }\n",
       "\n",
       "    .dataframe tbody tr th {\n",
       "        vertical-align: top;\n",
       "    }\n",
       "\n",
       "    .dataframe thead th {\n",
       "        text-align: right;\n",
       "    }\n",
       "</style>\n",
       "<table border=\"1\" class=\"dataframe\">\n",
       "  <thead>\n",
       "    <tr style=\"text-align: right;\">\n",
       "      <th></th>\n",
       "      <th>NumberOfPeople</th>\n",
       "      <th>SharedSkills</th>\n",
       "    </tr>\n",
       "  </thead>\n",
       "  <tbody>\n",
       "    <tr>\n",
       "      <th>0</th>\n",
       "      <td>29</td>\n",
       "      <td>[Security, Scala, Cloud Architecture]</td>\n",
       "    </tr>\n",
       "  </tbody>\n",
       "</table>\n",
       "</div>"
      ],
      "text/plain": [
       "   NumberOfPeople                           SharedSkills\n",
       "0              29  [Security, Scala, Cloud Architecture]"
      ]
     },
     "execution_count": 65,
     "metadata": {},
     "output_type": "execute_result"
    }
   ],
   "source": [
    "perform_aggregation_query('how many people share skills with Isabella Allen, and what are the skills')"
   ]
  },
  {
   "cell_type": "code",
   "execution_count": 66,
   "metadata": {},
   "outputs": [
    {
     "name": "stdout",
     "output_type": "stream",
     "text": [
      "executing Cypher query:\n",
      "MATCH (p:Person)\n",
      "RETURN p.name\n",
      "LIMIT 5\n"
     ]
    },
    {
     "data": {
      "text/html": [
       "<div>\n",
       "<style scoped>\n",
       "    .dataframe tbody tr th:only-of-type {\n",
       "        vertical-align: middle;\n",
       "    }\n",
       "\n",
       "    .dataframe tbody tr th {\n",
       "        vertical-align: top;\n",
       "    }\n",
       "\n",
       "    .dataframe thead th {\n",
       "        text-align: right;\n",
       "    }\n",
       "</style>\n",
       "<table border=\"1\" class=\"dataframe\">\n",
       "  <thead>\n",
       "    <tr style=\"text-align: right;\">\n",
       "      <th></th>\n",
       "      <th>p.name</th>\n",
       "    </tr>\n",
       "  </thead>\n",
       "  <tbody>\n",
       "    <tr>\n",
       "      <th>0</th>\n",
       "      <td>Kristof Neys</td>\n",
       "    </tr>\n",
       "    <tr>\n",
       "      <th>1</th>\n",
       "      <td>Håkan Löfqvist</td>\n",
       "    </tr>\n",
       "    <tr>\n",
       "      <th>2</th>\n",
       "      <td>Thomas Nelson</td>\n",
       "    </tr>\n",
       "    <tr>\n",
       "      <th>3</th>\n",
       "      <td>Lucy Clark</td>\n",
       "    </tr>\n",
       "    <tr>\n",
       "      <th>4</th>\n",
       "      <td>Richard Jackson</td>\n",
       "    </tr>\n",
       "  </tbody>\n",
       "</table>\n",
       "</div>"
      ],
      "text/plain": [
       "            p.name\n",
       "0     Kristof Neys\n",
       "1   Håkan Löfqvist\n",
       "2    Thomas Nelson\n",
       "3       Lucy Clark\n",
       "4  Richard Jackson"
      ]
     },
     "execution_count": 66,
     "metadata": {},
     "output_type": "execute_result"
    }
   ],
   "source": [
    "perform_aggregation_query('Can you list me a 5 random person name from the database?')"
   ]
  }
 ],
 "metadata": {
  "colab": {
   "provenance": []
  },
  "kernelspec": {
   "display_name": "Python 3 (ipykernel)",
   "language": "python",
   "name": "python3"
  },
  "language_info": {
   "codemirror_mode": {
    "name": "ipython",
    "version": 3
   },
   "file_extension": ".py",
   "mimetype": "text/x-python",
   "name": "python",
   "nbconvert_exporter": "python",
   "pygments_lexer": "ipython3",
   "version": "3.11.5"
  }
 },
 "nbformat": 4,
 "nbformat_minor": 4
}
