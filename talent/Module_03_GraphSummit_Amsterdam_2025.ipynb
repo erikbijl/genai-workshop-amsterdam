{
 "cells": [
  {
   "cell_type": "markdown",
   "metadata": {},
   "source": [
    "# Module 3 - GraphRAG and Agents\n",
    "\n",
    "This module has the following objectives:\n",
    "- Experiment with queries for an Agent\n",
    "- Define Tooling\n",
    "- Create an agents with the available tools\n",
    "- Chatbot for an Agent\n",
    "- Text2Cypher (if we got time)"
   ]
  },
  {
   "cell_type": "code",
   "execution_count": 70,
   "metadata": {
    "id": "FHKg4DVZiQ98"
   },
   "outputs": [],
   "source": [
    "#!pip install graphdatascience neo4j dotenv openai langchain, langgraph, pydantic, gradio"
   ]
  },
  {
   "cell_type": "markdown",
   "metadata": {},
   "source": [
    "Import our usual suspects (and some more...)"
   ]
  },
  {
   "cell_type": "code",
   "execution_count": 71,
   "metadata": {},
   "outputs": [],
   "source": [
    "import os\n",
    "import pandas as pd\n",
    "from dotenv import load_dotenv\n",
    "from graphdatascience import GraphDataScience\n",
    "from neo4j import Query, GraphDatabase, RoutingControl, Result\n",
    "from langchain.schema import HumanMessage\n",
    "from langchain_openai import OpenAIEmbeddings, ChatOpenAI\n",
    "from langchain_core.messages import HumanMessage\n",
    "from langchain_core.prompts import ChatPromptTemplate, PromptTemplate\n",
    "from langchain_core.output_parsers import StrOutputParser\n",
    "from langgraph.prebuilt import create_react_agent\n",
    "from openai import OpenAI\n",
    "from typing import List, Optional\n",
    "from pydantic import BaseModel, Field, validator\n",
    "import functools\n",
    "from langchain_core.tools import tool\n",
    "import gradio as gr\n",
    "import time"
   ]
  },
  {
   "cell_type": "markdown",
   "metadata": {
    "id": "ynPe6RLRWSKd"
   },
   "source": [
    "## Setup"
   ]
  },
  {
   "cell_type": "markdown",
   "metadata": {
    "id": "pa61u1jfyk3t"
   },
   "source": [
    "Load env variables"
   ]
  },
  {
   "cell_type": "code",
   "execution_count": 72,
   "metadata": {},
   "outputs": [],
   "source": [
    "env_file = 'ws.env'"
   ]
  },
  {
   "cell_type": "code",
   "execution_count": 73,
   "metadata": {
    "id": "CHR_0lmElZ-R"
   },
   "outputs": [],
   "source": [
    "if os.path.exists(env_file):\n",
    "    load_dotenv(env_file, override=True)\n",
    "\n",
    "    # Neo4j\n",
    "    HOST = os.getenv('NEO4J_URI')\n",
    "    USERNAME = os.getenv('NEO4J_USERNAME')\n",
    "    PASSWORD = os.getenv('NEO4J_PASSWORD')\n",
    "    DATABASE = os.getenv('NEO4J_DATABASE')\n",
    "\n",
    "    # AI\n",
    "    OPENAI_API_KEY = os.getenv('OPENAI_API_KEY')\n",
    "    os.environ['OPENAI_API_KEY']=OPENAI_API_KEY\n",
    "    LLM = os.getenv('LLM')\n",
    "    EMBEDDINGS_MODEL = os.getenv('EMBEDDINGS_MODEL')\n",
    "else:\n",
    "    print(f\"File {env_file} not found.\")"
   ]
  },
  {
   "cell_type": "markdown",
   "metadata": {},
   "source": [
    "Connect to neo4j db"
   ]
  },
  {
   "cell_type": "code",
   "execution_count": 74,
   "metadata": {},
   "outputs": [],
   "source": [
    "driver = GraphDatabase.driver(\n",
    "    HOST,\n",
    "    auth=(USERNAME, PASSWORD)\n",
    ")"
   ]
  },
  {
   "cell_type": "markdown",
   "metadata": {},
   "source": [
    "Test the connection"
   ]
  },
  {
   "cell_type": "code",
   "execution_count": 75,
   "metadata": {
    "id": "5w4eCb7xZZ-S"
   },
   "outputs": [
    {
     "data": {
      "text/html": [
       "<div>\n",
       "<style scoped>\n",
       "    .dataframe tbody tr th:only-of-type {\n",
       "        vertical-align: middle;\n",
       "    }\n",
       "\n",
       "    .dataframe tbody tr th {\n",
       "        vertical-align: top;\n",
       "    }\n",
       "\n",
       "    .dataframe thead th {\n",
       "        text-align: right;\n",
       "    }\n",
       "</style>\n",
       "<table border=\"1\" class=\"dataframe\">\n",
       "  <thead>\n",
       "    <tr style=\"text-align: right;\">\n",
       "      <th></th>\n",
       "      <th>Count</th>\n",
       "    </tr>\n",
       "  </thead>\n",
       "  <tbody>\n",
       "    <tr>\n",
       "      <th>0</th>\n",
       "      <td>158</td>\n",
       "    </tr>\n",
       "  </tbody>\n",
       "</table>\n",
       "</div>"
      ],
      "text/plain": [
       "   Count\n",
       "0    158"
      ]
     },
     "execution_count": 75,
     "metadata": {},
     "output_type": "execute_result"
    }
   ],
   "source": [
    "driver.execute_query(\n",
    "    \"\"\"\n",
    "    MATCH (n) RETURN COUNT(n) as Count\n",
    "    \"\"\",\n",
    "    database_=DATABASE,\n",
    "    routing_=RoutingControl.READ,\n",
    "    result_transformer_= lambda r: r.to_df()\n",
    ")"
   ]
  },
  {
   "cell_type": "markdown",
   "metadata": {
    "id": "cdTfdAyV2ZaR"
   },
   "source": [
    "Test whether we got our constraints"
   ]
  },
  {
   "cell_type": "code",
   "execution_count": 76,
   "metadata": {
    "id": "cdTfdAyV2ZaR"
   },
   "outputs": [],
   "source": [
    "schema_result_df  = driver.execute_query(\n",
    "    'show indexes',\n",
    "    database_=DATABASE,\n",
    "    routing_=RoutingControl.READ,\n",
    "    result_transformer_= lambda r: r.to_df()\n",
    ")"
   ]
  },
  {
   "cell_type": "code",
   "execution_count": 77,
   "metadata": {
    "id": "cdTfdAyV2ZaR"
   },
   "outputs": [
    {
     "data": {
      "text/html": [
       "<div>\n",
       "<style scoped>\n",
       "    .dataframe tbody tr th:only-of-type {\n",
       "        vertical-align: middle;\n",
       "    }\n",
       "\n",
       "    .dataframe tbody tr th {\n",
       "        vertical-align: top;\n",
       "    }\n",
       "\n",
       "    .dataframe thead th {\n",
       "        text-align: right;\n",
       "    }\n",
       "</style>\n",
       "<table border=\"1\" class=\"dataframe\">\n",
       "  <thead>\n",
       "    <tr style=\"text-align: right;\">\n",
       "      <th></th>\n",
       "      <th>id</th>\n",
       "      <th>name</th>\n",
       "      <th>state</th>\n",
       "      <th>populationPercent</th>\n",
       "      <th>type</th>\n",
       "      <th>entityType</th>\n",
       "      <th>labelsOrTypes</th>\n",
       "      <th>properties</th>\n",
       "      <th>indexProvider</th>\n",
       "      <th>owningConstraint</th>\n",
       "      <th>lastRead</th>\n",
       "      <th>readCount</th>\n",
       "    </tr>\n",
       "  </thead>\n",
       "  <tbody>\n",
       "    <tr>\n",
       "      <th>0</th>\n",
       "      <td>5</td>\n",
       "      <td>constraint_63bf11a1</td>\n",
       "      <td>ONLINE</td>\n",
       "      <td>100.0</td>\n",
       "      <td>RANGE</td>\n",
       "      <td>NODE</td>\n",
       "      <td>[Skill]</td>\n",
       "      <td>[name]</td>\n",
       "      <td>range-1.0</td>\n",
       "      <td>constraint_63bf11a1</td>\n",
       "      <td>2025-03-12T17:39:37.857000000+00:00</td>\n",
       "      <td>583</td>\n",
       "    </tr>\n",
       "    <tr>\n",
       "      <th>1</th>\n",
       "      <td>3</td>\n",
       "      <td>constraint_d3bfd313</td>\n",
       "      <td>ONLINE</td>\n",
       "      <td>100.0</td>\n",
       "      <td>RANGE</td>\n",
       "      <td>NODE</td>\n",
       "      <td>[Person]</td>\n",
       "      <td>[email]</td>\n",
       "      <td>range-1.0</td>\n",
       "      <td>constraint_d3bfd313</td>\n",
       "      <td>2025-03-12T16:17:28.945000000+00:00</td>\n",
       "      <td>306</td>\n",
       "    </tr>\n",
       "    <tr>\n",
       "      <th>2</th>\n",
       "      <td>0</td>\n",
       "      <td>index_343aff4e</td>\n",
       "      <td>ONLINE</td>\n",
       "      <td>100.0</td>\n",
       "      <td>LOOKUP</td>\n",
       "      <td>NODE</td>\n",
       "      <td>None</td>\n",
       "      <td>None</td>\n",
       "      <td>token-lookup-1.0</td>\n",
       "      <td>None</td>\n",
       "      <td>2025-03-12T19:10:43.901000000+00:00</td>\n",
       "      <td>16713</td>\n",
       "    </tr>\n",
       "    <tr>\n",
       "      <th>3</th>\n",
       "      <td>1</td>\n",
       "      <td>index_f7700477</td>\n",
       "      <td>ONLINE</td>\n",
       "      <td>100.0</td>\n",
       "      <td>LOOKUP</td>\n",
       "      <td>RELATIONSHIP</td>\n",
       "      <td>None</td>\n",
       "      <td>None</td>\n",
       "      <td>token-lookup-1.0</td>\n",
       "      <td>None</td>\n",
       "      <td>2025-03-12T17:13:59.380000000+00:00</td>\n",
       "      <td>75</td>\n",
       "    </tr>\n",
       "    <tr>\n",
       "      <th>4</th>\n",
       "      <td>4</td>\n",
       "      <td>skill-embeddings</td>\n",
       "      <td>ONLINE</td>\n",
       "      <td>100.0</td>\n",
       "      <td>VECTOR</td>\n",
       "      <td>NODE</td>\n",
       "      <td>[Skill]</td>\n",
       "      <td>[embedding]</td>\n",
       "      <td>vector-2.0</td>\n",
       "      <td>None</td>\n",
       "      <td>2025-03-12T17:39:32.993000000+00:00</td>\n",
       "      <td>117</td>\n",
       "    </tr>\n",
       "  </tbody>\n",
       "</table>\n",
       "</div>"
      ],
      "text/plain": [
       "   id                 name   state  populationPercent    type    entityType  \\\n",
       "0   5  constraint_63bf11a1  ONLINE              100.0   RANGE          NODE   \n",
       "1   3  constraint_d3bfd313  ONLINE              100.0   RANGE          NODE   \n",
       "2   0       index_343aff4e  ONLINE              100.0  LOOKUP          NODE   \n",
       "3   1       index_f7700477  ONLINE              100.0  LOOKUP  RELATIONSHIP   \n",
       "4   4     skill-embeddings  ONLINE              100.0  VECTOR          NODE   \n",
       "\n",
       "  labelsOrTypes   properties     indexProvider     owningConstraint  \\\n",
       "0       [Skill]       [name]         range-1.0  constraint_63bf11a1   \n",
       "1      [Person]      [email]         range-1.0  constraint_d3bfd313   \n",
       "2          None         None  token-lookup-1.0                 None   \n",
       "3          None         None  token-lookup-1.0                 None   \n",
       "4       [Skill]  [embedding]        vector-2.0                 None   \n",
       "\n",
       "                              lastRead  readCount  \n",
       "0  2025-03-12T17:39:37.857000000+00:00        583  \n",
       "1  2025-03-12T16:17:28.945000000+00:00        306  \n",
       "2  2025-03-12T19:10:43.901000000+00:00      16713  \n",
       "3  2025-03-12T17:13:59.380000000+00:00         75  \n",
       "4  2025-03-12T17:39:32.993000000+00:00        117  "
      ]
     },
     "execution_count": 77,
     "metadata": {},
     "output_type": "execute_result"
    }
   ],
   "source": [
    "schema_result_df.head(100)"
   ]
  },
  {
   "cell_type": "markdown",
   "metadata": {},
   "source": [
    "## Agent Thinking\n",
    "\n",
    "Let's say we want to build an Agent with multiple tools. Let's try to provide the following functionality: \n",
    "\n",
    "1. Retrieve the skills of a person.\n",
    "   - Input: Person\n",
    "   - Output: Skills\n",
    "   - Example: *What skills does Kristof Neys have?* \n",
    "3. Retrieve similar skills to other skills.\n",
    "   - Input: Skills\n",
    "   - Output: Skills\n",
    "   - Example: *What skills are similar to PowerBI and Data Visualization?*\n",
    "4. Retrieve similar persons to a person specified.  \n",
    "   - Input: Person\n",
    "   - Output: Person\n",
    "   - Example: *\"Which persons have similar skills as Kristof Neys?\"*\n",
    "6. Retrieve Persons based on a set of skills.\n",
    "   - Input: Skills\n",
    "   - Output: Person\n",
    "   - Example: *Which persons have Python and AWS experience?*"
   ]
  },
  {
   "cell_type": "code",
   "execution_count": 78,
   "metadata": {},
   "outputs": [],
   "source": [
    "embeddings = OpenAIEmbeddings(model=EMBEDDINGS_MODEL)"
   ]
  },
  {
   "cell_type": "markdown",
   "metadata": {},
   "source": [
    "## 1 - Retrieve Skills of Person"
   ]
  },
  {
   "cell_type": "markdown",
   "metadata": {},
   "source": [
    "Find the connected skills given a person name."
   ]
  },
  {
   "cell_type": "code",
   "execution_count": 79,
   "metadata": {},
   "outputs": [],
   "source": [
    "person_name = \"Lucy Turner\""
   ]
  },
  {
   "cell_type": "code",
   "execution_count": 80,
   "metadata": {},
   "outputs": [],
   "source": [
    "person_skills_df = driver.execute_query(\n",
    "    \"\"\"\n",
    "    MATCH (p:Person{name: $person_name})-[:KNOWS]->(s:Skill)\n",
    "    RETURN p.name as name, COLLECT(s.name) as skills\n",
    "    \"\"\",\n",
    "    database_=DATABASE,\n",
    "    routing_=RoutingControl.READ,\n",
    "    result_transformer_= lambda r: r.to_df(),\n",
    "    person_name = person_name\n",
    ")"
   ]
  },
  {
   "cell_type": "code",
   "execution_count": 81,
   "metadata": {},
   "outputs": [
    {
     "data": {
      "text/html": [
       "<div>\n",
       "<style scoped>\n",
       "    .dataframe tbody tr th:only-of-type {\n",
       "        vertical-align: middle;\n",
       "    }\n",
       "\n",
       "    .dataframe tbody tr th {\n",
       "        vertical-align: top;\n",
       "    }\n",
       "\n",
       "    .dataframe thead th {\n",
       "        text-align: right;\n",
       "    }\n",
       "</style>\n",
       "<table border=\"1\" class=\"dataframe\">\n",
       "  <thead>\n",
       "    <tr style=\"text-align: right;\">\n",
       "      <th></th>\n",
       "      <th>name</th>\n",
       "      <th>skills</th>\n",
       "    </tr>\n",
       "  </thead>\n",
       "  <tbody>\n",
       "    <tr>\n",
       "      <th>0</th>\n",
       "      <td>Lucy Turner</td>\n",
       "      <td>[Security, Express.js, Big Data, Scala, Docker]</td>\n",
       "    </tr>\n",
       "  </tbody>\n",
       "</table>\n",
       "</div>"
      ],
      "text/plain": [
       "          name                                           skills\n",
       "0  Lucy Turner  [Security, Express.js, Big Data, Scala, Docker]"
      ]
     },
     "execution_count": 81,
     "metadata": {},
     "output_type": "execute_result"
    }
   ],
   "source": [
    "person_skills_df"
   ]
  },
  {
   "cell_type": "markdown",
   "metadata": {
    "id": "0OMlYdxHWZLx"
   },
   "source": [
    "## 2 - Retrieve similar skills"
   ]
  },
  {
   "cell_type": "markdown",
   "metadata": {
    "id": "volCOjn_jjm3"
   },
   "source": [
    "Retrieve skills based on a list of skills"
   ]
  },
  {
   "cell_type": "code",
   "execution_count": 82,
   "metadata": {},
   "outputs": [],
   "source": [
    "skills = ['Contineous Delivery', 'Cloud Native', 'Security']\n",
    "skills_vectors = embeddings.embed_documents(skills)"
   ]
  },
  {
   "cell_type": "code",
   "execution_count": 83,
   "metadata": {
    "id": "volCOjn_jjm3"
   },
   "outputs": [],
   "source": [
    "search_persons_with_skills_df = driver.execute_query(\n",
    "    \"\"\"\n",
    "        UNWIND $skills_vectors AS v\n",
    "        CALL db.index.vector.queryNodes('skill-embeddings', 3, TOFLOATLIST(v)) YIELD node, score\n",
    "        WHERE score > 0.89\n",
    "        OPTIONAL MATCH (node)-[:SIMILAR_SEMANTIC]-(s:Skill)\n",
    "        WITH COLLECT(node) AS nodes, COLLECT(DISTINCT s) AS skills\n",
    "        WITH nodes + skills AS all_skills\n",
    "        UNWIND all_skills AS skill\n",
    "        RETURN DISTINCT skill.name as skill_name\n",
    "    \"\"\",\n",
    "    database_=DATABASE,\n",
    "    routing_=RoutingControl.READ,\n",
    "    result_transformer_= lambda r: r.to_df(),\n",
    "    skills_vectors = skills_vectors\n",
    ")"
   ]
  },
  {
   "cell_type": "code",
   "execution_count": 84,
   "metadata": {},
   "outputs": [
    {
     "data": {
      "text/html": [
       "<div>\n",
       "<style scoped>\n",
       "    .dataframe tbody tr th:only-of-type {\n",
       "        vertical-align: middle;\n",
       "    }\n",
       "\n",
       "    .dataframe tbody tr th {\n",
       "        vertical-align: top;\n",
       "    }\n",
       "\n",
       "    .dataframe thead th {\n",
       "        text-align: right;\n",
       "    }\n",
       "</style>\n",
       "<table border=\"1\" class=\"dataframe\">\n",
       "  <thead>\n",
       "    <tr style=\"text-align: right;\">\n",
       "      <th></th>\n",
       "      <th>skill_name</th>\n",
       "    </tr>\n",
       "  </thead>\n",
       "  <tbody>\n",
       "    <tr>\n",
       "      <th>0</th>\n",
       "      <td>CI/CD</td>\n",
       "    </tr>\n",
       "    <tr>\n",
       "      <th>1</th>\n",
       "      <td>Cloud Architecture</td>\n",
       "    </tr>\n",
       "    <tr>\n",
       "      <th>2</th>\n",
       "      <td>Azure</td>\n",
       "    </tr>\n",
       "    <tr>\n",
       "      <th>3</th>\n",
       "      <td>AWS</td>\n",
       "    </tr>\n",
       "    <tr>\n",
       "      <th>4</th>\n",
       "      <td>Security</td>\n",
       "    </tr>\n",
       "    <tr>\n",
       "      <th>5</th>\n",
       "      <td>DevOps</td>\n",
       "    </tr>\n",
       "    <tr>\n",
       "      <th>6</th>\n",
       "      <td>Jenkins</td>\n",
       "    </tr>\n",
       "  </tbody>\n",
       "</table>\n",
       "</div>"
      ],
      "text/plain": [
       "           skill_name\n",
       "0               CI/CD\n",
       "1  Cloud Architecture\n",
       "2               Azure\n",
       "3                 AWS\n",
       "4            Security\n",
       "5              DevOps\n",
       "6             Jenkins"
      ]
     },
     "execution_count": 84,
     "metadata": {},
     "output_type": "execute_result"
    }
   ],
   "source": [
    "search_persons_with_skills_df"
   ]
  },
  {
   "cell_type": "markdown",
   "metadata": {},
   "source": [
    "## 3 - Person Similarity"
   ]
  },
  {
   "cell_type": "markdown",
   "metadata": {},
   "source": [
    "## Strategy 3.1 - Communities"
   ]
  },
  {
   "cell_type": "markdown",
   "metadata": {},
   "source": [
    "We can use the community here to find similar people"
   ]
  },
  {
   "cell_type": "code",
   "execution_count": 85,
   "metadata": {},
   "outputs": [],
   "source": [
    "person_name_1 = \"John Garcia\""
   ]
  },
  {
   "cell_type": "code",
   "execution_count": 86,
   "metadata": {},
   "outputs": [],
   "source": [
    "person_similarity_community_df = driver.execute_query(\n",
    "    \"\"\"\n",
    "    MATCH (p1:Person {name: $person_name_1})-[:KNOWS]->(s:Skill)\n",
    "    WITH p1, COLLECT(s.name) as s1\n",
    "    MATCH (p2:Person {leiden_community: p1.leiden_community})-[:KNOWS]->(s2:Skill)\n",
    "    RETURN p1.name AS person_1, s1 AS skills_1, p1.leiden_community AS community, p2.name AS person_2, COLLECT(s2.name) AS skills_2\n",
    "    \"\"\",\n",
    "    database_=DATABASE,\n",
    "    routing_=RoutingControl.READ,\n",
    "    result_transformer_= lambda r: r.to_df(),\n",
    "    person_name_1 = person_name_1\n",
    ")"
   ]
  },
  {
   "cell_type": "code",
   "execution_count": 87,
   "metadata": {},
   "outputs": [
    {
     "data": {
      "text/html": [
       "<div>\n",
       "<style scoped>\n",
       "    .dataframe tbody tr th:only-of-type {\n",
       "        vertical-align: middle;\n",
       "    }\n",
       "\n",
       "    .dataframe tbody tr th {\n",
       "        vertical-align: top;\n",
       "    }\n",
       "\n",
       "    .dataframe thead th {\n",
       "        text-align: right;\n",
       "    }\n",
       "</style>\n",
       "<table border=\"1\" class=\"dataframe\">\n",
       "  <thead>\n",
       "    <tr style=\"text-align: right;\">\n",
       "      <th></th>\n",
       "      <th>person_1</th>\n",
       "      <th>skills_1</th>\n",
       "      <th>community</th>\n",
       "      <th>person_2</th>\n",
       "      <th>skills_2</th>\n",
       "    </tr>\n",
       "  </thead>\n",
       "  <tbody>\n",
       "    <tr>\n",
       "      <th>0</th>\n",
       "      <td>John Garcia</td>\n",
       "      <td>[Security, PyTorch, HTML5, Ruby, AWS]</td>\n",
       "      <td>88</td>\n",
       "      <td>Thomas Nelson</td>\n",
       "      <td>[Security, Pandas, Go]</td>\n",
       "    </tr>\n",
       "    <tr>\n",
       "      <th>1</th>\n",
       "      <td>John Garcia</td>\n",
       "      <td>[Security, PyTorch, HTML5, Ruby, AWS]</td>\n",
       "      <td>88</td>\n",
       "      <td>Lucy Turner</td>\n",
       "      <td>[Security, Express.js, Big Data, Scala, Docker]</td>\n",
       "    </tr>\n",
       "    <tr>\n",
       "      <th>2</th>\n",
       "      <td>John Garcia</td>\n",
       "      <td>[Security, PyTorch, HTML5, Ruby, AWS]</td>\n",
       "      <td>88</td>\n",
       "      <td>Sophie Jackson</td>\n",
       "      <td>[Security, Pandas, Linux, Angular]</td>\n",
       "    </tr>\n",
       "    <tr>\n",
       "      <th>3</th>\n",
       "      <td>John Garcia</td>\n",
       "      <td>[Security, PyTorch, HTML5, Ruby, AWS]</td>\n",
       "      <td>88</td>\n",
       "      <td>Mia Nelson</td>\n",
       "      <td>[Security, WordPress, Big Data, Swift, AWS]</td>\n",
       "    </tr>\n",
       "    <tr>\n",
       "      <th>4</th>\n",
       "      <td>John Garcia</td>\n",
       "      <td>[Security, PyTorch, HTML5, Ruby, AWS]</td>\n",
       "      <td>88</td>\n",
       "      <td>David Lopez</td>\n",
       "      <td>[Security, WordPress, PHP]</td>\n",
       "    </tr>\n",
       "    <tr>\n",
       "      <th>5</th>\n",
       "      <td>John Garcia</td>\n",
       "      <td>[Security, PyTorch, HTML5, Ruby, AWS]</td>\n",
       "      <td>88</td>\n",
       "      <td>Thomas Brown</td>\n",
       "      <td>[Security, R, Java, Docker]</td>\n",
       "    </tr>\n",
       "    <tr>\n",
       "      <th>6</th>\n",
       "      <td>John Garcia</td>\n",
       "      <td>[Security, PyTorch, HTML5, Ruby, AWS]</td>\n",
       "      <td>88</td>\n",
       "      <td>Isabella Allen</td>\n",
       "      <td>[Security, Scala, Cloud Architecture]</td>\n",
       "    </tr>\n",
       "    <tr>\n",
       "      <th>7</th>\n",
       "      <td>John Garcia</td>\n",
       "      <td>[Security, PyTorch, HTML5, Ruby, AWS]</td>\n",
       "      <td>88</td>\n",
       "      <td>Olivia Johnson</td>\n",
       "      <td>[Security, Angular, CI/CD]</td>\n",
       "    </tr>\n",
       "    <tr>\n",
       "      <th>8</th>\n",
       "      <td>John Garcia</td>\n",
       "      <td>[Security, PyTorch, HTML5, Ruby, AWS]</td>\n",
       "      <td>88</td>\n",
       "      <td>Amelia Davis</td>\n",
       "      <td>[Security, PyTorch, Java, HTML5, Docker]</td>\n",
       "    </tr>\n",
       "    <tr>\n",
       "      <th>9</th>\n",
       "      <td>John Garcia</td>\n",
       "      <td>[Security, PyTorch, HTML5, Ruby, AWS]</td>\n",
       "      <td>88</td>\n",
       "      <td>Emily Phillips</td>\n",
       "      <td>[Security, Vue.js, PHP, Kubernetes, Data Visua...</td>\n",
       "    </tr>\n",
       "    <tr>\n",
       "      <th>10</th>\n",
       "      <td>John Garcia</td>\n",
       "      <td>[Security, PyTorch, HTML5, Ruby, AWS]</td>\n",
       "      <td>88</td>\n",
       "      <td>John Garcia</td>\n",
       "      <td>[Security, PyTorch, HTML5, Ruby, AWS]</td>\n",
       "    </tr>\n",
       "    <tr>\n",
       "      <th>11</th>\n",
       "      <td>John Garcia</td>\n",
       "      <td>[Security, PyTorch, HTML5, Ruby, AWS]</td>\n",
       "      <td>88</td>\n",
       "      <td>James Anderson</td>\n",
       "      <td>[Security, R, JavaScript, Node.js]</td>\n",
       "    </tr>\n",
       "    <tr>\n",
       "      <th>12</th>\n",
       "      <td>John Garcia</td>\n",
       "      <td>[Security, PyTorch, HTML5, Ruby, AWS]</td>\n",
       "      <td>88</td>\n",
       "      <td>Matthew Moore</td>\n",
       "      <td>[Security, TensorFlow, Spring Boot, Swift]</td>\n",
       "    </tr>\n",
       "  </tbody>\n",
       "</table>\n",
       "</div>"
      ],
      "text/plain": [
       "       person_1                               skills_1  community  \\\n",
       "0   John Garcia  [Security, PyTorch, HTML5, Ruby, AWS]         88   \n",
       "1   John Garcia  [Security, PyTorch, HTML5, Ruby, AWS]         88   \n",
       "2   John Garcia  [Security, PyTorch, HTML5, Ruby, AWS]         88   \n",
       "3   John Garcia  [Security, PyTorch, HTML5, Ruby, AWS]         88   \n",
       "4   John Garcia  [Security, PyTorch, HTML5, Ruby, AWS]         88   \n",
       "5   John Garcia  [Security, PyTorch, HTML5, Ruby, AWS]         88   \n",
       "6   John Garcia  [Security, PyTorch, HTML5, Ruby, AWS]         88   \n",
       "7   John Garcia  [Security, PyTorch, HTML5, Ruby, AWS]         88   \n",
       "8   John Garcia  [Security, PyTorch, HTML5, Ruby, AWS]         88   \n",
       "9   John Garcia  [Security, PyTorch, HTML5, Ruby, AWS]         88   \n",
       "10  John Garcia  [Security, PyTorch, HTML5, Ruby, AWS]         88   \n",
       "11  John Garcia  [Security, PyTorch, HTML5, Ruby, AWS]         88   \n",
       "12  John Garcia  [Security, PyTorch, HTML5, Ruby, AWS]         88   \n",
       "\n",
       "          person_2                                           skills_2  \n",
       "0    Thomas Nelson                             [Security, Pandas, Go]  \n",
       "1      Lucy Turner    [Security, Express.js, Big Data, Scala, Docker]  \n",
       "2   Sophie Jackson                 [Security, Pandas, Linux, Angular]  \n",
       "3       Mia Nelson        [Security, WordPress, Big Data, Swift, AWS]  \n",
       "4      David Lopez                         [Security, WordPress, PHP]  \n",
       "5     Thomas Brown                        [Security, R, Java, Docker]  \n",
       "6   Isabella Allen              [Security, Scala, Cloud Architecture]  \n",
       "7   Olivia Johnson                         [Security, Angular, CI/CD]  \n",
       "8     Amelia Davis           [Security, PyTorch, Java, HTML5, Docker]  \n",
       "9   Emily Phillips  [Security, Vue.js, PHP, Kubernetes, Data Visua...  \n",
       "10     John Garcia              [Security, PyTorch, HTML5, Ruby, AWS]  \n",
       "11  James Anderson                 [Security, R, JavaScript, Node.js]  \n",
       "12   Matthew Moore         [Security, TensorFlow, Spring Boot, Swift]  "
      ]
     },
     "execution_count": 87,
     "metadata": {},
     "output_type": "execute_result"
    }
   ],
   "source": [
    "person_similarity_community_df"
   ]
  },
  {
   "cell_type": "markdown",
   "metadata": {},
   "source": [
    "You can find all Skills in the community in the browser:\n",
    "```\n",
    "MATCH p=(:Person{leiden_community: 88})-[:KNOWS]->(s:Skill)\n",
    "RETURN p\n",
    "```"
   ]
  },
  {
   "cell_type": "markdown",
   "metadata": {},
   "source": [
    "### Strategy 3.2 - Similar Skillsets"
   ]
  },
  {
   "cell_type": "markdown",
   "metadata": {},
   "source": [
    "We can use the SIMILAR_SKILLSET relationship to find similar persons"
   ]
  },
  {
   "cell_type": "code",
   "execution_count": 89,
   "metadata": {},
   "outputs": [],
   "source": [
    "person_name_1 = \"John Garcia\""
   ]
  },
  {
   "cell_type": "code",
   "execution_count": 90,
   "metadata": {},
   "outputs": [],
   "source": [
    "person_similar_skillset_df = driver.execute_query(\n",
    "    \"\"\"\n",
    "    MATCH (p1:Person {name: $person_name_1})-[:KNOWS]->(s:Skill)\n",
    "    WITH p1, COLLECT(s.name) as s1\n",
    "    MATCH (p1)-[r:SIMILAR_SKILLSET]-(p2:Person)-[:KNOWS]->(s2:Skill)\n",
    "    WHERE r.overlap > 1\n",
    "    RETURN p1.name AS person_1, s1 AS skills_1, r.overlap AS score, p2.name AS person_2, COLLECT(DISTINCT s2.name) AS skills_2\n",
    "    ORDER BY score DESC\n",
    "    \"\"\",\n",
    "    database_=DATABASE,\n",
    "    routing_=RoutingControl.READ,\n",
    "    result_transformer_= lambda r: r.to_df(),\n",
    "    person_name_1 = person_name_1\n",
    ")"
   ]
  },
  {
   "cell_type": "code",
   "execution_count": 91,
   "metadata": {},
   "outputs": [
    {
     "data": {
      "text/html": [
       "<div>\n",
       "<style scoped>\n",
       "    .dataframe tbody tr th:only-of-type {\n",
       "        vertical-align: middle;\n",
       "    }\n",
       "\n",
       "    .dataframe tbody tr th {\n",
       "        vertical-align: top;\n",
       "    }\n",
       "\n",
       "    .dataframe thead th {\n",
       "        text-align: right;\n",
       "    }\n",
       "</style>\n",
       "<table border=\"1\" class=\"dataframe\">\n",
       "  <thead>\n",
       "    <tr style=\"text-align: right;\">\n",
       "      <th></th>\n",
       "      <th>person_1</th>\n",
       "      <th>skills_1</th>\n",
       "      <th>score</th>\n",
       "      <th>person_2</th>\n",
       "      <th>skills_2</th>\n",
       "    </tr>\n",
       "  </thead>\n",
       "  <tbody>\n",
       "    <tr>\n",
       "      <th>0</th>\n",
       "      <td>John Garcia</td>\n",
       "      <td>[Security, PyTorch, HTML5, Ruby, AWS]</td>\n",
       "      <td>3</td>\n",
       "      <td>Amelia Davis</td>\n",
       "      <td>[Security, PyTorch, Java, HTML5, Docker]</td>\n",
       "    </tr>\n",
       "    <tr>\n",
       "      <th>1</th>\n",
       "      <td>John Garcia</td>\n",
       "      <td>[Security, PyTorch, HTML5, Ruby, AWS]</td>\n",
       "      <td>2</td>\n",
       "      <td>Mia Nelson</td>\n",
       "      <td>[Security, WordPress, Big Data, Swift, AWS]</td>\n",
       "    </tr>\n",
       "    <tr>\n",
       "      <th>2</th>\n",
       "      <td>John Garcia</td>\n",
       "      <td>[Security, PyTorch, HTML5, Ruby, AWS]</td>\n",
       "      <td>2</td>\n",
       "      <td>Matthew Miller</td>\n",
       "      <td>[TensorFlow, Ruby, AWS, ReactJS]</td>\n",
       "    </tr>\n",
       "    <tr>\n",
       "      <th>3</th>\n",
       "      <td>John Garcia</td>\n",
       "      <td>[Security, PyTorch, HTML5, Ruby, AWS]</td>\n",
       "      <td>2</td>\n",
       "      <td>Matthew Mitchell</td>\n",
       "      <td>[R, HTML5, Blockchain, Cloud Architecture, Ruby]</td>\n",
       "    </tr>\n",
       "    <tr>\n",
       "      <th>4</th>\n",
       "      <td>John Garcia</td>\n",
       "      <td>[Security, PyTorch, HTML5, Ruby, AWS]</td>\n",
       "      <td>2</td>\n",
       "      <td>John Taylor</td>\n",
       "      <td>[Pandas, Scrum, CSS3, Ruby, AWS]</td>\n",
       "    </tr>\n",
       "  </tbody>\n",
       "</table>\n",
       "</div>"
      ],
      "text/plain": [
       "      person_1                               skills_1  score  \\\n",
       "0  John Garcia  [Security, PyTorch, HTML5, Ruby, AWS]      3   \n",
       "1  John Garcia  [Security, PyTorch, HTML5, Ruby, AWS]      2   \n",
       "2  John Garcia  [Security, PyTorch, HTML5, Ruby, AWS]      2   \n",
       "3  John Garcia  [Security, PyTorch, HTML5, Ruby, AWS]      2   \n",
       "4  John Garcia  [Security, PyTorch, HTML5, Ruby, AWS]      2   \n",
       "\n",
       "           person_2                                          skills_2  \n",
       "0      Amelia Davis          [Security, PyTorch, Java, HTML5, Docker]  \n",
       "1        Mia Nelson       [Security, WordPress, Big Data, Swift, AWS]  \n",
       "2    Matthew Miller                  [TensorFlow, Ruby, AWS, ReactJS]  \n",
       "3  Matthew Mitchell  [R, HTML5, Blockchain, Cloud Architecture, Ruby]  \n",
       "4       John Taylor                  [Pandas, Scrum, CSS3, Ruby, AWS]  "
      ]
     },
     "execution_count": 91,
     "metadata": {},
     "output_type": "execute_result"
    }
   ],
   "source": [
    "person_similar_skillset_df"
   ]
  },
  {
   "cell_type": "markdown",
   "metadata": {},
   "source": [
    "### Strategy 3.3 Similar Skillsets and Semantic Meaning"
   ]
  },
  {
   "cell_type": "markdown",
   "metadata": {},
   "source": [
    "Use the Semantic Meaning and Skill overlap to find people with similar skills"
   ]
  },
  {
   "cell_type": "code",
   "execution_count": 92,
   "metadata": {},
   "outputs": [],
   "source": [
    "person_name_1 = \"John Garcia\""
   ]
  },
  {
   "cell_type": "code",
   "execution_count": 96,
   "metadata": {},
   "outputs": [],
   "source": [
    "person_similarity_df = driver.execute_query(\n",
    "    \"\"\"\n",
    "    MATCH (p1:Person {name: $person_name_1})-[:KNOWS]->(s:Skill)\n",
    "    WITH p1, COLLECT(s.name) as skills_1\n",
    "    CALL (p1){\n",
    "      MATCH (p1)-[:KNOWS]->(s1:Skill)-[r:SIMILAR_SEMANTIC]-(s2:Skill)<-[:KNOWS]-(p2:Person)\n",
    "      \n",
    "      RETURN p1 as person_1, p2 as person_2, SUM(r.score) AS score\n",
    "      UNION\n",
    "      MATCH (p1)-[r:SIMILAR_SKILLSET]-(p2:Person)\n",
    "      RETURN p1 as person_1, p2 AS person_2, SUM(r.overlap) AS score\n",
    "    }\n",
    "    WITH person_1.name as person_1, skills_1, person_2, SUM(score) as score\n",
    "    WHERE score >= 1\n",
    "    MATCH (person_2)-[:KNOWS]->(s:Skill)\n",
    "    RETURN person_1, skills_1,  person_2.name as person_2, COLLECT(s.name) as skills_2, score\n",
    "    ORDER BY score DESC LIMIT 5\n",
    "    \"\"\",\n",
    "    database_=DATABASE,\n",
    "    routing_=RoutingControl.READ,\n",
    "    result_transformer_= lambda r: r.to_df(),\n",
    "    person_name_1 = person_name_1\n",
    ")"
   ]
  },
  {
   "cell_type": "code",
   "execution_count": 97,
   "metadata": {},
   "outputs": [
    {
     "data": {
      "text/html": [
       "<div>\n",
       "<style scoped>\n",
       "    .dataframe tbody tr th:only-of-type {\n",
       "        vertical-align: middle;\n",
       "    }\n",
       "\n",
       "    .dataframe tbody tr th {\n",
       "        vertical-align: top;\n",
       "    }\n",
       "\n",
       "    .dataframe thead th {\n",
       "        text-align: right;\n",
       "    }\n",
       "</style>\n",
       "<table border=\"1\" class=\"dataframe\">\n",
       "  <thead>\n",
       "    <tr style=\"text-align: right;\">\n",
       "      <th></th>\n",
       "      <th>person_1</th>\n",
       "      <th>skills_1</th>\n",
       "      <th>person_2</th>\n",
       "      <th>skills_2</th>\n",
       "      <th>score</th>\n",
       "    </tr>\n",
       "  </thead>\n",
       "  <tbody>\n",
       "    <tr>\n",
       "      <th>0</th>\n",
       "      <td>John Garcia</td>\n",
       "      <td>[Security, PyTorch, HTML5, Ruby, AWS]</td>\n",
       "      <td>Amelia Davis</td>\n",
       "      <td>[Security, PyTorch, Java, HTML5, Docker]</td>\n",
       "      <td>3.000000</td>\n",
       "    </tr>\n",
       "    <tr>\n",
       "      <th>1</th>\n",
       "      <td>John Garcia</td>\n",
       "      <td>[Security, PyTorch, HTML5, Ruby, AWS]</td>\n",
       "      <td>Matthew Miller</td>\n",
       "      <td>[TensorFlow, Ruby, AWS, ReactJS]</td>\n",
       "      <td>2.933380</td>\n",
       "    </tr>\n",
       "    <tr>\n",
       "      <th>2</th>\n",
       "      <td>John Garcia</td>\n",
       "      <td>[Security, PyTorch, HTML5, Ruby, AWS]</td>\n",
       "      <td>Matthew Mitchell</td>\n",
       "      <td>[R, HTML5, Blockchain, Cloud Architecture, Ruby]</td>\n",
       "      <td>2.931610</td>\n",
       "    </tr>\n",
       "    <tr>\n",
       "      <th>3</th>\n",
       "      <td>John Garcia</td>\n",
       "      <td>[Security, PyTorch, HTML5, Ruby, AWS]</td>\n",
       "      <td>John Johnson</td>\n",
       "      <td>[WordPress, TensorFlow, AWS, Project Managemen...</td>\n",
       "      <td>2.863373</td>\n",
       "    </tr>\n",
       "    <tr>\n",
       "      <th>4</th>\n",
       "      <td>John Garcia</td>\n",
       "      <td>[Security, PyTorch, HTML5, Ruby, AWS]</td>\n",
       "      <td>Mia Nelson</td>\n",
       "      <td>[Security, WordPress, Big Data, Swift, AWS]</td>\n",
       "      <td>2.000000</td>\n",
       "    </tr>\n",
       "  </tbody>\n",
       "</table>\n",
       "</div>"
      ],
      "text/plain": [
       "      person_1                               skills_1          person_2  \\\n",
       "0  John Garcia  [Security, PyTorch, HTML5, Ruby, AWS]      Amelia Davis   \n",
       "1  John Garcia  [Security, PyTorch, HTML5, Ruby, AWS]    Matthew Miller   \n",
       "2  John Garcia  [Security, PyTorch, HTML5, Ruby, AWS]  Matthew Mitchell   \n",
       "3  John Garcia  [Security, PyTorch, HTML5, Ruby, AWS]      John Johnson   \n",
       "4  John Garcia  [Security, PyTorch, HTML5, Ruby, AWS]        Mia Nelson   \n",
       "\n",
       "                                            skills_2     score  \n",
       "0           [Security, PyTorch, Java, HTML5, Docker]  3.000000  \n",
       "1                   [TensorFlow, Ruby, AWS, ReactJS]  2.933380  \n",
       "2   [R, HTML5, Blockchain, Cloud Architecture, Ruby]  2.931610  \n",
       "3  [WordPress, TensorFlow, AWS, Project Managemen...  2.863373  \n",
       "4        [Security, WordPress, Big Data, Swift, AWS]  2.000000  "
      ]
     },
     "execution_count": 97,
     "metadata": {},
     "output_type": "execute_result"
    }
   ],
   "source": [
    "person_similarity_df"
   ]
  },
  {
   "cell_type": "markdown",
   "metadata": {},
   "source": [
    "## 4 - Recommendation of Person given on skills"
   ]
  },
  {
   "cell_type": "markdown",
   "metadata": {},
   "source": [
    "## Vector Index Search"
   ]
  },
  {
   "cell_type": "code",
   "execution_count": null,
   "metadata": {},
   "outputs": [],
   "source": [
    "skills = ['AWS', 'Security']"
   ]
  },
  {
   "cell_type": "code",
   "execution_count": null,
   "metadata": {},
   "outputs": [],
   "source": [
    "skills_vectors = embeddings.embed_documents(skills)"
   ]
  },
  {
   "cell_type": "markdown",
   "metadata": {},
   "source": [
    "We get the approximate top 10 nearest nodes to the search vector `v` and take the 3 first returned. Then put them together in a list (`skill_list`) and does same ranking as before (number of skills)"
   ]
  },
  {
   "cell_type": "code",
   "execution_count": null,
   "metadata": {},
   "outputs": [],
   "source": [
    "nn_df = driver.execute_query(\n",
    "    \"\"\"UNWIND $skills_vectors AS v\n",
    "    CALL db.index.vector.queryNodes('skill-embeddings', 3, TOFLOATLIST(v)) YIELD node, score\n",
    "    WHERE score > 0.85\n",
    "    WITH v as embedding, COALESCE(COLLECT(node.name), []) AS top\n",
    "    RETURN *\n",
    "    \"\"\",\n",
    "    database_=DATABASE,\n",
    "    routing_=RoutingControl.READ,\n",
    "    result_transformer_= lambda r: r.to_df(),\n",
    "    skills_vectors = skills_vectors\n",
    ")\n",
    "nn_df['skills'] = skills\n",
    "cols = list(nn_df.columns)[-1:] + list(nn_df.columns)[:-1]\n",
    "nn_df = nn_df[cols]"
   ]
  },
  {
   "cell_type": "code",
   "execution_count": null,
   "metadata": {},
   "outputs": [],
   "source": [
    "nn_df"
   ]
  },
  {
   "cell_type": "code",
   "execution_count": null,
   "metadata": {},
   "outputs": [],
   "source": [
    "find_persons_given_skills_df = driver.execute_query(\n",
    "    \"\"\"\n",
    "    UNWIND $skills_vectors AS v\n",
    "    CALL db.index.vector.queryNodes('skill-embeddings', 3, TOFLOATLIST(v)) YIELD node, score\n",
    "    WHERE score > 0.85\n",
    "    OPTIONAL MATCH (node)-[:SIMILAR_SEMANTIC]-(s:Skill)\n",
    "    WITH COLLECT(node) AS nodes, COLLECT(DISTINCT s) AS skills\n",
    "    WITH nodes + skills AS all_skills\n",
    "    UNWIND all_skills AS skill\n",
    "    MATCH (p:Person)-[:KNOWS]->(skill)\n",
    "    RETURN p.name AS person, COUNT(DISTINCT(skill)) AS skill_count, COLLECT(DISTINCT(skill.name)) as similar_skills\n",
    "    ORDER BY skill_count DESC LIMIT 10\n",
    "    \"\"\",\n",
    "    database_=DATABASE,\n",
    "    routing_=RoutingControl.READ,\n",
    "    result_transformer_= lambda r: r.to_df(),\n",
    "    skills_vectors = skills_vectors\n",
    ")"
   ]
  },
  {
   "cell_type": "code",
   "execution_count": null,
   "metadata": {},
   "outputs": [],
   "source": [
    "find_persons_given_skills_df"
   ]
  },
  {
   "cell_type": "markdown",
   "metadata": {},
   "source": [
    "## Agents with GraphRAG"
   ]
  },
  {
   "cell_type": "markdown",
   "metadata": {},
   "source": [
    "### Lets create a Retrieval agent"
   ]
  },
  {
   "cell_type": "code",
   "execution_count": null,
   "metadata": {},
   "outputs": [],
   "source": [
    "class Skill(BaseModel):\n",
    "    \"\"\"\n",
    "    Represents a professional skill or knowledge of a person.\n",
    "    \"\"\"\n",
    "    name: str = Field(..., description=\"Sortened name of the skill\")"
   ]
  },
  {
   "cell_type": "markdown",
   "metadata": {},
   "source": [
    "### Tool 1"
   ]
  },
  {
   "cell_type": "code",
   "execution_count": null,
   "metadata": {},
   "outputs": [],
   "source": [
    "def retrieve_skills_of_person(person_name: str) -> pd.DataFrame:\n",
    "    \"\"\"Retrieve the skills of a person. Person is provided with it's name\"\"\"\n",
    "    return driver.execute_query(\n",
    "        \"\"\"\n",
    "        MATCH (p:Person{name: $person_name})-[:KNOWS]->(s:Skill)\n",
    "        RETURN p.name as name, COLLECT(s.name) as skills\n",
    "        \"\"\",\n",
    "        database_=DATABASE,\n",
    "        routing_=RoutingControl.READ,\n",
    "        result_transformer_= lambda r: r.to_df(),\n",
    "        person_name = person_name\n",
    "    )"
   ]
  },
  {
   "cell_type": "code",
   "execution_count": null,
   "metadata": {},
   "outputs": [],
   "source": [
    "retrieve_skills_of_person('Mia Nelson') "
   ]
  },
  {
   "cell_type": "markdown",
   "metadata": {},
   "source": [
    "### Tool 2"
   ]
  },
  {
   "cell_type": "code",
   "execution_count": null,
   "metadata": {},
   "outputs": [],
   "source": [
    "def find_similar_skills(skills: List[Skill]) -> pd.DataFrame:\n",
    "    \"\"\"Find similar skills to list of skills specified. Skills are specified by a list of their names\"\"\"\n",
    "    skills = [s.name for s in skills]\n",
    "    skills_vectors = embeddings.embed_documents(skills)\n",
    "    return driver.execute_query(\n",
    "    \"\"\"\n",
    "        UNWIND $skills_vectors AS v\n",
    "        CALL db.index.vector.queryNodes('skill-embeddings', 3, TOFLOATLIST(v)) YIELD node, score\n",
    "        WHERE score > 0.89\n",
    "        OPTIONAL MATCH (node)-[:SIMILAR_SEMANTIC]-(s:Skill)\n",
    "        WITH COLLECT(node) AS nodes, COLLECT(DISTINCT s) AS skills\n",
    "        WITH nodes + skills AS all_skills\n",
    "        UNWIND all_skills AS skill\n",
    "        RETURN DISTINCT skill.name as skill_name\n",
    "    \"\"\",\n",
    "    database_=DATABASE,\n",
    "    routing_=RoutingControl.READ,\n",
    "    result_transformer_= lambda r: r.to_df(),\n",
    "    skills_vectors = skills_vectors\n",
    ")"
   ]
  },
  {
   "cell_type": "code",
   "execution_count": null,
   "metadata": {},
   "outputs": [],
   "source": [
    "find_similar_skills([Skill(name='Python')])"
   ]
  },
  {
   "cell_type": "markdown",
   "metadata": {},
   "source": [
    "### Tool 3"
   ]
  },
  {
   "cell_type": "code",
   "execution_count": null,
   "metadata": {},
   "outputs": [],
   "source": [
    "def person_similarity(person_name: str) -> pd.DataFrame:\n",
    "    \"\"\"Find a similar person to the one specified based on their skill similarity. Persons are provided with their name\"\"\"\n",
    "    \n",
    "    return driver.execute_query(\n",
    "        \"\"\"\n",
    "        MATCH (p1:Person {name: $person_name})-[:KNOWS]->(s:Skill)\n",
    "        WITH p1, COLLECT(s.name) as skills_1\n",
    "        CALL (p1){\n",
    "          MATCH (p1)-[:KNOWS]->(s1:Skill)-[r:SIMILAR_SEMANTIC]-(s2:Skill)<-[:KNOWS]-(p2:Person)\n",
    "          RETURN p1 as person_1, p2 as person_2, SUM(r.score) AS score\n",
    "          UNION \n",
    "          MATCH (p1)-[r:SIMILAR_SKILLSET]-(p2:Person)\n",
    "          RETURN p1 as person_1, p2 AS person_2, SUM(r.overlap) AS score\n",
    "        }\n",
    "        WITH person_1.name as person_1, skills_1, person_2, SUM(score) as score\n",
    "        WHERE score >= 1\n",
    "        MATCH (person_2)-[:KNOWS]->(s:Skill)\n",
    "        RETURN person_1, skills_1,  person_2.name as person_2, COLLECT(s.name) as skills_2, score\n",
    "        ORDER BY score DESC LIMIT 5\n",
    "        \"\"\",\n",
    "        database_=DATABASE,\n",
    "        routing_=RoutingControl.READ,\n",
    "        result_transformer_= lambda r: r.to_df(),\n",
    "        person_name = person_name\n",
    "    )"
   ]
  },
  {
   "cell_type": "code",
   "execution_count": null,
   "metadata": {},
   "outputs": [],
   "source": [
    "person_similarity(\"Christopher Jackson\")"
   ]
  },
  {
   "cell_type": "markdown",
   "metadata": {},
   "source": [
    "### Tool 4"
   ]
  },
  {
   "cell_type": "code",
   "execution_count": null,
   "metadata": {},
   "outputs": [],
   "source": [
    "def find_person_based_on_skills(skills: List[Skill]) -> pd.DataFrame:\n",
    "    \"\"\"\n",
    "    Find persons based on skills they have. Skills are specified by their names. \n",
    "    Note that similar skills can be found. These are considered similar. \n",
    "    \"\"\"\n",
    "    skills = [s.name for s in skills]\n",
    "    skills_vectors = embeddings.embed_documents(skills)\n",
    "    return driver.execute_query(\n",
    "        \"\"\"\n",
    "        UNWIND $skills_vectors AS v\n",
    "        CALL db.index.vector.queryNodes('skill-embeddings', 3, TOFLOATLIST(v)) YIELD node, score\n",
    "        WHERE score > 0.89\n",
    "        OPTIONAL MATCH (node)-[:SIMILAR_SEMANTIC]-(s:Skill)\n",
    "        WITH COLLECT(node) AS nodes, COLLECT(DISTINCT s) AS skills\n",
    "        WITH nodes + skills AS all_skills\n",
    "        UNWIND all_skills AS skill\n",
    "        MATCH (p:Person)-[:KNOWS]->(skill)\n",
    "        RETURN p.name AS person, COUNT(DISTINCT(skill)) AS score, COLLECT(DISTINCT(skill.name)) as similar_skills\n",
    "        ORDER BY score DESC LIMIT 10\n",
    "        \"\"\",\n",
    "        database_=DATABASE,\n",
    "        routing_=RoutingControl.READ,\n",
    "        result_transformer_= lambda r: r.to_df(),\n",
    "        skills_vectors = skills_vectors\n",
    ")"
   ]
  },
  {
   "cell_type": "code",
   "execution_count": null,
   "metadata": {},
   "outputs": [],
   "source": [
    "find_person_based_on_skills([Skill(name='Security'), Skill(name='Pandas')])"
   ]
  },
  {
   "cell_type": "markdown",
   "metadata": {},
   "source": [
    "## Setting up the Agent"
   ]
  },
  {
   "cell_type": "code",
   "execution_count": null,
   "metadata": {},
   "outputs": [],
   "source": [
    "llm = ChatOpenAI(model_name=LLM, temperature=0)"
   ]
  },
  {
   "cell_type": "code",
   "execution_count": null,
   "metadata": {},
   "outputs": [],
   "source": [
    "response = llm.invoke([HumanMessage(content=\"hi!\")])\n",
    "response.content"
   ]
  },
  {
   "cell_type": "code",
   "execution_count": null,
   "metadata": {},
   "outputs": [],
   "source": [
    "tools = [\n",
    "    retrieve_skills_of_person, \n",
    "    find_similar_skills,\n",
    "    person_similarity,\n",
    "    find_person_based_on_skills,\n",
    "]\n",
    "\n",
    "llm_with_tools = llm.bind_tools(tools)"
   ]
  },
  {
   "cell_type": "code",
   "execution_count": null,
   "metadata": {},
   "outputs": [],
   "source": [
    "response = llm_with_tools.invoke([HumanMessage(content=\"What skills does Kristof Neys have?\")])\n",
    "\n",
    "print(f\"ContentString: {response.content}\")\n",
    "print(f\"ToolCalls: {response.tool_calls}\")"
   ]
  },
  {
   "cell_type": "code",
   "execution_count": null,
   "metadata": {},
   "outputs": [],
   "source": [
    "response = llm_with_tools.invoke([HumanMessage(content=\"What skills are similar to PowerBI and Data Visualization?\")])\n",
    "\n",
    "print(f\"ContentString: {response.content}\")\n",
    "print(f\"ToolCalls: {response.tool_calls}\")"
   ]
  },
  {
   "cell_type": "code",
   "execution_count": null,
   "metadata": {},
   "outputs": [],
   "source": [
    "response = llm_with_tools.invoke([HumanMessage(content=\"Which persons have similar skills as Kristof Neys?\")])\n",
    "\n",
    "print(f\"ContentString: {response.content}\")\n",
    "print(f\"ToolCalls: {response.tool_calls}\")"
   ]
  },
  {
   "cell_type": "code",
   "execution_count": null,
   "metadata": {},
   "outputs": [],
   "source": [
    "response = llm_with_tools.invoke([HumanMessage(content=\"Which persons have Python and AWS experience?\")])\n",
    "\n",
    "print(f\"ContentString: {response.content}\")\n",
    "print(f\"ToolCalls: {response.tool_calls}\")"
   ]
  },
  {
   "cell_type": "markdown",
   "metadata": {},
   "source": [
    "We can see that there's now no text content, but there is a tool call! It wants us to call the Tavily Search tool. This isn't calling that tool yet - it's just telling us to. In order to actually call it, we'll want to create our agent."
   ]
  },
  {
   "cell_type": "markdown",
   "metadata": {},
   "source": [
    "## Running Agents with LangGraph"
   ]
  },
  {
   "cell_type": "code",
   "execution_count": null,
   "metadata": {},
   "outputs": [],
   "source": [
    "agent_executor = create_react_agent(llm, tools)"
   ]
  },
  {
   "cell_type": "code",
   "execution_count": null,
   "metadata": {},
   "outputs": [],
   "source": [
    "response = agent_executor.invoke({\"messages\": [HumanMessage(content=\"hi!\")]})"
   ]
  },
  {
   "cell_type": "code",
   "execution_count": null,
   "metadata": {},
   "outputs": [],
   "source": [
    "response[\"messages\"]"
   ]
  },
  {
   "cell_type": "markdown",
   "metadata": {},
   "source": [
    "#### Run some examples! "
   ]
  },
  {
   "cell_type": "code",
   "execution_count": null,
   "metadata": {},
   "outputs": [],
   "source": [
    "def ask_to_agent(question):\n",
    "    for step in agent_executor.stream(\n",
    "        {\"messages\": [HumanMessage(content=question)]},\n",
    "        stream_mode=\"values\",\n",
    "    ):\n",
    "        step[\"messages\"][-1].pretty_print()"
   ]
  },
  {
   "cell_type": "code",
   "execution_count": null,
   "metadata": {},
   "outputs": [],
   "source": [
    "question = \"What skills does Kristof Neys have?\""
   ]
  },
  {
   "cell_type": "code",
   "execution_count": null,
   "metadata": {},
   "outputs": [],
   "source": [
    "ask_to_agent(question)"
   ]
  },
  {
   "cell_type": "code",
   "execution_count": null,
   "metadata": {},
   "outputs": [],
   "source": [
    "question = \"What skills are similar to PowerBI and Data Visualization?\""
   ]
  },
  {
   "cell_type": "code",
   "execution_count": null,
   "metadata": {},
   "outputs": [],
   "source": [
    "ask_to_agent(question)"
   ]
  },
  {
   "cell_type": "code",
   "execution_count": null,
   "metadata": {},
   "outputs": [],
   "source": [
    "question = \"Which persons have similar skills as Daniel Hill?\""
   ]
  },
  {
   "cell_type": "code",
   "execution_count": null,
   "metadata": {},
   "outputs": [],
   "source": [
    "ask_to_agent(question)"
   ]
  },
  {
   "cell_type": "code",
   "execution_count": null,
   "metadata": {},
   "outputs": [],
   "source": [
    "question = \"Which persons have Python and AWS experience?\""
   ]
  },
  {
   "cell_type": "code",
   "execution_count": null,
   "metadata": {},
   "outputs": [],
   "source": [
    "ask_to_agent(question)"
   ]
  },
  {
   "cell_type": "markdown",
   "metadata": {},
   "source": [
    "## Chatbot"
   ]
  },
  {
   "cell_type": "markdown",
   "metadata": {},
   "source": [
    "Now create a chatbot with the agent providing the responses"
   ]
  },
  {
   "cell_type": "code",
   "execution_count": null,
   "metadata": {},
   "outputs": [],
   "source": [
    "def user(user_message, history):\n",
    "    if history is None:\n",
    "        history = []\n",
    "    history.append({\"role\": \"user\", \"content\": user_message})\n",
    "    return \"\", history\n",
    "\n",
    "def get_answer(history):\n",
    "    steps = []\n",
    "    full_prompt = \"\\n\".join([f\"{msg['role'].capitalize()}: {msg['content']}\" for msg in history])\n",
    "    \n",
    "    for step in agent_executor.stream(\n",
    "            {\"messages\": [HumanMessage(content=full_prompt)]},\n",
    "            stream_mode=\"values\",\n",
    "    ):\n",
    "        step[\"messages\"][-1].pretty_print()\n",
    "        steps.append(step[\"messages\"][-1].content)\n",
    "    \n",
    "    return steps[-1]\n",
    "\n",
    "def bot(history):\n",
    "    bot_message = get_answer(history)\n",
    "    history.append({\"role\": \"assistant\", \"content\": \"\"})\n",
    "\n",
    "    for character in bot_message:\n",
    "        history[-1][\"content\"] += character\n",
    "        time.sleep(0.01)\n",
    "        yield history\n",
    "\n",
    "with gr.Blocks() as demo:\n",
    "    chatbot = gr.Chatbot(\n",
    "        label=\"Chatbot on a Graph\",\n",
    "        avatar_images=[\n",
    "            \"https://png.pngtree.com/png-vector/20220525/ourmid/pngtree-concept-of-facial-animal-avatar-chatbot-dog-chat-machine-illustration-vector-png-image_46652864.jpg\",\n",
    "            \"https://d-cb.jc-cdn.com/sites/crackberry.com/files/styles/larger/public/article_images/2023/08/openai-logo.jpg\"\n",
    "        ],\n",
    "        type=\"messages\", \n",
    "    )\n",
    "    msg = gr.Textbox(label=\"Message\")\n",
    "    clear = gr.Button(\"Clear\")\n",
    "\n",
    "    msg.submit(user, [msg, chatbot], [msg, chatbot], queue=False).then(\n",
    "        bot, [chatbot], chatbot\n",
    "    )\n",
    "\n",
    "    clear.click(lambda: [], None, chatbot, queue=False)\n",
    "\n",
    "demo.queue()\n",
    "demo.launch(share=True)"
   ]
  },
  {
   "cell_type": "markdown",
   "metadata": {},
   "source": [
    "If you want to have the light-mode for the chatbot paste the following after the URL: /?__theme=light"
   ]
  },
  {
   "cell_type": "markdown",
   "metadata": {},
   "source": [
    "### Text2Cypher"
   ]
  },
  {
   "cell_type": "markdown",
   "metadata": {},
   "source": [
    "If time allows we can still experiment with the Text2Cypher functionality. "
   ]
  },
  {
   "cell_type": "code",
   "execution_count": null,
   "metadata": {},
   "outputs": [],
   "source": [
    "text2cypher_prompt =  PromptTemplate.from_template(\n",
    "    \"\"\"\n",
    "    Task: Generate a Cypher statement for querying a Neo4j graph database from a user input. \n",
    "    - Do not include triple backticks ``` or ```cypher or any additional text except the generated Cypher statement in your response.\n",
    "    - Do not use any properties or relationships not included in the schema.\n",
    "    \n",
    "    Schema:\n",
    "    {schema}\n",
    "    \n",
    "    #User Input\n",
    "    {question}\n",
    "    \n",
    "    Cypher query:\n",
    "    \"\"\"\n",
    ")"
   ]
  },
  {
   "cell_type": "code",
   "execution_count": null,
   "metadata": {},
   "outputs": [],
   "source": [
    "annotated_schema = \"\"\"\n",
    "    Nodes:\n",
    "      Person:\n",
    "        description: \"A person in our talent pool.\"\n",
    "        properties:\n",
    "          name:\n",
    "            type: \"string\"\n",
    "            description: \"The full name of the person. serves as a unique identifier.\"\n",
    "          email:\n",
    "            type: \"string\"\n",
    "            description: \"The email address of the person.\"\n",
    "          leiden_community:\n",
    "            type: \"integer\"\n",
    "            description: \"The talent community for the person.  People in the same talent segment share similar skills.\"\n",
    "      Skill:\n",
    "        description: \"A professional skill.\"\n",
    "        properties:\n",
    "          name:\n",
    "            type: \"string\"\n",
    "            description: \"The unique name of the skill.\"\n",
    "    Relationships:\n",
    "        KNOWS:\n",
    "            description: \"A person knowing a skill.\"\n",
    "            query_pattern: \"(:Person)-[:KNOWS]->(:Skill)\"\n",
    "    \"\"\""
   ]
  },
  {
   "cell_type": "code",
   "execution_count": null,
   "metadata": {},
   "outputs": [],
   "source": [
    "text2cypher_llm = ChatOpenAI(model=LLM, temperature=0)"
   ]
  },
  {
   "cell_type": "code",
   "execution_count": null,
   "metadata": {},
   "outputs": [],
   "source": [
    "@tool\n",
    "def perform_aggregation_query(question: str) -> pd.DataFrame:\n",
    "    \"\"\"\n",
    "    perform an aggregation query on the Neo4j graph database and obtain the results.\n",
    "    \"\"\"\n",
    "    prompt = text2cypher_prompt.invoke({'schema': annotated_schema, 'question': question})\n",
    "    query = text2cypher_llm.invoke(prompt).content\n",
    "    print(f\"executing Cypher query:\\n{query}\")\n",
    "    return driver.execute_query(\n",
    "        query,\n",
    "        database_=DATABASE,\n",
    "        routing_=RoutingControl.READ,\n",
    "        result_transformer_= lambda r: r.to_df()\n",
    "    )    "
   ]
  },
  {
   "cell_type": "code",
   "execution_count": null,
   "metadata": {},
   "outputs": [],
   "source": [
    "perform_aggregation_query('describe communities by skills') "
   ]
  },
  {
   "cell_type": "code",
   "execution_count": null,
   "metadata": {},
   "outputs": [],
   "source": [
    "perform_aggregation_query('how many people share skills with Isabella Allen, and what are the skills')"
   ]
  },
  {
   "cell_type": "code",
   "execution_count": null,
   "metadata": {},
   "outputs": [],
   "source": [
    "perform_aggregation_query('Can you list me a 5 random person name from the database?')"
   ]
  }
 ],
 "metadata": {
  "colab": {
   "provenance": []
  },
  "kernelspec": {
   "display_name": "Python 3 (ipykernel)",
   "language": "python",
   "name": "python3"
  },
  "language_info": {
   "codemirror_mode": {
    "name": "ipython",
    "version": 3
   },
   "file_extension": ".py",
   "mimetype": "text/x-python",
   "name": "python",
   "nbconvert_exporter": "python",
   "pygments_lexer": "ipython3",
   "version": "3.11.5"
  }
 },
 "nbformat": 4,
 "nbformat_minor": 4
}
