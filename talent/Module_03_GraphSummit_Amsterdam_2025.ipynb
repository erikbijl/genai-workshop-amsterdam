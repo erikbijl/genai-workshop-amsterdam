{
 "cells": [
  {
   "cell_type": "markdown",
   "metadata": {},
   "source": [
    "# Module 3 - GraphRAG and Agents\n",
    "\n",
    "This module has the following objectives:\n",
    "- Experiment with queries for an Agent\n",
    "- Define Tooling\n",
    "- Create an agents with the available tools\n",
    "- Chatbot for an Agent\n",
    "- Text2Cypher (if we got time)"
   ]
  },
  {
   "cell_type": "code",
   "execution_count": 1,
   "metadata": {
    "id": "FHKg4DVZiQ98"
   },
   "outputs": [
    {
     "name": "stdout",
     "output_type": "stream",
     "text": [
      "Requirement already satisfied: graphdatascience in /Users/erikbijl/anaconda3/lib/python3.11/site-packages (1.13)\n",
      "Requirement already satisfied: neo4j in /Users/erikbijl/anaconda3/lib/python3.11/site-packages (5.28.1)\n",
      "Requirement already satisfied: dotenv in /Users/erikbijl/anaconda3/lib/python3.11/site-packages (0.9.9)\n",
      "Requirement already satisfied: openai in /Users/erikbijl/anaconda3/lib/python3.11/site-packages (1.61.0)\n",
      "Requirement already satisfied: langchain in /Users/erikbijl/anaconda3/lib/python3.11/site-packages (0.3.17)\n",
      "Requirement already satisfied: multimethod<2.0,>=1.0 in /Users/erikbijl/anaconda3/lib/python3.11/site-packages (from graphdatascience) (1.12)\n",
      "Requirement already satisfied: numpy<2.0 in /Users/erikbijl/anaconda3/lib/python3.11/site-packages (from graphdatascience) (1.26.4)\n",
      "Requirement already satisfied: pandas<3.0,>=1.0 in /Users/erikbijl/anaconda3/lib/python3.11/site-packages (from graphdatascience) (2.2.1)\n",
      "Requirement already satisfied: pyarrow<19.0,>=15.0.2 in /Users/erikbijl/anaconda3/lib/python3.11/site-packages (from graphdatascience) (18.1.0)\n",
      "Requirement already satisfied: textdistance<5.0,>=4.0 in /Users/erikbijl/anaconda3/lib/python3.11/site-packages (from graphdatascience) (4.2.1)\n",
      "Requirement already satisfied: tqdm<5.0,>=4.0 in /Users/erikbijl/anaconda3/lib/python3.11/site-packages (from graphdatascience) (4.66.4)\n",
      "Requirement already satisfied: typing-extensions<5.0,>=4.0 in /Users/erikbijl/anaconda3/lib/python3.11/site-packages (from graphdatascience) (4.11.0)\n",
      "Requirement already satisfied: requests in /Users/erikbijl/anaconda3/lib/python3.11/site-packages (from graphdatascience) (2.32.2)\n",
      "Requirement already satisfied: tenacity>=9.0 in /Users/erikbijl/anaconda3/lib/python3.11/site-packages (from graphdatascience) (9.0.0)\n",
      "Requirement already satisfied: pytz in /Users/erikbijl/anaconda3/lib/python3.11/site-packages (from neo4j) (2024.1)\n",
      "Requirement already satisfied: python-dotenv in /Users/erikbijl/anaconda3/lib/python3.11/site-packages (from dotenv) (0.21.0)\n",
      "Requirement already satisfied: anyio<5,>=3.5.0 in /Users/erikbijl/anaconda3/lib/python3.11/site-packages (from openai) (4.2.0)\n",
      "Requirement already satisfied: distro<2,>=1.7.0 in /Users/erikbijl/anaconda3/lib/python3.11/site-packages (from openai) (1.9.0)\n",
      "Requirement already satisfied: httpx<1,>=0.23.0 in /Users/erikbijl/anaconda3/lib/python3.11/site-packages (from openai) (0.27.2)\n",
      "Requirement already satisfied: jiter<1,>=0.4.0 in /Users/erikbijl/anaconda3/lib/python3.11/site-packages (from openai) (0.7.0)\n",
      "Requirement already satisfied: pydantic<3,>=1.9.0 in /Users/erikbijl/anaconda3/lib/python3.11/site-packages (from openai) (2.9.2)\n",
      "Requirement already satisfied: sniffio in /Users/erikbijl/anaconda3/lib/python3.11/site-packages (from openai) (1.3.0)\n",
      "Requirement already satisfied: PyYAML>=5.3 in /Users/erikbijl/anaconda3/lib/python3.11/site-packages (from langchain) (6.0.1)\n",
      "Requirement already satisfied: SQLAlchemy<3,>=1.4 in /Users/erikbijl/anaconda3/lib/python3.11/site-packages (from langchain) (2.0.25)\n",
      "Requirement already satisfied: aiohttp<4.0.0,>=3.8.3 in /Users/erikbijl/anaconda3/lib/python3.11/site-packages (from langchain) (3.9.5)\n",
      "Requirement already satisfied: langchain-core<0.4.0,>=0.3.33 in /Users/erikbijl/anaconda3/lib/python3.11/site-packages (from langchain) (0.3.33)\n",
      "Requirement already satisfied: langchain-text-splitters<0.4.0,>=0.3.3 in /Users/erikbijl/anaconda3/lib/python3.11/site-packages (from langchain) (0.3.5)\n",
      "Requirement already satisfied: langsmith<0.4,>=0.1.17 in /Users/erikbijl/anaconda3/lib/python3.11/site-packages (from langchain) (0.1.139)\n",
      "Requirement already satisfied: aiosignal>=1.1.2 in /Users/erikbijl/anaconda3/lib/python3.11/site-packages (from aiohttp<4.0.0,>=3.8.3->langchain) (1.2.0)\n",
      "Requirement already satisfied: attrs>=17.3.0 in /Users/erikbijl/anaconda3/lib/python3.11/site-packages (from aiohttp<4.0.0,>=3.8.3->langchain) (23.1.0)\n",
      "Requirement already satisfied: frozenlist>=1.1.1 in /Users/erikbijl/anaconda3/lib/python3.11/site-packages (from aiohttp<4.0.0,>=3.8.3->langchain) (1.4.0)\n",
      "Requirement already satisfied: multidict<7.0,>=4.5 in /Users/erikbijl/anaconda3/lib/python3.11/site-packages (from aiohttp<4.0.0,>=3.8.3->langchain) (6.0.4)\n",
      "Requirement already satisfied: yarl<2.0,>=1.0 in /Users/erikbijl/anaconda3/lib/python3.11/site-packages (from aiohttp<4.0.0,>=3.8.3->langchain) (1.9.3)\n",
      "Requirement already satisfied: idna>=2.8 in /Users/erikbijl/anaconda3/lib/python3.11/site-packages (from anyio<5,>=3.5.0->openai) (3.7)\n",
      "Requirement already satisfied: certifi in /Users/erikbijl/anaconda3/lib/python3.11/site-packages (from httpx<1,>=0.23.0->openai) (2024.2.2)\n",
      "Requirement already satisfied: httpcore==1.* in /Users/erikbijl/anaconda3/lib/python3.11/site-packages (from httpx<1,>=0.23.0->openai) (1.0.6)\n",
      "Requirement already satisfied: h11<0.15,>=0.13 in /Users/erikbijl/anaconda3/lib/python3.11/site-packages (from httpcore==1.*->httpx<1,>=0.23.0->openai) (0.14.0)\n",
      "Requirement already satisfied: jsonpatch<2.0,>=1.33 in /Users/erikbijl/anaconda3/lib/python3.11/site-packages (from langchain-core<0.4.0,>=0.3.33->langchain) (1.33)\n",
      "Requirement already satisfied: packaging<25,>=23.2 in /Users/erikbijl/anaconda3/lib/python3.11/site-packages (from langchain-core<0.4.0,>=0.3.33->langchain) (23.2)\n",
      "Requirement already satisfied: orjson<4.0.0,>=3.9.14 in /Users/erikbijl/anaconda3/lib/python3.11/site-packages (from langsmith<0.4,>=0.1.17->langchain) (3.10.11)\n",
      "Requirement already satisfied: requests-toolbelt<2.0.0,>=1.0.0 in /Users/erikbijl/anaconda3/lib/python3.11/site-packages (from langsmith<0.4,>=0.1.17->langchain) (1.0.0)\n",
      "Requirement already satisfied: python-dateutil>=2.8.2 in /Users/erikbijl/anaconda3/lib/python3.11/site-packages (from pandas<3.0,>=1.0->graphdatascience) (2.9.0.post0)\n",
      "Requirement already satisfied: tzdata>=2022.7 in /Users/erikbijl/anaconda3/lib/python3.11/site-packages (from pandas<3.0,>=1.0->graphdatascience) (2023.3)\n",
      "Requirement already satisfied: annotated-types>=0.6.0 in /Users/erikbijl/anaconda3/lib/python3.11/site-packages (from pydantic<3,>=1.9.0->openai) (0.6.0)\n",
      "Requirement already satisfied: pydantic-core==2.23.4 in /Users/erikbijl/anaconda3/lib/python3.11/site-packages (from pydantic<3,>=1.9.0->openai) (2.23.4)\n",
      "Requirement already satisfied: charset-normalizer<4,>=2 in /Users/erikbijl/anaconda3/lib/python3.11/site-packages (from requests->graphdatascience) (2.0.4)\n",
      "Requirement already satisfied: urllib3<3,>=1.21.1 in /Users/erikbijl/anaconda3/lib/python3.11/site-packages (from requests->graphdatascience) (2.2.1)\n",
      "Requirement already satisfied: jsonpointer>=1.9 in /Users/erikbijl/anaconda3/lib/python3.11/site-packages (from jsonpatch<2.0,>=1.33->langchain-core<0.4.0,>=0.3.33->langchain) (2.1)\n",
      "Requirement already satisfied: six>=1.5 in /Users/erikbijl/anaconda3/lib/python3.11/site-packages (from python-dateutil>=2.8.2->pandas<3.0,>=1.0->graphdatascience) (1.16.0)\n"
     ]
    }
   ],
   "source": [
    "!pip install graphdatascience neo4j dotenv openai langchain"
   ]
  },
  {
   "cell_type": "markdown",
   "metadata": {},
   "source": [
    "Import our usual suspects (and some more...)"
   ]
  },
  {
   "cell_type": "code",
   "execution_count": 2,
   "metadata": {},
   "outputs": [],
   "source": [
    "import os\n",
    "import pandas as pd\n",
    "from dotenv import load_dotenv\n",
    "from graphdatascience import GraphDataScience\n",
    "from neo4j import Query, GraphDatabase, RoutingControl, Result\n",
    "from langchain.schema import HumanMessage\n",
    "from langchain_openai import OpenAIEmbeddings, ChatOpenAI\n",
    "from langchain_core.messages import HumanMessage\n",
    "from langchain_core.prompts import ChatPromptTemplate, PromptTemplate\n",
    "from langchain_core.output_parsers import StrOutputParser\n",
    "from langgraph.prebuilt import create_react_agent\n",
    "from openai import OpenAI\n",
    "from typing import List, Optional\n",
    "from pydantic import BaseModel, Field, validator\n",
    "import functools\n",
    "from langchain_core.tools import tool\n",
    "import gradio as gr\n",
    "import time"
   ]
  },
  {
   "cell_type": "markdown",
   "metadata": {
    "id": "ynPe6RLRWSKd"
   },
   "source": [
    "## Setup"
   ]
  },
  {
   "cell_type": "markdown",
   "metadata": {
    "id": "pa61u1jfyk3t"
   },
   "source": [
    "Load env variables"
   ]
  },
  {
   "cell_type": "code",
   "execution_count": 3,
   "metadata": {},
   "outputs": [],
   "source": [
    "env_file = 'ws.env'"
   ]
  },
  {
   "cell_type": "code",
   "execution_count": 4,
   "metadata": {
    "id": "CHR_0lmElZ-R"
   },
   "outputs": [],
   "source": [
    "if os.path.exists(env_file):\n",
    "    load_dotenv(env_file, override=True)\n",
    "\n",
    "    # Neo4j\n",
    "    HOST = os.getenv('NEO4J_URI')\n",
    "    USERNAME = os.getenv('NEO4J_USERNAME')\n",
    "    PASSWORD = os.getenv('NEO4J_PASSWORD')\n",
    "    DATABASE = os.getenv('NEO4J_DATABASE')\n",
    "\n",
    "    # AI\n",
    "    OPENAI_API_KEY = os.getenv('OPENAI_API_KEY')\n",
    "    os.environ['OPENAI_API_KEY']=OPENAI_API_KEY\n",
    "    LLM = os.getenv('LLM')\n",
    "    EMBEDDINGS_MODEL = os.getenv('EMBEDDINGS_MODEL')\n",
    "else:\n",
    "    print(f\"File {env_file} not found.\")"
   ]
  },
  {
   "cell_type": "markdown",
   "metadata": {},
   "source": [
    "Connect to neo4j db"
   ]
  },
  {
   "cell_type": "code",
   "execution_count": 5,
   "metadata": {},
   "outputs": [],
   "source": [
    "driver = GraphDatabase.driver(\n",
    "    HOST,\n",
    "    auth=(USERNAME, PASSWORD)\n",
    ")"
   ]
  },
  {
   "cell_type": "markdown",
   "metadata": {},
   "source": [
    "Test the connection"
   ]
  },
  {
   "cell_type": "code",
   "execution_count": 6,
   "metadata": {
    "id": "5w4eCb7xZZ-S"
   },
   "outputs": [
    {
     "data": {
      "text/html": [
       "<div>\n",
       "<style scoped>\n",
       "    .dataframe tbody tr th:only-of-type {\n",
       "        vertical-align: middle;\n",
       "    }\n",
       "\n",
       "    .dataframe tbody tr th {\n",
       "        vertical-align: top;\n",
       "    }\n",
       "\n",
       "    .dataframe thead th {\n",
       "        text-align: right;\n",
       "    }\n",
       "</style>\n",
       "<table border=\"1\" class=\"dataframe\">\n",
       "  <thead>\n",
       "    <tr style=\"text-align: right;\">\n",
       "      <th></th>\n",
       "      <th>Count</th>\n",
       "    </tr>\n",
       "  </thead>\n",
       "  <tbody>\n",
       "    <tr>\n",
       "      <th>0</th>\n",
       "      <td>158</td>\n",
       "    </tr>\n",
       "  </tbody>\n",
       "</table>\n",
       "</div>"
      ],
      "text/plain": [
       "   Count\n",
       "0    158"
      ]
     },
     "execution_count": 6,
     "metadata": {},
     "output_type": "execute_result"
    }
   ],
   "source": [
    "driver.execute_query(\n",
    "    \"\"\"\n",
    "    MATCH (n) RETURN COUNT(n) as Count\n",
    "    \"\"\",\n",
    "    database_=DATABASE,\n",
    "    routing_=RoutingControl.READ,\n",
    "    result_transformer_= lambda r: r.to_df()\n",
    ")"
   ]
  },
  {
   "cell_type": "markdown",
   "metadata": {
    "id": "cdTfdAyV2ZaR"
   },
   "source": [
    "Test whether we got our constraints"
   ]
  },
  {
   "cell_type": "code",
   "execution_count": 7,
   "metadata": {
    "id": "cdTfdAyV2ZaR"
   },
   "outputs": [],
   "source": [
    "schema_result_df  = driver.execute_query(\n",
    "    'show indexes',\n",
    "    database_=DATABASE,\n",
    "    routing_=RoutingControl.READ,\n",
    "    result_transformer_= lambda r: r.to_df()\n",
    ")"
   ]
  },
  {
   "cell_type": "code",
   "execution_count": 8,
   "metadata": {
    "id": "cdTfdAyV2ZaR"
   },
   "outputs": [
    {
     "data": {
      "text/html": [
       "<div>\n",
       "<style scoped>\n",
       "    .dataframe tbody tr th:only-of-type {\n",
       "        vertical-align: middle;\n",
       "    }\n",
       "\n",
       "    .dataframe tbody tr th {\n",
       "        vertical-align: top;\n",
       "    }\n",
       "\n",
       "    .dataframe thead th {\n",
       "        text-align: right;\n",
       "    }\n",
       "</style>\n",
       "<table border=\"1\" class=\"dataframe\">\n",
       "  <thead>\n",
       "    <tr style=\"text-align: right;\">\n",
       "      <th></th>\n",
       "      <th>id</th>\n",
       "      <th>name</th>\n",
       "      <th>state</th>\n",
       "      <th>populationPercent</th>\n",
       "      <th>type</th>\n",
       "      <th>entityType</th>\n",
       "      <th>labelsOrTypes</th>\n",
       "      <th>properties</th>\n",
       "      <th>indexProvider</th>\n",
       "      <th>owningConstraint</th>\n",
       "      <th>lastRead</th>\n",
       "      <th>readCount</th>\n",
       "    </tr>\n",
       "  </thead>\n",
       "  <tbody>\n",
       "    <tr>\n",
       "      <th>0</th>\n",
       "      <td>5</td>\n",
       "      <td>constraint_63bf11a1</td>\n",
       "      <td>ONLINE</td>\n",
       "      <td>100.0</td>\n",
       "      <td>RANGE</td>\n",
       "      <td>NODE</td>\n",
       "      <td>[Skill]</td>\n",
       "      <td>[name]</td>\n",
       "      <td>range-1.0</td>\n",
       "      <td>constraint_63bf11a1</td>\n",
       "      <td>2025-03-12T17:24:57.534000000+00:00</td>\n",
       "      <td>582</td>\n",
       "    </tr>\n",
       "    <tr>\n",
       "      <th>1</th>\n",
       "      <td>3</td>\n",
       "      <td>constraint_d3bfd313</td>\n",
       "      <td>ONLINE</td>\n",
       "      <td>100.0</td>\n",
       "      <td>RANGE</td>\n",
       "      <td>NODE</td>\n",
       "      <td>[Person]</td>\n",
       "      <td>[email]</td>\n",
       "      <td>range-1.0</td>\n",
       "      <td>constraint_d3bfd313</td>\n",
       "      <td>2025-03-12T16:17:28.945000000+00:00</td>\n",
       "      <td>306</td>\n",
       "    </tr>\n",
       "    <tr>\n",
       "      <th>2</th>\n",
       "      <td>0</td>\n",
       "      <td>index_343aff4e</td>\n",
       "      <td>ONLINE</td>\n",
       "      <td>100.0</td>\n",
       "      <td>LOOKUP</td>\n",
       "      <td>NODE</td>\n",
       "      <td>None</td>\n",
       "      <td>None</td>\n",
       "      <td>token-lookup-1.0</td>\n",
       "      <td>None</td>\n",
       "      <td>2025-03-12T17:25:02.191000000+00:00</td>\n",
       "      <td>16701</td>\n",
       "    </tr>\n",
       "    <tr>\n",
       "      <th>3</th>\n",
       "      <td>1</td>\n",
       "      <td>index_f7700477</td>\n",
       "      <td>ONLINE</td>\n",
       "      <td>100.0</td>\n",
       "      <td>LOOKUP</td>\n",
       "      <td>RELATIONSHIP</td>\n",
       "      <td>None</td>\n",
       "      <td>None</td>\n",
       "      <td>token-lookup-1.0</td>\n",
       "      <td>None</td>\n",
       "      <td>2025-03-12T17:13:59.380000000+00:00</td>\n",
       "      <td>75</td>\n",
       "    </tr>\n",
       "    <tr>\n",
       "      <th>4</th>\n",
       "      <td>4</td>\n",
       "      <td>skill-embeddings</td>\n",
       "      <td>ONLINE</td>\n",
       "      <td>100.0</td>\n",
       "      <td>VECTOR</td>\n",
       "      <td>NODE</td>\n",
       "      <td>[Skill]</td>\n",
       "      <td>[embedding]</td>\n",
       "      <td>vector-2.0</td>\n",
       "      <td>None</td>\n",
       "      <td>2025-03-12T17:24:51.486000000+00:00</td>\n",
       "      <td>103</td>\n",
       "    </tr>\n",
       "  </tbody>\n",
       "</table>\n",
       "</div>"
      ],
      "text/plain": [
       "   id                 name   state  populationPercent    type    entityType  \\\n",
       "0   5  constraint_63bf11a1  ONLINE              100.0   RANGE          NODE   \n",
       "1   3  constraint_d3bfd313  ONLINE              100.0   RANGE          NODE   \n",
       "2   0       index_343aff4e  ONLINE              100.0  LOOKUP          NODE   \n",
       "3   1       index_f7700477  ONLINE              100.0  LOOKUP  RELATIONSHIP   \n",
       "4   4     skill-embeddings  ONLINE              100.0  VECTOR          NODE   \n",
       "\n",
       "  labelsOrTypes   properties     indexProvider     owningConstraint  \\\n",
       "0       [Skill]       [name]         range-1.0  constraint_63bf11a1   \n",
       "1      [Person]      [email]         range-1.0  constraint_d3bfd313   \n",
       "2          None         None  token-lookup-1.0                 None   \n",
       "3          None         None  token-lookup-1.0                 None   \n",
       "4       [Skill]  [embedding]        vector-2.0                 None   \n",
       "\n",
       "                              lastRead  readCount  \n",
       "0  2025-03-12T17:24:57.534000000+00:00        582  \n",
       "1  2025-03-12T16:17:28.945000000+00:00        306  \n",
       "2  2025-03-12T17:25:02.191000000+00:00      16701  \n",
       "3  2025-03-12T17:13:59.380000000+00:00         75  \n",
       "4  2025-03-12T17:24:51.486000000+00:00        103  "
      ]
     },
     "execution_count": 8,
     "metadata": {},
     "output_type": "execute_result"
    }
   ],
   "source": [
    "schema_result_df.head(100)"
   ]
  },
  {
   "cell_type": "markdown",
   "metadata": {},
   "source": [
    "## Agent Thinking\n",
    "\n",
    "Let's say we want to build a Agents with multiple tools. Let's try to provide the following functionality: \n",
    "\n",
    "1. Retrieve the skills of a person.\n",
    "   - Input: Person\n",
    "   - Output: Skills\n",
    "   - Example: *What skills does Kristof Neys have?* \n",
    "3. Retrieve similar skills to other skills.\n",
    "   - Input: Skills\n",
    "   - Output: Skills\n",
    "   - Example: *What skills are similar to PowerBI and Data Visualization?*\n",
    "4. Retrieve similar persons to a person specified.  \n",
    "   - Input: Person\n",
    "   - Output: Person\n",
    "   - Example: *\"Which persons have similar skills as Kristof Neys?\"*\n",
    "6. Retrieve Persons based on a set of skills.\n",
    "   - Input: Skills\n",
    "   - Output: Person\n",
    "   - Example: *Which persons have Python and AWS experience?*"
   ]
  },
  {
   "cell_type": "code",
   "execution_count": 9,
   "metadata": {},
   "outputs": [],
   "source": [
    "embeddings = OpenAIEmbeddings(model=EMBEDDINGS_MODEL)"
   ]
  },
  {
   "cell_type": "markdown",
   "metadata": {},
   "source": [
    "## 1 - Retrieve Skills of Person"
   ]
  },
  {
   "cell_type": "markdown",
   "metadata": {},
   "source": [
    "Find the connected skills given a person name."
   ]
  },
  {
   "cell_type": "code",
   "execution_count": 10,
   "metadata": {},
   "outputs": [],
   "source": [
    "person_name = \"Lucy Turner\""
   ]
  },
  {
   "cell_type": "code",
   "execution_count": 11,
   "metadata": {},
   "outputs": [],
   "source": [
    "person_skills_df = driver.execute_query(\n",
    "    \"\"\"\n",
    "    MATCH (p:Person{name: $person_name})-[:KNOWS]->(s:Skill)\n",
    "    RETURN p.name as name, COLLECT(s.name) as skills\n",
    "    \"\"\",\n",
    "    database_=DATABASE,\n",
    "    routing_=RoutingControl.READ,\n",
    "    result_transformer_= lambda r: r.to_df(),\n",
    "    person_name = person_name\n",
    ")"
   ]
  },
  {
   "cell_type": "code",
   "execution_count": 12,
   "metadata": {},
   "outputs": [
    {
     "data": {
      "text/html": [
       "<div>\n",
       "<style scoped>\n",
       "    .dataframe tbody tr th:only-of-type {\n",
       "        vertical-align: middle;\n",
       "    }\n",
       "\n",
       "    .dataframe tbody tr th {\n",
       "        vertical-align: top;\n",
       "    }\n",
       "\n",
       "    .dataframe thead th {\n",
       "        text-align: right;\n",
       "    }\n",
       "</style>\n",
       "<table border=\"1\" class=\"dataframe\">\n",
       "  <thead>\n",
       "    <tr style=\"text-align: right;\">\n",
       "      <th></th>\n",
       "      <th>name</th>\n",
       "      <th>skills</th>\n",
       "    </tr>\n",
       "  </thead>\n",
       "  <tbody>\n",
       "    <tr>\n",
       "      <th>0</th>\n",
       "      <td>Lucy Turner</td>\n",
       "      <td>[Security, Express.js, Big Data, Scala, Docker]</td>\n",
       "    </tr>\n",
       "  </tbody>\n",
       "</table>\n",
       "</div>"
      ],
      "text/plain": [
       "          name                                           skills\n",
       "0  Lucy Turner  [Security, Express.js, Big Data, Scala, Docker]"
      ]
     },
     "execution_count": 12,
     "metadata": {},
     "output_type": "execute_result"
    }
   ],
   "source": [
    "person_skills_df"
   ]
  },
  {
   "cell_type": "markdown",
   "metadata": {
    "id": "0OMlYdxHWZLx"
   },
   "source": [
    "## 2 - Retrieve similar skills"
   ]
  },
  {
   "cell_type": "markdown",
   "metadata": {
    "id": "volCOjn_jjm3"
   },
   "source": [
    "Retrieve skills based on a list of skills"
   ]
  },
  {
   "cell_type": "code",
   "execution_count": 13,
   "metadata": {},
   "outputs": [],
   "source": [
    "skills = ['Contineous Delivery', 'Cloud Native', 'Security']\n",
    "skills_vectors = embeddings.embed_documents(skills)"
   ]
  },
  {
   "cell_type": "code",
   "execution_count": 14,
   "metadata": {
    "id": "volCOjn_jjm3"
   },
   "outputs": [],
   "source": [
    "search_persons_with_skills_df = driver.execute_query(\n",
    "    \"\"\"\n",
    "        UNWIND $skills_vectors AS v\n",
    "        CALL db.index.vector.queryNodes('skill-embeddings', 3, TOFLOATLIST(v)) YIELD node, score\n",
    "        WHERE score > 0.89\n",
    "        OPTIONAL MATCH (node)-[:SIMILAR_SEMANTIC]-(s:Skill)\n",
    "        WITH COLLECT(node) AS nodes, COLLECT(DISTINCT s) AS skills\n",
    "        WITH nodes + skills AS all_skills\n",
    "        UNWIND all_skills AS skill\n",
    "        RETURN DISTINCT skill.name as skill_name\n",
    "    \"\"\",\n",
    "    database_=DATABASE,\n",
    "    routing_=RoutingControl.READ,\n",
    "    result_transformer_= lambda r: r.to_df(),\n",
    "    skills_vectors = skills_vectors\n",
    ")"
   ]
  },
  {
   "cell_type": "code",
   "execution_count": 15,
   "metadata": {},
   "outputs": [
    {
     "data": {
      "text/html": [
       "<div>\n",
       "<style scoped>\n",
       "    .dataframe tbody tr th:only-of-type {\n",
       "        vertical-align: middle;\n",
       "    }\n",
       "\n",
       "    .dataframe tbody tr th {\n",
       "        vertical-align: top;\n",
       "    }\n",
       "\n",
       "    .dataframe thead th {\n",
       "        text-align: right;\n",
       "    }\n",
       "</style>\n",
       "<table border=\"1\" class=\"dataframe\">\n",
       "  <thead>\n",
       "    <tr style=\"text-align: right;\">\n",
       "      <th></th>\n",
       "      <th>skill_name</th>\n",
       "    </tr>\n",
       "  </thead>\n",
       "  <tbody>\n",
       "    <tr>\n",
       "      <th>0</th>\n",
       "      <td>CI/CD</td>\n",
       "    </tr>\n",
       "    <tr>\n",
       "      <th>1</th>\n",
       "      <td>Cloud Architecture</td>\n",
       "    </tr>\n",
       "    <tr>\n",
       "      <th>2</th>\n",
       "      <td>Azure</td>\n",
       "    </tr>\n",
       "    <tr>\n",
       "      <th>3</th>\n",
       "      <td>AWS</td>\n",
       "    </tr>\n",
       "    <tr>\n",
       "      <th>4</th>\n",
       "      <td>Security</td>\n",
       "    </tr>\n",
       "    <tr>\n",
       "      <th>5</th>\n",
       "      <td>DevOps</td>\n",
       "    </tr>\n",
       "    <tr>\n",
       "      <th>6</th>\n",
       "      <td>Jenkins</td>\n",
       "    </tr>\n",
       "  </tbody>\n",
       "</table>\n",
       "</div>"
      ],
      "text/plain": [
       "           skill_name\n",
       "0               CI/CD\n",
       "1  Cloud Architecture\n",
       "2               Azure\n",
       "3                 AWS\n",
       "4            Security\n",
       "5              DevOps\n",
       "6             Jenkins"
      ]
     },
     "execution_count": 15,
     "metadata": {},
     "output_type": "execute_result"
    }
   ],
   "source": [
    "search_persons_with_skills_df"
   ]
  },
  {
   "cell_type": "markdown",
   "metadata": {},
   "source": [
    "## 3 - Person Similarity"
   ]
  },
  {
   "cell_type": "markdown",
   "metadata": {},
   "source": [
    "## Strategy 3.1 - Communities"
   ]
  },
  {
   "cell_type": "markdown",
   "metadata": {},
   "source": [
    "We can use the community here to find similar people"
   ]
  },
  {
   "cell_type": "code",
   "execution_count": 16,
   "metadata": {},
   "outputs": [],
   "source": [
    "person_name_1 = \"John Garcia\""
   ]
  },
  {
   "cell_type": "code",
   "execution_count": 17,
   "metadata": {},
   "outputs": [],
   "source": [
    "person_similarity_community_df = driver.execute_query(\n",
    "    \"\"\"\n",
    "    MATCH (p1:Person {name: $person_name_1})-[:KNOWS]->(s:Skill)\n",
    "    WITH p1, COLLECT(s.name) as s1\n",
    "    MATCH (p2:Person {leiden_community: p1.leiden_community})-[:KNOWS]->(s2:Skill)\n",
    "    RETURN p1.name AS person_1, s1 AS skills_1, p2.name AS person_2, COLLECT(s2.name) AS skills_2\n",
    "    \"\"\",\n",
    "    database_=DATABASE,\n",
    "    routing_=RoutingControl.READ,\n",
    "    result_transformer_= lambda r: r.to_df(),\n",
    "    person_name_1 = person_name_1\n",
    ")"
   ]
  },
  {
   "cell_type": "code",
   "execution_count": 18,
   "metadata": {},
   "outputs": [
    {
     "data": {
      "text/html": [
       "<div>\n",
       "<style scoped>\n",
       "    .dataframe tbody tr th:only-of-type {\n",
       "        vertical-align: middle;\n",
       "    }\n",
       "\n",
       "    .dataframe tbody tr th {\n",
       "        vertical-align: top;\n",
       "    }\n",
       "\n",
       "    .dataframe thead th {\n",
       "        text-align: right;\n",
       "    }\n",
       "</style>\n",
       "<table border=\"1\" class=\"dataframe\">\n",
       "  <thead>\n",
       "    <tr style=\"text-align: right;\">\n",
       "      <th></th>\n",
       "      <th>person_1</th>\n",
       "      <th>skills_1</th>\n",
       "      <th>person_2</th>\n",
       "      <th>skills_2</th>\n",
       "    </tr>\n",
       "  </thead>\n",
       "  <tbody>\n",
       "    <tr>\n",
       "      <th>0</th>\n",
       "      <td>John Garcia</td>\n",
       "      <td>[Security, PyTorch, HTML5, Ruby, AWS]</td>\n",
       "      <td>Thomas Nelson</td>\n",
       "      <td>[Security, Pandas, Go]</td>\n",
       "    </tr>\n",
       "    <tr>\n",
       "      <th>1</th>\n",
       "      <td>John Garcia</td>\n",
       "      <td>[Security, PyTorch, HTML5, Ruby, AWS]</td>\n",
       "      <td>Lucy Turner</td>\n",
       "      <td>[Security, Express.js, Big Data, Scala, Docker]</td>\n",
       "    </tr>\n",
       "    <tr>\n",
       "      <th>2</th>\n",
       "      <td>John Garcia</td>\n",
       "      <td>[Security, PyTorch, HTML5, Ruby, AWS]</td>\n",
       "      <td>Sophie Jackson</td>\n",
       "      <td>[Security, Pandas, Linux, Angular]</td>\n",
       "    </tr>\n",
       "    <tr>\n",
       "      <th>3</th>\n",
       "      <td>John Garcia</td>\n",
       "      <td>[Security, PyTorch, HTML5, Ruby, AWS]</td>\n",
       "      <td>Mia Nelson</td>\n",
       "      <td>[Security, WordPress, Big Data, Swift, AWS]</td>\n",
       "    </tr>\n",
       "    <tr>\n",
       "      <th>4</th>\n",
       "      <td>John Garcia</td>\n",
       "      <td>[Security, PyTorch, HTML5, Ruby, AWS]</td>\n",
       "      <td>David Lopez</td>\n",
       "      <td>[Security, WordPress, PHP]</td>\n",
       "    </tr>\n",
       "    <tr>\n",
       "      <th>5</th>\n",
       "      <td>John Garcia</td>\n",
       "      <td>[Security, PyTorch, HTML5, Ruby, AWS]</td>\n",
       "      <td>Thomas Brown</td>\n",
       "      <td>[Security, R, Java, Docker]</td>\n",
       "    </tr>\n",
       "    <tr>\n",
       "      <th>6</th>\n",
       "      <td>John Garcia</td>\n",
       "      <td>[Security, PyTorch, HTML5, Ruby, AWS]</td>\n",
       "      <td>Isabella Allen</td>\n",
       "      <td>[Security, Scala, Cloud Architecture]</td>\n",
       "    </tr>\n",
       "    <tr>\n",
       "      <th>7</th>\n",
       "      <td>John Garcia</td>\n",
       "      <td>[Security, PyTorch, HTML5, Ruby, AWS]</td>\n",
       "      <td>Olivia Johnson</td>\n",
       "      <td>[Security, Angular, CI/CD]</td>\n",
       "    </tr>\n",
       "    <tr>\n",
       "      <th>8</th>\n",
       "      <td>John Garcia</td>\n",
       "      <td>[Security, PyTorch, HTML5, Ruby, AWS]</td>\n",
       "      <td>Amelia Davis</td>\n",
       "      <td>[Security, PyTorch, Java, HTML5, Docker]</td>\n",
       "    </tr>\n",
       "    <tr>\n",
       "      <th>9</th>\n",
       "      <td>John Garcia</td>\n",
       "      <td>[Security, PyTorch, HTML5, Ruby, AWS]</td>\n",
       "      <td>Emily Phillips</td>\n",
       "      <td>[Security, Vue.js, PHP, Kubernetes, Data Visua...</td>\n",
       "    </tr>\n",
       "    <tr>\n",
       "      <th>10</th>\n",
       "      <td>John Garcia</td>\n",
       "      <td>[Security, PyTorch, HTML5, Ruby, AWS]</td>\n",
       "      <td>John Garcia</td>\n",
       "      <td>[Security, PyTorch, HTML5, Ruby, AWS]</td>\n",
       "    </tr>\n",
       "    <tr>\n",
       "      <th>11</th>\n",
       "      <td>John Garcia</td>\n",
       "      <td>[Security, PyTorch, HTML5, Ruby, AWS]</td>\n",
       "      <td>James Anderson</td>\n",
       "      <td>[Security, R, JavaScript, Node.js]</td>\n",
       "    </tr>\n",
       "    <tr>\n",
       "      <th>12</th>\n",
       "      <td>John Garcia</td>\n",
       "      <td>[Security, PyTorch, HTML5, Ruby, AWS]</td>\n",
       "      <td>Matthew Moore</td>\n",
       "      <td>[Security, TensorFlow, Spring Boot, Swift]</td>\n",
       "    </tr>\n",
       "  </tbody>\n",
       "</table>\n",
       "</div>"
      ],
      "text/plain": [
       "       person_1                               skills_1        person_2  \\\n",
       "0   John Garcia  [Security, PyTorch, HTML5, Ruby, AWS]   Thomas Nelson   \n",
       "1   John Garcia  [Security, PyTorch, HTML5, Ruby, AWS]     Lucy Turner   \n",
       "2   John Garcia  [Security, PyTorch, HTML5, Ruby, AWS]  Sophie Jackson   \n",
       "3   John Garcia  [Security, PyTorch, HTML5, Ruby, AWS]      Mia Nelson   \n",
       "4   John Garcia  [Security, PyTorch, HTML5, Ruby, AWS]     David Lopez   \n",
       "5   John Garcia  [Security, PyTorch, HTML5, Ruby, AWS]    Thomas Brown   \n",
       "6   John Garcia  [Security, PyTorch, HTML5, Ruby, AWS]  Isabella Allen   \n",
       "7   John Garcia  [Security, PyTorch, HTML5, Ruby, AWS]  Olivia Johnson   \n",
       "8   John Garcia  [Security, PyTorch, HTML5, Ruby, AWS]    Amelia Davis   \n",
       "9   John Garcia  [Security, PyTorch, HTML5, Ruby, AWS]  Emily Phillips   \n",
       "10  John Garcia  [Security, PyTorch, HTML5, Ruby, AWS]     John Garcia   \n",
       "11  John Garcia  [Security, PyTorch, HTML5, Ruby, AWS]  James Anderson   \n",
       "12  John Garcia  [Security, PyTorch, HTML5, Ruby, AWS]   Matthew Moore   \n",
       "\n",
       "                                             skills_2  \n",
       "0                              [Security, Pandas, Go]  \n",
       "1     [Security, Express.js, Big Data, Scala, Docker]  \n",
       "2                  [Security, Pandas, Linux, Angular]  \n",
       "3         [Security, WordPress, Big Data, Swift, AWS]  \n",
       "4                          [Security, WordPress, PHP]  \n",
       "5                         [Security, R, Java, Docker]  \n",
       "6               [Security, Scala, Cloud Architecture]  \n",
       "7                          [Security, Angular, CI/CD]  \n",
       "8            [Security, PyTorch, Java, HTML5, Docker]  \n",
       "9   [Security, Vue.js, PHP, Kubernetes, Data Visua...  \n",
       "10              [Security, PyTorch, HTML5, Ruby, AWS]  \n",
       "11                 [Security, R, JavaScript, Node.js]  \n",
       "12         [Security, TensorFlow, Spring Boot, Swift]  "
      ]
     },
     "execution_count": 18,
     "metadata": {},
     "output_type": "execute_result"
    }
   ],
   "source": [
    "person_similarity_community_df"
   ]
  },
  {
   "cell_type": "markdown",
   "metadata": {},
   "source": [
    "### Strategy 3.2 - Similar Skillsets"
   ]
  },
  {
   "cell_type": "markdown",
   "metadata": {},
   "source": [
    "We can use the SIMILAR_SKILLSET relationship to find similar persons"
   ]
  },
  {
   "cell_type": "code",
   "execution_count": 19,
   "metadata": {},
   "outputs": [],
   "source": [
    "person_name_1 = \"John Garcia\""
   ]
  },
  {
   "cell_type": "code",
   "execution_count": 20,
   "metadata": {},
   "outputs": [],
   "source": [
    "person_similar_skillset_df = driver.execute_query(\n",
    "    \"\"\"\n",
    "    MATCH (p1:Person {name: $person_name_1})-[:KNOWS]->(s:Skill)\n",
    "    WITH p1, COLLECT(s.name) as s1\n",
    "    MATCH (p1)-[r:SIMILAR_SKILLSET]-(p2:Person)-[:KNOWS]->(s2:Skill)\n",
    "    WHERE r.overlap > 1\n",
    "    RETURN p1.name AS person_1, s1 AS skills_1, p2.name AS person_2, COLLECT(DISTINCT s2.name) AS skills_2\n",
    "    \"\"\",\n",
    "    database_=DATABASE,\n",
    "    routing_=RoutingControl.READ,\n",
    "    result_transformer_= lambda r: r.to_df(),\n",
    "    person_name_1 = person_name_1\n",
    ")"
   ]
  },
  {
   "cell_type": "code",
   "execution_count": 21,
   "metadata": {},
   "outputs": [
    {
     "data": {
      "text/html": [
       "<div>\n",
       "<style scoped>\n",
       "    .dataframe tbody tr th:only-of-type {\n",
       "        vertical-align: middle;\n",
       "    }\n",
       "\n",
       "    .dataframe tbody tr th {\n",
       "        vertical-align: top;\n",
       "    }\n",
       "\n",
       "    .dataframe thead th {\n",
       "        text-align: right;\n",
       "    }\n",
       "</style>\n",
       "<table border=\"1\" class=\"dataframe\">\n",
       "  <thead>\n",
       "    <tr style=\"text-align: right;\">\n",
       "      <th></th>\n",
       "      <th>person_1</th>\n",
       "      <th>skills_1</th>\n",
       "      <th>person_2</th>\n",
       "      <th>skills_2</th>\n",
       "    </tr>\n",
       "  </thead>\n",
       "  <tbody>\n",
       "    <tr>\n",
       "      <th>0</th>\n",
       "      <td>John Garcia</td>\n",
       "      <td>[Security, PyTorch, HTML5, Ruby, AWS]</td>\n",
       "      <td>Mia Nelson</td>\n",
       "      <td>[Security, WordPress, Big Data, Swift, AWS]</td>\n",
       "    </tr>\n",
       "    <tr>\n",
       "      <th>1</th>\n",
       "      <td>John Garcia</td>\n",
       "      <td>[Security, PyTorch, HTML5, Ruby, AWS]</td>\n",
       "      <td>Matthew Miller</td>\n",
       "      <td>[TensorFlow, Ruby, AWS, ReactJS]</td>\n",
       "    </tr>\n",
       "    <tr>\n",
       "      <th>2</th>\n",
       "      <td>John Garcia</td>\n",
       "      <td>[Security, PyTorch, HTML5, Ruby, AWS]</td>\n",
       "      <td>Matthew Mitchell</td>\n",
       "      <td>[R, HTML5, Blockchain, Cloud Architecture, Ruby]</td>\n",
       "    </tr>\n",
       "    <tr>\n",
       "      <th>3</th>\n",
       "      <td>John Garcia</td>\n",
       "      <td>[Security, PyTorch, HTML5, Ruby, AWS]</td>\n",
       "      <td>John Taylor</td>\n",
       "      <td>[Pandas, Scrum, CSS3, Ruby, AWS]</td>\n",
       "    </tr>\n",
       "    <tr>\n",
       "      <th>4</th>\n",
       "      <td>John Garcia</td>\n",
       "      <td>[Security, PyTorch, HTML5, Ruby, AWS]</td>\n",
       "      <td>Amelia Davis</td>\n",
       "      <td>[Security, PyTorch, Java, HTML5, Docker]</td>\n",
       "    </tr>\n",
       "  </tbody>\n",
       "</table>\n",
       "</div>"
      ],
      "text/plain": [
       "      person_1                               skills_1          person_2  \\\n",
       "0  John Garcia  [Security, PyTorch, HTML5, Ruby, AWS]        Mia Nelson   \n",
       "1  John Garcia  [Security, PyTorch, HTML5, Ruby, AWS]    Matthew Miller   \n",
       "2  John Garcia  [Security, PyTorch, HTML5, Ruby, AWS]  Matthew Mitchell   \n",
       "3  John Garcia  [Security, PyTorch, HTML5, Ruby, AWS]       John Taylor   \n",
       "4  John Garcia  [Security, PyTorch, HTML5, Ruby, AWS]      Amelia Davis   \n",
       "\n",
       "                                           skills_2  \n",
       "0       [Security, WordPress, Big Data, Swift, AWS]  \n",
       "1                  [TensorFlow, Ruby, AWS, ReactJS]  \n",
       "2  [R, HTML5, Blockchain, Cloud Architecture, Ruby]  \n",
       "3                  [Pandas, Scrum, CSS3, Ruby, AWS]  \n",
       "4          [Security, PyTorch, Java, HTML5, Docker]  "
      ]
     },
     "execution_count": 21,
     "metadata": {},
     "output_type": "execute_result"
    }
   ],
   "source": [
    "person_similar_skillset_df"
   ]
  },
  {
   "cell_type": "markdown",
   "metadata": {},
   "source": [
    "### Strategy 3.3 Similar Skillsets and Semantic Meaning"
   ]
  },
  {
   "cell_type": "markdown",
   "metadata": {},
   "source": [
    "Use the Semantic Meaning and Skill overlap to find people with similar skills"
   ]
  },
  {
   "cell_type": "code",
   "execution_count": 22,
   "metadata": {},
   "outputs": [],
   "source": [
    "person_name_1 = \"John Garcia\""
   ]
  },
  {
   "cell_type": "code",
   "execution_count": 23,
   "metadata": {},
   "outputs": [],
   "source": [
    "person_similarity_df = driver.execute_query(\n",
    "    \"\"\"\n",
    "    MATCH (p1:Person {name: $person_name_1})-[:KNOWS]->(s:Skill)\n",
    "    WITH p1, COLLECT(s.name) as skills_1\n",
    "    CALL (p1){\n",
    "      MATCH (p1)-[:KNOWS]->(s1:Skill)-[r:SIMILAR_SEMANTIC]-(s2:Skill)<-[:KNOWS]-(p2:Person)\n",
    "      RETURN p1 as person_1, p2 as person_2, SUM(r.score) AS score\n",
    "      UNION \n",
    "      MATCH (p1)-[r:SIMILAR_SKILLSET]->(p2:Person)\n",
    "      RETURN p1 as person_1, p2 AS person_2, SUM(r.overlap) AS score\n",
    "    }\n",
    "    WITH person_1.name as person_1, skills_1, person_2, SUM(score) as score\n",
    "    WHERE score >= 1\n",
    "    MATCH (person_2)-[:KNOWS]->(s:Skill)\n",
    "    RETURN person_1, skills_1,  person_2.name as person_2, COLLECT(s.name) as skills_2, score\n",
    "    ORDER BY score DESC LIMIT 5\n",
    "    \"\"\",\n",
    "    database_=DATABASE,\n",
    "    routing_=RoutingControl.READ,\n",
    "    result_transformer_= lambda r: r.to_df(),\n",
    "    person_name_1 = person_name_1\n",
    ")"
   ]
  },
  {
   "cell_type": "code",
   "execution_count": 24,
   "metadata": {},
   "outputs": [
    {
     "data": {
      "text/html": [
       "<div>\n",
       "<style scoped>\n",
       "    .dataframe tbody tr th:only-of-type {\n",
       "        vertical-align: middle;\n",
       "    }\n",
       "\n",
       "    .dataframe tbody tr th {\n",
       "        vertical-align: top;\n",
       "    }\n",
       "\n",
       "    .dataframe thead th {\n",
       "        text-align: right;\n",
       "    }\n",
       "</style>\n",
       "<table border=\"1\" class=\"dataframe\">\n",
       "  <thead>\n",
       "    <tr style=\"text-align: right;\">\n",
       "      <th></th>\n",
       "      <th>person_1</th>\n",
       "      <th>skills_1</th>\n",
       "      <th>person_2</th>\n",
       "      <th>skills_2</th>\n",
       "      <th>score</th>\n",
       "    </tr>\n",
       "  </thead>\n",
       "  <tbody>\n",
       "    <tr>\n",
       "      <th>0</th>\n",
       "      <td>John Garcia</td>\n",
       "      <td>[Security, PyTorch, HTML5, Ruby, AWS]</td>\n",
       "      <td>Matthew Miller</td>\n",
       "      <td>[TensorFlow, Ruby, AWS, ReactJS]</td>\n",
       "      <td>2.933380</td>\n",
       "    </tr>\n",
       "    <tr>\n",
       "      <th>1</th>\n",
       "      <td>John Garcia</td>\n",
       "      <td>[Security, PyTorch, HTML5, Ruby, AWS]</td>\n",
       "      <td>Matthew Mitchell</td>\n",
       "      <td>[R, HTML5, Blockchain, Cloud Architecture, Ruby]</td>\n",
       "      <td>2.931610</td>\n",
       "    </tr>\n",
       "    <tr>\n",
       "      <th>2</th>\n",
       "      <td>John Garcia</td>\n",
       "      <td>[Security, PyTorch, HTML5, Ruby, AWS]</td>\n",
       "      <td>John Johnson</td>\n",
       "      <td>[WordPress, TensorFlow, AWS, Project Managemen...</td>\n",
       "      <td>2.863373</td>\n",
       "    </tr>\n",
       "    <tr>\n",
       "      <th>3</th>\n",
       "      <td>John Garcia</td>\n",
       "      <td>[Security, PyTorch, HTML5, Ruby, AWS]</td>\n",
       "      <td>Mia Nelson</td>\n",
       "      <td>[Security, WordPress, Big Data, Swift, AWS]</td>\n",
       "      <td>2.000000</td>\n",
       "    </tr>\n",
       "    <tr>\n",
       "      <th>4</th>\n",
       "      <td>John Garcia</td>\n",
       "      <td>[Security, PyTorch, HTML5, Ruby, AWS]</td>\n",
       "      <td>John Taylor</td>\n",
       "      <td>[Pandas, Scrum, CSS3, Ruby, AWS]</td>\n",
       "      <td>2.000000</td>\n",
       "    </tr>\n",
       "  </tbody>\n",
       "</table>\n",
       "</div>"
      ],
      "text/plain": [
       "      person_1                               skills_1          person_2  \\\n",
       "0  John Garcia  [Security, PyTorch, HTML5, Ruby, AWS]    Matthew Miller   \n",
       "1  John Garcia  [Security, PyTorch, HTML5, Ruby, AWS]  Matthew Mitchell   \n",
       "2  John Garcia  [Security, PyTorch, HTML5, Ruby, AWS]      John Johnson   \n",
       "3  John Garcia  [Security, PyTorch, HTML5, Ruby, AWS]        Mia Nelson   \n",
       "4  John Garcia  [Security, PyTorch, HTML5, Ruby, AWS]       John Taylor   \n",
       "\n",
       "                                            skills_2     score  \n",
       "0                   [TensorFlow, Ruby, AWS, ReactJS]  2.933380  \n",
       "1   [R, HTML5, Blockchain, Cloud Architecture, Ruby]  2.931610  \n",
       "2  [WordPress, TensorFlow, AWS, Project Managemen...  2.863373  \n",
       "3        [Security, WordPress, Big Data, Swift, AWS]  2.000000  \n",
       "4                   [Pandas, Scrum, CSS3, Ruby, AWS]  2.000000  "
      ]
     },
     "execution_count": 24,
     "metadata": {},
     "output_type": "execute_result"
    }
   ],
   "source": [
    "person_similarity_df"
   ]
  },
  {
   "cell_type": "markdown",
   "metadata": {},
   "source": [
    "## 4 - Recommendation of Person given skills"
   ]
  },
  {
   "cell_type": "markdown",
   "metadata": {},
   "source": [
    "## Vector Index Search"
   ]
  },
  {
   "cell_type": "code",
   "execution_count": 25,
   "metadata": {},
   "outputs": [],
   "source": [
    "skills = ['AWS', 'Security']"
   ]
  },
  {
   "cell_type": "code",
   "execution_count": 26,
   "metadata": {},
   "outputs": [],
   "source": [
    "skills_vectors = embeddings.embed_documents(skills)"
   ]
  },
  {
   "cell_type": "markdown",
   "metadata": {},
   "source": [
    "We get the approximate top 10 nearest nodes to the search vector `v` and take the 3 first returned. Then put them together in a list (`skill_list`) and does same ranking as before (number of skills)"
   ]
  },
  {
   "cell_type": "code",
   "execution_count": 27,
   "metadata": {},
   "outputs": [],
   "source": [
    "nn_df = driver.execute_query(\n",
    "    \"\"\"UNWIND $skills_vectors AS v\n",
    "    CALL db.index.vector.queryNodes('skill-embeddings', 3, TOFLOATLIST(v)) YIELD node, score\n",
    "    WHERE score > 0.85\n",
    "    WITH v as embedding, COALESCE(COLLECT(node.name), []) AS top\n",
    "    RETURN *\n",
    "    \"\"\",\n",
    "    database_=DATABASE,\n",
    "    routing_=RoutingControl.READ,\n",
    "    result_transformer_= lambda r: r.to_df(),\n",
    "    skills_vectors = skills_vectors\n",
    ")\n",
    "nn_df['skills'] = skills\n",
    "cols = list(nn_df.columns)[-1:] + list(nn_df.columns)[:-1]\n",
    "nn_df = nn_df[cols]"
   ]
  },
  {
   "cell_type": "code",
   "execution_count": 28,
   "metadata": {},
   "outputs": [
    {
     "data": {
      "text/html": [
       "<div>\n",
       "<style scoped>\n",
       "    .dataframe tbody tr th:only-of-type {\n",
       "        vertical-align: middle;\n",
       "    }\n",
       "\n",
       "    .dataframe tbody tr th {\n",
       "        vertical-align: top;\n",
       "    }\n",
       "\n",
       "    .dataframe thead th {\n",
       "        text-align: right;\n",
       "    }\n",
       "</style>\n",
       "<table border=\"1\" class=\"dataframe\">\n",
       "  <thead>\n",
       "    <tr style=\"text-align: right;\">\n",
       "      <th></th>\n",
       "      <th>skills</th>\n",
       "      <th>embedding</th>\n",
       "      <th>top</th>\n",
       "    </tr>\n",
       "  </thead>\n",
       "  <tbody>\n",
       "    <tr>\n",
       "      <th>0</th>\n",
       "      <td>AWS</td>\n",
       "      <td>[-0.004132895264774561, -0.017077714204788208,...</td>\n",
       "      <td>[AWS, Azure, Cloud Architecture]</td>\n",
       "    </tr>\n",
       "    <tr>\n",
       "      <th>1</th>\n",
       "      <td>Security</td>\n",
       "      <td>[0.01840578392148018, -0.011083670891821384, -...</td>\n",
       "      <td>[Security, Rust, Linux]</td>\n",
       "    </tr>\n",
       "  </tbody>\n",
       "</table>\n",
       "</div>"
      ],
      "text/plain": [
       "     skills                                          embedding  \\\n",
       "0       AWS  [-0.004132895264774561, -0.017077714204788208,...   \n",
       "1  Security  [0.01840578392148018, -0.011083670891821384, -...   \n",
       "\n",
       "                                top  \n",
       "0  [AWS, Azure, Cloud Architecture]  \n",
       "1           [Security, Rust, Linux]  "
      ]
     },
     "execution_count": 28,
     "metadata": {},
     "output_type": "execute_result"
    }
   ],
   "source": [
    "nn_df"
   ]
  },
  {
   "cell_type": "code",
   "execution_count": 29,
   "metadata": {},
   "outputs": [],
   "source": [
    "find_persons_given_skills_df = driver.execute_query(\n",
    "    \"\"\"\n",
    "    UNWIND $skills_vectors AS v\n",
    "    CALL db.index.vector.queryNodes('skill-embeddings', 3, TOFLOATLIST(v)) YIELD node, score\n",
    "    WHERE score > 0.85\n",
    "    OPTIONAL MATCH (node)-[:SIMILAR_SEMANTIC]-(s:Skill)\n",
    "    WITH COLLECT(node) AS nodes, COLLECT(DISTINCT s) AS skills\n",
    "    WITH nodes + skills AS all_skills\n",
    "    UNWIND all_skills AS skill\n",
    "    MATCH (p:Person)-[:KNOWS]->(skill)\n",
    "    RETURN p.name AS person, COUNT(DISTINCT(skill)) AS skill_count, COLLECT(DISTINCT(skill.name)) as similar_skills\n",
    "    ORDER BY skill_count DESC LIMIT 10\n",
    "    \"\"\",\n",
    "    database_=DATABASE,\n",
    "    routing_=RoutingControl.READ,\n",
    "    result_transformer_= lambda r: r.to_df(),\n",
    "    skills_vectors = skills_vectors\n",
    ")"
   ]
  },
  {
   "cell_type": "code",
   "execution_count": 30,
   "metadata": {},
   "outputs": [
    {
     "data": {
      "text/html": [
       "<div>\n",
       "<style scoped>\n",
       "    .dataframe tbody tr th:only-of-type {\n",
       "        vertical-align: middle;\n",
       "    }\n",
       "\n",
       "    .dataframe tbody tr th {\n",
       "        vertical-align: top;\n",
       "    }\n",
       "\n",
       "    .dataframe thead th {\n",
       "        text-align: right;\n",
       "    }\n",
       "</style>\n",
       "<table border=\"1\" class=\"dataframe\">\n",
       "  <thead>\n",
       "    <tr style=\"text-align: right;\">\n",
       "      <th></th>\n",
       "      <th>person</th>\n",
       "      <th>skill_count</th>\n",
       "      <th>similar_skills</th>\n",
       "    </tr>\n",
       "  </thead>\n",
       "  <tbody>\n",
       "    <tr>\n",
       "      <th>0</th>\n",
       "      <td>Natalie Turner</td>\n",
       "      <td>2</td>\n",
       "      <td>[Rust, Linux]</td>\n",
       "    </tr>\n",
       "    <tr>\n",
       "      <th>1</th>\n",
       "      <td>Mia Nelson</td>\n",
       "      <td>2</td>\n",
       "      <td>[AWS, Security]</td>\n",
       "    </tr>\n",
       "    <tr>\n",
       "      <th>2</th>\n",
       "      <td>Brian Jackson</td>\n",
       "      <td>2</td>\n",
       "      <td>[Cloud Architecture, Rust]</td>\n",
       "    </tr>\n",
       "    <tr>\n",
       "      <th>3</th>\n",
       "      <td>Sophie Jackson</td>\n",
       "      <td>2</td>\n",
       "      <td>[Security, Linux]</td>\n",
       "    </tr>\n",
       "    <tr>\n",
       "      <th>4</th>\n",
       "      <td>John Garcia</td>\n",
       "      <td>2</td>\n",
       "      <td>[AWS, Security]</td>\n",
       "    </tr>\n",
       "    <tr>\n",
       "      <th>5</th>\n",
       "      <td>Isabella Allen</td>\n",
       "      <td>2</td>\n",
       "      <td>[Cloud Architecture, Security]</td>\n",
       "    </tr>\n",
       "    <tr>\n",
       "      <th>6</th>\n",
       "      <td>John Taylor</td>\n",
       "      <td>1</td>\n",
       "      <td>[AWS]</td>\n",
       "    </tr>\n",
       "    <tr>\n",
       "      <th>7</th>\n",
       "      <td>Brian Thompson</td>\n",
       "      <td>1</td>\n",
       "      <td>[AWS]</td>\n",
       "    </tr>\n",
       "    <tr>\n",
       "      <th>8</th>\n",
       "      <td>Matthew Miller</td>\n",
       "      <td>1</td>\n",
       "      <td>[AWS]</td>\n",
       "    </tr>\n",
       "    <tr>\n",
       "      <th>9</th>\n",
       "      <td>Natalie Miller</td>\n",
       "      <td>1</td>\n",
       "      <td>[Azure]</td>\n",
       "    </tr>\n",
       "  </tbody>\n",
       "</table>\n",
       "</div>"
      ],
      "text/plain": [
       "           person  skill_count                  similar_skills\n",
       "0  Natalie Turner            2                   [Rust, Linux]\n",
       "1      Mia Nelson            2                 [AWS, Security]\n",
       "2   Brian Jackson            2      [Cloud Architecture, Rust]\n",
       "3  Sophie Jackson            2               [Security, Linux]\n",
       "4     John Garcia            2                 [AWS, Security]\n",
       "5  Isabella Allen            2  [Cloud Architecture, Security]\n",
       "6     John Taylor            1                           [AWS]\n",
       "7  Brian Thompson            1                           [AWS]\n",
       "8  Matthew Miller            1                           [AWS]\n",
       "9  Natalie Miller            1                         [Azure]"
      ]
     },
     "execution_count": 30,
     "metadata": {},
     "output_type": "execute_result"
    }
   ],
   "source": [
    "find_persons_given_skills_df"
   ]
  },
  {
   "cell_type": "markdown",
   "metadata": {},
   "source": [
    "## Agents with GraphRAG"
   ]
  },
  {
   "cell_type": "markdown",
   "metadata": {},
   "source": [
    "### Lets create a Retrieval agent"
   ]
  },
  {
   "cell_type": "code",
   "execution_count": 31,
   "metadata": {},
   "outputs": [],
   "source": [
    "class Skill(BaseModel):\n",
    "    \"\"\"\n",
    "    Represents a professional skill or knowledge of a person.\n",
    "    \"\"\"\n",
    "    name: str = Field(..., description=\"Sortened name of the skill\")"
   ]
  },
  {
   "cell_type": "markdown",
   "metadata": {},
   "source": [
    "### Tool 1"
   ]
  },
  {
   "cell_type": "code",
   "execution_count": 32,
   "metadata": {},
   "outputs": [],
   "source": [
    "def retrieve_skills_of_person(person_name: str) -> pd.DataFrame:\n",
    "    \"\"\"Retrieve the skills of a person. Person is provided with it's name\"\"\"\n",
    "    return driver.execute_query(\n",
    "        \"\"\"\n",
    "        MATCH (p:Person{name: $person_name})-[:KNOWS]->(s:Skill)\n",
    "        RETURN p.name as name, COLLECT(s.name) as skills\n",
    "        \"\"\",\n",
    "        database_=DATABASE,\n",
    "        routing_=RoutingControl.READ,\n",
    "        result_transformer_= lambda r: r.to_df(),\n",
    "        person_name = person_name\n",
    "    )"
   ]
  },
  {
   "cell_type": "code",
   "execution_count": 33,
   "metadata": {},
   "outputs": [
    {
     "data": {
      "text/html": [
       "<div>\n",
       "<style scoped>\n",
       "    .dataframe tbody tr th:only-of-type {\n",
       "        vertical-align: middle;\n",
       "    }\n",
       "\n",
       "    .dataframe tbody tr th {\n",
       "        vertical-align: top;\n",
       "    }\n",
       "\n",
       "    .dataframe thead th {\n",
       "        text-align: right;\n",
       "    }\n",
       "</style>\n",
       "<table border=\"1\" class=\"dataframe\">\n",
       "  <thead>\n",
       "    <tr style=\"text-align: right;\">\n",
       "      <th></th>\n",
       "      <th>name</th>\n",
       "      <th>skills</th>\n",
       "    </tr>\n",
       "  </thead>\n",
       "  <tbody>\n",
       "    <tr>\n",
       "      <th>0</th>\n",
       "      <td>Mia Nelson</td>\n",
       "      <td>[Security, WordPress, Big Data, Swift, AWS]</td>\n",
       "    </tr>\n",
       "  </tbody>\n",
       "</table>\n",
       "</div>"
      ],
      "text/plain": [
       "         name                                       skills\n",
       "0  Mia Nelson  [Security, WordPress, Big Data, Swift, AWS]"
      ]
     },
     "execution_count": 33,
     "metadata": {},
     "output_type": "execute_result"
    }
   ],
   "source": [
    "retrieve_skills_of_person('Mia Nelson') "
   ]
  },
  {
   "cell_type": "markdown",
   "metadata": {},
   "source": [
    "### Tool 2"
   ]
  },
  {
   "cell_type": "code",
   "execution_count": 34,
   "metadata": {},
   "outputs": [],
   "source": [
    "def find_similar_skills(skills: List[Skill]) -> pd.DataFrame:\n",
    "    \"\"\"Find similar skills to list of skills specified. Skills are specified by a list of their names\"\"\"\n",
    "    skills = [s.name for s in skills]\n",
    "    skills_vectors = embeddings.embed_documents(skills)\n",
    "    return driver.execute_query(\n",
    "    \"\"\"\n",
    "        UNWIND $skills_vectors AS v\n",
    "        CALL db.index.vector.queryNodes('skill-embeddings', 3, TOFLOATLIST(v)) YIELD node, score\n",
    "        WHERE score > 0.89\n",
    "        OPTIONAL MATCH (node)-[:SIMILAR_SEMANTIC]-(s:Skill)\n",
    "        WITH COLLECT(node) AS nodes, COLLECT(DISTINCT s) AS skills\n",
    "        WITH nodes + skills AS all_skills\n",
    "        UNWIND all_skills AS skill\n",
    "        RETURN DISTINCT skill.name as skill_name\n",
    "    \"\"\",\n",
    "    database_=DATABASE,\n",
    "    routing_=RoutingControl.READ,\n",
    "    result_transformer_= lambda r: r.to_df(),\n",
    "    skills_vectors = skills_vectors\n",
    ")"
   ]
  },
  {
   "cell_type": "code",
   "execution_count": 35,
   "metadata": {},
   "outputs": [
    {
     "data": {
      "text/html": [
       "<div>\n",
       "<style scoped>\n",
       "    .dataframe tbody tr th:only-of-type {\n",
       "        vertical-align: middle;\n",
       "    }\n",
       "\n",
       "    .dataframe tbody tr th {\n",
       "        vertical-align: top;\n",
       "    }\n",
       "\n",
       "    .dataframe thead th {\n",
       "        text-align: right;\n",
       "    }\n",
       "</style>\n",
       "<table border=\"1\" class=\"dataframe\">\n",
       "  <thead>\n",
       "    <tr style=\"text-align: right;\">\n",
       "      <th></th>\n",
       "      <th>skill_name</th>\n",
       "    </tr>\n",
       "  </thead>\n",
       "  <tbody>\n",
       "    <tr>\n",
       "      <th>0</th>\n",
       "      <td>Python</td>\n",
       "    </tr>\n",
       "    <tr>\n",
       "      <th>1</th>\n",
       "      <td>Pandas</td>\n",
       "    </tr>\n",
       "    <tr>\n",
       "      <th>2</th>\n",
       "      <td>Django</td>\n",
       "    </tr>\n",
       "    <tr>\n",
       "      <th>3</th>\n",
       "      <td>Ruby</td>\n",
       "    </tr>\n",
       "    <tr>\n",
       "      <th>4</th>\n",
       "      <td>Java</td>\n",
       "    </tr>\n",
       "    <tr>\n",
       "      <th>5</th>\n",
       "      <td>PHP</td>\n",
       "    </tr>\n",
       "    <tr>\n",
       "      <th>6</th>\n",
       "      <td>C++</td>\n",
       "    </tr>\n",
       "    <tr>\n",
       "      <th>7</th>\n",
       "      <td>Flask</td>\n",
       "    </tr>\n",
       "  </tbody>\n",
       "</table>\n",
       "</div>"
      ],
      "text/plain": [
       "  skill_name\n",
       "0     Python\n",
       "1     Pandas\n",
       "2     Django\n",
       "3       Ruby\n",
       "4       Java\n",
       "5        PHP\n",
       "6        C++\n",
       "7      Flask"
      ]
     },
     "execution_count": 35,
     "metadata": {},
     "output_type": "execute_result"
    }
   ],
   "source": [
    "find_similar_skills([Skill(name='Python')])"
   ]
  },
  {
   "cell_type": "markdown",
   "metadata": {},
   "source": [
    "### Tool 3"
   ]
  },
  {
   "cell_type": "code",
   "execution_count": 36,
   "metadata": {},
   "outputs": [],
   "source": [
    "def person_similarity(person_name: str) -> pd.DataFrame:\n",
    "    \"\"\"Find a similar person to the one specified based on their skill similarity. Persons are provided with their name\"\"\"\n",
    "    \n",
    "    return driver.execute_query(\n",
    "        \"\"\"\n",
    "        MATCH (p1:Person {name: $person_name})-[:KNOWS]->(s:Skill)\n",
    "        WITH p1, COLLECT(s.name) as skills_1\n",
    "        CALL (p1){\n",
    "          MATCH (p1)-[:KNOWS]->(s1:Skill)-[r:SIMILAR_SEMANTIC]-(s2:Skill)<-[:KNOWS]-(p2:Person)\n",
    "          RETURN p1 as person_1, p2 as person_2, SUM(r.score) AS score\n",
    "          UNION \n",
    "          MATCH (p1)-[r:SIMILAR_SKILLSET]->(p2:Person)\n",
    "          RETURN p1 as person_1, p2 AS person_2, SUM(r.overlap) AS score\n",
    "        }\n",
    "        WITH person_1.name as person_1, skills_1, person_2, SUM(score) as score\n",
    "        WHERE score >= 1\n",
    "        MATCH (person_2)-[:KNOWS]->(s:Skill)\n",
    "        RETURN person_1, skills_1,  person_2.name as person_2, COLLECT(s.name) as skills_2, score\n",
    "        ORDER BY score DESC LIMIT 5\n",
    "        \"\"\",\n",
    "        database_=DATABASE,\n",
    "        routing_=RoutingControl.READ,\n",
    "        result_transformer_= lambda r: r.to_df(),\n",
    "        person_name = person_name\n",
    "    )"
   ]
  },
  {
   "cell_type": "code",
   "execution_count": 37,
   "metadata": {},
   "outputs": [
    {
     "data": {
      "text/html": [
       "<div>\n",
       "<style scoped>\n",
       "    .dataframe tbody tr th:only-of-type {\n",
       "        vertical-align: middle;\n",
       "    }\n",
       "\n",
       "    .dataframe tbody tr th {\n",
       "        vertical-align: top;\n",
       "    }\n",
       "\n",
       "    .dataframe thead th {\n",
       "        text-align: right;\n",
       "    }\n",
       "</style>\n",
       "<table border=\"1\" class=\"dataframe\">\n",
       "  <thead>\n",
       "    <tr style=\"text-align: right;\">\n",
       "      <th></th>\n",
       "      <th>person_1</th>\n",
       "      <th>skills_1</th>\n",
       "      <th>person_2</th>\n",
       "      <th>skills_2</th>\n",
       "      <th>score</th>\n",
       "    </tr>\n",
       "  </thead>\n",
       "  <tbody>\n",
       "    <tr>\n",
       "      <th>0</th>\n",
       "      <td>Christopher Jackson</td>\n",
       "      <td>[Linux, System Design, Spark, Django, Python]</td>\n",
       "      <td>Joseph Mitchell</td>\n",
       "      <td>[System Design, Spark, Vue.js, Ruby]</td>\n",
       "      <td>2.929993</td>\n",
       "    </tr>\n",
       "    <tr>\n",
       "      <th>1</th>\n",
       "      <td>Christopher Jackson</td>\n",
       "      <td>[Linux, System Design, Spark, Django, Python]</td>\n",
       "      <td>John Walker</td>\n",
       "      <td>[API Design, Django, Python]</td>\n",
       "      <td>2.925430</td>\n",
       "    </tr>\n",
       "    <tr>\n",
       "      <th>2</th>\n",
       "      <td>Christopher Jackson</td>\n",
       "      <td>[Linux, System Design, Spark, Django, Python]</td>\n",
       "      <td>Natalie Thompson</td>\n",
       "      <td>[System Design, Angular, Spark, TypeScript, Je...</td>\n",
       "      <td>2.000000</td>\n",
       "    </tr>\n",
       "    <tr>\n",
       "      <th>3</th>\n",
       "      <td>Christopher Jackson</td>\n",
       "      <td>[Linux, System Design, Spark, Django, Python]</td>\n",
       "      <td>Joseph Lopez</td>\n",
       "      <td>[Linux, System Design, ReactJS]</td>\n",
       "      <td>2.000000</td>\n",
       "    </tr>\n",
       "    <tr>\n",
       "      <th>4</th>\n",
       "      <td>Christopher Jackson</td>\n",
       "      <td>[Linux, System Design, Spark, Django, Python]</td>\n",
       "      <td>Peter Perez</td>\n",
       "      <td>[System Design, Rust, Big Data, Django]</td>\n",
       "      <td>2.000000</td>\n",
       "    </tr>\n",
       "  </tbody>\n",
       "</table>\n",
       "</div>"
      ],
      "text/plain": [
       "              person_1                                       skills_1  \\\n",
       "0  Christopher Jackson  [Linux, System Design, Spark, Django, Python]   \n",
       "1  Christopher Jackson  [Linux, System Design, Spark, Django, Python]   \n",
       "2  Christopher Jackson  [Linux, System Design, Spark, Django, Python]   \n",
       "3  Christopher Jackson  [Linux, System Design, Spark, Django, Python]   \n",
       "4  Christopher Jackson  [Linux, System Design, Spark, Django, Python]   \n",
       "\n",
       "           person_2                                           skills_2  \\\n",
       "0   Joseph Mitchell               [System Design, Spark, Vue.js, Ruby]   \n",
       "1       John Walker                       [API Design, Django, Python]   \n",
       "2  Natalie Thompson  [System Design, Angular, Spark, TypeScript, Je...   \n",
       "3      Joseph Lopez                    [Linux, System Design, ReactJS]   \n",
       "4       Peter Perez            [System Design, Rust, Big Data, Django]   \n",
       "\n",
       "      score  \n",
       "0  2.929993  \n",
       "1  2.925430  \n",
       "2  2.000000  \n",
       "3  2.000000  \n",
       "4  2.000000  "
      ]
     },
     "execution_count": 37,
     "metadata": {},
     "output_type": "execute_result"
    }
   ],
   "source": [
    "person_similarity(\"Christopher Jackson\")"
   ]
  },
  {
   "cell_type": "markdown",
   "metadata": {},
   "source": [
    "### Tool 4"
   ]
  },
  {
   "cell_type": "code",
   "execution_count": 38,
   "metadata": {},
   "outputs": [],
   "source": [
    "def find_person_based_on_skills(skills: List[Skill]) -> pd.DataFrame:\n",
    "    \"\"\"\n",
    "    Find persons based on skills they have. Skills are specified by their names. \n",
    "    Note that similar skills can be found. These are considered similar. \n",
    "    \"\"\"\n",
    "    skills = [s.name for s in skills]\n",
    "    skills_vectors = embeddings.embed_documents(skills)\n",
    "    return driver.execute_query(\n",
    "        \"\"\"\n",
    "        UNWIND $skills_vectors AS v\n",
    "        CALL db.index.vector.queryNodes('skill-embeddings', 3, TOFLOATLIST(v)) YIELD node, score\n",
    "        WHERE score > 0.89\n",
    "        OPTIONAL MATCH (node)-[:SIMILAR_SEMANTIC]-(s:Skill)\n",
    "        WITH COLLECT(node) AS nodes, COLLECT(DISTINCT s) AS skills\n",
    "        WITH nodes + skills AS all_skills\n",
    "        UNWIND all_skills AS skill\n",
    "        MATCH (p:Person)-[:KNOWS]->(skill)\n",
    "        RETURN p.name AS person, COUNT(DISTINCT(skill)) AS score, COLLECT(DISTINCT(skill.name)) as similar_skills\n",
    "        ORDER BY score DESC LIMIT 10\n",
    "        \"\"\",\n",
    "        database_=DATABASE,\n",
    "        routing_=RoutingControl.READ,\n",
    "        result_transformer_= lambda r: r.to_df(),\n",
    "        skills_vectors = skills_vectors\n",
    ")"
   ]
  },
  {
   "cell_type": "code",
   "execution_count": 39,
   "metadata": {},
   "outputs": [
    {
     "data": {
      "text/html": [
       "<div>\n",
       "<style scoped>\n",
       "    .dataframe tbody tr th:only-of-type {\n",
       "        vertical-align: middle;\n",
       "    }\n",
       "\n",
       "    .dataframe tbody tr th {\n",
       "        vertical-align: top;\n",
       "    }\n",
       "\n",
       "    .dataframe thead th {\n",
       "        text-align: right;\n",
       "    }\n",
       "</style>\n",
       "<table border=\"1\" class=\"dataframe\">\n",
       "  <thead>\n",
       "    <tr style=\"text-align: right;\">\n",
       "      <th></th>\n",
       "      <th>person</th>\n",
       "      <th>score</th>\n",
       "      <th>similar_skills</th>\n",
       "    </tr>\n",
       "  </thead>\n",
       "  <tbody>\n",
       "    <tr>\n",
       "      <th>0</th>\n",
       "      <td>Sophie Jackson</td>\n",
       "      <td>2</td>\n",
       "      <td>[Security, Pandas]</td>\n",
       "    </tr>\n",
       "    <tr>\n",
       "      <th>1</th>\n",
       "      <td>Thomas Nelson</td>\n",
       "      <td>2</td>\n",
       "      <td>[Security, Pandas]</td>\n",
       "    </tr>\n",
       "    <tr>\n",
       "      <th>2</th>\n",
       "      <td>Thomas Brown</td>\n",
       "      <td>1</td>\n",
       "      <td>[Security]</td>\n",
       "    </tr>\n",
       "    <tr>\n",
       "      <th>3</th>\n",
       "      <td>David Lopez</td>\n",
       "      <td>1</td>\n",
       "      <td>[Security]</td>\n",
       "    </tr>\n",
       "    <tr>\n",
       "      <th>4</th>\n",
       "      <td>Olivia Johnson</td>\n",
       "      <td>1</td>\n",
       "      <td>[Security]</td>\n",
       "    </tr>\n",
       "    <tr>\n",
       "      <th>5</th>\n",
       "      <td>Isabella Allen</td>\n",
       "      <td>1</td>\n",
       "      <td>[Security]</td>\n",
       "    </tr>\n",
       "    <tr>\n",
       "      <th>6</th>\n",
       "      <td>Mia Nelson</td>\n",
       "      <td>1</td>\n",
       "      <td>[Security]</td>\n",
       "    </tr>\n",
       "    <tr>\n",
       "      <th>7</th>\n",
       "      <td>Amelia Davis</td>\n",
       "      <td>1</td>\n",
       "      <td>[Security]</td>\n",
       "    </tr>\n",
       "    <tr>\n",
       "      <th>8</th>\n",
       "      <td>Emily Phillips</td>\n",
       "      <td>1</td>\n",
       "      <td>[Security]</td>\n",
       "    </tr>\n",
       "    <tr>\n",
       "      <th>9</th>\n",
       "      <td>Lucy Turner</td>\n",
       "      <td>1</td>\n",
       "      <td>[Security]</td>\n",
       "    </tr>\n",
       "  </tbody>\n",
       "</table>\n",
       "</div>"
      ],
      "text/plain": [
       "           person  score      similar_skills\n",
       "0  Sophie Jackson      2  [Security, Pandas]\n",
       "1   Thomas Nelson      2  [Security, Pandas]\n",
       "2    Thomas Brown      1          [Security]\n",
       "3     David Lopez      1          [Security]\n",
       "4  Olivia Johnson      1          [Security]\n",
       "5  Isabella Allen      1          [Security]\n",
       "6      Mia Nelson      1          [Security]\n",
       "7    Amelia Davis      1          [Security]\n",
       "8  Emily Phillips      1          [Security]\n",
       "9     Lucy Turner      1          [Security]"
      ]
     },
     "execution_count": 39,
     "metadata": {},
     "output_type": "execute_result"
    }
   ],
   "source": [
    "find_person_based_on_skills([Skill(name='Security'), Skill(name='Pandas')])"
   ]
  },
  {
   "cell_type": "markdown",
   "metadata": {},
   "source": [
    "## Setting up the Agent"
   ]
  },
  {
   "cell_type": "code",
   "execution_count": 40,
   "metadata": {},
   "outputs": [],
   "source": [
    "llm = ChatOpenAI(model_name=LLM, temperature=0)"
   ]
  },
  {
   "cell_type": "code",
   "execution_count": 41,
   "metadata": {},
   "outputs": [
    {
     "data": {
      "text/plain": [
       "'Hello! How can I assist you today?'"
      ]
     },
     "execution_count": 41,
     "metadata": {},
     "output_type": "execute_result"
    }
   ],
   "source": [
    "response = llm.invoke([HumanMessage(content=\"hi!\")])\n",
    "response.content"
   ]
  },
  {
   "cell_type": "code",
   "execution_count": 42,
   "metadata": {},
   "outputs": [],
   "source": [
    "tools = [\n",
    "    retrieve_skills_of_person, \n",
    "    find_similar_skills,\n",
    "    person_similarity,\n",
    "    find_person_based_on_skills,\n",
    "]\n",
    "\n",
    "llm_with_tools = llm.bind_tools(tools)"
   ]
  },
  {
   "cell_type": "code",
   "execution_count": 43,
   "metadata": {},
   "outputs": [
    {
     "name": "stdout",
     "output_type": "stream",
     "text": [
      "ContentString: \n",
      "ToolCalls: [{'name': 'retrieve_skills_of_person', 'args': {'person_name': 'Kristof Neys'}, 'id': 'call_FxSPNqvYIStPlOyCPxvm7YbB', 'type': 'tool_call'}]\n"
     ]
    }
   ],
   "source": [
    "response = llm_with_tools.invoke([HumanMessage(content=\"What skills does Kristof Neys have?\")])\n",
    "\n",
    "print(f\"ContentString: {response.content}\")\n",
    "print(f\"ToolCalls: {response.tool_calls}\")"
   ]
  },
  {
   "cell_type": "code",
   "execution_count": 44,
   "metadata": {},
   "outputs": [
    {
     "name": "stdout",
     "output_type": "stream",
     "text": [
      "ContentString: \n",
      "ToolCalls: [{'name': 'find_similar_skills', 'args': {'skills': [{'name': 'PowerBI'}, {'name': 'Data Visualization'}]}, 'id': 'call_kuLxl8o90ob1uV5scTor04mG', 'type': 'tool_call'}]\n"
     ]
    }
   ],
   "source": [
    "response = llm_with_tools.invoke([HumanMessage(content=\"What skills are similar to PowerBI and Data Visualization?\")])\n",
    "\n",
    "print(f\"ContentString: {response.content}\")\n",
    "print(f\"ToolCalls: {response.tool_calls}\")"
   ]
  },
  {
   "cell_type": "code",
   "execution_count": 45,
   "metadata": {},
   "outputs": [
    {
     "name": "stdout",
     "output_type": "stream",
     "text": [
      "ContentString: \n",
      "ToolCalls: [{'name': 'person_similarity', 'args': {'person_name': 'Kristof Neys'}, 'id': 'call_Q4nHC4m3dkOTHwyd33RrPtW1', 'type': 'tool_call'}]\n"
     ]
    }
   ],
   "source": [
    "response = llm_with_tools.invoke([HumanMessage(content=\"Which persons have similar skills as Kristof Neys?\")])\n",
    "\n",
    "print(f\"ContentString: {response.content}\")\n",
    "print(f\"ToolCalls: {response.tool_calls}\")"
   ]
  },
  {
   "cell_type": "code",
   "execution_count": 46,
   "metadata": {},
   "outputs": [
    {
     "name": "stdout",
     "output_type": "stream",
     "text": [
      "ContentString: \n",
      "ToolCalls: [{'name': 'find_person_based_on_skills', 'args': {'skills': [{'name': 'Python'}, {'name': 'AWS'}]}, 'id': 'call_ur3qewzWYWeYBB3AJRsaBFh0', 'type': 'tool_call'}]\n"
     ]
    }
   ],
   "source": [
    "response = llm_with_tools.invoke([HumanMessage(content=\"Which persons have Python and AWS experience?\")])\n",
    "\n",
    "print(f\"ContentString: {response.content}\")\n",
    "print(f\"ToolCalls: {response.tool_calls}\")"
   ]
  },
  {
   "cell_type": "markdown",
   "metadata": {},
   "source": [
    "We can see that there's now no text content, but there is a tool call! It wants us to call the Tavily Search tool. This isn't calling that tool yet - it's just telling us to. In order to actually call it, we'll want to create our agent."
   ]
  },
  {
   "cell_type": "markdown",
   "metadata": {},
   "source": [
    "## Running Agents with LangGraph"
   ]
  },
  {
   "cell_type": "code",
   "execution_count": 47,
   "metadata": {},
   "outputs": [],
   "source": [
    "agent_executor = create_react_agent(llm, tools)"
   ]
  },
  {
   "cell_type": "code",
   "execution_count": 48,
   "metadata": {},
   "outputs": [],
   "source": [
    "response = agent_executor.invoke({\"messages\": [HumanMessage(content=\"hi!\")]})"
   ]
  },
  {
   "cell_type": "code",
   "execution_count": 49,
   "metadata": {},
   "outputs": [
    {
     "data": {
      "text/plain": [
       "[HumanMessage(content='hi!', additional_kwargs={}, response_metadata={}, id='a95683de-bf6e-4fa0-a02c-0341291d5dab'),\n",
       " AIMessage(content='Hello! How can I assist you today?', additional_kwargs={'refusal': None}, response_metadata={'token_usage': {'completion_tokens': 11, 'prompt_tokens': 227, 'total_tokens': 238, 'completion_tokens_details': {'accepted_prediction_tokens': 0, 'audio_tokens': 0, 'reasoning_tokens': 0, 'rejected_prediction_tokens': 0}, 'prompt_tokens_details': {'audio_tokens': 0, 'cached_tokens': 0}}, 'model_name': 'gpt-4o-2024-08-06', 'system_fingerprint': 'fp_eb9dce56a8', 'finish_reason': 'stop', 'logprobs': None}, id='run-2cce8225-f110-42a6-8407-2d9a2fd1253a-0', usage_metadata={'input_tokens': 227, 'output_tokens': 11, 'total_tokens': 238, 'input_token_details': {'audio': 0, 'cache_read': 0}, 'output_token_details': {'audio': 0, 'reasoning': 0}})]"
      ]
     },
     "execution_count": 49,
     "metadata": {},
     "output_type": "execute_result"
    }
   ],
   "source": [
    "response[\"messages\"]"
   ]
  },
  {
   "cell_type": "markdown",
   "metadata": {},
   "source": [
    "#### Run some examples! "
   ]
  },
  {
   "cell_type": "code",
   "execution_count": 50,
   "metadata": {},
   "outputs": [],
   "source": [
    "def ask_to_agent(question):\n",
    "    for step in agent_executor.stream(\n",
    "        {\"messages\": [HumanMessage(content=question)]},\n",
    "        stream_mode=\"values\",\n",
    "    ):\n",
    "        step[\"messages\"][-1].pretty_print()"
   ]
  },
  {
   "cell_type": "code",
   "execution_count": 51,
   "metadata": {},
   "outputs": [],
   "source": [
    "question = \"What skills does Kristof Neys have?\""
   ]
  },
  {
   "cell_type": "code",
   "execution_count": 52,
   "metadata": {},
   "outputs": [
    {
     "name": "stdout",
     "output_type": "stream",
     "text": [
      "================================\u001b[1m Human Message \u001b[0m=================================\n",
      "\n",
      "What skills does Kristof Neys have?\n",
      "==================================\u001b[1m Ai Message \u001b[0m==================================\n",
      "Tool Calls:\n",
      "  retrieve_skills_of_person (call_Bp9fFW5bJNCwOYfyW8avjVlt)\n",
      " Call ID: call_Bp9fFW5bJNCwOYfyW8avjVlt\n",
      "  Args:\n",
      "    person_name: Kristof Neys\n",
      "=================================\u001b[1m Tool Message \u001b[0m=================================\n",
      "Name: retrieve_skills_of_person\n",
      "\n",
      "           name                      skills\n",
      "0  Kristof Neys  [Cypher, Machine Learning]\n",
      "==================================\u001b[1m Ai Message \u001b[0m==================================\n",
      "\n",
      "Kristof Neys has skills in Cypher and Machine Learning.\n"
     ]
    }
   ],
   "source": [
    "ask_to_agent(question)"
   ]
  },
  {
   "cell_type": "code",
   "execution_count": 53,
   "metadata": {},
   "outputs": [],
   "source": [
    "question = \"What skills are similar to PowerBI and Data Visualization?\""
   ]
  },
  {
   "cell_type": "code",
   "execution_count": 54,
   "metadata": {},
   "outputs": [
    {
     "name": "stdout",
     "output_type": "stream",
     "text": [
      "================================\u001b[1m Human Message \u001b[0m=================================\n",
      "\n",
      "What skills are similar to PowerBI and Data Visualization?\n",
      "==================================\u001b[1m Ai Message \u001b[0m==================================\n",
      "Tool Calls:\n",
      "  find_similar_skills (call_5824RCHYUb1VTvNwSTyKtL14)\n",
      " Call ID: call_5824RCHYUb1VTvNwSTyKtL14\n",
      "  Args:\n",
      "    skills: [{'name': 'PowerBI'}, {'name': 'Data Visualization'}]\n",
      "=================================\u001b[1m Tool Message \u001b[0m=================================\n",
      "Name: find_similar_skills\n",
      "\n",
      "           skill_name\n",
      "0            Power BI\n",
      "1             Tableau\n",
      "2  Data Visualization\n",
      "3       Data Analysis\n",
      "4            Big Data\n",
      "==================================\u001b[1m Ai Message \u001b[0m==================================\n",
      "\n",
      "Skills similar to PowerBI and Data Visualization include:\n",
      "\n",
      "1. Power BI\n",
      "2. Tableau\n",
      "3. Data Analysis\n",
      "4. Big Data\n"
     ]
    }
   ],
   "source": [
    "ask_to_agent(question)"
   ]
  },
  {
   "cell_type": "code",
   "execution_count": 55,
   "metadata": {},
   "outputs": [],
   "source": [
    "question = \"Which persons have similar skills as Daniel Hill?\""
   ]
  },
  {
   "cell_type": "code",
   "execution_count": 56,
   "metadata": {},
   "outputs": [
    {
     "name": "stdout",
     "output_type": "stream",
     "text": [
      "================================\u001b[1m Human Message \u001b[0m=================================\n",
      "\n",
      "Which persons have similar skills as Daniel Hill?\n",
      "==================================\u001b[1m Ai Message \u001b[0m==================================\n",
      "Tool Calls:\n",
      "  person_similarity (call_WgKApcLECjs7NCBgrHGUWTGC)\n",
      " Call ID: call_WgKApcLECjs7NCBgrHGUWTGC\n",
      "  Args:\n",
      "    person_name: Daniel Hill\n",
      "=================================\u001b[1m Tool Message \u001b[0m=================================\n",
      "Name: person_similarity\n",
      "\n",
      "      person_1                                           skills_1  \\\n",
      "0  Daniel Hill  [Pandas, System Design, Git, Cypher, Spring Boot]   \n",
      "1  Daniel Hill  [Pandas, System Design, Git, Cypher, Spring Boot]   \n",
      "2  Daniel Hill  [Pandas, System Design, Git, Cypher, Spring Boot]   \n",
      "3  Daniel Hill  [Pandas, System Design, Git, Cypher, Spring Boot]   \n",
      "4  Daniel Hill  [Pandas, System Design, Git, Cypher, Spring Boot]   \n",
      "\n",
      "            person_2                                      skills_2     score  \n",
      "0  Victoria Thompson                     [SQL, API Design, Cypher]  1.925430  \n",
      "1        John Walker                  [API Design, Django, Python]  1.848923  \n",
      "2      Thomas Nelson                        [Security, Pandas, Go]  1.000000  \n",
      "3        Lucy Taylor  [System Design, Tableau, Flask, CI/CD, Rust]  1.000000  \n",
      "4    Richard Jackson  [System Design, PyTorch, Express.js, DevOps]  1.000000  \n",
      "==================================\u001b[1m Ai Message \u001b[0m==================================\n",
      "\n",
      "The persons with similar skills to Daniel Hill are:\n",
      "\n",
      "1. **Victoria Thompson** - Skills: SQL, API Design, Cypher\n",
      "2. **John Walker** - Skills: API Design, Django, Python\n",
      "3. **Thomas Nelson** - Skills: Security, Pandas, Go\n",
      "4. **Lucy Taylor** - Skills: System Design, Tableau, Flask, CI/CD, Rust\n",
      "5. **Richard Jackson** - Skills: System Design, PyTorch, Express.js, DevOps\n"
     ]
    }
   ],
   "source": [
    "ask_to_agent(question)"
   ]
  },
  {
   "cell_type": "code",
   "execution_count": 57,
   "metadata": {},
   "outputs": [],
   "source": [
    "question = \"Which persons have Python and AWS experience?\""
   ]
  },
  {
   "cell_type": "code",
   "execution_count": 58,
   "metadata": {},
   "outputs": [
    {
     "name": "stdout",
     "output_type": "stream",
     "text": [
      "================================\u001b[1m Human Message \u001b[0m=================================\n",
      "\n",
      "Which persons have Python and AWS experience?\n",
      "==================================\u001b[1m Ai Message \u001b[0m==================================\n",
      "Tool Calls:\n",
      "  find_person_based_on_skills (call_8FvUvDPibBhxlKAEerAU6Hk5)\n",
      " Call ID: call_8FvUvDPibBhxlKAEerAU6Hk5\n",
      "  Args:\n",
      "    skills: [{'name': 'Python'}, {'name': 'AWS'}]\n",
      "=================================\u001b[1m Tool Message \u001b[0m=================================\n",
      "Name: find_person_based_on_skills\n",
      "\n",
      "                person  score                similar_skills\n",
      "0          John Taylor      3           [Pandas, AWS, Ruby]\n",
      "1       Matthew Miller      2                   [AWS, Ruby]\n",
      "2         John Johnson      2                 [Python, AWS]\n",
      "3          John Walker      2              [Python, Django]\n",
      "4           Ryan Young      2  [Python, Cloud Architecture]\n",
      "5        Sophia Walker      2                 [Django, C++]\n",
      "6        Charles Jones      2                 [Pandas, AWS]\n",
      "7  Christopher Jackson      2              [Python, Django]\n",
      "8          Brian Allen      2                [Pandas, Ruby]\n",
      "9          John Garcia      2                   [AWS, Ruby]\n",
      "==================================\u001b[1m Ai Message \u001b[0m==================================\n",
      "\n",
      "The following persons have experience with Python and AWS:\n",
      "\n",
      "1. **John Taylor** - Skills: Pandas, AWS, Ruby\n",
      "2. **Matthew Miller** - Skills: AWS, Ruby\n",
      "3. **John Johnson** - Skills: Python, AWS\n",
      "4. **Charles Jones** - Skills: Pandas, AWS\n",
      "\n",
      "Additionally, there are others with Python experience but not specifically AWS:\n",
      "\n",
      "- **John Walker** - Skills: Python, Django\n",
      "- **Ryan Young** - Skills: Python, Cloud Architecture\n",
      "- **Christopher Jackson** - Skills: Python, Django\n",
      "\n",
      "And others with AWS experience but not specifically Python:\n",
      "\n",
      "- **Brian Allen** - Skills: Pandas, Ruby\n",
      "- **John Garcia** - Skills: AWS, Ruby\n"
     ]
    }
   ],
   "source": [
    "ask_to_agent(question)"
   ]
  },
  {
   "cell_type": "markdown",
   "metadata": {},
   "source": [
    "## Chatbot"
   ]
  },
  {
   "cell_type": "markdown",
   "metadata": {},
   "source": [
    "Now create a chatbot with the agent providing the responses"
   ]
  },
  {
   "cell_type": "code",
   "execution_count": 59,
   "metadata": {},
   "outputs": [
    {
     "name": "stdout",
     "output_type": "stream",
     "text": [
      "* Running on local URL:  http://127.0.0.1:7860\n",
      "\n",
      "To create a public link, set `share=True` in `launch()`.\n"
     ]
    },
    {
     "data": {
      "text/html": [
       "<div><iframe src=\"http://127.0.0.1:7860/\" width=\"100%\" height=\"500\" allow=\"autoplay; camera; microphone; clipboard-read; clipboard-write;\" frameborder=\"0\" allowfullscreen></iframe></div>"
      ],
      "text/plain": [
       "<IPython.core.display.HTML object>"
      ]
     },
     "metadata": {},
     "output_type": "display_data"
    },
    {
     "data": {
      "text/plain": []
     },
     "execution_count": 59,
     "metadata": {},
     "output_type": "execute_result"
    }
   ],
   "source": [
    "def user(user_message, history):\n",
    "    if history is None:\n",
    "        history = []\n",
    "    history.append({\"role\": \"user\", \"content\": user_message})\n",
    "    return \"\", history\n",
    "\n",
    "def get_answer(history):\n",
    "    steps = []\n",
    "    full_prompt = \"\\n\".join([f\"{msg['role'].capitalize()}: {msg['content']}\" for msg in history])\n",
    "    \n",
    "    for step in agent_executor.stream(\n",
    "            {\"messages\": [HumanMessage(content=full_prompt)]},\n",
    "            stream_mode=\"values\",\n",
    "    ):\n",
    "        step[\"messages\"][-1].pretty_print()\n",
    "        steps.append(step[\"messages\"][-1].content)\n",
    "    \n",
    "    return steps[-1]\n",
    "\n",
    "def bot(history):\n",
    "    bot_message = get_answer(history)\n",
    "    history.append({\"role\": \"assistant\", \"content\": \"\"})\n",
    "\n",
    "    for character in bot_message:\n",
    "        history[-1][\"content\"] += character\n",
    "        time.sleep(0.01)\n",
    "        yield history\n",
    "\n",
    "with gr.Blocks() as demo:\n",
    "    chatbot = gr.Chatbot(\n",
    "        label=\"Chatbot on a Graph\",\n",
    "        avatar_images=[\n",
    "            \"https://png.pngtree.com/png-vector/20220525/ourmid/pngtree-concept-of-facial-animal-avatar-chatbot-dog-chat-machine-illustration-vector-png-image_46652864.jpg\",\n",
    "            \"https://d-cb.jc-cdn.com/sites/crackberry.com/files/styles/larger/public/article_images/2023/08/openai-logo.jpg\"\n",
    "        ],\n",
    "        type=\"messages\", \n",
    "    )\n",
    "    msg = gr.Textbox(label=\"Message\")\n",
    "    clear = gr.Button(\"Clear\")\n",
    "\n",
    "    msg.submit(user, [msg, chatbot], [msg, chatbot], queue=False).then(\n",
    "        bot, [chatbot], chatbot\n",
    "    )\n",
    "\n",
    "    clear.click(lambda: [], None, chatbot, queue=False)\n",
    "\n",
    "demo.queue()\n",
    "demo.launch(share=False)\n"
   ]
  },
  {
   "cell_type": "markdown",
   "metadata": {},
   "source": [
    "If you want to have the light-mode for the chatbot paste the following after the URL: /?__theme=light"
   ]
  },
  {
   "cell_type": "markdown",
   "metadata": {},
   "source": [
    "### Text2Cypher"
   ]
  },
  {
   "cell_type": "markdown",
   "metadata": {},
   "source": [
    "If time allows we can still experiment with the Text2Cypher functionality. "
   ]
  },
  {
   "cell_type": "code",
   "execution_count": 60,
   "metadata": {},
   "outputs": [],
   "source": [
    "text2cypher_prompt =  PromptTemplate.from_template(\n",
    "    \"\"\"\n",
    "    Task: Generate a Cypher statement for querying a Neo4j graph database from a user input. \n",
    "    - Do not include triple backticks ``` or ```cypher or any additional text except the generated Cypher statement in your response.\n",
    "    - Do not use any properties or relationships not included in the schema.\n",
    "    \n",
    "    Schema:\n",
    "    {schema}\n",
    "    \n",
    "    #User Input\n",
    "    {question}\n",
    "    \n",
    "    Cypher query:\n",
    "    \"\"\"\n",
    ")"
   ]
  },
  {
   "cell_type": "code",
   "execution_count": 61,
   "metadata": {},
   "outputs": [],
   "source": [
    "annotated_schema = \"\"\"\n",
    "    Nodes:\n",
    "      Person:\n",
    "        description: \"A person in our talent pool.\"\n",
    "        properties:\n",
    "          name:\n",
    "            type: \"string\"\n",
    "            description: \"The full name of the person. serves as a unique identifier.\"\n",
    "          email:\n",
    "            type: \"string\"\n",
    "            description: \"The email address of the person.\"\n",
    "          leiden_community:\n",
    "            type: \"integer\"\n",
    "            description: \"The talent community for the person.  People in the same talent segment share similar skills.\"\n",
    "      Skill:\n",
    "        description: \"A professional skill.\"\n",
    "        properties:\n",
    "          name:\n",
    "            type: \"string\"\n",
    "            description: \"The unique name of the skill.\"\n",
    "    Relationships:\n",
    "        KNOWS:\n",
    "            description: \"A person knowing a skill.\"\n",
    "            query_pattern: \"(:Person)-[:KNOWS]->(:Skill)\"\n",
    "    \"\"\""
   ]
  },
  {
   "cell_type": "code",
   "execution_count": 62,
   "metadata": {},
   "outputs": [],
   "source": [
    "text2cypher_llm = ChatOpenAI(model=LLM, temperature=0)"
   ]
  },
  {
   "cell_type": "code",
   "execution_count": 63,
   "metadata": {},
   "outputs": [],
   "source": [
    "@tool\n",
    "def perform_aggregation_query(question: str) -> pd.DataFrame:\n",
    "    \"\"\"\n",
    "    perform an aggregation query on the Neo4j graph database and obtain the results.\n",
    "    \"\"\"\n",
    "    prompt = text2cypher_prompt.invoke({'schema': annotated_schema, 'question': question})\n",
    "    query = text2cypher_llm.invoke(prompt).content\n",
    "    print(f\"executing Cypher query:\\n{query}\")\n",
    "    return driver.execute_query(\n",
    "        query,\n",
    "        database_=DATABASE,\n",
    "        routing_=RoutingControl.READ,\n",
    "        result_transformer_= lambda r: r.to_df()\n",
    "    )    "
   ]
  },
  {
   "cell_type": "code",
   "execution_count": 64,
   "metadata": {},
   "outputs": [
    {
     "name": "stderr",
     "output_type": "stream",
     "text": [
      "/var/folders/l0/vn55w75s41703t1w811dtf080000gp/T/ipykernel_66381/3481267826.py:1: LangChainDeprecationWarning: The method `BaseTool.__call__` was deprecated in langchain-core 0.1.47 and will be removed in 1.0. Use :meth:`~invoke` instead.\n",
      "  perform_aggregation_query('describe communities by skills')\n",
      "Received notification from DBMS server: {severity: WARNING} {code: Neo.ClientNotification.Statement.AggregationSkippedNull} {category: UNRECOGNIZED} {title: The query contains an aggregation function that skips null values.} {description: null value eliminated in set function.} {position: None} for query: 'MATCH (p:Person)-[:KNOWS]->(s:Skill)\\nRETURN s.name AS Skill, collect(DISTINCT p.leiden_community) AS Communities'\n"
     ]
    },
    {
     "name": "stdout",
     "output_type": "stream",
     "text": [
      "executing Cypher query:\n",
      "MATCH (p:Person)-[:KNOWS]->(s:Skill)\n",
      "RETURN s.name AS Skill, collect(DISTINCT p.leiden_community) AS Communities\n"
     ]
    },
    {
     "data": {
      "text/html": [
       "<div>\n",
       "<style scoped>\n",
       "    .dataframe tbody tr th:only-of-type {\n",
       "        vertical-align: middle;\n",
       "    }\n",
       "\n",
       "    .dataframe tbody tr th {\n",
       "        vertical-align: top;\n",
       "    }\n",
       "\n",
       "    .dataframe thead th {\n",
       "        text-align: right;\n",
       "    }\n",
       "</style>\n",
       "<table border=\"1\" class=\"dataframe\">\n",
       "  <thead>\n",
       "    <tr style=\"text-align: right;\">\n",
       "      <th></th>\n",
       "      <th>Skill</th>\n",
       "      <th>Communities</th>\n",
       "    </tr>\n",
       "  </thead>\n",
       "  <tbody>\n",
       "    <tr>\n",
       "      <th>0</th>\n",
       "      <td>API Design</td>\n",
       "      <td>[84]</td>\n",
       "    </tr>\n",
       "    <tr>\n",
       "      <th>1</th>\n",
       "      <td>AWS</td>\n",
       "      <td>[88, 34, 76, 41, 79]</td>\n",
       "    </tr>\n",
       "    <tr>\n",
       "      <th>2</th>\n",
       "      <td>Agile</td>\n",
       "      <td>[76]</td>\n",
       "    </tr>\n",
       "    <tr>\n",
       "      <th>3</th>\n",
       "      <td>Angular</td>\n",
       "      <td>[79, 98, 76, 88, 34, 41]</td>\n",
       "    </tr>\n",
       "    <tr>\n",
       "      <th>4</th>\n",
       "      <td>Azure</td>\n",
       "      <td>[76, 42, 79, 84]</td>\n",
       "    </tr>\n",
       "    <tr>\n",
       "      <th>5</th>\n",
       "      <td>Big Data</td>\n",
       "      <td>[88, 49, 34]</td>\n",
       "    </tr>\n",
       "    <tr>\n",
       "      <th>6</th>\n",
       "      <td>Blockchain</td>\n",
       "      <td>[98, 49]</td>\n",
       "    </tr>\n",
       "    <tr>\n",
       "      <th>7</th>\n",
       "      <td>C++</td>\n",
       "      <td>[76, 79]</td>\n",
       "    </tr>\n",
       "    <tr>\n",
       "      <th>8</th>\n",
       "      <td>CI/CD</td>\n",
       "      <td>[49, 34, 42, 88, 98, 41]</td>\n",
       "    </tr>\n",
       "    <tr>\n",
       "      <th>9</th>\n",
       "      <td>CSS3</td>\n",
       "      <td>[76, 34, 79, 41]</td>\n",
       "    </tr>\n",
       "    <tr>\n",
       "      <th>10</th>\n",
       "      <td>Cloud Architecture</td>\n",
       "      <td>[76, 84, 98, 79, 88, 42, 49]</td>\n",
       "    </tr>\n",
       "    <tr>\n",
       "      <th>11</th>\n",
       "      <td>Cypher</td>\n",
       "      <td>[34, 79, 84]</td>\n",
       "    </tr>\n",
       "    <tr>\n",
       "      <th>12</th>\n",
       "      <td>Cypher Queries</td>\n",
       "      <td>[]</td>\n",
       "    </tr>\n",
       "    <tr>\n",
       "      <th>13</th>\n",
       "      <td>Data Analysis</td>\n",
       "      <td>[34, 76, 84]</td>\n",
       "    </tr>\n",
       "    <tr>\n",
       "      <th>14</th>\n",
       "      <td>Data Visualization</td>\n",
       "      <td>[42, 34, 88, 98, 49, 41]</td>\n",
       "    </tr>\n",
       "    <tr>\n",
       "      <th>15</th>\n",
       "      <td>DevOps</td>\n",
       "      <td>[34, 84, 42, 79]</td>\n",
       "    </tr>\n",
       "    <tr>\n",
       "      <th>16</th>\n",
       "      <td>Django</td>\n",
       "      <td>[42, 34, 79, 84]</td>\n",
       "    </tr>\n",
       "    <tr>\n",
       "      <th>17</th>\n",
       "      <td>Docker</td>\n",
       "      <td>[88, 41, 49, 34, 76]</td>\n",
       "    </tr>\n",
       "    <tr>\n",
       "      <th>18</th>\n",
       "      <td>Express.js</td>\n",
       "      <td>[34, 88, 98, 42, 79]</td>\n",
       "    </tr>\n",
       "    <tr>\n",
       "      <th>19</th>\n",
       "      <td>Flask</td>\n",
       "      <td>[84, 34, 76, 79]</td>\n",
       "    </tr>\n",
       "    <tr>\n",
       "      <th>20</th>\n",
       "      <td>Git</td>\n",
       "      <td>[34, 42, 76, 49, 98, 79]</td>\n",
       "    </tr>\n",
       "    <tr>\n",
       "      <th>21</th>\n",
       "      <td>Go</td>\n",
       "      <td>[88, 79, 42, 41, 76, 34]</td>\n",
       "    </tr>\n",
       "    <tr>\n",
       "      <th>22</th>\n",
       "      <td>Graph Technology</td>\n",
       "      <td>[]</td>\n",
       "    </tr>\n",
       "    <tr>\n",
       "      <th>23</th>\n",
       "      <td>HTML5</td>\n",
       "      <td>[49, 88]</td>\n",
       "    </tr>\n",
       "    <tr>\n",
       "      <th>24</th>\n",
       "      <td>Java</td>\n",
       "      <td>[79, 88, 98, 42, 76]</td>\n",
       "    </tr>\n",
       "    <tr>\n",
       "      <th>25</th>\n",
       "      <td>JavaScript</td>\n",
       "      <td>[76, 84, 42, 41, 88]</td>\n",
       "    </tr>\n",
       "    <tr>\n",
       "      <th>26</th>\n",
       "      <td>Jenkins</td>\n",
       "      <td>[98, 34, 49, 41, 42]</td>\n",
       "    </tr>\n",
       "    <tr>\n",
       "      <th>27</th>\n",
       "      <td>Kotlin</td>\n",
       "      <td>[49, 76, 34, 84]</td>\n",
       "    </tr>\n",
       "    <tr>\n",
       "      <th>28</th>\n",
       "      <td>Kubernetes</td>\n",
       "      <td>[98, 88, 34, 42, 41]</td>\n",
       "    </tr>\n",
       "    <tr>\n",
       "      <th>29</th>\n",
       "      <td>Linux</td>\n",
       "      <td>[79, 88, 34, 76]</td>\n",
       "    </tr>\n",
       "    <tr>\n",
       "      <th>30</th>\n",
       "      <td>Machine Learning</td>\n",
       "      <td>[84, 42, 34]</td>\n",
       "    </tr>\n",
       "    <tr>\n",
       "      <th>31</th>\n",
       "      <td>Node.js</td>\n",
       "      <td>[42, 79, 76, 88]</td>\n",
       "    </tr>\n",
       "    <tr>\n",
       "      <th>32</th>\n",
       "      <td>PHP</td>\n",
       "      <td>[88, 41, 76, 98]</td>\n",
       "    </tr>\n",
       "    <tr>\n",
       "      <th>33</th>\n",
       "      <td>Pandas</td>\n",
       "      <td>[88, 34, 98, 79, 76, 41]</td>\n",
       "    </tr>\n",
       "    <tr>\n",
       "      <th>34</th>\n",
       "      <td>Power BI</td>\n",
       "      <td>[84, 76]</td>\n",
       "    </tr>\n",
       "    <tr>\n",
       "      <th>35</th>\n",
       "      <td>Project Management</td>\n",
       "      <td>[41]</td>\n",
       "    </tr>\n",
       "    <tr>\n",
       "      <th>36</th>\n",
       "      <td>PyTorch</td>\n",
       "      <td>[34, 41, 88, 42, 98]</td>\n",
       "    </tr>\n",
       "    <tr>\n",
       "      <th>37</th>\n",
       "      <td>Python</td>\n",
       "      <td>[34, 41, 98, 84, 42]</td>\n",
       "    </tr>\n",
       "    <tr>\n",
       "      <th>38</th>\n",
       "      <td>R</td>\n",
       "      <td>[76, 88, 42, 49, 79, 34]</td>\n",
       "    </tr>\n",
       "    <tr>\n",
       "      <th>39</th>\n",
       "      <td>ReactJS</td>\n",
       "      <td>[79, 98, 76, 34]</td>\n",
       "    </tr>\n",
       "    <tr>\n",
       "      <th>40</th>\n",
       "      <td>Ruby</td>\n",
       "      <td>[34, 76, 88, 49, 79]</td>\n",
       "    </tr>\n",
       "    <tr>\n",
       "      <th>41</th>\n",
       "      <td>Rust</td>\n",
       "      <td>[34, 84, 42, 49]</td>\n",
       "    </tr>\n",
       "    <tr>\n",
       "      <th>42</th>\n",
       "      <td>SQL</td>\n",
       "      <td>[79, 42, 34, 84, 49]</td>\n",
       "    </tr>\n",
       "    <tr>\n",
       "      <th>43</th>\n",
       "      <td>Scala</td>\n",
       "      <td>[88, 98, 79, 76, 41]</td>\n",
       "    </tr>\n",
       "    <tr>\n",
       "      <th>44</th>\n",
       "      <td>Scrum</td>\n",
       "      <td>[79]</td>\n",
       "    </tr>\n",
       "    <tr>\n",
       "      <th>45</th>\n",
       "      <td>Security</td>\n",
       "      <td>[88]</td>\n",
       "    </tr>\n",
       "    <tr>\n",
       "      <th>46</th>\n",
       "      <td>Spark</td>\n",
       "      <td>[76, 34, 49, 41, 79]</td>\n",
       "    </tr>\n",
       "    <tr>\n",
       "      <th>47</th>\n",
       "      <td>Spring Boot</td>\n",
       "      <td>[34, 98, 76, 42, 88]</td>\n",
       "    </tr>\n",
       "    <tr>\n",
       "      <th>48</th>\n",
       "      <td>Swift</td>\n",
       "      <td>[84, 88, 34, 76, 42]</td>\n",
       "    </tr>\n",
       "    <tr>\n",
       "      <th>49</th>\n",
       "      <td>System Design</td>\n",
       "      <td>[34]</td>\n",
       "    </tr>\n",
       "    <tr>\n",
       "      <th>50</th>\n",
       "      <td>Tableau</td>\n",
       "      <td>[84, 34, 42, 41]</td>\n",
       "    </tr>\n",
       "    <tr>\n",
       "      <th>51</th>\n",
       "      <td>TensorFlow</td>\n",
       "      <td>[49, 98, 79, 76, 41, 88]</td>\n",
       "    </tr>\n",
       "    <tr>\n",
       "      <th>52</th>\n",
       "      <td>Testing</td>\n",
       "      <td>[42]</td>\n",
       "    </tr>\n",
       "    <tr>\n",
       "      <th>53</th>\n",
       "      <td>TypeScript</td>\n",
       "      <td>[42, 34, 41]</td>\n",
       "    </tr>\n",
       "    <tr>\n",
       "      <th>54</th>\n",
       "      <td>Vue.js</td>\n",
       "      <td>[34, 84, 42, 88]</td>\n",
       "    </tr>\n",
       "    <tr>\n",
       "      <th>55</th>\n",
       "      <td>WordPress</td>\n",
       "      <td>[79, 88, 41, 98]</td>\n",
       "    </tr>\n",
       "  </tbody>\n",
       "</table>\n",
       "</div>"
      ],
      "text/plain": [
       "                 Skill                   Communities\n",
       "0           API Design                          [84]\n",
       "1                  AWS          [88, 34, 76, 41, 79]\n",
       "2                Agile                          [76]\n",
       "3              Angular      [79, 98, 76, 88, 34, 41]\n",
       "4                Azure              [76, 42, 79, 84]\n",
       "5             Big Data                  [88, 49, 34]\n",
       "6           Blockchain                      [98, 49]\n",
       "7                  C++                      [76, 79]\n",
       "8                CI/CD      [49, 34, 42, 88, 98, 41]\n",
       "9                 CSS3              [76, 34, 79, 41]\n",
       "10  Cloud Architecture  [76, 84, 98, 79, 88, 42, 49]\n",
       "11              Cypher                  [34, 79, 84]\n",
       "12      Cypher Queries                            []\n",
       "13       Data Analysis                  [34, 76, 84]\n",
       "14  Data Visualization      [42, 34, 88, 98, 49, 41]\n",
       "15              DevOps              [34, 84, 42, 79]\n",
       "16              Django              [42, 34, 79, 84]\n",
       "17              Docker          [88, 41, 49, 34, 76]\n",
       "18          Express.js          [34, 88, 98, 42, 79]\n",
       "19               Flask              [84, 34, 76, 79]\n",
       "20                 Git      [34, 42, 76, 49, 98, 79]\n",
       "21                  Go      [88, 79, 42, 41, 76, 34]\n",
       "22    Graph Technology                            []\n",
       "23               HTML5                      [49, 88]\n",
       "24                Java          [79, 88, 98, 42, 76]\n",
       "25          JavaScript          [76, 84, 42, 41, 88]\n",
       "26             Jenkins          [98, 34, 49, 41, 42]\n",
       "27              Kotlin              [49, 76, 34, 84]\n",
       "28          Kubernetes          [98, 88, 34, 42, 41]\n",
       "29               Linux              [79, 88, 34, 76]\n",
       "30    Machine Learning                  [84, 42, 34]\n",
       "31             Node.js              [42, 79, 76, 88]\n",
       "32                 PHP              [88, 41, 76, 98]\n",
       "33              Pandas      [88, 34, 98, 79, 76, 41]\n",
       "34            Power BI                      [84, 76]\n",
       "35  Project Management                          [41]\n",
       "36             PyTorch          [34, 41, 88, 42, 98]\n",
       "37              Python          [34, 41, 98, 84, 42]\n",
       "38                   R      [76, 88, 42, 49, 79, 34]\n",
       "39             ReactJS              [79, 98, 76, 34]\n",
       "40                Ruby          [34, 76, 88, 49, 79]\n",
       "41                Rust              [34, 84, 42, 49]\n",
       "42                 SQL          [79, 42, 34, 84, 49]\n",
       "43               Scala          [88, 98, 79, 76, 41]\n",
       "44               Scrum                          [79]\n",
       "45            Security                          [88]\n",
       "46               Spark          [76, 34, 49, 41, 79]\n",
       "47         Spring Boot          [34, 98, 76, 42, 88]\n",
       "48               Swift          [84, 88, 34, 76, 42]\n",
       "49       System Design                          [34]\n",
       "50             Tableau              [84, 34, 42, 41]\n",
       "51          TensorFlow      [49, 98, 79, 76, 41, 88]\n",
       "52             Testing                          [42]\n",
       "53          TypeScript                  [42, 34, 41]\n",
       "54              Vue.js              [34, 84, 42, 88]\n",
       "55           WordPress              [79, 88, 41, 98]"
      ]
     },
     "execution_count": 64,
     "metadata": {},
     "output_type": "execute_result"
    }
   ],
   "source": [
    "perform_aggregation_query('describe communities by skills') "
   ]
  },
  {
   "cell_type": "code",
   "execution_count": 65,
   "metadata": {},
   "outputs": [
    {
     "name": "stdout",
     "output_type": "stream",
     "text": [
      "executing Cypher query:\n",
      "MATCH (p1:Person {name: \"Isabella Allen\"})-[:KNOWS]->(s:Skill)<-[:KNOWS]-(p2:Person)\n",
      "RETURN COUNT(DISTINCT p2) AS numberOfPeople, COLLECT(DISTINCT s.name) AS skillsSharedWithIsabellaAllen\n"
     ]
    },
    {
     "data": {
      "text/html": [
       "<div>\n",
       "<style scoped>\n",
       "    .dataframe tbody tr th:only-of-type {\n",
       "        vertical-align: middle;\n",
       "    }\n",
       "\n",
       "    .dataframe tbody tr th {\n",
       "        vertical-align: top;\n",
       "    }\n",
       "\n",
       "    .dataframe thead th {\n",
       "        text-align: right;\n",
       "    }\n",
       "</style>\n",
       "<table border=\"1\" class=\"dataframe\">\n",
       "  <thead>\n",
       "    <tr style=\"text-align: right;\">\n",
       "      <th></th>\n",
       "      <th>numberOfPeople</th>\n",
       "      <th>skillsSharedWithIsabellaAllen</th>\n",
       "    </tr>\n",
       "  </thead>\n",
       "  <tbody>\n",
       "    <tr>\n",
       "      <th>0</th>\n",
       "      <td>29</td>\n",
       "      <td>[Security, Scala, Cloud Architecture]</td>\n",
       "    </tr>\n",
       "  </tbody>\n",
       "</table>\n",
       "</div>"
      ],
      "text/plain": [
       "   numberOfPeople          skillsSharedWithIsabellaAllen\n",
       "0              29  [Security, Scala, Cloud Architecture]"
      ]
     },
     "execution_count": 65,
     "metadata": {},
     "output_type": "execute_result"
    }
   ],
   "source": [
    "perform_aggregation_query('how many people share skills with Isabella Allen, and what are the skills')"
   ]
  },
  {
   "cell_type": "code",
   "execution_count": 66,
   "metadata": {},
   "outputs": [
    {
     "name": "stdout",
     "output_type": "stream",
     "text": [
      "executing Cypher query:\n",
      "MATCH (p:Person) \n",
      "RETURN p.name \n",
      "ORDER BY rand() \n",
      "LIMIT 5\n"
     ]
    },
    {
     "data": {
      "text/html": [
       "<div>\n",
       "<style scoped>\n",
       "    .dataframe tbody tr th:only-of-type {\n",
       "        vertical-align: middle;\n",
       "    }\n",
       "\n",
       "    .dataframe tbody tr th {\n",
       "        vertical-align: top;\n",
       "    }\n",
       "\n",
       "    .dataframe thead th {\n",
       "        text-align: right;\n",
       "    }\n",
       "</style>\n",
       "<table border=\"1\" class=\"dataframe\">\n",
       "  <thead>\n",
       "    <tr style=\"text-align: right;\">\n",
       "      <th></th>\n",
       "      <th>p.name</th>\n",
       "    </tr>\n",
       "  </thead>\n",
       "  <tbody>\n",
       "    <tr>\n",
       "      <th>0</th>\n",
       "      <td>Sophia Walker</td>\n",
       "    </tr>\n",
       "    <tr>\n",
       "      <th>1</th>\n",
       "      <td>Andrew King</td>\n",
       "    </tr>\n",
       "    <tr>\n",
       "      <th>2</th>\n",
       "      <td>Ava White</td>\n",
       "    </tr>\n",
       "    <tr>\n",
       "      <th>3</th>\n",
       "      <td>David Lopez</td>\n",
       "    </tr>\n",
       "    <tr>\n",
       "      <th>4</th>\n",
       "      <td>Olivia Johnson</td>\n",
       "    </tr>\n",
       "  </tbody>\n",
       "</table>\n",
       "</div>"
      ],
      "text/plain": [
       "           p.name\n",
       "0   Sophia Walker\n",
       "1     Andrew King\n",
       "2       Ava White\n",
       "3     David Lopez\n",
       "4  Olivia Johnson"
      ]
     },
     "execution_count": 66,
     "metadata": {},
     "output_type": "execute_result"
    }
   ],
   "source": [
    "perform_aggregation_query('Can you list me a 5 random person name from the database?')"
   ]
  }
 ],
 "metadata": {
  "colab": {
   "provenance": []
  },
  "kernelspec": {
   "display_name": "Python 3 (ipykernel)",
   "language": "python",
   "name": "python3"
  },
  "language_info": {
   "codemirror_mode": {
    "name": "ipython",
    "version": 3
   },
   "file_extension": ".py",
   "mimetype": "text/x-python",
   "name": "python",
   "nbconvert_exporter": "python",
   "pygments_lexer": "ipython3",
   "version": "3.11.5"
  }
 },
 "nbformat": 4,
 "nbformat_minor": 4
}
